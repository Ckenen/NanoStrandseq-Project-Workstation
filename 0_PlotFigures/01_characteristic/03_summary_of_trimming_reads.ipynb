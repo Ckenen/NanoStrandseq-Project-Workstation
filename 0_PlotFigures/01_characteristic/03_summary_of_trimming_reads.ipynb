{
 "cells": [
  {
   "cell_type": "code",
   "execution_count": 1,
   "id": "9ed03e45",
   "metadata": {
    "ExecuteTime": {
     "end_time": "2024-03-07T03:54:55.716701Z",
     "start_time": "2024-03-07T03:54:54.986021Z"
    }
   },
   "outputs": [],
   "source": [
    "import gzip\n",
    "import glob\n",
    "from collections import Counter, defaultdict\n",
    "import numpy as np\n",
    "import pandas as pd\n",
    "import matplotlib.pyplot as plt\n",
    "from fbilr.reader import MatrixReader\n",
    "\n",
    "runs = [\"20220708_GM12878\", \"20220708_GM12878R2\", \"20220817_HG001\", \"20220915_P1\", \"20220916_P1\",  \"20220916_P2\"]"
   ]
  },
  {
   "cell_type": "markdown",
   "id": "8825ff2c",
   "metadata": {},
   "source": [
    "# Trimming"
   ]
  },
  {
   "cell_type": "code",
   "execution_count": 5,
   "id": "5dfbc0fe",
   "metadata": {
    "ExecuteTime": {
     "end_time": "2024-03-07T03:57:32.987173Z",
     "start_time": "2024-03-07T03:57:32.852511Z"
    }
   },
   "outputs": [],
   "source": [
    "rows = []\n",
    "for run in runs:\n",
    "    for path in sorted(glob.glob(\"../../1_NanoStrandSeq/results/demux/trimmed/%s/*.log\" % run)):\n",
    "        row = []\n",
    "        for line in open(path):\n",
    "            if \"%\" in line:\n",
    "                v = int(line.split()[-2])\n",
    "                row.append(v)\n",
    "        rows.append(row)"
   ]
  },
  {
   "cell_type": "code",
   "execution_count": 6,
   "id": "9cc6823d",
   "metadata": {
    "ExecuteTime": {
     "end_time": "2024-03-07T03:57:34.258766Z",
     "start_time": "2024-03-07T03:57:34.235675Z"
    }
   },
   "outputs": [
    {
     "name": "stdout",
     "output_type": "stream",
     "text": [
      "473\n"
     ]
    },
    {
     "data": {
      "text/html": [
       "<div>\n",
       "<style scoped>\n",
       "    .dataframe tbody tr th:only-of-type {\n",
       "        vertical-align: middle;\n",
       "    }\n",
       "\n",
       "    .dataframe tbody tr th {\n",
       "        vertical-align: top;\n",
       "    }\n",
       "\n",
       "    .dataframe thead th {\n",
       "        text-align: right;\n",
       "    }\n",
       "</style>\n",
       "<table border=\"1\" class=\"dataframe\">\n",
       "  <thead>\n",
       "    <tr style=\"text-align: right;\">\n",
       "      <th></th>\n",
       "      <th>NoLinker</th>\n",
       "      <th>IsChimeric</th>\n",
       "      <th>Pass</th>\n",
       "    </tr>\n",
       "  </thead>\n",
       "  <tbody>\n",
       "    <tr>\n",
       "      <th>0</th>\n",
       "      <td>0.143132</td>\n",
       "      <td>0.023558</td>\n",
       "      <td>0.829037</td>\n",
       "    </tr>\n",
       "    <tr>\n",
       "      <th>1</th>\n",
       "      <td>0.126565</td>\n",
       "      <td>0.018000</td>\n",
       "      <td>0.854619</td>\n",
       "    </tr>\n",
       "    <tr>\n",
       "      <th>2</th>\n",
       "      <td>0.142436</td>\n",
       "      <td>0.030792</td>\n",
       "      <td>0.825500</td>\n",
       "    </tr>\n",
       "    <tr>\n",
       "      <th>3</th>\n",
       "      <td>0.117952</td>\n",
       "      <td>0.023466</td>\n",
       "      <td>0.858405</td>\n",
       "    </tr>\n",
       "    <tr>\n",
       "      <th>4</th>\n",
       "      <td>0.098415</td>\n",
       "      <td>0.015189</td>\n",
       "      <td>0.886372</td>\n",
       "    </tr>\n",
       "    <tr>\n",
       "      <th>...</th>\n",
       "      <td>...</td>\n",
       "      <td>...</td>\n",
       "      <td>...</td>\n",
       "    </tr>\n",
       "    <tr>\n",
       "      <th>510</th>\n",
       "      <td>0.048994</td>\n",
       "      <td>0.011953</td>\n",
       "      <td>0.939042</td>\n",
       "    </tr>\n",
       "    <tr>\n",
       "      <th>511</th>\n",
       "      <td>0.048174</td>\n",
       "      <td>0.017257</td>\n",
       "      <td>0.934552</td>\n",
       "    </tr>\n",
       "    <tr>\n",
       "      <th>512</th>\n",
       "      <td>0.046722</td>\n",
       "      <td>0.015650</td>\n",
       "      <td>0.937618</td>\n",
       "    </tr>\n",
       "    <tr>\n",
       "      <th>513</th>\n",
       "      <td>0.049746</td>\n",
       "      <td>0.039739</td>\n",
       "      <td>0.910491</td>\n",
       "    </tr>\n",
       "    <tr>\n",
       "      <th>514</th>\n",
       "      <td>0.046964</td>\n",
       "      <td>0.013686</td>\n",
       "      <td>0.939347</td>\n",
       "    </tr>\n",
       "  </tbody>\n",
       "</table>\n",
       "<p>473 rows × 3 columns</p>\n",
       "</div>"
      ],
      "text/plain": [
       "     NoLinker  IsChimeric      Pass\n",
       "0    0.143132    0.023558  0.829037\n",
       "1    0.126565    0.018000  0.854619\n",
       "2    0.142436    0.030792  0.825500\n",
       "3    0.117952    0.023466  0.858405\n",
       "4    0.098415    0.015189  0.886372\n",
       "..        ...         ...       ...\n",
       "510  0.048994    0.011953  0.939042\n",
       "511  0.048174    0.017257  0.934552\n",
       "512  0.046722    0.015650  0.937618\n",
       "513  0.049746    0.039739  0.910491\n",
       "514  0.046964    0.013686  0.939347\n",
       "\n",
       "[473 rows x 3 columns]"
      ]
     },
     "execution_count": 6,
     "metadata": {},
     "output_type": "execute_result"
    }
   ],
   "source": [
    "d = pd.DataFrame(rows, columns=[\"Total\", \"TooShort\", \"NoLinker\", \"IsChimeric\", \"Pass\"])\n",
    "d = d[d[\"Total\"] >= 100000]\n",
    "d = d.divide(d[\"Total\"], axis=0)\n",
    "d = d[[\"NoLinker\", \"IsChimeric\", \"Pass\"]]\n",
    "print(len(d))\n",
    "d"
   ]
  },
  {
   "cell_type": "code",
   "execution_count": 7,
   "id": "c2e85c35",
   "metadata": {
    "ExecuteTime": {
     "end_time": "2024-03-07T03:57:47.453856Z",
     "start_time": "2024-03-07T03:57:47.071698Z"
    }
   },
   "outputs": [
    {
     "data": {
      "image/png": "[encoded data removed]",
      "text/plain": [
       "<Figure size 360x216 with 1 Axes>"
      ]
     },
     "metadata": {},
     "output_type": "display_data"
    }
   ],
   "source": [
    "means = d.mean(axis=0) * 100\n",
    "stds = d.std(axis=0) * 100\n",
    "\n",
    "labels = [\n",
    "    \"No confident dual-linker\\n(%.2f ± %.2f%%)\" % (means[0], stds[0]),\n",
    "    \"Chimeric (%.2f ± %.2f%%)\" % (means[1], stds[1]),\n",
    "    \"Pass trimming\\n(%.2f ± %.2f%%)\" % (means[2], stds[2]),\n",
    "]\n",
    "\n",
    "plt.figure(figsize=(5, 3))\n",
    "plt.pie(means, radius=1,\n",
    "        wedgeprops=dict(width=0.5, edgecolor='w'),\n",
    "        colors=[\"C7\", \"C8\", \"C0\"], labels=labels)\n",
    "plt.tight_layout()\n",
    "plt.savefig(\"figures/trimming_summary.pdf\", dpi=300)"
   ]
  }
 ],
 "metadata": {
  "kernelspec": {
   "display_name": "Python 3",
   "language": "python",
   "name": "python3"
  },
  "language_info": {
   "codemirror_mode": {
    "name": "ipython",
    "version": 3
   },
   "file_extension": ".py",
   "mimetype": "text/x-python",
   "name": "python",
   "nbconvert_exporter": "python",
   "pygments_lexer": "ipython3",
   "version": "3.6.15"
  }
 },
 "nbformat": 4,
 "nbformat_minor": 5
}
