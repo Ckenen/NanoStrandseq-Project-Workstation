{
 "cells": [
  {
   "cell_type": "code",
   "execution_count": 1,
   "id": "cee257e2",
   "metadata": {
    "ExecuteTime": {
     "end_time": "2024-03-07T04:01:28.007572Z",
     "start_time": "2024-03-07T04:01:27.099740Z"
    }
   },
   "outputs": [],
   "source": [
    "import os\n",
    "import gzip\n",
    "import glob\n",
    "from collections import Counter, defaultdict\n",
    "import numpy as np\n",
    "import pandas as pd\n",
    "import matplotlib.pyplot as plt"
   ]
  },
  {
   "cell_type": "markdown",
   "id": "e887fda6",
   "metadata": {},
   "source": [
    "# Proportion of recovered reads"
   ]
  },
  {
   "cell_type": "code",
   "execution_count": 3,
   "id": "8d54a985",
   "metadata": {
    "ExecuteTime": {
     "end_time": "2024-03-07T04:01:53.521630Z",
     "start_time": "2024-03-07T04:01:48.459516Z"
    }
   },
   "outputs": [],
   "source": [
    "dat = pd.read_excel(\"../../1_NanoStrandSeq/data/NanoStrandSeq.xls\")\n",
    "runs = [\"20220708_GM12878\",  \"20220708_GM12878R2\", \"20220817_HG001\", \"20220915_P1\",\"20220916_P1\", \"20220916_P2\"]\n",
    "\n",
    "rows = []\n",
    "for run in runs:\n",
    "    cells = dat[dat[\"Run\"] == run][\"Cell\"].values\n",
    "    \n",
    "    row = []\n",
    "    \n",
    "    path = \"../../1_NanoStrandSeq/results/demux/splitted/%s.log\" % run\n",
    "    vs = [int(x.split()[-2]) for x in filter(lambda line: \"%\" in line, open(path))]\n",
    "    row.append(vs[0])\n",
    "    row.append(vs[-1])\n",
    "    \n",
    "    trimmed = 0\n",
    "    for cell in cells:\n",
    "        path = \"../../1_NanoStrandSeq/results/demux/trimmed/%s/%s.log\" % (run, cell)\n",
    "        vs = [int(x.split()[-2]) for x in filter(lambda line: \"%\" in line, open(path))]\n",
    "        trimmed += vs[-1]\n",
    "    row.append(trimmed)\n",
    "    \n",
    "    mapped = 0\n",
    "    for cell in cells:\n",
    "        path = \"../../1_NanoStrandSeq/results/mapping/minimap2/%s/%s.flagstat\" % (run, cell)\n",
    "        for line in open(path):\n",
    "            if \"primary mapped\" in line:\n",
    "                mapped += int(line.split()[0])\n",
    "    row.append(mapped)\n",
    "    \n",
    "    filtered = 0\n",
    "    for cell in cells:\n",
    "        path = \"../../1_NanoStrandSeq/results/mapping/mark_duplicate/%s/%s.flagstat\" % (run, cell)\n",
    "        for line in open(path):\n",
    "            if \"primary mapped\" in line:\n",
    "                filtered += int(line.split()[0])\n",
    "    row.append(filtered)\n",
    "    \n",
    "    rows.append(row)\n",
    "    \n",
    "d = pd.DataFrame(rows, index=runs, columns=[\"Raw\", \"Splitted\", \"Trimmed\", \"Mapped\", \"Filtered\"])\n",
    "d = d.divide(d[\"Raw\"], axis=0) * 100"
   ]
  },
  {
   "cell_type": "code",
   "execution_count": 4,
   "id": "8ee86b4b",
   "metadata": {
    "ExecuteTime": {
     "end_time": "2024-03-07T04:01:57.111661Z",
     "start_time": "2024-03-07T04:01:56.684670Z"
    }
   },
   "outputs": [
    {
     "name": "stdout",
     "output_type": "stream",
     "text": [
      "Raw         100.000000\n",
      "Splitted     76.253493\n",
      "Trimmed      69.612531\n",
      "Mapped       69.252654\n",
      "Filtered     65.335500\n",
      "dtype: float64\n"
     ]
    },
    {
     "data": {
      "image/png": "[encoded data removed]",
      "text/plain": [
       "<Figure size 252x216 with 1 Axes>"
      ]
     },
     "metadata": {
      "needs_background": "light"
     },
     "output_type": "display_data"
    }
   ],
   "source": [
    "xs = np.arange(len(d.columns))\n",
    "ys = d.mean(axis=0)\n",
    "yerr = d.std(axis=0)\n",
    "print(ys)\n",
    "\n",
    "plt.figure(figsize=(3.5, 3))\n",
    "plt.bar(xs, ys, edgecolor=\"black\", color=[\"C0\", \"C7\", \"C7\", \"C7\", \"C2\"], width=0.5, clip_on=False,\n",
    "        yerr=yerr, error_kw={\"capsize\": 4, \"lw\": 1, \"capthick\": 1})\n",
    "plt.text(1, 95, \"N = %d\" % len(d))\n",
    "for x, y in zip(xs, ys):\n",
    "    plt.text(x, 2, \"%.2f%%\" % y, color=\"white\", rotation=90, va=\"bottom\", ha=\"center\")\n",
    "plt.xticks(xs, [\n",
    "    \"Raw\", \n",
    "    \"Splitted\",\n",
    "    \"Trimmed\",\n",
    "    \"Mapped\",\n",
    "    \"Filtered\"\n",
    "], rotation=45)\n",
    "plt.ylim(0, 100)\n",
    "plt.ylabel(\"Percentage of reads (%)\")\n",
    "plt.gca().spines[\"top\"].set_visible(False)\n",
    "plt.gca().spines[\"right\"].set_visible(False)\n",
    "plt.tight_layout()\n",
    "plt.savefig(\"figures/sequencing_yield.pdf\", dpi=300)"
   ]
  }
 ],
 "metadata": {
  "kernelspec": {
   "display_name": "Python 3",
   "language": "python",
   "name": "python3"
  },
  "language_info": {
   "codemirror_mode": {
    "name": "ipython",
    "version": 3
   },
   "file_extension": ".py",
   "mimetype": "text/x-python",
   "name": "python",
   "nbconvert_exporter": "python",
   "pygments_lexer": "ipython3",
   "version": "3.6.15"
  }
 },
 "nbformat": 4,
 "nbformat_minor": 5
}
