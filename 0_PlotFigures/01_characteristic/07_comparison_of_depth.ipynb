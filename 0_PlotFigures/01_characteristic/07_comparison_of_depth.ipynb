{
 "cells": [
  {
   "cell_type": "code",
   "execution_count": 5,
   "id": "ddceeb3a",
   "metadata": {
    "ExecuteTime": {
     "end_time": "2024-03-07T05:07:05.321028Z",
     "start_time": "2024-03-07T05:07:01.482034Z"
    },
    "execution": {
     "iopub.execute_input": "2024-04-09T09:40:16.238931Z",
     "iopub.status.busy": "2024-04-09T09:40:16.236455Z",
     "iopub.status.idle": "2024-04-09T09:40:16.257138Z",
     "shell.execute_reply": "2024-04-09T09:40:16.256741Z",
     "shell.execute_reply.started": "2024-04-09T09:40:16.238908Z"
    }
   },
   "outputs": [],
   "source": [
    "import numpy as np\n",
    "import pandas as pd"
   ]
  },
  {
   "cell_type": "markdown",
   "id": "d1c264be",
   "metadata": {},
   "source": [
    "# Stat of depth of coverage"
   ]
  },
  {
   "cell_type": "code",
   "execution_count": 6,
   "id": "0e4b046a-c118-481b-bce7-fb0a871251f0",
   "metadata": {
    "execution": {
     "iopub.execute_input": "2024-04-09T09:40:16.442812Z",
     "iopub.status.busy": "2024-04-09T09:40:16.442436Z",
     "iopub.status.idle": "2024-04-09T09:40:17.299971Z",
     "shell.execute_reply": "2024-04-09T09:40:17.299511Z",
     "shell.execute_reply.started": "2024-04-09T09:40:16.442793Z"
    }
   },
   "outputs": [
    {
     "name": "stdout",
     "output_type": "stream",
     "text": [
      "Strand-seq 0.08886503012121316\n",
      "OP-Strand-seq 0.25956389468783864\n",
      "NanoStrand-seq 0.28030691785926903\n"
     ]
    }
   ],
   "source": [
    "names = [\"Strand-seq\", \"OP-Strand-seq\", \"NanoStrand-seq\"]\n",
    "for name in names:\n",
    "    d = pd.read_csv(\"results/%s.qc_pass.csv\" % name)\n",
    "    print(name, np.mean(d[\"GenomicDepth\"]))"
   ]
  },
  {
   "cell_type": "code",
   "execution_count": null,
   "id": "ccdea023-dec8-4beb-a5ee-cc080f660aec",
   "metadata": {},
   "outputs": [],
   "source": []
  }
 ],
 "metadata": {
  "kernelspec": {
   "display_name": "Python 3 (ipykernel)",
   "language": "python",
   "name": "python3"
  },
  "language_info": {
   "codemirror_mode": {
    "name": "ipython",
    "version": 3
   },
   "file_extension": ".py",
   "mimetype": "text/x-python",
   "name": "python",
   "nbconvert_exporter": "python",
   "pygments_lexer": "ipython3",
   "version": "3.10.13"
  }
 },
 "nbformat": 4,
 "nbformat_minor": 5
}
