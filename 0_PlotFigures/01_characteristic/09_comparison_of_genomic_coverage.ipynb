{
 "cells": [
  {
   "cell_type": "code",
   "execution_count": 1,
   "id": "ddceeb3a",
   "metadata": {
    "ExecuteTime": {
     "end_time": "2024-03-07T06:33:18.256888Z",
     "start_time": "2024-03-07T06:33:15.299821Z"
    }
   },
   "outputs": [],
   "source": [
    "import os, glob, re, random, gzip, json, pysam\n",
    "from collections import Counter, defaultdict, OrderedDict\n",
    "import numpy as np\n",
    "import pandas as pd\n",
    "import matplotlib\n",
    "import matplotlib.pyplot as plt\n",
    "import seaborn as sns"
   ]
  },
  {
   "cell_type": "markdown",
   "id": "da37bbc3",
   "metadata": {},
   "source": [
    "# Complexity of libraries estimated by Preseq"
   ]
  },
  {
   "cell_type": "code",
   "execution_count": 2,
   "id": "40f4878e",
   "metadata": {
    "ExecuteTime": {
     "end_time": "2024-03-07T06:33:18.321975Z",
     "start_time": "2024-03-07T06:33:18.267911Z"
    }
   },
   "outputs": [
    {
     "name": "stdout",
     "output_type": "stream",
     "text": [
      "Genome size of autosomes: 2875001522\n"
     ]
    }
   ],
   "source": [
    "# Only autosome\n",
    "genome_size = 0\n",
    "with open(\"/home/chenzonggui/species/homo_sapiens/GRCh38.p13/GRCh38.canonical.genome.sizes\") as f:\n",
    "    for line in f:\n",
    "        chrom, length = line.strip(\"\\n\").split(\"\\t\")\n",
    "        length = int(length)\n",
    "        if not re.match(\"^chr[0-9]+$\", chrom):\n",
    "            continue\n",
    "        genome_size += length     \n",
    "print(\"Genome size of autosomes:\", genome_size)"
   ]
  },
  {
   "cell_type": "code",
   "execution_count": 3,
   "id": "57fd116c",
   "metadata": {
    "ExecuteTime": {
     "end_time": "2024-03-07T06:34:00.510709Z",
     "start_time": "2024-03-07T06:33:41.941591Z"
    },
    "code_folding": []
   },
   "outputs": [
    {
     "data": {
      "image/png": "[encoded data removed]",
      "text/plain": [
       "<Figure size 230.4x230.4 with 1 Axes>"
      ]
     },
     "metadata": {
      "needs_background": "light"
     },
     "output_type": "display_data"
    }
   ],
   "source": [
    "def get_genomic_coverage(name, genome_size):\n",
    "    df = pd.read_csv(\"results/%s.qc_pass.tsv\" % name, sep=\"\\t\")\n",
    "    array = []\n",
    "    for run, cell in df[[\"Run\", \"Cell\"]].values:\n",
    "        if name == \"NanoStrand-seq\":\n",
    "            path = \"../../1_NanoStrandSeq/results/stat/preseq/%s/%s/%s.tsv\" % (run, cell, cell)\n",
    "        else:\n",
    "            path = \"../../2_StrandSeq/results/stat/preseq/%s/%s/%s.tsv\" % (run, cell, cell)\n",
    "        if os.path.exists(path):\n",
    "            d = pd.read_csv(path, sep=\"\\t\", index_col=0)\n",
    "            d = d[d.index <= 2e9]\n",
    "            s = d[\"EXPECTED_COVERED_BASES\"] * 100 / genome_size\n",
    "            s.name = cell\n",
    "            array.append(s)\n",
    "    m = pd.concat(array, axis=1)\n",
    "    return m\n",
    "\n",
    "def get_average_depth(name, genome_size, xs, ys):\n",
    "    df = pd.read_csv(\"results/%s.qc_pass.tsv\" % name, sep=\"\\t\")\n",
    "    array = []\n",
    "    for run, cell, depth in df[[\"Run\", \"Cell\", \"GenomicDepth\"]].values:\n",
    "        array.append(depth * genome_size / 1e9)\n",
    "    mean = np.mean(array)\n",
    "    std = np.std(array)\n",
    "\n",
    "    xs1 = [mean - std, mean, mean + std]\n",
    "    ys1 = []\n",
    "    for x1 in xs1:\n",
    "        y1 = 0\n",
    "        for j in range(len(xs) - 1):\n",
    "            if xs[j] <= x1 < xs[j + 1]:\n",
    "                y1 = ys[j] + (ys[j + 1] - ys[j]) * (x1 - xs[j]) / (xs[j + 1] - xs[j])\n",
    "                break\n",
    "        ys1.append(y1)\n",
    "    return xs1, ys1\n",
    "\n",
    "names = [\"Strand-seq\", \"OP-Strand-seq\", \"NanoStrand-seq\"]\n",
    "colors = [\"blue\", \"orange\", \"red\"]\n",
    "alpha = 0.2\n",
    "plt.figure(figsize=(3.2, 3.2))\n",
    "for i, name in enumerate(names):\n",
    "    m = get_genomic_coverage(name, genome_size)    \n",
    "    means = m.mean(axis=1).values\n",
    "    stds = m.std(axis=1).values\n",
    "    xs = m.index / 1e9\n",
    "    plt.plot(xs, means)\n",
    "    label = name\n",
    "    plt.plot(xs, means, lw=2, color=colors[i], label=label)\n",
    "    plt.fill_between(xs, means - stds, means + stds, lw=2, alpha=alpha, color=colors[i])    \n",
    "    if True:\n",
    "        xs1, ys1 = get_average_depth(name, genome_size, xs, means)\n",
    "        plt.scatter(xs1, ys1, color=\"black\", marker=\"P\", s=30, zorder=10)\n",
    "ylim = 30\n",
    "plt.xlim(0, 2)\n",
    "plt.ylim(0, ylim)\n",
    "plt.xticks([0, 0.5, 1, 1.5, 2])\n",
    "plt.yticks(np.arange(0, ylim + 1, 5), np.arange(0, ylim + 1, 5))\n",
    "plt.xlabel(\"Total sequencing effort (Gb)\")\n",
    "plt.ylabel(\"Predicted genomic coverage (%)\")\n",
    "plt.gca().spines[\"top\"].set_visible(False)\n",
    "plt.gca().spines[\"right\"].set_visible(False)\n",
    "plt.legend(loc=\"upper left\", handlelength=0.5, frameon=False, ncol=1)\n",
    "plt.tight_layout()\n",
    "plt.savefig(\"figures/genomic_coverage.predicted.pdf\", dpi=300)"
   ]
  },
  {
   "cell_type": "markdown",
   "id": "f1429c34",
   "metadata": {},
   "source": [
    "# Final genomic coverage"
   ]
  },
  {
   "cell_type": "code",
   "execution_count": 9,
   "id": "64bf6e48",
   "metadata": {
    "ExecuteTime": {
     "end_time": "2024-03-07T06:35:30.849457Z",
     "start_time": "2024-03-07T06:35:30.504000Z"
    }
   },
   "outputs": [
    {
     "name": "stdout",
     "output_type": "stream",
     "text": [
      "Strand-seq 3.4577461931810096 3.5050413096790005\n",
      "OP-Strand-seq 12.922594433626482 13.046351528157562\n",
      "NanoStrand-seq 9.946232260721017 9.477000130784626\n"
     ]
    },
    {
     "data": {
      "image/png": "[encoded data removed]",
      "text/plain": [
       "<Figure size 273.6x230.4 with 1 Axes>"
      ]
     },
     "metadata": {
      "needs_background": "light"
     },
     "output_type": "display_data"
    }
   ],
   "source": [
    "def get_genomic_coverage(name):\n",
    "    df = pd.read_csv(\"results/%s.qc_pass.tsv\" % name, sep=\"\\t\")\n",
    "    array = df[\"GenomicCoverage\"] * 100\n",
    "    return array\n",
    "\n",
    "np.random.seed(0)\n",
    "names = [\"Strand-seq\", \"OP-Strand-seq\", \"NanoStrand-seq\"]\n",
    "colors = [\"blue\", \"orange\", \"red\"]\n",
    "colors = [\"C0\", \"C1\", \"C3\"]\n",
    "w = 0.5\n",
    "plt.figure(figsize=(3.8, 3.2))\n",
    "for i, name in enumerate(names):\n",
    "    ys = get_genomic_coverage(name)\n",
    "    print(name, np.mean(ys), np.median(ys))\n",
    "    \n",
    "    if True:\n",
    "        plt.boxplot([ys], positions=[i], widths=w, \n",
    "                    showcaps=False, \n",
    "                    showfliers=True, \n",
    "                    flierprops=dict(marker=\".\", markerfacecolor=\"black\", markeredgecolor=\"black\"),\n",
    "                    medianprops=dict(color=\"black\"), \n",
    "                    patch_artist=True, boxprops={\"facecolor\": colors[i]}\n",
    "                   )\n",
    "        \n",
    "    if False:\n",
    "        plt.violinplot([ys], positions=[i])\n",
    "    \n",
    "    if False:\n",
    "        xs1 = (np.random.random(len(ys)) - 0.5) * w * 0.8 + i\n",
    "        plt.scatter(xs1, ys, color=\"black\", marker=\".\")\n",
    "        \n",
    "    # plt.text(i, 25, \"N = %d\" % len(ys), ha=\"center\")\n",
    "    \n",
    "plt.xticks(np.arange(len(names)), names, rotation=10)\n",
    "plt.ylabel(\"Genomic coverage (%)\")\n",
    "plt.ylim(0, 25)\n",
    "plt.gca().spines[\"top\"].set_visible(False)\n",
    "plt.gca().spines[\"right\"].set_visible(False)\n",
    "plt.tight_layout()\n",
    "plt.savefig(\"figures/genomic_coverage.final.pdf\", dpi=300)"
   ]
  }
 ],
 "metadata": {
  "kernelspec": {
   "display_name": "Python 3",
   "language": "python",
   "name": "python3"
  },
  "language_info": {
   "codemirror_mode": {
    "name": "ipython",
    "version": 3
   },
   "file_extension": ".py",
   "mimetype": "text/x-python",
   "name": "python",
   "nbconvert_exporter": "python",
   "pygments_lexer": "ipython3",
   "version": "3.6.15"
  }
 },
 "nbformat": 4,
 "nbformat_minor": 5
}
