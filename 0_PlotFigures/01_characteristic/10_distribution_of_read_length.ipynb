{
 "cells": [
  {
   "cell_type": "markdown",
   "id": "84166fb1",
   "metadata": {},
   "source": [
    "# Distribution of fragment length\n",
    "\n",
    "NanoStrand-seq can generate longer reads than Strand-seq. \n",
    "\n",
    "In this notebook, we analysis the fragment length (mapped region, excluded linker sequences) of all cells from one flow-cell."
   ]
  },
  {
   "cell_type": "code",
   "execution_count": 1,
   "id": "ddceeb3a",
   "metadata": {
    "ExecuteTime": {
     "end_time": "2024-03-07T06:31:13.111883Z",
     "start_time": "2024-03-07T06:31:09.924468Z"
    },
    "execution": {
     "iopub.execute_input": "2024-04-09T09:42:35.210478Z",
     "iopub.status.busy": "2024-04-09T09:42:35.210194Z",
     "iopub.status.idle": "2024-04-09T09:42:51.514661Z",
     "shell.execute_reply": "2024-04-09T09:42:51.513257Z",
     "shell.execute_reply.started": "2024-04-09T09:42:35.210460Z"
    }
   },
   "outputs": [],
   "source": [
    "import glob\n",
    "import gzip\n",
    "import numpy as np\n",
    "import pandas as pd\n",
    "import matplotlib.pyplot as plt"
   ]
  },
  {
   "cell_type": "code",
   "execution_count": 7,
   "id": "e9c1100f",
   "metadata": {
    "ExecuteTime": {
     "end_time": "2024-03-07T06:31:57.534680Z",
     "start_time": "2024-03-07T06:31:13.116641Z"
    },
    "execution": {
     "iopub.execute_input": "2024-04-09T09:44:06.010513Z",
     "iopub.status.busy": "2024-04-09T09:44:06.003941Z",
     "iopub.status.idle": "2024-04-09T09:44:21.511645Z",
     "shell.execute_reply": "2024-04-09T09:44:21.457505Z",
     "shell.execute_reply.started": "2024-04-09T09:44:06.010485Z"
    }
   },
   "outputs": [],
   "source": [
    "run = \"20220708_GM12878\"\n",
    "lengths = []\n",
    "for path in glob.glob(\"../../1_NanoStrandSeq/results/stat/lengths/%s/*.tsv\" % run):\n",
    "    if \"summary\" in path:\n",
    "        continue\n",
    "    for i, line in enumerate(open(path)):\n",
    "        if i == 0:\n",
    "            continue\n",
    "        name, length = line.strip(\"\\n\").split(\"\\t\")\n",
    "        lengths.append(int(length))\n",
    "lengths.sort()"
   ]
  },
  {
   "cell_type": "code",
   "execution_count": 8,
   "id": "0f48af89",
   "metadata": {
    "ExecuteTime": {
     "end_time": "2024-03-07T06:31:57.548398Z",
     "start_time": "2024-03-07T06:31:57.538296Z"
    },
    "execution": {
     "iopub.execute_input": "2024-04-09T09:44:21.533795Z",
     "iopub.status.busy": "2024-04-09T09:44:21.533179Z",
     "iopub.status.idle": "2024-04-09T09:44:22.023932Z",
     "shell.execute_reply": "2024-04-09T09:44:22.023483Z",
     "shell.execute_reply.started": "2024-04-09T09:44:21.533774Z"
    }
   },
   "outputs": [
    {
     "name": "stdout",
     "output_type": "stream",
     "text": [
      "No.\tIndex\tLength\n",
      "------------------------------\n",
      "0.0\t0\t91\n",
      "0.1\t1008309\t1357\n",
      "0.2\t2016619\t1589\n",
      "0.3\t3024928\t1823\n",
      "0.4\t4033238\t2074\n",
      "0.5\t5041547\t2358\n",
      "0.6\t6049857\t2697\n",
      "0.7\t7058166\t3129\n",
      "0.8\t8066476\t3745\n",
      "0.9\t9074785\t4826\n"
     ]
    }
   ],
   "source": [
    "print(\"No.\\tIndex\\tLength\")\n",
    "print(\"-\" * 30)\n",
    "for i in np.arange(0, 1, 0.1):\n",
    "    n = int(len(lengths) * i)\n",
    "    v = lengths[n]\n",
    "    print(round(i, 1), n, v, sep=\"\\t\")\n",
    "    if i == 0.9:\n",
    "        v90 = v"
   ]
  },
  {
   "cell_type": "code",
   "execution_count": 9,
   "id": "eb9c5b9e",
   "metadata": {
    "ExecuteTime": {
     "end_time": "2024-03-07T06:32:02.925182Z",
     "start_time": "2024-03-07T06:32:02.060917Z"
    },
    "execution": {
     "iopub.execute_input": "2024-04-09T09:44:27.320909Z",
     "iopub.status.busy": "2024-04-09T09:44:27.320610Z",
     "iopub.status.idle": "2024-04-09T09:44:27.870018Z",
     "shell.execute_reply": "2024-04-09T09:44:27.869559Z",
     "shell.execute_reply.started": "2024-04-09T09:44:27.320890Z"
    }
   },
   "outputs": [
    {
     "name": "stdout",
     "output_type": "stream",
     "text": [
      "Mean of top 10%: 6339.607240439191\n",
      "Median of top 10%: 5908.0\n"
     ]
    }
   ],
   "source": [
    "print(\"Mean of top 10%:\", np.mean(lengths[-int(len(lengths) * 0.1):]))\n",
    "print(\"Median of top 10%:\", np.median(lengths[-int(len(lengths) * 0.1):]))"
   ]
  },
  {
   "cell_type": "code",
   "execution_count": 10,
   "id": "816ec7af",
   "metadata": {
    "ExecuteTime": {
     "end_time": "2024-03-07T06:32:10.434566Z",
     "start_time": "2024-03-07T06:32:07.371292Z"
    },
    "execution": {
     "iopub.execute_input": "2024-04-09T09:44:29.672288Z",
     "iopub.status.busy": "2024-04-09T09:44:29.671780Z",
     "iopub.status.idle": "2024-04-09T09:44:31.720176Z",
     "shell.execute_reply": "2024-04-09T09:44:31.717384Z",
     "shell.execute_reply.started": "2024-04-09T09:44:29.672269Z"
    }
   },
   "outputs": [
    {
     "name": "stdout",
     "output_type": "stream",
     "text": [
      "N50: 3131\n"
     ]
    }
   ],
   "source": [
    "s1 = sum(lengths) / 2\n",
    "s2 = 0\n",
    "n50 = 0\n",
    "for v in lengths:\n",
    "    s2 += v\n",
    "    if s2 >= s1:\n",
    "        n50 = v\n",
    "        break\n",
    "print(\"N50:\", n50)"
   ]
  },
  {
   "cell_type": "code",
   "execution_count": 11,
   "id": "26da9d50",
   "metadata": {
    "ExecuteTime": {
     "end_time": "2024-03-07T06:32:54.010757Z",
     "start_time": "2024-03-07T06:32:33.956628Z"
    },
    "execution": {
     "iopub.execute_input": "2024-04-09T09:44:32.548931Z",
     "iopub.status.busy": "2024-04-09T09:44:32.548202Z",
     "iopub.status.idle": "2024-04-09T09:44:41.868518Z",
     "shell.execute_reply": "2024-04-09T09:44:41.865799Z",
     "shell.execute_reply.started": "2024-04-09T09:44:32.548908Z"
    }
   },
   "outputs": [
    {
     "name": "stdout",
     "output_type": "stream",
     "text": [
      "Mean: 2792.732866842968\n",
      "Median: 2358.0\n"
     ]
    }
   ],
   "source": [
    "maxlen = 6000\n",
    "wbin = 100\n",
    "nbin = int(maxlen / wbin)\n",
    "xs = np.arange(nbin) * wbin + wbin / 2\n",
    "ys = np.zeros(nbin)\n",
    "for v in lengths:\n",
    "    i = int(v/wbin)\n",
    "    if i < nbin:\n",
    "        ys[i] += 1\n",
    "ys = ys / max(ys)\n",
    "mean = np.mean(lengths)\n",
    "median = np.median(lengths)\n",
    "print(\"Mean:\", mean)\n",
    "print(\"Median:\", median)"
   ]
  },
  {
   "cell_type": "code",
   "execution_count": 12,
   "id": "e72017a4",
   "metadata": {
    "ExecuteTime": {
     "end_time": "2024-03-07T06:32:58.832316Z",
     "start_time": "2024-03-07T06:32:58.189428Z"
    },
    "execution": {
     "iopub.execute_input": "2024-04-09T09:44:58.018585Z",
     "iopub.status.busy": "2024-04-09T09:44:58.012907Z",
     "iopub.status.idle": "2024-04-09T09:45:05.567119Z",
     "shell.execute_reply": "2024-04-09T09:45:05.566142Z",
     "shell.execute_reply.started": "2024-04-09T09:44:58.018555Z"
    }
   },
   "outputs": [
    {
     "data": {
      "image/png": "[encoded data removed]",
      "text/plain": [
       "<Figure size 320x320 with 1 Axes>"
      ]
     },
     "metadata": {},
     "output_type": "display_data"
    }
   ],
   "source": [
    "plt.figure(figsize=(3.2, 3.2))\n",
    "plt.plot(xs, ys, color=\"black\", clip_on=False, lw=1)\n",
    "plt.gca().fill_between(xs, ys, 0, alpha=0.1, color=\"black\", clip_on=False)\n",
    "plt.plot([mean, mean], [0, 0.9], ls=\"--\", lw=1, color=\"C1\")\n",
    "plt.text(mean + 100, 0.8, \"Mean=%s\" % format(int(mean), \",\"), color=\"C1\", rotation=0)\n",
    "plt.plot([median, median], [0, 1], ls=\"--\", lw=1, color=\"C0\")\n",
    "plt.text(median + 100, 0.95, \"Median=%s\" % format(int(median), \",\"), color=\"C0\")\n",
    "plt.text(4500, 0.6, \"N50=%s\" % format(n50, \",\"))\n",
    "plt.gca().spines[\"top\"].set_visible(False)\n",
    "plt.gca().spines[\"right\"].set_visible(False)\n",
    "xs1 = np.arange(0, maxlen + 1, 2000)\n",
    "plt.xticks(xs1, [format(x, \",\") for x in xs1])\n",
    "plt.xlim(0, maxlen)\n",
    "plt.ylim(0, 1)\n",
    "plt.xlabel(\"Fragment length (nt)\")\n",
    "plt.ylabel(\"Scaled density\")\n",
    "plt.tight_layout()\n",
    "plt.savefig(\"figures/mapped_length_distribution.%s.pdf\" % run, dpi=300)"
   ]
  },
  {
   "cell_type": "code",
   "execution_count": null,
   "id": "d8624f9e-308e-4b6b-9204-b091d7ff8e1e",
   "metadata": {},
   "outputs": [],
   "source": []
  }
 ],
 "metadata": {
  "kernelspec": {
   "display_name": "Python 3 (ipykernel)",
   "language": "python",
   "name": "python3"
  },
  "language_info": {
   "codemirror_mode": {
    "name": "ipython",
    "version": 3
   },
   "file_extension": ".py",
   "mimetype": "text/x-python",
   "name": "python",
   "nbconvert_exporter": "python",
   "pygments_lexer": "ipython3",
   "version": "3.10.13"
  }
 },
 "nbformat": 4,
 "nbformat_minor": 5
}
