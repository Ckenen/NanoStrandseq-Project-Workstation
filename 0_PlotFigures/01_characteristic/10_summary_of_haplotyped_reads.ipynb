{
 "cells": [
  {
   "cell_type": "code",
   "execution_count": 1,
   "id": "ddceeb3a",
   "metadata": {
    "ExecuteTime": {
     "end_time": "2024-03-07T06:38:13.039101Z",
     "start_time": "2024-03-07T06:38:11.756118Z"
    }
   },
   "outputs": [],
   "source": [
    "import os, glob, re, random, gzip, json, pysam\n",
    "from collections import Counter, defaultdict, OrderedDict\n",
    "import numpy as np\n",
    "import pandas as pd\n",
    "import matplotlib\n",
    "import matplotlib.pyplot as plt\n",
    "from matplotlib.gridspec import GridSpec\n",
    "import matplotlib.patches as mpatches\n",
    "import seaborn as sns"
   ]
  },
  {
   "cell_type": "markdown",
   "id": "8b55580b",
   "metadata": {},
   "source": [
    "# Paternal reads proportion"
   ]
  },
  {
   "cell_type": "code",
   "execution_count": 4,
   "id": "61a0e30f",
   "metadata": {
    "ExecuteTime": {
     "end_time": "2024-03-07T06:39:51.416585Z",
     "start_time": "2024-03-07T06:39:45.076353Z"
    }
   },
   "outputs": [],
   "source": [
    "names = [\"Strand-seq\", \"OP-Strand-seq\", \"NanoStrand-seq\"]\n",
    "cs = [\"Paternal\", \"Maternal\", \"Ambiguous\", \"Other\", \"Unknown\"]\n",
    "data = dict()\n",
    "\n",
    "for name in names:\n",
    "    cells = pd.read_csv(\"results/%s.qc_pass.tsv\" % name, sep=\"\\t\")[\"Cell\"]\n",
    "    rows = []\n",
    "    for cell in cells:\n",
    "        run = cell.split(\".\")[0]\n",
    "        path = \"../../1_NanoStrandSeq/results/mapping/mark_haplotype/%s/%s.log\" % (run, cell)\n",
    "        if not os.path.exists(path):\n",
    "            path = \"../../2_StrandSeq/results/mapping/mark_haplotype/%s/%s.log\" % (run, cell)\n",
    "        d = dict()\n",
    "        with open(path) as f:\n",
    "            for line in f:\n",
    "                if line.startswith(\"[W::hts_idx_load3]\"):\n",
    "                    continue\n",
    "                k, v = line.strip(\"\\n\").split()[:2]\n",
    "                v = int(v)\n",
    "                k = k[:-1]\n",
    "                d[k] = v\n",
    "        row = [cell, d[\"Total\"], d[\"Paternal\"], d[\"Maternal\"], d[\"Ambiguous\"], d[\"Other\"]]\n",
    "        rows.append(row)\n",
    "    dat = pd.DataFrame(rows)\n",
    "    dat.columns = [\"Cell\", \"Total\", \"Paternal\", \"Maternal\", \"Ambiguous\", \"Other\"]\n",
    "    dat[\"Unknown\"] = dat[\"Total\"] - dat[\"Paternal\"] - dat[\"Maternal\"] - dat[\"Ambiguous\"] - dat[\"Other\"]\n",
    "    \n",
    "    for c in cs:\n",
    "        dat[\"%s(%%)\" % c] = dat[c] * 100 / dat[\"Total\"]\n",
    "    \n",
    "    data[name] = dat"
   ]
  },
  {
   "cell_type": "code",
   "execution_count": 5,
   "id": "d773cca8",
   "metadata": {
    "ExecuteTime": {
     "end_time": "2024-03-07T06:40:03.804954Z",
     "start_time": "2024-03-07T06:40:02.786065Z"
    }
   },
   "outputs": [
    {
     "name": "stdout",
     "output_type": "stream",
     "text": [
      "Strand-seq\n",
      "OP-Strand-seq\n",
      "NanoStrand-seq\n"
     ]
    },
    {
     "data": {
      "image/png": "[encoded data removed]",
      "text/plain": [
       "<Figure size 828x216 with 3 Axes>"
      ]
     },
     "metadata": {
      "needs_background": "light"
     },
     "output_type": "display_data"
    }
   ],
   "source": [
    "fig, axs = plt.subplots(1, 3, figsize=(11.5, 3), sharex=True, sharey=True)\n",
    "\n",
    "for i, name in enumerate(names):\n",
    "    print(name)\n",
    "    \n",
    "    dat = data[name]\n",
    "    \n",
    "    plt.sca(axs[i])\n",
    "    \n",
    "    d = dat[dat.columns[-5:]]\n",
    "    ys = d.mean(axis=0)\n",
    "    yerr = d.std(axis=0)\n",
    "    xs = np.arange(len(ys))\n",
    "    \n",
    "    plt.title(name)\n",
    "    plt.bar(xs, ys, yerr=yerr, edgecolor=\"black\", color=[\"C0\", \"C1\", \"grey\", \"grey\", \"grey\"], width=0.4,\n",
    "            error_kw={\"capsize\": 5, \"lw\": 1})\n",
    "    plt.text(0, 90, \"N = %d\" % len(dat))\n",
    "    plt.xticks(xs, cs, rotation=30)\n",
    "    plt.ylim(0, 100)\n",
    "    if i == 0:\n",
    "        plt.ylabel(\"%s of reads\")\n",
    "    plt.xlabel(\"Parental reads (annotated by GIAB)\")\n",
    "    plt.gca().spines[\"top\"].set_visible(False)\n",
    "    plt.gca().spines[\"right\"].set_visible(False)\n",
    "\n",
    "plt.tight_layout()\n",
    "plt.savefig(\"figures/parental_of_reads.comparison.pdf\", dpi=300)"
   ]
  },
  {
   "cell_type": "markdown",
   "id": "b57a90bf",
   "metadata": {},
   "source": [
    "## Mouse"
   ]
  },
  {
   "cell_type": "code",
   "execution_count": 10,
   "id": "874003fa",
   "metadata": {
    "ExecuteTime": {
     "end_time": "2024-03-07T07:32:58.797093Z",
     "start_time": "2024-03-07T07:32:58.686655Z"
    }
   },
   "outputs": [],
   "source": [
    "names = [\"NanoStrand-seq.MM\"]\n",
    "cs = [\"Paternal\", \"Maternal\", \"Ambiguous\", \"Other\", \"Unknown\"]\n",
    "data = dict()\n",
    "\n",
    "for name in names:\n",
    "    cells = pd.read_csv(\"results/%s.qc_pass.tsv\" % name, sep=\"\\t\")[\"Cell\"]\n",
    "    rows = []\n",
    "    for cell in cells:\n",
    "        run = cell.split(\".\")[0]\n",
    "        path = \"../../1_NanoStrandSeq/results/mapping/mark_haplotype/%s/%s.log\" % (run, cell)\n",
    "        if not os.path.exists(path):\n",
    "            path = \"../../2_StrandSeq/results/mapping/mark_haplotype/%s/%s.log\" % (run, cell)\n",
    "        d = dict()\n",
    "        with open(path) as f:\n",
    "            for line in f:\n",
    "                if line.startswith(\"[W:\"):\n",
    "                    continue\n",
    "                k, v = line.strip(\"\\n\").split()[:2]\n",
    "                v = int(v)\n",
    "                k = k[:-1]\n",
    "                d[k] = v\n",
    "        row = [cell, d[\"Total\"], d[\"Paternal\"], d[\"Maternal\"], d[\"Ambiguous\"], d[\"Other\"]]\n",
    "        rows.append(row)\n",
    "    dat = pd.DataFrame(rows)\n",
    "    dat.columns = [\"Cell\", \"Total\", \"Paternal\", \"Maternal\", \"Ambiguous\", \"Other\"]\n",
    "    dat[\"Unknown\"] = dat[\"Total\"] - dat[\"Paternal\"] - dat[\"Maternal\"] - dat[\"Ambiguous\"] - dat[\"Other\"]\n",
    "    \n",
    "    for c in cs:\n",
    "        dat[\"%s(%%)\" % c] = dat[c] * 100 / dat[\"Total\"]\n",
    "    \n",
    "    data[name] = dat"
   ]
  },
  {
   "cell_type": "code",
   "execution_count": 11,
   "id": "63a928ff",
   "metadata": {
    "ExecuteTime": {
     "end_time": "2024-03-07T07:33:00.641595Z",
     "start_time": "2024-03-07T07:33:00.190060Z"
    }
   },
   "outputs": [
    {
     "data": {
      "image/png": "[encoded data removed]",
      "text/plain": [
       "<Figure size 216x216 with 1 Axes>"
      ]
     },
     "metadata": {
      "needs_background": "light"
     },
     "output_type": "display_data"
    }
   ],
   "source": [
    "plt.figure(figsize=(3, 3))\n",
    "\n",
    "dat = data[\"NanoStrand-seq.MM\"]\n",
    "\n",
    "\n",
    "d = dat[dat.columns[-5:]]\n",
    "ys = d.mean(axis=0)\n",
    "yerr = d.std(axis=0)\n",
    "xs = np.arange(len(ys))\n",
    "\n",
    "plt.title(\"NanoStrand-seq (mouse)\")\n",
    "plt.bar(xs, ys, yerr=yerr, edgecolor=\"black\", color=[\"C0\", \"C1\", \"grey\", \"grey\", \"grey\"], width=0.4,\n",
    "        error_kw={\"capsize\": 5, \"lw\": 1})\n",
    "plt.text(0, 90, \"N = %d\" % len(dat))\n",
    "plt.xticks(xs, cs, rotation=30)\n",
    "plt.ylim(0, 100)\n",
    "plt.ylabel(\"%s of reads\")\n",
    "plt.xlabel(\"Parental reads (annotated by MGP)\")\n",
    "plt.gca().spines[\"top\"].set_visible(False)\n",
    "plt.gca().spines[\"right\"].set_visible(False)\n",
    "\n",
    "plt.tight_layout()\n",
    "plt.savefig(\"figures/parental_of_reads.mouse.pdf\", dpi=300)"
   ]
  }
 ],
 "metadata": {
  "kernelspec": {
   "display_name": "Python 3",
   "language": "python",
   "name": "python3"
  },
  "language_info": {
   "codemirror_mode": {
    "name": "ipython",
    "version": 3
   },
   "file_extension": ".py",
   "mimetype": "text/x-python",
   "name": "python",
   "nbconvert_exporter": "python",
   "pygments_lexer": "ipython3",
   "version": "3.6.15"
  }
 },
 "nbformat": 4,
 "nbformat_minor": 5
}
