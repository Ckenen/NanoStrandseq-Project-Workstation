{
 "cells": [
  {
   "cell_type": "code",
   "execution_count": 2,
   "id": "cee257e2",
   "metadata": {
    "ExecuteTime": {
     "end_time": "2024-01-24T09:41:44.505036Z",
     "start_time": "2024-01-24T09:41:43.757380Z"
    }
   },
   "outputs": [],
   "source": [
    "import os\n",
    "import gzip\n",
    "import glob\n",
    "from collections import Counter, defaultdict\n",
    "import numpy as np\n",
    "import pandas as pd\n",
    "import matplotlib.pyplot as plt"
   ]
  },
  {
   "cell_type": "markdown",
   "id": "e887fda6",
   "metadata": {},
   "source": [
    "# Data yield"
   ]
  },
  {
   "cell_type": "code",
   "execution_count": 3,
   "id": "8d54a985",
   "metadata": {
    "ExecuteTime": {
     "end_time": "2024-01-24T09:41:45.350643Z",
     "start_time": "2024-01-24T09:41:44.599473Z"
    }
   },
   "outputs": [],
   "source": [
    "dat = pd.read_excel(\"../../1_NanoStrandSeq/data/NanoStrandSeq.xls\")\n",
    "runs = [\"20220708_GM12878\",  \"20220708_GM12878R2\", \"20220817_HG001\", \"20220915_P1\",\"20220916_P1\", \"20220916_P2\"]\n",
    "\n",
    "rows = []\n",
    "for run in runs:\n",
    "    cells = dat[dat[\"Run\"] == run][\"Cell\"].values\n",
    "    \n",
    "    row = []\n",
    "    \n",
    "    path = \"../../1_NanoStrandSeq/results/demux/splitted/%s.log\" % run\n",
    "    vs = [int(x.split()[-2]) for x in filter(lambda line: \"%\" in line, open(path))]\n",
    "    row.append(vs[0])\n",
    "    row.append(vs[-1])\n",
    "    \n",
    "    trimmed = 0\n",
    "    for cell in cells:\n",
    "        path = \"../../1_NanoStrandSeq/results/demux/trimmed/%s/%s.log\" % (run, cell)\n",
    "        vs = [int(x.split()[-2]) for x in filter(lambda line: \"%\" in line, open(path))]\n",
    "        trimmed += vs[-1]\n",
    "    row.append(trimmed)\n",
    "    \n",
    "    mapped = 0\n",
    "    for cell in cells:\n",
    "        path = \"../../1_NanoStrandSeq/results/mapping/minimap2/%s/%s.flagstat\" % (run, cell)\n",
    "        for line in open(path):\n",
    "            if \"primary mapped\" in line:\n",
    "                mapped += int(line.split()[0])\n",
    "    row.append(mapped)\n",
    "    \n",
    "    filtered = 0\n",
    "    for cell in cells:\n",
    "        path = \"../../1_NanoStrandSeq/results/mapping/mark_parental/%s/%s.flagstat\" % (run, cell)\n",
    "        for line in open(path):\n",
    "            if \"primary mapped\" in line:\n",
    "                filtered += int(line.split()[0])\n",
    "    row.append(filtered)\n",
    "    \n",
    "    rows.append(row)\n",
    "    \n",
    "d = pd.DataFrame(rows, index=runs, columns=[\"Raw\", \"Splitted\", \"Trimmed\", \"Mapped\", \"Filtered\"])\n",
    "d = d.divide(d[\"Raw\"], axis=0) * 100"
   ]
  },
  {
   "cell_type": "code",
   "execution_count": 8,
   "id": "8ee86b4b",
   "metadata": {
    "ExecuteTime": {
     "end_time": "2024-01-24T10:51:51.802315Z",
     "start_time": "2024-01-24T10:51:51.400678Z"
    }
   },
   "outputs": [
    {
     "name": "stdout",
     "output_type": "stream",
     "text": [
      "Raw         100.000000\n",
      "Splitted     76.253493\n",
      "Trimmed      69.612531\n",
      "Mapped       69.252654\n",
      "Filtered     64.237513\n",
      "dtype: float64\n"
     ]
    },
    {
     "data": {
      "image/png": "[encoded data removed]",
      "text/plain": [
       "<Figure size 252x216 with 1 Axes>"
      ]
     },
     "metadata": {
      "needs_background": "light"
     },
     "output_type": "display_data"
    }
   ],
   "source": [
    "xs = np.arange(len(d.columns))\n",
    "ys = d.mean(axis=0)\n",
    "yerr = d.std(axis=0)\n",
    "print(ys)\n",
    "\n",
    "plt.figure(figsize=(3.5, 3))\n",
    "plt.bar(xs, ys, edgecolor=\"black\", color=[\"C0\", \"C7\", \"C7\", \"C7\", \"C2\"], width=0.5, clip_on=False,\n",
    "        yerr=yerr, error_kw={\"capsize\": 4, \"lw\": 1, \"capthick\": 1})\n",
    "plt.text(1, 95, \"N = %d\" % len(d))\n",
    "for x, y in zip(xs, ys):\n",
    "    plt.text(x, 2, \"%.2f%%\" % y, color=\"white\", rotation=90, va=\"bottom\", ha=\"center\")\n",
    "plt.xticks(xs, [\n",
    "    \"Raw\", \n",
    "    \"Splitted\",\n",
    "    \"Trimmed\",\n",
    "    \"Mapped\",\n",
    "    \"Filtered\"\n",
    "], rotation=45)\n",
    "plt.ylim(0, 100)\n",
    "plt.ylabel(\"Percentage of reads (%)\")\n",
    "plt.gca().spines[\"top\"].set_visible(False)\n",
    "plt.gca().spines[\"right\"].set_visible(False)\n",
    "plt.tight_layout()\n",
    "plt.savefig(\"figures/sequencing_yield.pdf\", dpi=300)"
   ]
  },
  {
   "cell_type": "markdown",
   "id": "0d705e42",
   "metadata": {},
   "source": [
    "# Cross species comparison"
   ]
  },
  {
   "cell_type": "code",
   "execution_count": 5,
   "id": "b7233066",
   "metadata": {
    "ExecuteTime": {
     "end_time": "2024-01-23T10:23:25.169254Z",
     "start_time": "2024-01-23T10:23:23.816933Z"
    }
   },
   "outputs": [],
   "source": [
    "infos = pd.read_excel(\"../../1_NanoStrandSeq/data/NanoStrandSeq.xls\")\n",
    "\n",
    "runs = [\"20220708_GM12878\", \"20220903_HMTest\", \"20220929_P1\"]\n",
    "\n",
    "def get_mapped_read(path):\n",
    "    d = defaultdict(int)\n",
    "    if not os.path.exists(path):\n",
    "        return 0, 0\n",
    "    with open(path) as f:\n",
    "        for line in f:\n",
    "            species, count = line.strip(\"\\n\").split(\"\\t\")[:2]\n",
    "            count = int(count)\n",
    "            d[species] = count\n",
    "    return d[\"Human\"], d[\"Mouse\"]\n",
    "            # return int(line.strip(\"\\n\").split()[0])\n",
    "    \n",
    "rows = []\n",
    "\n",
    "run = \"20220708_GM12878\"\n",
    "for cell, species in infos[infos[\"Run\"] == run][[\"Cell\", \"Species\"]].values:\n",
    "    path = \"../../1_NanoStrandSeq/results/cross.mapping/counts/%s/%s.tsv\" % (run, cell)\n",
    "    count1, count2 = get_mapped_read(path)\n",
    "    rows.append([cell, \"Human\", species, count1, count2])\n",
    "    \n",
    "run = \"20220903_HMTest\"\n",
    "for cell, species in infos[infos[\"Run\"] == run][[\"Cell\", \"Species\"]].values:\n",
    "    path = \"../../1_NanoStrandSeq/results/cross.mapping/counts/%s/%s.tsv\" % (run, cell)\n",
    "    count1, count2 = get_mapped_read(path)\n",
    "    rows.append([cell, \"Mixed\", species, count1, count2])\n",
    "    \n",
    "run = \"20220929_P1\"\n",
    "for cell, species in infos[infos[\"Run\"] == run][[\"Cell\", \"Species\"]].values:\n",
    "    path = \"../../1_NanoStrandSeq/results/cross.mapping/counts/%s/%s.tsv\" % (run, cell)\n",
    "    count1, count2 = get_mapped_read(path)\n",
    "    rows.append([cell, \"Mouse\", species, count1, count2])\n",
    "    \n",
    "dat = pd.DataFrame(rows)\n",
    "dat.columns = [\"Cell\", \"Flow\", \"Species\", \"MappedHuman\", \"MappedMouse\"]"
   ]
  },
  {
   "cell_type": "code",
   "execution_count": 6,
   "id": "0a619232",
   "metadata": {
    "ExecuteTime": {
     "end_time": "2024-01-23T10:23:28.718481Z",
     "start_time": "2024-01-23T10:23:27.559346Z"
    }
   },
   "outputs": [
    {
     "name": "stdout",
     "output_type": "stream",
     "text": [
      "0.0018631347998965691\n",
      "0.9618753858624114\n",
      "0.6434275406482299\n",
      "1.1565714322014395\n"
     ]
    },
    {
     "data": {
      "image/png": "[encoded data removed]",
      "text/plain": [
       "<Figure size 216x216 with 1 Axes>"
      ]
     },
     "metadata": {
      "needs_background": "light"
     },
     "output_type": "display_data"
    }
   ],
   "source": [
    "plt.figure(figsize=(3, 3))\n",
    "\n",
    "d = dat[(dat[\"Flow\"] == \"Human\") & (dat[\"Species\"] == \"Human\")]\n",
    "xs, ys = d[\"MappedHuman\"], d[\"MappedMouse\"]\n",
    "xs, ys = xs / 1e3, ys / 1e3\n",
    "rs = (np.min([xs, ys], axis=0) / (xs + ys)) * 100\n",
    "print(np.mean(rs))\n",
    "plt.scatter(xs, ys, label=\"Human (%d)\" % len(xs), color=\"C0\")\n",
    "\n",
    "d = dat[(dat[\"Flow\"] == \"Mouse\") & (dat[\"Species\"] == \"Mouse\")]\n",
    "xs, ys = d[\"MappedHuman\"], d[\"MappedMouse\"]\n",
    "xs, ys = xs / 1e3, ys / 1e3\n",
    "rs = (np.min([xs, ys], axis=0) / (xs + ys)) * 100\n",
    "print(np.mean(rs))\n",
    "plt.scatter(xs, ys, label=\"Mouse (%d)\" % len(xs), color=\"C1\")\n",
    "\n",
    "d = dat[(dat[\"Flow\"] == \"Mixed\") & (dat[\"Species\"] == \"Human\")]\n",
    "xs, ys = d[\"MappedHuman\"], d[\"MappedMouse\"]\n",
    "xs, ys = xs / 1e3, ys / 1e3\n",
    "rs = (np.min([xs, ys], axis=0) / (xs + ys)) * 100\n",
    "print(np.mean(rs))\n",
    "plt.scatter(xs, ys, label=\"Mixed-Human (%d)\" % len(xs), marker=\"^\", color=\"C2\")\n",
    "\n",
    "d = dat[(dat[\"Flow\"] == \"Mixed\") & (dat[\"Species\"] == \"Mouse\")]\n",
    "xs, ys = d[\"MappedHuman\"], d[\"MappedMouse\"]\n",
    "xs, ys = xs / 1e3, ys / 1e3\n",
    "rs = (np.min([xs, ys], axis=0) / (xs + ys)) * 100\n",
    "print(np.mean(rs))\n",
    "plt.scatter(xs, ys, label=\"Mixed-Mouse (%d)\" % len(xs), marker=\"^\", color=\"C3\")\n",
    "\n",
    "plt.axvline(0, ls=\"--\", lw=1, color=\"grey\")\n",
    "plt.axhline(0, ls=\"--\", lw=1, color=\"grey\")\n",
    "\n",
    "plt.xlabel(\"Reads mapped to GRCh38 (10$^3$)\")\n",
    "plt.ylabel(\"Reads mapped to GRCm38 (10$^3$)\")\n",
    "plt.xlim(-50, 750)\n",
    "plt.ylim(-50, 750)\n",
    "plt.legend()\n",
    "plt.tight_layout()\n",
    "plt.savefig(\"figures/cross_species.pdf\", dpi=300)"
   ]
  },
  {
   "cell_type": "code",
   "execution_count": null,
   "id": "b728d81c",
   "metadata": {},
   "outputs": [],
   "source": []
  }
 ],
 "metadata": {
  "kernelspec": {
   "display_name": "Python 3",
   "language": "python",
   "name": "python3"
  },
  "language_info": {
   "codemirror_mode": {
    "name": "ipython",
    "version": 3
   },
   "file_extension": ".py",
   "mimetype": "text/x-python",
   "name": "python",
   "nbconvert_exporter": "python",
   "pygments_lexer": "ipython3",
   "version": "3.6.15"
  }
 },
 "nbformat": 4,
 "nbformat_minor": 5
}
