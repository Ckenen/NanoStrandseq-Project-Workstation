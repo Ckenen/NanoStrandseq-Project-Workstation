{
 "cells": [
  {
   "cell_type": "markdown",
   "id": "84166fb1",
   "metadata": {},
   "source": [
    "# Distribution of fragment length\n",
    "\n",
    "NanoStrand-seq can generate longer reads than Strand-seq. \n",
    "\n",
    "In this notebook, we analysis the fragment length (mapped region, excluded linker sequences) of all cells from one flow-cell."
   ]
  },
  {
   "cell_type": "code",
   "execution_count": 1,
   "id": "ddceeb3a",
   "metadata": {
    "ExecuteTime": {
     "end_time": "2024-01-25T09:09:29.230091Z",
     "start_time": "2024-01-25T09:09:28.470019Z"
    }
   },
   "outputs": [],
   "source": [
    "import glob\n",
    "import gzip\n",
    "import numpy as np\n",
    "import pandas as pd\n",
    "import matplotlib.pyplot as plt"
   ]
  },
  {
   "cell_type": "code",
   "execution_count": 2,
   "id": "e9c1100f",
   "metadata": {
    "ExecuteTime": {
     "end_time": "2024-01-25T09:09:53.680000Z",
     "start_time": "2024-01-25T09:09:29.233566Z"
    }
   },
   "outputs": [],
   "source": [
    "run = \"20220708_GM12878\"\n",
    "\n",
    "lengths = []\n",
    "for path in glob.glob(\"../../1_NanoStrandSeq/results/stat/lengths/%s/*.tsv.gz\" % run):\n",
    "    with gzip.open(path, \"rt\") as f:\n",
    "        for i, line in enumerate(f):\n",
    "            if i == 0:\n",
    "                continue\n",
    "            name, length = line.strip(\"\\n\").split(\"\\t\")\n",
    "            lengths.append(int(length))\n",
    "lengths.sort()"
   ]
  },
  {
   "cell_type": "code",
   "execution_count": 8,
   "id": "0f48af89",
   "metadata": {
    "ExecuteTime": {
     "end_time": "2024-01-25T09:16:52.330396Z",
     "start_time": "2024-01-25T09:16:52.310867Z"
    }
   },
   "outputs": [
    {
     "name": "stdout",
     "output_type": "stream",
     "text": [
      "No.\tIndex\tLength\n",
      "------------------------------\n",
      "0.0\t0\t98\n",
      "0.1\t991782\t1359\n",
      "0.2\t1983565\t1591\n",
      "0.3\t2975348\t1825\n",
      "0.4\t3967131\t2077\n",
      "0.5\t4958914\t2361\n",
      "0.6\t5950697\t2701\n",
      "0.7\t6942480\t3134\n",
      "0.8\t7934263\t3749\n",
      "0.9\t8926046\t4829\n"
     ]
    }
   ],
   "source": [
    "print(\"No.\\tIndex\\tLength\")\n",
    "print(\"-\" * 30)\n",
    "for i in np.arange(0, 1, 0.1):\n",
    "    n = int(len(lengths) * i)\n",
    "    v = lengths[n]\n",
    "    print(round(i, 1), n, v, sep=\"\\t\")\n",
    "    if i == 0.9:\n",
    "        v90 = v"
   ]
  },
  {
   "cell_type": "code",
   "execution_count": 9,
   "id": "eb9c5b9e",
   "metadata": {
    "ExecuteTime": {
     "end_time": "2024-01-25T09:22:06.999096Z",
     "start_time": "2024-01-25T09:22:06.116990Z"
    }
   },
   "outputs": [
    {
     "name": "stdout",
     "output_type": "stream",
     "text": [
      "Mean of top 10%: 6334.868107104182\n",
      "Median of top 10%: 5909.0\n"
     ]
    }
   ],
   "source": [
    "print(\"Mean of top 10%:\", np.mean(lengths[-int(len(lengths) * 0.1):]))\n",
    "print(\"Median of top 10%:\", np.median(lengths[-int(len(lengths) * 0.1):]))"
   ]
  },
  {
   "cell_type": "code",
   "execution_count": 10,
   "id": "816ec7af",
   "metadata": {
    "ExecuteTime": {
     "end_time": "2024-01-25T09:22:17.468636Z",
     "start_time": "2024-01-25T09:22:14.415896Z"
    }
   },
   "outputs": [
    {
     "name": "stdout",
     "output_type": "stream",
     "text": [
      "N50: 3134\n"
     ]
    }
   ],
   "source": [
    "s1 = sum(lengths) / 2\n",
    "s2 = 0\n",
    "n50 = 0\n",
    "for v in lengths:\n",
    "    s2 += v\n",
    "    if s2 >= s1:\n",
    "        n50 = v\n",
    "        break\n",
    "print(\"N50:\", n50)"
   ]
  },
  {
   "cell_type": "code",
   "execution_count": 11,
   "id": "26da9d50",
   "metadata": {
    "ExecuteTime": {
     "end_time": "2024-01-25T09:22:55.389953Z",
     "start_time": "2024-01-25T09:22:36.234653Z"
    }
   },
   "outputs": [
    {
     "name": "stdout",
     "output_type": "stream",
     "text": [
      "Mean: 2794.8831794740563\n",
      "Median: 2361.0\n"
     ]
    }
   ],
   "source": [
    "maxlen = 6000\n",
    "wbin = 100\n",
    "nbin = int(maxlen / wbin)\n",
    "xs = np.arange(nbin) * wbin + wbin / 2\n",
    "ys = np.zeros(nbin)\n",
    "for v in lengths:\n",
    "    i = int(v/wbin)\n",
    "    if i < nbin:\n",
    "        ys[i] += 1\n",
    "ys = ys / max(ys)\n",
    "mean = np.mean(lengths)\n",
    "median = np.median(lengths)\n",
    "print(\"Mean:\", mean)\n",
    "print(\"Median:\", median)"
   ]
  },
  {
   "cell_type": "code",
   "execution_count": 12,
   "id": "e72017a4",
   "metadata": {
    "ExecuteTime": {
     "end_time": "2024-01-25T09:23:57.449500Z",
     "start_time": "2024-01-25T09:23:56.860694Z"
    }
   },
   "outputs": [
    {
     "data": {
      "image/png": "[encoded data removed]",
      "text/plain": [
       "<Figure size 230.4x230.4 with 1 Axes>"
      ]
     },
     "metadata": {
      "needs_background": "light"
     },
     "output_type": "display_data"
    }
   ],
   "source": [
    "plt.figure(figsize=(3.2, 3.2))\n",
    "plt.plot(xs, ys, color=\"black\", clip_on=False, lw=1)\n",
    "plt.gca().fill_between(xs, ys, 0, alpha=0.1, color=\"black\", clip_on=False)\n",
    "plt.plot([mean, mean], [0, 0.9], ls=\"--\", lw=1, color=\"C1\")\n",
    "plt.text(mean + 100, 0.8, \"Mean=%s\" % format(int(mean), \",\"), color=\"C1\", rotation=0)\n",
    "plt.plot([median, median], [0, 1], ls=\"--\", lw=1, color=\"C0\")\n",
    "plt.text(median + 100, 0.95, \"Median=%s\" % format(int(median), \",\"), color=\"C0\")\n",
    "plt.text(4500, 0.6, \"N50=%s\" % format(n50, \",\"))\n",
    "plt.gca().spines[\"top\"].set_visible(False)\n",
    "plt.gca().spines[\"right\"].set_visible(False)\n",
    "xs1 = np.arange(0, maxlen + 1, 2000)\n",
    "plt.xticks(xs1, [format(x, \",\") for x in xs1])\n",
    "plt.xlim(0, maxlen)\n",
    "plt.ylim(0, 1)\n",
    "plt.xlabel(\"Fragment length (nt)\")\n",
    "plt.ylabel(\"Scaled density\")\n",
    "plt.tight_layout()\n",
    "plt.savefig(\"figures/mapped_length_distribution.%s.pdf\" % run, dpi=300)"
   ]
  }
 ],
 "metadata": {
  "kernelspec": {
   "display_name": "Python 3",
   "language": "python",
   "name": "python3"
  },
  "language_info": {
   "codemirror_mode": {
    "name": "ipython",
    "version": 3
   },
   "file_extension": ".py",
   "mimetype": "text/x-python",
   "name": "python",
   "nbconvert_exporter": "python",
   "pygments_lexer": "ipython3",
   "version": "3.6.15"
  }
 },
 "nbformat": 4,
 "nbformat_minor": 5
}
