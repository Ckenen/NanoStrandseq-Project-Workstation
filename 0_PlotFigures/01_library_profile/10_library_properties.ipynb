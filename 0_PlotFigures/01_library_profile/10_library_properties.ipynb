{
 "cells": [
  {
   "cell_type": "code",
   "execution_count": 1,
   "id": "ddceeb3a",
   "metadata": {
    "ExecuteTime": {
     "end_time": "2024-02-02T12:00:18.108641Z",
     "start_time": "2024-02-02T12:00:14.217214Z"
    }
   },
   "outputs": [],
   "source": [
    "import os, glob, re, random, gzip, json, pysam\n",
    "from collections import Counter, defaultdict, OrderedDict\n",
    "import numpy as np\n",
    "import pandas as pd\n",
    "import matplotlib\n",
    "import matplotlib.pyplot as plt\n",
    "from matplotlib.gridspec import GridSpec\n",
    "import matplotlib.patches as mpatches\n",
    "import seaborn as sns\n",
    "from matplotlib.colors import LinearSegmentedColormap"
   ]
  },
  {
   "cell_type": "markdown",
   "id": "8b55580b",
   "metadata": {},
   "source": [
    "# Paternal reads proportion"
   ]
  },
  {
   "cell_type": "code",
   "execution_count": 2,
   "id": "61a0e30f",
   "metadata": {
    "ExecuteTime": {
     "end_time": "2024-01-24T11:08:13.189616Z",
     "start_time": "2024-01-24T11:08:09.278666Z"
    }
   },
   "outputs": [],
   "source": [
    "names = [\"Strand-seq\", \"OP-Strand-seq\", \"NanoStrand-seq\"]\n",
    "cs = [\"Paternal\", \"Maternal\", \"Ambiguous\", \"Other\", \"Unknown\"]\n",
    "data = dict()\n",
    "\n",
    "for name in names:\n",
    "    cells = pd.read_csv(\"data/%s.qc_pass.tsv\" % name, sep=\"\\t\")[\"Cell\"]\n",
    "    rows = []\n",
    "    for cell in cells:\n",
    "        run = cell.split(\".\")[0]\n",
    "        path = \"../../1_NanoStrandSeq/results/mapping/mark_parental/%s/%s.log\" % (run, cell)\n",
    "        if not os.path.exists(path):\n",
    "            path = \"../../2_StrandSeq/results/mapping/mark_parental/%s/%s.log\" % (run, cell)\n",
    "        d = dict()\n",
    "        with open(path) as f:\n",
    "            for line in f:\n",
    "                if line.startswith(\"[W::hts_idx_load3]\"):\n",
    "                    continue\n",
    "                k, v = line.strip(\"\\n\").split()[:2]\n",
    "                v = int(v)\n",
    "                k = k[:-1]\n",
    "                d[k] = v\n",
    "        row = [cell, d[\"Total\"], d[\"Paternal\"], d[\"Maternal\"], d[\"Ambiguous\"], d[\"Other\"]]\n",
    "        rows.append(row)\n",
    "    dat = pd.DataFrame(rows)\n",
    "    dat.columns = [\"Cell\", \"Total\", \"Paternal\", \"Maternal\", \"Ambiguous\", \"Other\"]\n",
    "    dat[\"Unknown\"] = dat[\"Total\"] - dat[\"Paternal\"] - dat[\"Maternal\"] - dat[\"Ambiguous\"] - dat[\"Other\"]\n",
    "    \n",
    "    for c in cs:\n",
    "        dat[\"%s(%%)\" % c] = dat[c] * 100 / dat[\"Total\"]\n",
    "    \n",
    "    data[name] = dat"
   ]
  },
  {
   "cell_type": "code",
   "execution_count": 3,
   "id": "d773cca8",
   "metadata": {
    "ExecuteTime": {
     "end_time": "2024-01-24T11:08:16.952677Z",
     "start_time": "2024-01-24T11:08:16.039130Z"
    }
   },
   "outputs": [
    {
     "name": "stdout",
     "output_type": "stream",
     "text": [
      "Strand-seq\n",
      "OP-Strand-seq\n",
      "NanoStrand-seq\n"
     ]
    },
    {
     "data": {
      "image/png": "[encoded data removed]",
      "text/plain": [
       "<Figure size 828x216 with 3 Axes>"
      ]
     },
     "metadata": {
      "needs_background": "light"
     },
     "output_type": "display_data"
    }
   ],
   "source": [
    "fig, axs = plt.subplots(1, 3, figsize=(11.5, 3), sharex=True, sharey=True)\n",
    "\n",
    "for i, name in enumerate(names):\n",
    "    print(name)\n",
    "    \n",
    "    dat = data[name]\n",
    "    \n",
    "    plt.sca(axs[i])\n",
    "    \n",
    "    d = dat[dat.columns[-5:]]\n",
    "    ys = d.mean(axis=0)\n",
    "    yerr = d.std(axis=0)\n",
    "    xs = np.arange(len(ys))\n",
    "    \n",
    "    plt.title(name)\n",
    "    plt.bar(xs, ys, yerr=yerr, edgecolor=\"black\", color=[\"C0\", \"C1\", \"grey\", \"grey\", \"grey\"], width=0.4,\n",
    "            error_kw={\"capsize\": 5, \"lw\": 1})\n",
    "    plt.text(0, 90, \"N = %d\" % len(dat))\n",
    "    plt.xticks(xs, cs, rotation=30)\n",
    "    plt.ylim(0, 100)\n",
    "    if i == 0:\n",
    "        plt.ylabel(\"%s of reads\")\n",
    "    plt.xlabel(\"Parental reads (annotated by GIAB)\")\n",
    "    plt.gca().spines[\"top\"].set_visible(False)\n",
    "    plt.gca().spines[\"right\"].set_visible(False)\n",
    "\n",
    "plt.tight_layout()\n",
    "plt.savefig(\"figures/parental_of_reads.comparison.pdf\", dpi=300)"
   ]
  },
  {
   "cell_type": "markdown",
   "id": "b57a90bf",
   "metadata": {},
   "source": [
    "## Mouse"
   ]
  },
  {
   "cell_type": "code",
   "execution_count": 4,
   "id": "874003fa",
   "metadata": {
    "ExecuteTime": {
     "end_time": "2024-01-24T11:08:33.947433Z",
     "start_time": "2024-01-24T11:08:31.998402Z"
    }
   },
   "outputs": [],
   "source": [
    "names = [\"NanoStrand-seq.MM\"]\n",
    "cs = [\"Paternal\", \"Maternal\", \"Ambiguous\", \"Other\", \"Unknown\"]\n",
    "data = dict()\n",
    "\n",
    "for name in names:\n",
    "    cells = pd.read_csv(\"data/%s.qc_pass.tsv\" % name, sep=\"\\t\")[\"Cell\"]\n",
    "    rows = []\n",
    "    for cell in cells:\n",
    "        run = cell.split(\".\")[0]\n",
    "        path = \"../../1_NanoStrandSeq/results/mapping/mark_parental/%s/%s.log\" % (run, cell)\n",
    "        if not os.path.exists(path):\n",
    "            path = \"../../2_StrandSeq/results/mapping/mark_parental/%s/%s.log\" % (run, cell)\n",
    "        d = dict()\n",
    "        with open(path) as f:\n",
    "            for line in f:\n",
    "                if line.startswith(\"[W::hts_idx_load3]\"):\n",
    "                    continue\n",
    "                k, v = line.strip(\"\\n\").split()[:2]\n",
    "                v = int(v)\n",
    "                k = k[:-1]\n",
    "                d[k] = v\n",
    "        row = [cell, d[\"Total\"], d[\"Paternal\"], d[\"Maternal\"], d[\"Ambiguous\"], d[\"Other\"]]\n",
    "        rows.append(row)\n",
    "    dat = pd.DataFrame(rows)\n",
    "    dat.columns = [\"Cell\", \"Total\", \"Paternal\", \"Maternal\", \"Ambiguous\", \"Other\"]\n",
    "    dat[\"Unknown\"] = dat[\"Total\"] - dat[\"Paternal\"] - dat[\"Maternal\"] - dat[\"Ambiguous\"] - dat[\"Other\"]\n",
    "    \n",
    "    for c in cs:\n",
    "        dat[\"%s(%%)\" % c] = dat[c] * 100 / dat[\"Total\"]\n",
    "    \n",
    "    data[name] = dat"
   ]
  },
  {
   "cell_type": "code",
   "execution_count": 5,
   "id": "63a928ff",
   "metadata": {
    "ExecuteTime": {
     "end_time": "2024-01-24T11:08:34.328586Z",
     "start_time": "2024-01-24T11:08:33.951464Z"
    }
   },
   "outputs": [
    {
     "data": {
      "image/png": "[encoded data removed]",
      "text/plain": [
       "<Figure size 216x216 with 1 Axes>"
      ]
     },
     "metadata": {
      "needs_background": "light"
     },
     "output_type": "display_data"
    }
   ],
   "source": [
    "plt.figure(figsize=(3, 3))\n",
    "\n",
    "dat = data[\"NanoStrand-seq.MM\"]\n",
    "\n",
    "\n",
    "d = dat[dat.columns[-5:]]\n",
    "ys = d.mean(axis=0)\n",
    "yerr = d.std(axis=0)\n",
    "xs = np.arange(len(ys))\n",
    "\n",
    "plt.title(\"NanoStrand-seq (mouse)\")\n",
    "plt.bar(xs, ys, yerr=yerr, edgecolor=\"black\", color=[\"C0\", \"C1\", \"grey\", \"grey\", \"grey\"], width=0.4,\n",
    "        error_kw={\"capsize\": 5, \"lw\": 1})\n",
    "plt.text(0, 90, \"N = %d\" % len(dat))\n",
    "plt.xticks(xs, cs, rotation=30)\n",
    "plt.ylim(0, 100)\n",
    "plt.ylabel(\"%s of reads\")\n",
    "plt.xlabel(\"Parental reads (annotated by MGP)\")\n",
    "plt.gca().spines[\"top\"].set_visible(False)\n",
    "plt.gca().spines[\"right\"].set_visible(False)\n",
    "\n",
    "plt.tight_layout()\n",
    "plt.savefig(\"figures/parental_of_reads.mouse.pdf\", dpi=300)"
   ]
  },
  {
   "cell_type": "markdown",
   "id": "4f1264c7",
   "metadata": {},
   "source": [
    "# Heatmap of crick proportion"
   ]
  },
  {
   "cell_type": "code",
   "execution_count": 2,
   "id": "6b91b538",
   "metadata": {
    "ExecuteTime": {
     "end_time": "2024-02-02T12:00:19.854798Z",
     "start_time": "2024-02-02T12:00:19.767948Z"
    }
   },
   "outputs": [],
   "source": [
    "name = \"NanoStrand-seq\"\n",
    "chroms = [\"chr%d\" % c for c in range(1, 23)] + [\"chrX\", \"chrY\"]\n",
    "dat = pd.read_csv(\"results/%s.qc_pass.tsv\" % name, sep=\"\\t\")\n",
    "dat = dat.sort_values(by=\"Background\").head(50)"
   ]
  },
  {
   "cell_type": "code",
   "execution_count": 3,
   "id": "dd132460",
   "metadata": {
    "ExecuteTime": {
     "end_time": "2024-02-02T12:00:23.781492Z",
     "start_time": "2024-02-02T12:00:20.879780Z"
    }
   },
   "outputs": [],
   "source": [
    "rows = []\n",
    "for cell in dat[\"Cell\"]:\n",
    "    path = \"../../1_NanoStrandSeq/results/counts/stat_bin_reads/%s/%s.tsv\" % (cell.split(\".\")[0], cell)\n",
    "    df = pd.read_csv(path, sep=\"\\t\")\n",
    "    row = []\n",
    "    for chrom in chroms:\n",
    "        df1 = df[df[\"Chrom\"] == chrom]\n",
    "        c1, c2 = df1[\"Crick\"].sum(), df1[\"Watson\"].sum()\n",
    "        p = np.divide(c1, (c1 + c2))\n",
    "        row.append(p)\n",
    "    rows.append(row)\n",
    "d = pd.DataFrame(rows, index=dat[\"Cell\"], columns=chroms)"
   ]
  },
  {
   "cell_type": "code",
   "execution_count": 4,
   "id": "f627bcea",
   "metadata": {
    "ExecuteTime": {
     "end_time": "2024-02-02T12:00:33.843957Z",
     "start_time": "2024-02-02T12:00:32.192024Z"
    }
   },
   "outputs": [
    {
     "data": {
      "image/png": "[encoded data removed]",
      "text/plain": [
       "<Figure size 828x396 with 2 Axes>"
      ]
     },
     "metadata": {
      "needs_background": "light"
     },
     "output_type": "display_data"
    }
   ],
   "source": [
    "d = d[list(filter(lambda item: item != \"chrY\", d.columns))]\n",
    "cmap = LinearSegmentedColormap.from_list('chaos', [\"C1\", \"white\", \"C0\"])\n",
    "\n",
    "plt.figure(figsize=(11.5, 5.5))\n",
    "plt.title(\"%d cells of %s\" % (len(d), name))\n",
    "sns.heatmap(d.T, cmap=cmap, vmin=0, vmax=1,\n",
    "            cbar_kws={\"label\": \"Proprotion of Crick reads\", \"fraction\": 0.05, \"aspect\": 10, \"panchor\": (1, 1)})\n",
    "xs = np.arange(0, 50 + 1, 5)\n",
    "plt.xticks(xs, xs, rotation=0)\n",
    "plt.gca().spines[\"top\"].set_visible(True)\n",
    "plt.gca().spines[\"bottom\"].set_visible(True)\n",
    "plt.gca().spines[\"left\"].set_visible(True)\n",
    "plt.gca().spines[\"right\"].set_visible(True)\n",
    "plt.xlabel(\"Index of 50 cells\")\n",
    "plt.ylabel(\"Chromosomes\")\n",
    "plt.tight_layout()\n",
    "plt.savefig(\"figures/heatmap_of_crick_proportion.%s.pdf\" % name, dpi=300)"
   ]
  },
  {
   "cell_type": "code",
   "execution_count": null,
   "id": "545c55f6",
   "metadata": {},
   "outputs": [],
   "source": []
  }
 ],
 "metadata": {
  "kernelspec": {
   "display_name": "Python 3",
   "language": "python",
   "name": "python3"
  },
  "language_info": {
   "codemirror_mode": {
    "name": "ipython",
    "version": 3
   },
   "file_extension": ".py",
   "mimetype": "text/x-python",
   "name": "python",
   "nbconvert_exporter": "python",
   "pygments_lexer": "ipython3",
   "version": "3.6.15"
  }
 },
 "nbformat": 4,
 "nbformat_minor": 5
}
