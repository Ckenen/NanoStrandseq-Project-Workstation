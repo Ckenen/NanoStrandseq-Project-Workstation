{
 "cells": [
  {
   "cell_type": "code",
   "execution_count": 1,
   "id": "24c7898b",
   "metadata": {
    "ExecuteTime": {
     "end_time": "2023-09-27T02:18:49.284944Z",
     "start_time": "2023-09-27T02:18:43.304092Z"
    }
   },
   "outputs": [],
   "source": [
    "import os, glob, re, random, gzip, pysam, pyBigWig\n",
    "import json\n",
    "from collections import Counter, defaultdict\n",
    "import numpy as np\n",
    "import pandas as pd\n",
    "import matplotlib\n",
    "import matplotlib.pyplot as plt\n",
    "from matplotlib.gridspec import GridSpec\n",
    "import matplotlib.patches as mpatches\n",
    "from matplotlib_venn import *\n",
    "import seaborn as sns\n",
    "from pyBioInfo.Range import GRange\n",
    "from pyBioInfo.IO.File import BedFile\n",
    "from pyBioInfo.Utils import ShiftLoader"
   ]
  },
  {
   "cell_type": "markdown",
   "id": "7725603f",
   "metadata": {
    "heading_collapsed": true
   },
   "source": [
    "# Benchmark of SNVs for duplicates flag +/-"
   ]
  },
  {
   "cell_type": "code",
   "execution_count": 2,
   "id": "2a6f0d29",
   "metadata": {
    "ExecuteTime": {
     "end_time": "2023-05-18T08:21:04.716359Z",
     "start_time": "2023-05-18T08:21:04.535685Z"
    },
    "hidden": true
   },
   "outputs": [],
   "source": [
    "sources = [\"NanoSSCell\", \"NanoSSCell_RmDupFlag\"]\n",
    "repeats = [1, 2]\n",
    "covs = [5, 10, 15, 20, 25, 30, 40, 50, 60, 70, 80]\n",
    "\n",
    "data = dict()\n",
    "for s in sources:\n",
    "    for r in repeats:\n",
    "        for c in covs:\n",
    "            path = \"../../6_SNV_SV_Comparison/results/snvs/benchmark/nanocaller/%s.cov%d-r%d.txt\" % (s, c, r)\n",
    "            d = pd.read_csv(path, sep=\"\\t\")\n",
    "            data[(s, c, r)] = d"
   ]
  },
  {
   "cell_type": "code",
   "execution_count": 3,
   "id": "9d01e63f",
   "metadata": {
    "ExecuteTime": {
     "end_time": "2023-05-18T08:21:11.360339Z",
     "start_time": "2023-05-18T08:21:10.289437Z"
    },
    "hidden": true
   },
   "outputs": [
    {
     "data": {
      "image/png": "[encoded data removed]",
      "text/plain": [
       "<Figure size 648x216 with 3 Axes>"
      ]
     },
     "metadata": {
      "needs_background": "light"
     },
     "output_type": "display_data"
    }
   ],
   "source": [
    "fig, axs = plt.subplots(1, 3, figsize=(9, 3), sharex=True, sharey=True)\n",
    "\n",
    "xs = np.arange(len(covs))\n",
    "xticks = list(map(str, covs))\n",
    "\n",
    "for i, name in enumerate([\"Precision\", \"Recall\", \"F1\"]):\n",
    "    plt.sca(axs[i])\n",
    "    title = name\n",
    "    if name == \"F1\":\n",
    "        title = \"F1 score\"\n",
    "    plt.title(title)\n",
    "    for s in sources:\n",
    "        rows = []\n",
    "        for c in covs:\n",
    "            row = []\n",
    "            for r in repeats:\n",
    "                d = data[(s, c, r)]\n",
    "                v = d[name].values[0]\n",
    "                row.append(v)\n",
    "            rows.append(row)\n",
    "        d = pd.DataFrame(rows)\n",
    "        d.index = covs\n",
    "        d.columns = repeats\n",
    "        ys = d.mean(axis=1)\n",
    "        yerr = d.std(axis=1)\n",
    "        label = s\n",
    "        if s == \"NanoSSCell\":\n",
    "            label = \"Duplicates flag (+)\"\n",
    "        else:\n",
    "            label = \"Duplicates flag (-)\"\n",
    "        plt.errorbar(xs, ys, yerr=yerr, capsize=5, label=label, marker=\"o\")\n",
    "    plt.xlim(min(xs) - 0.5, max(xs) + 0.5)\n",
    "    plt.ylim(-0.05, 1.05)\n",
    "    plt.xlabel(\"Depth of coverage\")\n",
    "    if i == 0:\n",
    "        plt.ylabel(\"Benchmark of HET SNVs\")\n",
    "    plt.xticks(xs, xticks)\n",
    "    if i == 2:\n",
    "        plt.legend(loc=\"upper left\", bbox_to_anchor=(1, 1), frameon=False)\n",
    "plt.tight_layout()\n",
    "plt.savefig(\"figures/benchmark_het_snv.duplicate_flag.pdf\", dpi=300)"
   ]
  },
  {
   "cell_type": "markdown",
   "id": "61451a07",
   "metadata": {},
   "source": [
    "# Benchmark SNVs for NanoStrand-seq, ONT-UL and PB-CCS"
   ]
  },
  {
   "cell_type": "markdown",
   "id": "646866a6",
   "metadata": {},
   "source": [
    "## 1. Benchmark of SNP for full depth"
   ]
  },
  {
   "cell_type": "code",
   "execution_count": 2,
   "id": "0f7b05a3",
   "metadata": {
    "ExecuteTime": {
     "end_time": "2023-09-26T04:16:09.727653Z",
     "start_time": "2023-09-26T04:16:09.514543Z"
    }
   },
   "outputs": [
    {
     "data": {
      "text/html": [
       "<div>\n",
       "<style scoped>\n",
       "    .dataframe tbody tr th:only-of-type {\n",
       "        vertical-align: middle;\n",
       "    }\n",
       "\n",
       "    .dataframe tbody tr th {\n",
       "        vertical-align: top;\n",
       "    }\n",
       "\n",
       "    .dataframe thead th {\n",
       "        text-align: right;\n",
       "    }\n",
       "</style>\n",
       "<table border=\"1\" class=\"dataframe\">\n",
       "  <thead>\n",
       "    <tr style=\"text-align: right;\">\n",
       "      <th></th>\n",
       "      <th>Recall</th>\n",
       "      <th>Precision</th>\n",
       "      <th>F1</th>\n",
       "    </tr>\n",
       "  </thead>\n",
       "  <tbody>\n",
       "    <tr>\n",
       "      <th>PacBio.full</th>\n",
       "      <td>0.993303</td>\n",
       "      <td>0.997929</td>\n",
       "      <td>0.995611</td>\n",
       "    </tr>\n",
       "    <tr>\n",
       "      <th>Ultralong.full</th>\n",
       "      <td>0.912280</td>\n",
       "      <td>0.961036</td>\n",
       "      <td>0.936023</td>\n",
       "    </tr>\n",
       "    <tr>\n",
       "      <th>NSS.full</th>\n",
       "      <td>0.795579</td>\n",
       "      <td>0.989981</td>\n",
       "      <td>0.882197</td>\n",
       "    </tr>\n",
       "  </tbody>\n",
       "</table>\n",
       "</div>"
      ],
      "text/plain": [
       "                  Recall  Precision        F1\n",
       "PacBio.full     0.993303   0.997929  0.995611\n",
       "Ultralong.full  0.912280   0.961036  0.936023\n",
       "NSS.full        0.795579   0.989981  0.882197"
      ]
     },
     "execution_count": 2,
     "metadata": {},
     "output_type": "execute_result"
    }
   ],
   "source": [
    "sources = [\"PacBio.full\", \"Ultralong.full\", \"NSS.full\"]\n",
    "\n",
    "rows = []\n",
    "for i, s in enumerate(sources):\n",
    "    path = \"../../nss-pseudobulk-analysis/results/snvs/benchmark/nanocaller/%s.json\" % s\n",
    "    data = json.load(open(path))\n",
    "    r = data[\"Het_SNP_Recall\"]\n",
    "    p = data[\"Het_SNP_Precision\"]\n",
    "    f = data[\"Het_SNP_F1\"]\n",
    "    rows.append([r, p, f])\n",
    "d = pd.DataFrame(rows, columns = [\"Recall\", \"Precision\", \"F1\"], index=sources)\n",
    "d"
   ]
  },
  {
   "cell_type": "code",
   "execution_count": 4,
   "id": "c60deee9",
   "metadata": {
    "ExecuteTime": {
     "end_time": "2023-09-26T04:16:35.117594Z",
     "start_time": "2023-09-26T04:16:34.682870Z"
    },
    "scrolled": true
   },
   "outputs": [
    {
     "data": {
      "image/png": "[encoded data removed]",
      "text/plain": [
       "<Figure size 273.6x216 with 1 Axes>"
      ]
     },
     "metadata": {
      "needs_background": "light"
     },
     "output_type": "display_data"
    }
   ],
   "source": [
    "ticks = [\"Bulk PB-CCS\\n(28.15x)\", \"Bulk ONT-UL\\n(34.30x)\", \"NanoStrand-seq\\n(364 cells, 102.03x)\"]\n",
    "legends = [\"Recall\", \"Precision\", \"F1 score\"]\n",
    "colors = [\"C6\", \"C8\", \"C9\"]\n",
    "\n",
    "xs = np.arange(3)\n",
    "\n",
    "plt.figure(figsize=(3.8, 3))\n",
    "\n",
    "w = 0.15\n",
    "\n",
    "for i in range(3):\n",
    "    ys = np.array(d[d.columns[i]].values)\n",
    "    plt.bar(xs + i * w - w, ys, width=w, edgecolor=\"black\", label=legends[i], color=colors[i], clip_on=True)\n",
    "\n",
    "plt.ylabel(\"Benchmark of GIAB hetSNPs\")\n",
    "plt.xticks(xs, ticks, rotation=0)\n",
    "ax = plt.gca().spines[\"top\"].set_visible(False)\n",
    "ax = plt.gca().spines[\"right\"].set_visible(False)\n",
    "plt.ylim(0, 1)\n",
    "plt.legend(loc=\"lower left\", bbox_to_anchor=(0, 1.02), ncol=3, handlelength=1, frameon=False)\n",
    "plt.tight_layout()\n",
    "plt.savefig(\"figures/benchmark_het_snv.full.pdf\", dpi=300)"
   ]
  },
  {
   "cell_type": "markdown",
   "id": "e09a7dcc",
   "metadata": {},
   "source": [
    "## 2. Benchmark of SNP for downsample depth"
   ]
  },
  {
   "cell_type": "code",
   "execution_count": 19,
   "id": "5284f76e",
   "metadata": {
    "ExecuteTime": {
     "end_time": "2023-09-27T02:27:11.496259Z",
     "start_time": "2023-09-27T02:27:11.393504Z"
    },
    "code_folding": []
   },
   "outputs": [
    {
     "data": {
      "text/html": [
       "<div>\n",
       "<style scoped>\n",
       "    .dataframe tbody tr th:only-of-type {\n",
       "        vertical-align: middle;\n",
       "    }\n",
       "\n",
       "    .dataframe tbody tr th {\n",
       "        vertical-align: top;\n",
       "    }\n",
       "\n",
       "    .dataframe thead th {\n",
       "        text-align: right;\n",
       "    }\n",
       "</style>\n",
       "<table border=\"1\" class=\"dataframe\">\n",
       "  <thead>\n",
       "    <tr style=\"text-align: right;\">\n",
       "      <th></th>\n",
       "      <th>Query</th>\n",
       "      <th>Depth</th>\n",
       "      <th>Repeat</th>\n",
       "      <th>Recall</th>\n",
       "      <th>Precision</th>\n",
       "      <th>F1</th>\n",
       "    </tr>\n",
       "  </thead>\n",
       "  <tbody>\n",
       "    <tr>\n",
       "      <th>0</th>\n",
       "      <td>PacBio</td>\n",
       "      <td>10</td>\n",
       "      <td>1</td>\n",
       "      <td>0.766038</td>\n",
       "      <td>0.997420</td>\n",
       "      <td>0.866549</td>\n",
       "    </tr>\n",
       "    <tr>\n",
       "      <th>1</th>\n",
       "      <td>PacBio</td>\n",
       "      <td>10</td>\n",
       "      <td>2</td>\n",
       "      <td>0.766954</td>\n",
       "      <td>0.997172</td>\n",
       "      <td>0.867041</td>\n",
       "    </tr>\n",
       "    <tr>\n",
       "      <th>2</th>\n",
       "      <td>PacBio</td>\n",
       "      <td>15</td>\n",
       "      <td>1</td>\n",
       "      <td>0.952197</td>\n",
       "      <td>0.997779</td>\n",
       "      <td>0.974455</td>\n",
       "    </tr>\n",
       "    <tr>\n",
       "      <th>3</th>\n",
       "      <td>PacBio</td>\n",
       "      <td>15</td>\n",
       "      <td>2</td>\n",
       "      <td>0.952409</td>\n",
       "      <td>0.997743</td>\n",
       "      <td>0.974549</td>\n",
       "    </tr>\n",
       "    <tr>\n",
       "      <th>4</th>\n",
       "      <td>PacBio</td>\n",
       "      <td>20</td>\n",
       "      <td>1</td>\n",
       "      <td>0.982536</td>\n",
       "      <td>0.997919</td>\n",
       "      <td>0.990168</td>\n",
       "    </tr>\n",
       "  </tbody>\n",
       "</table>\n",
       "</div>"
      ],
      "text/plain": [
       "    Query  Depth  Repeat    Recall  Precision        F1\n",
       "0  PacBio     10       1  0.766038   0.997420  0.866549\n",
       "1  PacBio     10       2  0.766954   0.997172  0.867041\n",
       "2  PacBio     15       1  0.952197   0.997779  0.974455\n",
       "3  PacBio     15       2  0.952409   0.997743  0.974549\n",
       "4  PacBio     20       1  0.982536   0.997919  0.990168"
      ]
     },
     "execution_count": 19,
     "metadata": {},
     "output_type": "execute_result"
    }
   ],
   "source": [
    "queries = [\"PacBio\", \"Ultralong\", \"NSS\"]\n",
    "covs = [10, 15, 20, 25, 30, 40, 50, 60, 70, 80, 90, 100]\n",
    "repeats = [1, 2]\n",
    "colors = [\"C0\", \"C1\", \"C3\"]\n",
    "\n",
    "rows = []\n",
    "for que in queries:\n",
    "    for cov in covs:\n",
    "        for r in repeats:\n",
    "            path = \"../../nss-pseudobulk-analysis/results/snvs/benchmark/nanocaller/%s.cov%d-r%s.json\" % (que, cov, r)\n",
    "            if os.path.exists(path):\n",
    "                d = json.load(open(path))\n",
    "                recall, precision, f1 = d[\"Het_SNP_Recall\"], d[\"Het_SNP_Precision\"], d[\"Het_SNP_F1\"]\n",
    "                rows.append([que, cov, r, recall, precision, f1])\n",
    "df = pd.DataFrame(rows)\n",
    "df.columns = [\"Query\", \"Depth\", \"Repeat\", \"Recall\", \"Precision\", \"F1\"]\n",
    "df.head()"
   ]
  },
  {
   "cell_type": "code",
   "execution_count": 28,
   "id": "b2c81c41",
   "metadata": {
    "ExecuteTime": {
     "end_time": "2023-09-27T02:29:52.652535Z",
     "start_time": "2023-09-27T02:29:51.400416Z"
    }
   },
   "outputs": [
    {
     "data": {
      "image/png": "[encoded data removed]",
      "text/plain": [
       "<Figure size 828x237.6 with 3 Axes>"
      ]
     },
     "metadata": {
      "needs_background": "light"
     },
     "output_type": "display_data"
    }
   ],
   "source": [
    "labels = [\"Bulk PB-CCS downsample\", \"Bulk ONT-UL downsample\", \"Merged NanoStrand-seq cells\"]\n",
    "fig, axs = plt.subplots(1, 3, figsize=(11.5, 3.3), sharex=True, sharey=True)\n",
    "\n",
    "for i in range(3):\n",
    "    plt.sca(axs[i])\n",
    "    \n",
    "    if i == 0:\n",
    "        column = \"Recall\"\n",
    "    elif i == 1:\n",
    "        column = \"Precision\"\n",
    "    else:\n",
    "        column = \"F1\"\n",
    "        \n",
    "    for j, que in enumerate(queries):\n",
    "        d = df[df[\"Query\"] == que]\n",
    "        m1 = d[\"Depth\"].values.reshape((-1, 2))\n",
    "        m2 = d[column].values.reshape((-1, 2))\n",
    "        xs = m1[:,0]\n",
    "        means = np.mean(m2, axis=1)\n",
    "        stds = np.std(m2, axis=1)\n",
    "        plt.errorbar(xs, means, yerr=stds, capsize=5, color=colors[j], label=labels[j], marker=\"o\")\n",
    "        \n",
    "    plt.xlim(5, 105)\n",
    "    plt.xticks(np.arange(10, 105, 10))\n",
    "    plt.xlabel(\"Depth of coverage\")\n",
    "    if i == 0:\n",
    "        plt.title(\"Recall\")\n",
    "        plt.ylabel(\"Benchmark of hetSNPs\")\n",
    "    elif i == 1:\n",
    "        plt.title(\"Precision\") \n",
    "    elif i == 2:\n",
    "        plt.title(\"F1 score\")\n",
    "    plt.ylim(-0.05, 1.05)\n",
    "    if i == 2:\n",
    "        plt.legend(loc=\"upper left\", bbox_to_anchor=(1, 1), frameon=False, handlelength=1)\n",
    "\n",
    "plt.tight_layout()\n",
    "plt.savefig(\"figures/benchmark_het_snv.downsample.pdf\", dpi=300)"
   ]
  },
  {
   "cell_type": "markdown",
   "id": "369f8780",
   "metadata": {},
   "source": [
    "# Compare 4 VCFs\n",
    "\n",
    "GIAB, PB-CCS, ONT-UL, NSS"
   ]
  },
  {
   "cell_type": "code",
   "execution_count": 16,
   "id": "79e6cb56",
   "metadata": {
    "ExecuteTime": {
     "end_time": "2023-09-26T04:39:19.860259Z",
     "start_time": "2023-09-26T04:31:09.638043Z"
    }
   },
   "outputs": [
    {
     "name": "stdout",
     "output_type": "stream",
     "text": [
      "Loading: ../../GRCh38-HG001-Variant-Calls/results/benchmark_autosomal_v4.2.1_chrx_v3.3.2.vcf.gz\n",
      "Regions: 666945\n",
      "Het SNPs: 2028439\n",
      "Filtered het SNPs: 1966578\n",
      "Loading: ../../nss-pseudobulk-analysis/results/snvs/concated/nanocaller/PacBio.full.vcf.gz\n",
      "Regions: 666945\n",
      "Het SNPs: 2414137\n",
      "Filtered het SNPs: 1957471\n",
      "Loading: ../../nss-pseudobulk-analysis/results/snvs/concated/nanocaller/Ultralong.full.vcf.gz\n",
      "Regions: 666945\n",
      "Het SNPs: 2247806\n",
      "Filtered het SNPs: 1866818\n",
      "Loading: ../../nss-pseudobulk-analysis/results/snvs/concated/nanocaller/NSS.full.vcf.gz\n",
      "Regions: 666945\n",
      "Het SNPs: 1854680\n",
      "Filtered het SNPs: 1580408\n"
     ]
    }
   ],
   "source": [
    "def load_snps(vcf, bed, chroms):\n",
    "    print(\"Loading:\", vcf)\n",
    "    \n",
    "    regions = list(sorted(BedFile(bed)))\n",
    "    loader = ShiftLoader(regions)\n",
    "    print(\"Regions:\", len(regions))\n",
    "    \n",
    "    snps = []\n",
    "    with pysam.VariantFile(vcf) as f:\n",
    "        sample = list(f.header.samples)[0]\n",
    "        for chrom in sorted(chroms):\n",
    "            for record in f.fetch(chrom):\n",
    "                gt = record.samples[sample][\"GT\"]\n",
    "                b1, b2 = record.alleles[gt[0]], record.alleles[gt[1]]\n",
    "                if b1 == b2:\n",
    "                    continue\n",
    "                if len(b1) > 1 or len(b2) > 1:\n",
    "                    continue\n",
    "                snp = GRange(chrom, record.start, record.stop)\n",
    "                if b1 > b2:\n",
    "                    b1, b2 = b2, b1\n",
    "                snp.alleles = [b1, b2]\n",
    "                snps.append(snp)\n",
    "    print(\"Het SNPs:\", len(snps))\n",
    "    \n",
    "    snps1 = []\n",
    "    for snp in sorted(snps):\n",
    "        if len(list(loader.fetch(obj=snp))) > 0:\n",
    "            snps1.append(snp)\n",
    "    print(\"Filtered het SNPs:\", len(snps1))\n",
    "    \n",
    "    return snps1\n",
    "\n",
    "\n",
    "vcfs = [\n",
    "    \"../../GRCh38-HG001-Variant-Calls/results/benchmark_autosomal_v4.2.1_chrx_v3.3.2.vcf.gz\",\n",
    "    \"../../nss-pseudobulk-analysis/results/snvs/concated/nanocaller/PacBio.full.vcf.gz\",\n",
    "    \"../../nss-pseudobulk-analysis/results/snvs/concated/nanocaller/Ultralong.full.vcf.gz\",\n",
    "    \"../../nss-pseudobulk-analysis/results/snvs/concated/nanocaller/NSS.full.vcf.gz\"\n",
    "]\n",
    "\n",
    "bed = \"../../GRCh38-HG001-Variant-Calls/results/benchmark_autosomal_v4.2.1_chrx_v3.3.2.bed.gz\"\n",
    "\n",
    "chroms = list(sorted([\"chr%d\" % i for i in range(1, 23)]))\n",
    "\n",
    "snps_list = [load_snps(vcf, bed, chroms) for vcf in vcfs]"
   ]
  },
  {
   "cell_type": "code",
   "execution_count": 17,
   "id": "c62a2625",
   "metadata": {
    "ExecuteTime": {
     "end_time": "2023-09-26T04:42:03.526183Z",
     "start_time": "2023-09-26T04:41:53.230689Z"
    }
   },
   "outputs": [],
   "source": [
    "keys_list = [set([(snp.chrom, snp.start, snp.alleles[0], snp.alleles[1]) for snp in snps]) for snps in snps_list]\n",
    "keys1, keys2, keys3, keys4 = keys_list"
   ]
  },
  {
   "cell_type": "code",
   "execution_count": 18,
   "id": "8a176ef6",
   "metadata": {
    "ExecuteTime": {
     "end_time": "2023-09-26T04:42:17.183929Z",
     "start_time": "2023-09-26T04:42:03.528328Z"
    }
   },
   "outputs": [
    {
     "data": {
      "image/png": "[encoded data removed]",
      "text/plain": [
       "<Figure size 216x216 with 1 Axes>"
      ]
     },
     "metadata": {},
     "output_type": "display_data"
    }
   ],
   "source": [
    "plt.figure(figsize=(3, 3))\n",
    "venn3([keys2, keys3, keys4], set_labels=[\"PB-CCS\", \"ONT-UL\", \"NSS\"])\n",
    "plt.tight_layout()\n",
    "plt.show()"
   ]
  },
  {
   "cell_type": "code",
   "execution_count": 19,
   "id": "a0887b59",
   "metadata": {
    "ExecuteTime": {
     "end_time": "2023-09-26T04:42:22.808016Z",
     "start_time": "2023-09-26T04:42:17.186994Z"
    }
   },
   "outputs": [],
   "source": [
    "all_keys = keys1 | keys2 | keys3 | keys4"
   ]
  },
  {
   "cell_type": "code",
   "execution_count": 20,
   "id": "13ae8d5e",
   "metadata": {
    "ExecuteTime": {
     "end_time": "2023-09-26T04:42:28.182223Z",
     "start_time": "2023-09-26T04:42:22.811748Z"
    }
   },
   "outputs": [],
   "source": [
    "counter = defaultdict(int)\n",
    "for key in all_keys:\n",
    "    flags = tuple([key in keys for keys in keys_list])\n",
    "    counter[flags] += 1"
   ]
  },
  {
   "cell_type": "code",
   "execution_count": 27,
   "id": "a75bc7d9",
   "metadata": {
    "ExecuteTime": {
     "end_time": "2023-09-26T04:46:03.840397Z",
     "start_time": "2023-09-26T04:46:01.727098Z"
    }
   },
   "outputs": [
    {
     "data": {
      "image/png": "[encoded data removed]",
      "text/plain": [
       "<Figure size 324x216 with 2 Axes>"
      ]
     },
     "metadata": {
      "needs_background": "light"
     },
     "output_type": "display_data"
    }
   ],
   "source": [
    "items = list(sorted(counter.items(), key=lambda item: item[1], reverse=True))\n",
    "xs = np.arange(len(items))\n",
    "counts = [item[1] for item in items]\n",
    "ys = [c / 1e6 for c in counts]\n",
    "\n",
    "fig, axs = plt.subplots(2, 1, figsize=(4.5, 3), sharex=True)\n",
    "\n",
    "plt.sca(axs[0])\n",
    "plt.bar(xs, ys, width=0.6,color=\"C5\", edgecolor=\"black\")\n",
    "for x, y, count in zip(xs, ys, counts):\n",
    "    if x == 0:\n",
    "        plt.text(x - 0.2, y + 0.1, format(count, \",\"), rotation=0, ha=\"left\", va=\"bottom\")\n",
    "    else:\n",
    "        plt.text(x, y + 0.1, format(count, \",\"), rotation=90, ha=\"center\", va=\"bottom\")\n",
    "plt.xlim(min(xs) - 0.5, max(xs) + 0.5)\n",
    "plt.ylim(0, 2)\n",
    "plt.ylabel(\"No. of hetSNPs (M)\")\n",
    "if True:\n",
    "    plt.gca().spines[\"top\"].set_visible(False)\n",
    "    plt.gca().spines[\"right\"].set_visible(False)\n",
    "    \n",
    "plt.sca(axs[1])\n",
    "for x in xs:\n",
    "    plt.plot([x, x], [0, 3], lw=1, color=\"black\")\n",
    "    ys = []\n",
    "    for y, flag in enumerate(items[x][0]):\n",
    "        ys.append(y)\n",
    "        color = \"black\" if flag else \"white\"\n",
    "        plt.scatter(x, y, color=color, edgecolor=\"black\", s=50, zorder=10)\n",
    "    \n",
    "plt.ylim(3.5, -0.5)\n",
    "plt.yticks(ys, [\"GIAB\", \"Bulk PB-CCS\", \"Bulk ONT-UL\", \"NanoStrand-seq\"])\n",
    "plt.xticks([])\n",
    "# plt.yticks([])\n",
    "if True:\n",
    "    plt.gca().spines[\"top\"].set_visible(False)\n",
    "    plt.gca().spines[\"left\"].set_visible(False)\n",
    "    plt.gca().spines[\"right\"].set_visible(False)\n",
    "    plt.gca().spines[\"bottom\"].set_visible(False)\n",
    "\n",
    "plt.tight_layout()\n",
    "plt.savefig(\"figures/Benchmark_of_hetSNPs.GIAB_PB_ONT_NSS.upset.pdf\", dpi=300)"
   ]
  },
  {
   "cell_type": "code",
   "execution_count": null,
   "id": "9e26b090",
   "metadata": {},
   "outputs": [],
   "source": []
  }
 ],
 "metadata": {
  "kernelspec": {
   "display_name": "Python 3",
   "language": "python",
   "name": "python3"
  },
  "language_info": {
   "codemirror_mode": {
    "name": "ipython",
    "version": 3
   },
   "file_extension": ".py",
   "mimetype": "text/x-python",
   "name": "python",
   "nbconvert_exporter": "python",
   "pygments_lexer": "ipython3",
   "version": "3.6.15"
  }
 },
 "nbformat": 4,
 "nbformat_minor": 5
}
