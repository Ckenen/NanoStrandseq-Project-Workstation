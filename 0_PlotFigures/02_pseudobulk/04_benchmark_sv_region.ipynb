{
 "cells": [
  {
   "cell_type": "code",
   "execution_count": 1,
   "id": "b380418d",
   "metadata": {
    "ExecuteTime": {
     "end_time": "2023-09-26T10:21:31.642477Z",
     "start_time": "2023-09-26T10:21:30.699377Z"
    }
   },
   "outputs": [],
   "source": [
    "import os\n",
    "import glob\n",
    "import gzip\n",
    "from collections import defaultdict\n",
    "import multiprocessing as mp\n",
    "import numpy as np\n",
    "import pandas as pd\n",
    "import pysam\n",
    "import pyBigWig\n",
    "from pyBioInfo.Range import GRange\n",
    "from pyBioInfo.IO.File import BedFile\n",
    "from pyBioInfo.Utils import ShiftLoader"
   ]
  },
  {
   "cell_type": "markdown",
   "id": "7e2b9ec0",
   "metadata": {},
   "source": [
    "# Scan extreme coverage regions"
   ]
  },
  {
   "cell_type": "code",
   "execution_count": 9,
   "id": "b8acea08",
   "metadata": {
    "ExecuteTime": {
     "end_time": "2023-09-26T08:21:33.436734Z",
     "start_time": "2023-09-26T08:21:33.407475Z"
    }
   },
   "outputs": [],
   "source": [
    "def worker(f_bw, chrom, step, min_coverage, max_coverage):\n",
    "    regions = []\n",
    "    \n",
    "    with pyBigWig.open(f_bw) as f:\n",
    "        length = f.chroms()[chrom]\n",
    "        \n",
    "        step1 = step * 1000\n",
    "        for start1 in range(0, length, step1):\n",
    "            end1 = min(start1 + step1, length)\n",
    "            covs = f.values(chrom, start1, end1)\n",
    "            \n",
    "            for start2 in range(start1, end1, step):\n",
    "                end2 = min(start2 + step, end1)\n",
    "                vs = np.nan_to_num(covs[start2 - start1:end2 - start1])\n",
    "                mean = np.mean(vs)\n",
    "                if mean < min_coverage or mean > max_coverage:\n",
    "                    if len(regions) == 0:\n",
    "                        regions.append([chrom, start2, end2])\n",
    "                    else:\n",
    "                        if start2 <= regions[-1][2]:\n",
    "                            regions[-1][2] = end2\n",
    "                        else:\n",
    "                            regions.append([chrom, start2, end2])\n",
    "                            \n",
    "    return regions\n",
    "\n",
    "\n",
    "def scan_extreme_coverage_regions(f_bw, f_bed, threads=1, min_coverage=15, max_coverage=80):\n",
    "    array = []\n",
    "    pool = mp.Pool(threads)\n",
    "    with pyBigWig.open(f_bw) as f:\n",
    "        for chrom in f.chroms():\n",
    "            args = (f_bw, chrom, 100, min_coverage, max_coverage)\n",
    "            array.append(pool.apply_async(worker, args))\n",
    "    pool.close()\n",
    "    pool.join()\n",
    "\n",
    "    regions = []\n",
    "    for r in array:\n",
    "        regions.extend(r.get())\n",
    "    regions.sort()\n",
    "    \n",
    "    with open(f_bed, \"w+\") as fw:\n",
    "        for r in regions:\n",
    "            fw.write(\"\\t\".join(map(str, r)) + \"\\n\")"
   ]
  },
  {
   "cell_type": "code",
   "execution_count": 10,
   "id": "0e5f4be6",
   "metadata": {
    "ExecuteTime": {
     "end_time": "2023-09-26T08:26:58.821950Z",
     "start_time": "2023-09-26T08:22:28.815409Z"
    }
   },
   "outputs": [],
   "source": [
    "f_bw = \"../../6_nss-pseudobulk-analysis/results/bw/PacBio.full.bw\"\n",
    "f_bed = \"data/PacBio.full.coverage_lt_10_gt_80.bed\"\n",
    "scan_extreme_coverage_regions(f_bw, f_bed, 24, 10, 80)"
   ]
  },
  {
   "cell_type": "code",
   "execution_count": 12,
   "id": "23b4f1fc",
   "metadata": {
    "ExecuteTime": {
     "end_time": "2023-09-26T08:36:04.866050Z",
     "start_time": "2023-09-26T08:31:26.717206Z"
    }
   },
   "outputs": [],
   "source": [
    "f_bw = \"../../6_nss-pseudobulk-analysis/results/bw/PacBio.full.bw\"\n",
    "f_bed = \"data/PacBio.full.coverage_lt_15_gt_80.bed\"\n",
    "scan_extreme_coverage_regions(f_bw, f_bed, 24, 15, 80)"
   ]
  },
  {
   "cell_type": "code",
   "execution_count": 13,
   "id": "aa99e3fd",
   "metadata": {
    "ExecuteTime": {
     "end_time": "2023-09-26T08:52:53.412960Z",
     "start_time": "2023-09-26T08:48:18.746537Z"
    }
   },
   "outputs": [],
   "source": [
    "f_bw = \"../../6_nss-pseudobulk-analysis/results/bw/Ultralong.full.bw\"\n",
    "f_bed = \"data/Ultralong.full.coverage_lt_10_gt_80.bed\"\n",
    "scan_extreme_coverage_regions(f_bw, f_bed, 24, 10, 80)"
   ]
  },
  {
   "cell_type": "code",
   "execution_count": 11,
   "id": "ee1722a0",
   "metadata": {
    "ExecuteTime": {
     "end_time": "2023-09-26T08:31:26.713350Z",
     "start_time": "2023-09-26T08:26:58.824496Z"
    }
   },
   "outputs": [],
   "source": [
    "f_bw = \"../../6_nss-pseudobulk-analysis/results/bw/Ultralong.full.bw\"\n",
    "f_bed = \"data/Ultralong.full.coverage_lt_15_gt_80.bed\"\n",
    "scan_extreme_coverage_regions(f_bw, f_bed, 24, 15, 80)"
   ]
  },
  {
   "cell_type": "markdown",
   "id": "6a48a09f",
   "metadata": {},
   "source": [
    "# Scan dense SV regions"
   ]
  },
  {
   "cell_type": "code",
   "execution_count": 14,
   "id": "21d756b2",
   "metadata": {
    "ExecuteTime": {
     "end_time": "2023-09-26T09:07:58.809050Z",
     "start_time": "2023-09-26T09:07:58.788263Z"
    }
   },
   "outputs": [],
   "source": [
    "def collapse_regions(regions):\n",
    "    regions = regions.copy()\n",
    "    i = 0\n",
    "    while i < len(regions) - 1:\n",
    "        r1 = regions[i]\n",
    "        r2 = regions[i + 1]\n",
    "        if r1[0] == r2[0]:\n",
    "            if r1[2] >= r2[1]:\n",
    "                r1[2] = max(r1[2], r2[2])\n",
    "                regions.pop(i + 1)\n",
    "            else:\n",
    "                i += 1\n",
    "        else:\n",
    "            i += 1\n",
    "    return regions\n",
    "\n",
    "def scan_dense_sv_regions(f_vcf, f_bed, slop=1000):\n",
    "    svs = []\n",
    "    with pysam.VariantFile(f_vcf) as f:\n",
    "        for record in f:\n",
    "            svtype = record.info[\"SVTYPE\"]\n",
    "            if svtype != \"DEL\" and svtype != \"INS\":\n",
    "                continue\n",
    "            if list(record.filter)[0] != \"PASS\":\n",
    "                continue\n",
    "            r = GRange(chrom=record.contig, start=record.start, end=record.stop, name=record.id)\n",
    "            r.length = abs(record.info[\"SVLEN\"])\n",
    "            r.record = record\n",
    "            svs.append(r)\n",
    "    svs.sort()\n",
    "    \n",
    "    regions = []\n",
    "    loader = ShiftLoader(svs)\n",
    "    for sv in svs:\n",
    "        chrom, start, end = sv.chrom, max(0, sv.start - slop), sv.end + slop\n",
    "        hit = False\n",
    "        for sv2 in loader.fetch(chrom=chrom, start=start, end=end):\n",
    "            if sv2 is not sv:\n",
    "                hit = True\n",
    "        if hit:\n",
    "            regions.append([chrom, start, end])\n",
    "    regions.sort()\n",
    "    \n",
    "    regions = collapse_regions(regions)\n",
    "    \n",
    "    with open(f_bed, \"w+\") as fw:\n",
    "        for r in regions:\n",
    "            fw.write(\"\\t\".join(map(str, r)) + \"\\n\")"
   ]
  },
  {
   "cell_type": "code",
   "execution_count": 16,
   "id": "0c22de02",
   "metadata": {
    "ExecuteTime": {
     "end_time": "2023-09-26T09:09:14.658396Z",
     "start_time": "2023-09-26T09:09:10.245889Z"
    }
   },
   "outputs": [],
   "source": [
    "f_vcf = \"../../6_nss-pseudobulk-analysis/results/sv/cutesv/PacBio.full.vcf.gz\"\n",
    "f_bed = \"data/PacBio.full.dense_sv_1kb.bed\"\n",
    "scan_dense_sv_regions(f_vcf, f_bed, 1000)"
   ]
  },
  {
   "cell_type": "code",
   "execution_count": 17,
   "id": "f84149a6",
   "metadata": {
    "ExecuteTime": {
     "end_time": "2023-09-26T09:09:58.541232Z",
     "start_time": "2023-09-26T09:09:33.037578Z"
    }
   },
   "outputs": [],
   "source": [
    "f_vcf = \"../../6_nss-pseudobulk-analysis/results/sv/cutesv/Ultralong.full.vcf.gz\"\n",
    "f_bed = \"data/Ultralong.full.dense_sv_1kb.bed\"\n",
    "scan_dense_sv_regions(f_vcf, f_bed, 1000)"
   ]
  },
  {
   "cell_type": "markdown",
   "id": "2142ad5b",
   "metadata": {},
   "source": [
    "# Scan too long SV regions"
   ]
  },
  {
   "cell_type": "code",
   "execution_count": 18,
   "id": "c9eff150",
   "metadata": {
    "ExecuteTime": {
     "end_time": "2023-09-26T10:18:33.046669Z",
     "start_time": "2023-09-26T10:18:33.020506Z"
    }
   },
   "outputs": [],
   "source": [
    "def collapse_regions(regions):\n",
    "    regions = regions.copy()\n",
    "    i = 0\n",
    "    while i < len(regions) - 1:\n",
    "        r1 = regions[i]\n",
    "        r2 = regions[i + 1]\n",
    "        if r1[0] == r2[0]:\n",
    "            if r1[2] >= r2[1]:\n",
    "                r1[2] = max(r1[2], r2[2])\n",
    "                regions.pop(i + 1)\n",
    "            else:\n",
    "                i += 1\n",
    "        else:\n",
    "            i += 1\n",
    "    return regions\n",
    "\n",
    "def scan_long_sv_regions(f_vcf, f_bed, max_length=10000, slop=1000):\n",
    "    regions = []\n",
    "    \n",
    "    with pysam.VariantFile(f_vcf) as f:\n",
    "        for record in f:\n",
    "            svtype = record.info[\"SVTYPE\"]\n",
    "            if svtype != \"DEL\" and svtype != \"INS\":\n",
    "                continue\n",
    "            if list(record.filter)[0] != \"PASS\":\n",
    "                continue\n",
    "            if abs(record.info[\"SVLEN\"]) > max_length:\n",
    "                chrom = record.contig\n",
    "                start = record.start\n",
    "                end = record.stop\n",
    "                start = max(0, start - slop)\n",
    "                end = end + slop\n",
    "                \n",
    "                regions.append([chrom, start, end])\n",
    "    regions.sort()\n",
    "    \n",
    "    regions = collapse_regions(regions)\n",
    "\n",
    "    with open(f_bed, \"w+\") as fw:\n",
    "        for r in regions:\n",
    "            fw.write(\"\\t\".join(map(str, r)) + \"\\n\")"
   ]
  },
  {
   "cell_type": "code",
   "execution_count": 20,
   "id": "9192f617",
   "metadata": {
    "ExecuteTime": {
     "end_time": "2023-09-26T10:21:01.991259Z",
     "start_time": "2023-09-26T10:20:57.563910Z"
    }
   },
   "outputs": [],
   "source": [
    "f_vcf = \"../../6_nss-pseudobulk-analysis/results/sv/cutesv/PacBio.full.vcf.gz\"\n",
    "f_bed = \"data/PacBio.full.long_sv_10kb_slop_1kb.bed\"\n",
    "scan_long_sv_regions(f_vcf, f_bed, max_length=10000, slop=1000)"
   ]
  },
  {
   "cell_type": "code",
   "execution_count": 19,
   "id": "292d7191",
   "metadata": {
    "ExecuteTime": {
     "end_time": "2023-09-26T10:20:57.559954Z",
     "start_time": "2023-09-26T10:20:33.273603Z"
    }
   },
   "outputs": [],
   "source": [
    "f_vcf = \"../../6_nss-pseudobulk-analysis/results/sv/cutesv/Ultralong.full.vcf.gz\"\n",
    "f_bed = \"data/Ultralong.full.long_sv_10kb_slop_1kb.bed\"\n",
    "scan_long_sv_regions(f_vcf, f_bed, max_length=10000, slop=1000)"
   ]
  },
  {
   "cell_type": "markdown",
   "id": "2fb6b2d9",
   "metadata": {},
   "source": [
    "# Merge blacklist regions"
   ]
  },
  {
   "cell_type": "code",
   "execution_count": 103,
   "id": "81c65ace",
   "metadata": {
    "ExecuteTime": {
     "end_time": "2023-09-26T11:18:26.654269Z",
     "start_time": "2023-09-26T11:18:15.459114Z"
    }
   },
   "outputs": [
    {
     "name": "stdout",
     "output_type": "stream",
     "text": [
      "All regions: 94182\n",
      "Collapsed regions: 78245\n"
     ]
    }
   ],
   "source": [
    "def collapse_regions(regions):\n",
    "    regions = regions.copy()\n",
    "    i = 0\n",
    "    while i < len(regions) - 1:\n",
    "        r1 = regions[i]\n",
    "        r2 = regions[i + 1]\n",
    "        if r1[0] == r2[0]:\n",
    "            if r1[2] >= r2[1]:\n",
    "                r1[2] = max(r1[2], r2[2])\n",
    "                regions.pop(i + 1)\n",
    "            else:\n",
    "                i += 1\n",
    "        else:\n",
    "            i += 1\n",
    "    return regions\n",
    "\n",
    "regions = []\n",
    "\n",
    "with open(\"data/PacBio.full.coverage_lt_10_gt_80.bed\") as f:\n",
    "    for line in f:\n",
    "        chrom, start, end = line.strip(\"\\n\").split(\"\\t\")\n",
    "        start, end = int(start), int(end)\n",
    "        start, end = max(0, start - 1000), end + 1000\n",
    "        regions.append([chrom, start, end])\n",
    "\n",
    "with open(\"data/Ultralong.full.coverage_lt_10_gt_80.bed\") as f:\n",
    "    for line in f:\n",
    "        chrom, start, end = line.strip(\"\\n\").split(\"\\t\")\n",
    "        start, end = int(start), int(end)\n",
    "        start, end = max(0, start - 1000), end + 1000\n",
    "        regions.append([chrom, start, end])\n",
    "        \n",
    "with open(\"data/PacBio.full.dense_sv_1kb.bed\") as f:\n",
    "    for line in f:\n",
    "        chrom, start, end = line.strip(\"\\n\").split(\"\\t\")\n",
    "        start, end = int(start), int(end)\n",
    "        regions.append([chrom, start, end])\n",
    "        \n",
    "with open(\"data/Ultralong.full.dense_sv_1kb.bed\") as f:\n",
    "    for line in f:\n",
    "        chrom, start, end = line.strip(\"\\n\").split(\"\\t\")\n",
    "        start, end = int(start), int(end)\n",
    "        regions.append([chrom, start, end])\n",
    "        \n",
    "with open(\"data/PacBio.full.long_sv_10kb_slop_1kb.bed\") as f:\n",
    "    for line in f:\n",
    "        chrom, start, end = line.strip(\"\\n\").split(\"\\t\")\n",
    "        start, end = int(start), int(end)\n",
    "        regions.append([chrom, start, end])\n",
    "        \n",
    "with open(\"data/Ultralong.full.long_sv_10kb_slop_1kb.bed\") as f:\n",
    "    for line in f:\n",
    "        chrom, start, end = line.strip(\"\\n\").split(\"\\t\")\n",
    "        start, end = int(start), int(end)\n",
    "        regions.append([chrom, start, end])\n",
    "        \n",
    "with gzip.open(\"../../6_nss-pseudobulk-analysis/data/GRCh38/OtherDifficult/GRCh38_allOtherDifficultregions.bed.gz\", \"rt\") as f:\n",
    "    for line in f:\n",
    "        if line.startswith(\"#\"):\n",
    "            continue\n",
    "        chrom, start, end = line.strip(\"\\n\").split(\"\\t\")\n",
    "        start, end = int(start), int(end)\n",
    "        if end - start >= 200:\n",
    "            regions.append([chrom, start, end])\n",
    "\n",
    "with gzip.open(\"../../6_nss-pseudobulk-analysis/data/GRCh38/LowComplexity/GRCh38_AllTandemRepeatsandHomopolymers_slop5.bed.gz\", \"rt\") as f:\n",
    "    for line in f:\n",
    "        if line.startswith(\"#\"):\n",
    "            continue\n",
    "        chrom, start, end = line.strip(\"\\n\").split(\"\\t\")\n",
    "        start, end = int(start), int(end)\n",
    "        if end - start >= 200:\n",
    "            regions.append([chrom, start, end])\n",
    "        \n",
    "regions.sort()\n",
    "print(\"All regions:\", len(regions))\n",
    "\n",
    "regions = collapse_regions(regions)\n",
    "print(\"Collapsed regions:\", len(regions))\n",
    "\n",
    "regions.sort()"
   ]
  },
  {
   "cell_type": "code",
   "execution_count": 163,
   "id": "9c3f3e74",
   "metadata": {
    "ExecuteTime": {
     "end_time": "2023-09-27T01:09:07.382710Z",
     "start_time": "2023-09-27T01:09:07.074604Z"
    }
   },
   "outputs": [],
   "source": [
    "with open(\"data/benchmark_sv_blacklist.bed\", \"w+\") as fw:\n",
    "    for r in regions:\n",
    "        fw.write(\"\\t\".join(map(str, r)) + \"\\n\")"
   ]
  },
  {
   "cell_type": "code",
   "execution_count": 1,
   "id": "31b13615",
   "metadata": {
    "ExecuteTime": {
     "end_time": "2023-09-27T05:07:10.095871Z",
     "start_time": "2023-09-27T05:07:09.856209Z"
    }
   },
   "outputs": [
    {
     "name": "stdout",
     "output_type": "stream",
     "text": [
      "c65553bcf55a33a8a83634fd3e63f582  data/benchmark_sv_blacklist.bed\r\n"
     ]
    }
   ],
   "source": [
    "! md5sum data/benchmark_sv_blacklist.bed"
   ]
  }
 ],
 "metadata": {
  "kernelspec": {
   "display_name": "Python 3",
   "language": "python",
   "name": "python3"
  },
  "language_info": {
   "codemirror_mode": {
    "name": "ipython",
    "version": 3
   },
   "file_extension": ".py",
   "mimetype": "text/x-python",
   "name": "python",
   "nbconvert_exporter": "python",
   "pygments_lexer": "ipython3",
   "version": "3.6.15"
  }
 },
 "nbformat": 4,
 "nbformat_minor": 5
}
