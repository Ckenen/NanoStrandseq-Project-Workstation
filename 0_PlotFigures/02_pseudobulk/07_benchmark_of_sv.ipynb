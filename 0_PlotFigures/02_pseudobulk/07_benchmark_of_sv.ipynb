{
 "cells": [
  {
   "cell_type": "code",
   "execution_count": 142,
   "id": "f594b9ad",
   "metadata": {
    "ExecuteTime": {
     "end_time": "2023-05-16T09:33:09.697461Z",
     "start_time": "2023-05-16T09:33:09.439463Z"
    }
   },
   "outputs": [],
   "source": [
    "from collections import defaultdict\n",
    "import numpy as np\n",
    "import pandas as pd\n",
    "import matplotlib.pyplot as plt\n",
    "import pysam\n",
    "from pyBioInfo.Range import GRange\n",
    "from pyBioInfo.IO.File import BedFile\n",
    "from pyBioInfo.Utils import ShiftLoader"
   ]
  },
  {
   "cell_type": "code",
   "execution_count": 2,
   "id": "d54ff801",
   "metadata": {
    "ExecuteTime": {
     "end_time": "2023-05-16T03:59:12.367230Z",
     "start_time": "2023-05-16T03:59:12.360890Z"
    }
   },
   "outputs": [],
   "source": [
    "vcf = \"../../6_SNV_SV_Comparison/results/cutesv/vcfs/PacBio.full.vcf.gz\"\n",
    "fasta = \"/home/chenzonggui/species/homo_sapiens/GRCh38.p13/GRCh38.canonical.genome.fa\"\n",
    "rmsk = \"/home/chenzonggui/species/homo_sapiens/RepeatMasker/hg38.fa.out.gz\""
   ]
  },
  {
   "cell_type": "code",
   "execution_count": 22,
   "id": "c1641973",
   "metadata": {
    "ExecuteTime": {
     "end_time": "2023-05-16T04:26:02.242974Z",
     "start_time": "2023-05-16T04:25:59.417728Z"
    }
   },
   "outputs": [],
   "source": [
    "fw = open(\"sequences.fasta\", \"w+\")\n",
    "with pysam.VariantFile(vcf) as f:\n",
    "    sample = list(f.header.samples)[0]\n",
    "    for record in f:\n",
    "        svtype = record.info[\"SVTYPE\"]\n",
    "        ref, alt = record.ref, record.alts[0]\n",
    "        chrom = record.contig\n",
    "        start = record.start\n",
    "        stop = record.stop\n",
    "        name = record.id\n",
    "        if svtype == \"INS\":\n",
    "            seq = alt[1:]\n",
    "            start = record.start\n",
    "            end = record.stop\n",
    "        elif svtype == \"DEL\":\n",
    "            seq = seq[1:]\n",
    "            start = record.start\n",
    "            end = record.stop\n",
    "        else:\n",
    "            continue\n",
    "        fw.write(\">%s %s:%d-%d\\n\" % (name, chrom, start, end))\n",
    "        fw.write(\"%s\\n\" % seq)\n",
    "fw.close()"
   ]
  },
  {
   "cell_type": "code",
   "execution_count": null,
   "id": "f9f1c53d",
   "metadata": {},
   "outputs": [],
   "source": [
    "! RepeatMasker -pa 24 -species human -poly -html -gff -dir sequences_rmsk sequences.fasta > sequences_rmsk.log"
   ]
  },
  {
   "cell_type": "code",
   "execution_count": 104,
   "id": "c1e8d765",
   "metadata": {
    "ExecuteTime": {
     "end_time": "2023-05-16T05:53:25.622007Z",
     "start_time": "2023-05-16T05:53:25.439468Z"
    }
   },
   "outputs": [],
   "source": [
    "data = defaultdict(list)\n",
    "with open(\"sequences_rmsk/sequences.fasta.out\") as f:\n",
    "    for line in f.readlines()[3:]:\n",
    "        # print(line.strip(\"\\n\"))\n",
    "        row = line.split()\n",
    "        # print(row)\n",
    "        if row[8] == \"+\":\n",
    "            begin, end, left = int(row[11]), int(row[12]), int(row[13][1:-1])\n",
    "        elif row[8] == \"C\":\n",
    "            left, end, begin = int(row[11][1:-1]), int(row[12]), int(row[13])\n",
    "        element_length = end + left\n",
    "        ratio = (end - begin) / element_length\n",
    "        #if ratio < 0.9:\n",
    "            #continue\n",
    "        #if left > 10 or begin > 10:\n",
    "        #    continue\n",
    "        name = row[10]\n",
    "        if name == \"Unknown\":\n",
    "            continue\n",
    "        if name.startswith(\"LINE\") or name.startswith(\"SINE\") or name.startswith(\"LTR\") or name.startswith(\"Satellite\"): #  or name.startswith(\"DNA\"):\n",
    "            data[row[4]].append(row[10])"
   ]
  },
  {
   "cell_type": "code",
   "execution_count": 105,
   "id": "346f0ee7",
   "metadata": {
    "ExecuteTime": {
     "end_time": "2023-05-16T05:53:26.041381Z",
     "start_time": "2023-05-16T05:53:25.965610Z"
    }
   },
   "outputs": [],
   "source": [
    "def counting(elements):\n",
    "    line = 0\n",
    "    sine = 0\n",
    "    ltr = 0\n",
    "    tandem_repeat = 0\n",
    "    for e in elements:\n",
    "        if e.startswith(\"LINE\"):\n",
    "            line += 1\n",
    "        if e.startswith(\"SINE\"):\n",
    "            sine += 1\n",
    "        if e.startswith(\"LTR\"):\n",
    "            ltr += 1\n",
    "        if e.startswith(\"Satellite\"):\n",
    "            tandem_repeat += 1\n",
    "    return line, ltr, sine, tandem_repeat\n",
    "\n",
    "counts = np.zeros(5)\n",
    "counter = defaultdict(int)\n",
    "for name, elements in data.items():\n",
    "    if len(elements) == 0:\n",
    "        continue\n",
    "    line, ltr, sine, tandem_repeat = counting(elements)\n",
    "    ss = []\n",
    "    if line > 0:\n",
    "        ss.append(\"%d LINE\" % line)\n",
    "    if ltr > 0:\n",
    "        ss.append(\"%d LTR\" % ltr)\n",
    "    if sine > 0:\n",
    "        ss.append(\"%d SINE\" % sine)\n",
    "    if tandem_repeat > 0:\n",
    "        ss.append(\"%d Tandem repeat\" % tandem_repeat)\n",
    "    s = \" + \".join(ss)\n",
    "    if len(elements) > 1:\n",
    "        counter[s] += 1\n",
    "    if len(elements) == 1:\n",
    "        if line == 1:\n",
    "            counts[0] += 1\n",
    "        elif ltr == 1:\n",
    "            counts[1] += 1\n",
    "        elif sine == 1:\n",
    "            counts[2] += 1\n",
    "        elif tandem_repeat == 1:\n",
    "            counts[3] += 1\n",
    "        else:\n",
    "            pass\n",
    "            # counts[5] += 1\n",
    "    else:\n",
    "        counts[4] += 1"
   ]
  },
  {
   "cell_type": "code",
   "execution_count": 106,
   "id": "dfe1e2c8",
   "metadata": {
    "ExecuteTime": {
     "end_time": "2023-05-16T05:53:26.922945Z",
     "start_time": "2023-05-16T05:53:26.911929Z"
    }
   },
   "outputs": [
    {
     "data": {
      "text/plain": [
       "array([0.09262283, 0.05892831, 0.40077186, 0.24536144, 0.20231557])"
      ]
     },
     "execution_count": 106,
     "metadata": {},
     "output_type": "execute_result"
    }
   ],
   "source": [
    "counts / sum(counts)"
   ]
  },
  {
   "cell_type": "code",
   "execution_count": 107,
   "id": "346dba38",
   "metadata": {
    "ExecuteTime": {
     "end_time": "2023-05-16T05:53:27.381975Z",
     "start_time": "2023-05-16T05:53:27.372732Z"
    }
   },
   "outputs": [
    {
     "data": {
      "text/plain": [
       "array([ 624.,  397., 2700., 1653., 1363.])"
      ]
     },
     "execution_count": 107,
     "metadata": {},
     "output_type": "execute_result"
    }
   ],
   "source": [
    "counts"
   ]
  },
  {
   "cell_type": "code",
   "execution_count": 124,
   "id": "02b0cb6b",
   "metadata": {
    "ExecuteTime": {
     "end_time": "2023-05-16T06:11:26.208949Z",
     "start_time": "2023-05-16T06:11:25.842196Z"
    }
   },
   "outputs": [
    {
     "data": {
      "image/png": "[encoded data removed]",
      "text/plain": [
       "<Figure size 288x216 with 1 Axes>"
      ]
     },
     "metadata": {},
     "output_type": "display_data"
    }
   ],
   "source": [
    "plt.figure(figsize=(4, 3))\n",
    "plt.pie(counts, autopct=\"%.1f%%\", pctdistance=0.8,\n",
    "        labels=[\"LINE\", \"LTR\", \"SINE\", \"Tandem repeat\", \"Multiple repeats\"])\n",
    "plt.tight_layout()\n",
    "plt.savefig(\"figures/repeat_distribution_pie.pdf\", dpi=300)"
   ]
  },
  {
   "cell_type": "code",
   "execution_count": 125,
   "id": "c2f0a7a8",
   "metadata": {
    "ExecuteTime": {
     "end_time": "2023-05-16T06:11:54.897441Z",
     "start_time": "2023-05-16T06:11:54.294089Z"
    },
    "scrolled": false
   },
   "outputs": [
    {
     "data": {
      "image/png": "[encoded data removed]",
      "text/plain": [
       "<Figure size 432x216 with 1 Axes>"
      ]
     },
     "metadata": {
      "needs_background": "light"
     },
     "output_type": "display_data"
    }
   ],
   "source": [
    "items = list(sorted(counter.items(), key=lambda item: item[1], reverse=True))\n",
    "items = items[:20]\n",
    "\n",
    "ys = [item[1] for item in items]\n",
    "xs = np.arange(len(ys))\n",
    "ticks = [item[0] for item in items]\n",
    "\n",
    "plt.figure(figsize=(6, 3))\n",
    "plt.bar(xs, ys, edgecolor=\"black\", width=0.8)\n",
    "plt.xticks(xs, ticks, rotation=45, ha=\"right\")\n",
    "plt.xlim(min(xs) - 0.5, max(xs) + 0.5)\n",
    "plt.ylabel(\"Count\")\n",
    "plt.tight_layout()\n",
    "plt.savefig(\"figures/multiple_repeat_distribution_bar.pdf\", dpi=300)"
   ]
  },
  {
   "cell_type": "markdown",
   "id": "6350bf8b",
   "metadata": {},
   "source": [
    "# Phased SVs"
   ]
  },
  {
   "cell_type": "code",
   "execution_count": 159,
   "id": "33f68357",
   "metadata": {
    "ExecuteTime": {
     "end_time": "2023-05-16T09:37:50.424101Z",
     "start_time": "2023-05-16T09:37:46.380681Z"
    }
   },
   "outputs": [],
   "source": [
    "def load_sv_quantify(path):\n",
    "    dat = pd.read_csv(path, sep=\"\\t\")\n",
    "    dat.index = dat[\"Name\"]\n",
    "    min_cell = 1\n",
    "    min_read = 2\n",
    "    foldchange = 2\n",
    "    ts = []\n",
    "    d = dat[[\"AgreeRead\", \"AgreeCell\", \"DisagreeRead\", \"DisagreeCell\"]]\n",
    "    for agree_read, agree_cell, disagree_read, disagree_cell in d.values:\n",
    "        t = \"Uncertain\" # Exist, NotExist\n",
    "        if agree_cell >= min_cell and agree_cell >= disagree_cell * foldchange \\\n",
    "            and agree_read >= min_read and agree_read >= disagree_read * foldchange:\n",
    "            t = \"Exist\"\n",
    "        if disagree_cell >= min_cell and disagree_cell >= agree_cell * foldchange \\\n",
    "            and disagree_read >= min_read and disagree_read >= agree_read * foldchange:\n",
    "            assert t != \"Exist\"\n",
    "            t = \"NotExist\"\n",
    "        ts.append(t)\n",
    "    dat[\"Existence\"] = ts\n",
    "    return dat\n",
    "\n",
    "path1 = \"../../1_NanoStrandseq/results/assembly/HG001_Cell300/round2/quantify_psudobulk_sv.hp1_lite.tsv\"\n",
    "path2 = \"../../1_NanoStrandseq/results/assembly/HG001_Cell300/round2/quantify_psudobulk_sv.hp2_lite.tsv\"\n",
    "        \n",
    "dat1 = load_sv_quantify(path1)\n",
    "dat2 = load_sv_quantify(path2)"
   ]
  },
  {
   "cell_type": "code",
   "execution_count": 160,
   "id": "cba92b97",
   "metadata": {
    "ExecuteTime": {
     "end_time": "2023-05-16T09:37:50.941933Z",
     "start_time": "2023-05-16T09:37:50.426587Z"
    }
   },
   "outputs": [],
   "source": [
    "dat2_tmp = dat2[dat2.columns[5:]]\n",
    "dat = dat1.merge(dat2_tmp, left_index=True, right_index=True, suffixes=[\"_HP1\", \"_HP2\"])"
   ]
  },
  {
   "cell_type": "code",
   "execution_count": 161,
   "id": "ece9eb55",
   "metadata": {
    "ExecuteTime": {
     "end_time": "2023-05-16T09:37:57.191595Z",
     "start_time": "2023-05-16T09:37:50.944440Z"
    }
   },
   "outputs": [
    {
     "name": "stdout",
     "output_type": "stream",
     "text": [
      "1351\n"
     ]
    }
   ],
   "source": [
    "blacklist = [x for x in BedFile(\"../../1_NanoStrandseq/results/assembly/HG001_Cell300/blackhole/blacklist.bed.gz\")]\n",
    "print(len(blacklist))\n",
    "\n",
    "regions = []\n",
    "for chrom, start, end, name in dat[[\"Chrom\", \"Start\", \"End\", \"Name\"]].values:\n",
    "    obj = GRange(chrom=chrom, start=start, end=end, name=name)\n",
    "    regions.append(obj)\n",
    "regions.sort()\n",
    "\n",
    "loader = ShiftLoader(blacklist)\n",
    "retains = []\n",
    "for r in regions:\n",
    "    if len(list(loader.fetch(obj=r))) > 0:\n",
    "        continue\n",
    "    retains.append(r.name)\n",
    "retains = set(retains)"
   ]
  },
  {
   "cell_type": "code",
   "execution_count": 162,
   "id": "8c941a4c",
   "metadata": {
    "ExecuteTime": {
     "end_time": "2023-05-16T09:37:57.318512Z",
     "start_time": "2023-05-16T09:37:57.193938Z"
    }
   },
   "outputs": [],
   "source": [
    "dat[\"Benchmark\"] = [name in retains for name in dat[\"Name\"]]"
   ]
  },
  {
   "cell_type": "code",
   "execution_count": 163,
   "id": "5d9041dc",
   "metadata": {
    "ExecuteTime": {
     "end_time": "2023-05-16T09:37:57.414866Z",
     "start_time": "2023-05-16T09:37:57.320463Z"
    }
   },
   "outputs": [],
   "source": [
    "dat = dat[dat[\"Benchmark\"]]"
   ]
  },
  {
   "cell_type": "code",
   "execution_count": 164,
   "id": "7e8cf572",
   "metadata": {
    "ExecuteTime": {
     "end_time": "2023-05-16T09:37:57.601800Z",
     "start_time": "2023-05-16T09:37:57.417307Z"
    },
    "scrolled": true
   },
   "outputs": [
    {
     "name": "stdout",
     "output_type": "stream",
     "text": [
      "3321 3206 2920\n"
     ]
    },
    {
     "data": {
      "text/html": [
       "<div>\n",
       "<style scoped>\n",
       "    .dataframe tbody tr th:only-of-type {\n",
       "        vertical-align: middle;\n",
       "    }\n",
       "\n",
       "    .dataframe tbody tr th {\n",
       "        vertical-align: top;\n",
       "    }\n",
       "\n",
       "    .dataframe thead th {\n",
       "        text-align: right;\n",
       "    }\n",
       "</style>\n",
       "<table border=\"1\" class=\"dataframe\">\n",
       "  <thead>\n",
       "    <tr style=\"text-align: right;\">\n",
       "      <th></th>\n",
       "      <th>Chrom</th>\n",
       "      <th>Start</th>\n",
       "      <th>End</th>\n",
       "      <th>Name</th>\n",
       "      <th>Length</th>\n",
       "      <th>SupportRead_HP1</th>\n",
       "      <th>SupportCell_HP1</th>\n",
       "      <th>OverlapRead_HP1</th>\n",
       "      <th>OverlapCell_HP1</th>\n",
       "      <th>AgreeRead_HP1</th>\n",
       "      <th>...</th>\n",
       "      <th>SupportRead_HP2</th>\n",
       "      <th>SupportCell_HP2</th>\n",
       "      <th>OverlapRead_HP2</th>\n",
       "      <th>OverlapCell_HP2</th>\n",
       "      <th>AgreeRead_HP2</th>\n",
       "      <th>AgreeCell_HP2</th>\n",
       "      <th>DisagreeRead_HP2</th>\n",
       "      <th>DisagreeCell_HP2</th>\n",
       "      <th>Existence_HP2</th>\n",
       "      <th>Benchmark</th>\n",
       "    </tr>\n",
       "    <tr>\n",
       "      <th>Name</th>\n",
       "      <th></th>\n",
       "      <th></th>\n",
       "      <th></th>\n",
       "      <th></th>\n",
       "      <th></th>\n",
       "      <th></th>\n",
       "      <th></th>\n",
       "      <th></th>\n",
       "      <th></th>\n",
       "      <th></th>\n",
       "      <th></th>\n",
       "      <th></th>\n",
       "      <th></th>\n",
       "      <th></th>\n",
       "      <th></th>\n",
       "      <th></th>\n",
       "      <th></th>\n",
       "      <th></th>\n",
       "      <th></th>\n",
       "      <th></th>\n",
       "      <th></th>\n",
       "    </tr>\n",
       "  </thead>\n",
       "  <tbody>\n",
       "    <tr>\n",
       "      <th>cuteSV.DEL.65</th>\n",
       "      <td>chr1</td>\n",
       "      <td>934452</td>\n",
       "      <td>934804</td>\n",
       "      <td>cuteSV.DEL.65</td>\n",
       "      <td>351</td>\n",
       "      <td>2</td>\n",
       "      <td>1</td>\n",
       "      <td>21</td>\n",
       "      <td>7</td>\n",
       "      <td>11</td>\n",
       "      <td>...</td>\n",
       "      <td>2</td>\n",
       "      <td>1</td>\n",
       "      <td>10</td>\n",
       "      <td>7</td>\n",
       "      <td>5</td>\n",
       "      <td>4</td>\n",
       "      <td>1</td>\n",
       "      <td>1</td>\n",
       "      <td>Exist</td>\n",
       "      <td>True</td>\n",
       "    </tr>\n",
       "    <tr>\n",
       "      <th>cuteSV.INS.47</th>\n",
       "      <td>chr1</td>\n",
       "      <td>988826</td>\n",
       "      <td>988827</td>\n",
       "      <td>cuteSV.INS.47</td>\n",
       "      <td>50</td>\n",
       "      <td>1</td>\n",
       "      <td>1</td>\n",
       "      <td>15</td>\n",
       "      <td>4</td>\n",
       "      <td>11</td>\n",
       "      <td>...</td>\n",
       "      <td>1</td>\n",
       "      <td>1</td>\n",
       "      <td>11</td>\n",
       "      <td>4</td>\n",
       "      <td>9</td>\n",
       "      <td>4</td>\n",
       "      <td>2</td>\n",
       "      <td>2</td>\n",
       "      <td>Exist</td>\n",
       "      <td>True</td>\n",
       "    </tr>\n",
       "    <tr>\n",
       "      <th>cuteSV.DEL.227</th>\n",
       "      <td>chr1</td>\n",
       "      <td>1666973</td>\n",
       "      <td>1667141</td>\n",
       "      <td>cuteSV.DEL.227</td>\n",
       "      <td>167</td>\n",
       "      <td>48</td>\n",
       "      <td>9</td>\n",
       "      <td>16</td>\n",
       "      <td>9</td>\n",
       "      <td>14</td>\n",
       "      <td>...</td>\n",
       "      <td>48</td>\n",
       "      <td>6</td>\n",
       "      <td>11</td>\n",
       "      <td>5</td>\n",
       "      <td>11</td>\n",
       "      <td>5</td>\n",
       "      <td>0</td>\n",
       "      <td>0</td>\n",
       "      <td>Exist</td>\n",
       "      <td>True</td>\n",
       "    </tr>\n",
       "    <tr>\n",
       "      <th>cuteSV.INS.124</th>\n",
       "      <td>chr1</td>\n",
       "      <td>1924215</td>\n",
       "      <td>1924216</td>\n",
       "      <td>cuteSV.INS.124</td>\n",
       "      <td>98</td>\n",
       "      <td>41</td>\n",
       "      <td>7</td>\n",
       "      <td>13</td>\n",
       "      <td>6</td>\n",
       "      <td>12</td>\n",
       "      <td>...</td>\n",
       "      <td>41</td>\n",
       "      <td>4</td>\n",
       "      <td>9</td>\n",
       "      <td>3</td>\n",
       "      <td>9</td>\n",
       "      <td>3</td>\n",
       "      <td>0</td>\n",
       "      <td>0</td>\n",
       "      <td>Exist</td>\n",
       "      <td>True</td>\n",
       "    </tr>\n",
       "    <tr>\n",
       "      <th>cuteSV.INS.137</th>\n",
       "      <td>chr1</td>\n",
       "      <td>1993704</td>\n",
       "      <td>1993705</td>\n",
       "      <td>cuteSV.INS.137</td>\n",
       "      <td>143</td>\n",
       "      <td>63</td>\n",
       "      <td>8</td>\n",
       "      <td>17</td>\n",
       "      <td>8</td>\n",
       "      <td>16</td>\n",
       "      <td>...</td>\n",
       "      <td>63</td>\n",
       "      <td>11</td>\n",
       "      <td>38</td>\n",
       "      <td>10</td>\n",
       "      <td>38</td>\n",
       "      <td>10</td>\n",
       "      <td>0</td>\n",
       "      <td>0</td>\n",
       "      <td>Exist</td>\n",
       "      <td>True</td>\n",
       "    </tr>\n",
       "    <tr>\n",
       "      <th>...</th>\n",
       "      <td>...</td>\n",
       "      <td>...</td>\n",
       "      <td>...</td>\n",
       "      <td>...</td>\n",
       "      <td>...</td>\n",
       "      <td>...</td>\n",
       "      <td>...</td>\n",
       "      <td>...</td>\n",
       "      <td>...</td>\n",
       "      <td>...</td>\n",
       "      <td>...</td>\n",
       "      <td>...</td>\n",
       "      <td>...</td>\n",
       "      <td>...</td>\n",
       "      <td>...</td>\n",
       "      <td>...</td>\n",
       "      <td>...</td>\n",
       "      <td>...</td>\n",
       "      <td>...</td>\n",
       "      <td>...</td>\n",
       "      <td>...</td>\n",
       "    </tr>\n",
       "    <tr>\n",
       "      <th>cuteSV.DEL.267736</th>\n",
       "      <td>chrX</td>\n",
       "      <td>148428176</td>\n",
       "      <td>148429714</td>\n",
       "      <td>cuteSV.DEL.267736</td>\n",
       "      <td>1537</td>\n",
       "      <td>18</td>\n",
       "      <td>1</td>\n",
       "      <td>32</td>\n",
       "      <td>12</td>\n",
       "      <td>0</td>\n",
       "      <td>...</td>\n",
       "      <td>18</td>\n",
       "      <td>4</td>\n",
       "      <td>9</td>\n",
       "      <td>5</td>\n",
       "      <td>3</td>\n",
       "      <td>2</td>\n",
       "      <td>0</td>\n",
       "      <td>0</td>\n",
       "      <td>Exist</td>\n",
       "      <td>True</td>\n",
       "    </tr>\n",
       "    <tr>\n",
       "      <th>cuteSV.DEL.267920</th>\n",
       "      <td>chrX</td>\n",
       "      <td>150759458</td>\n",
       "      <td>150760376</td>\n",
       "      <td>cuteSV.DEL.267920</td>\n",
       "      <td>917</td>\n",
       "      <td>21</td>\n",
       "      <td>1</td>\n",
       "      <td>49</td>\n",
       "      <td>16</td>\n",
       "      <td>0</td>\n",
       "      <td>...</td>\n",
       "      <td>21</td>\n",
       "      <td>4</td>\n",
       "      <td>18</td>\n",
       "      <td>7</td>\n",
       "      <td>6</td>\n",
       "      <td>3</td>\n",
       "      <td>1</td>\n",
       "      <td>1</td>\n",
       "      <td>Exist</td>\n",
       "      <td>True</td>\n",
       "    </tr>\n",
       "    <tr>\n",
       "      <th>cuteSV.DEL.267964</th>\n",
       "      <td>chrX</td>\n",
       "      <td>151125467</td>\n",
       "      <td>151127233</td>\n",
       "      <td>cuteSV.DEL.267964</td>\n",
       "      <td>1765</td>\n",
       "      <td>23</td>\n",
       "      <td>1</td>\n",
       "      <td>42</td>\n",
       "      <td>14</td>\n",
       "      <td>0</td>\n",
       "      <td>...</td>\n",
       "      <td>23</td>\n",
       "      <td>8</td>\n",
       "      <td>23</td>\n",
       "      <td>8</td>\n",
       "      <td>19</td>\n",
       "      <td>7</td>\n",
       "      <td>4</td>\n",
       "      <td>1</td>\n",
       "      <td>Exist</td>\n",
       "      <td>True</td>\n",
       "    </tr>\n",
       "    <tr>\n",
       "      <th>cuteSV.DEL.267965</th>\n",
       "      <td>chrX</td>\n",
       "      <td>151127043</td>\n",
       "      <td>151127152</td>\n",
       "      <td>cuteSV.DEL.267965</td>\n",
       "      <td>108</td>\n",
       "      <td>1</td>\n",
       "      <td>1</td>\n",
       "      <td>11</td>\n",
       "      <td>4</td>\n",
       "      <td>0</td>\n",
       "      <td>...</td>\n",
       "      <td>1</td>\n",
       "      <td>1</td>\n",
       "      <td>19</td>\n",
       "      <td>7</td>\n",
       "      <td>19</td>\n",
       "      <td>7</td>\n",
       "      <td>0</td>\n",
       "      <td>0</td>\n",
       "      <td>Exist</td>\n",
       "      <td>True</td>\n",
       "    </tr>\n",
       "    <tr>\n",
       "      <th>cuteSV.DEL.267966</th>\n",
       "      <td>chrX</td>\n",
       "      <td>151127194</td>\n",
       "      <td>151127270</td>\n",
       "      <td>cuteSV.DEL.267966</td>\n",
       "      <td>75</td>\n",
       "      <td>1</td>\n",
       "      <td>1</td>\n",
       "      <td>11</td>\n",
       "      <td>4</td>\n",
       "      <td>0</td>\n",
       "      <td>...</td>\n",
       "      <td>1</td>\n",
       "      <td>1</td>\n",
       "      <td>22</td>\n",
       "      <td>9</td>\n",
       "      <td>19</td>\n",
       "      <td>7</td>\n",
       "      <td>3</td>\n",
       "      <td>2</td>\n",
       "      <td>Exist</td>\n",
       "      <td>True</td>\n",
       "    </tr>\n",
       "  </tbody>\n",
       "</table>\n",
       "<p>9447 rows × 24 columns</p>\n",
       "</div>"
      ],
      "text/plain": [
       "                  Chrom      Start        End               Name  Length  \\\n",
       "Name                                                                       \n",
       "cuteSV.DEL.65      chr1     934452     934804      cuteSV.DEL.65     351   \n",
       "cuteSV.INS.47      chr1     988826     988827      cuteSV.INS.47      50   \n",
       "cuteSV.DEL.227     chr1    1666973    1667141     cuteSV.DEL.227     167   \n",
       "cuteSV.INS.124     chr1    1924215    1924216     cuteSV.INS.124      98   \n",
       "cuteSV.INS.137     chr1    1993704    1993705     cuteSV.INS.137     143   \n",
       "...                 ...        ...        ...                ...     ...   \n",
       "cuteSV.DEL.267736  chrX  148428176  148429714  cuteSV.DEL.267736    1537   \n",
       "cuteSV.DEL.267920  chrX  150759458  150760376  cuteSV.DEL.267920     917   \n",
       "cuteSV.DEL.267964  chrX  151125467  151127233  cuteSV.DEL.267964    1765   \n",
       "cuteSV.DEL.267965  chrX  151127043  151127152  cuteSV.DEL.267965     108   \n",
       "cuteSV.DEL.267966  chrX  151127194  151127270  cuteSV.DEL.267966      75   \n",
       "\n",
       "                   SupportRead_HP1  SupportCell_HP1  OverlapRead_HP1  \\\n",
       "Name                                                                   \n",
       "cuteSV.DEL.65                    2                1               21   \n",
       "cuteSV.INS.47                    1                1               15   \n",
       "cuteSV.DEL.227                  48                9               16   \n",
       "cuteSV.INS.124                  41                7               13   \n",
       "cuteSV.INS.137                  63                8               17   \n",
       "...                            ...              ...              ...   \n",
       "cuteSV.DEL.267736               18                1               32   \n",
       "cuteSV.DEL.267920               21                1               49   \n",
       "cuteSV.DEL.267964               23                1               42   \n",
       "cuteSV.DEL.267965                1                1               11   \n",
       "cuteSV.DEL.267966                1                1               11   \n",
       "\n",
       "                   OverlapCell_HP1  AgreeRead_HP1  ...  SupportRead_HP2  \\\n",
       "Name                                               ...                    \n",
       "cuteSV.DEL.65                    7             11  ...                2   \n",
       "cuteSV.INS.47                    4             11  ...                1   \n",
       "cuteSV.DEL.227                   9             14  ...               48   \n",
       "cuteSV.INS.124                   6             12  ...               41   \n",
       "cuteSV.INS.137                   8             16  ...               63   \n",
       "...                            ...            ...  ...              ...   \n",
       "cuteSV.DEL.267736               12              0  ...               18   \n",
       "cuteSV.DEL.267920               16              0  ...               21   \n",
       "cuteSV.DEL.267964               14              0  ...               23   \n",
       "cuteSV.DEL.267965                4              0  ...                1   \n",
       "cuteSV.DEL.267966                4              0  ...                1   \n",
       "\n",
       "                   SupportCell_HP2  OverlapRead_HP2 OverlapCell_HP2  \\\n",
       "Name                                                                  \n",
       "cuteSV.DEL.65                    1               10               7   \n",
       "cuteSV.INS.47                    1               11               4   \n",
       "cuteSV.DEL.227                   6               11               5   \n",
       "cuteSV.INS.124                   4                9               3   \n",
       "cuteSV.INS.137                  11               38              10   \n",
       "...                            ...              ...             ...   \n",
       "cuteSV.DEL.267736                4                9               5   \n",
       "cuteSV.DEL.267920                4               18               7   \n",
       "cuteSV.DEL.267964                8               23               8   \n",
       "cuteSV.DEL.267965                1               19               7   \n",
       "cuteSV.DEL.267966                1               22               9   \n",
       "\n",
       "                   AgreeRead_HP2  AgreeCell_HP2  DisagreeRead_HP2  \\\n",
       "Name                                                                \n",
       "cuteSV.DEL.65                  5              4                 1   \n",
       "cuteSV.INS.47                  9              4                 2   \n",
       "cuteSV.DEL.227                11              5                 0   \n",
       "cuteSV.INS.124                 9              3                 0   \n",
       "cuteSV.INS.137                38             10                 0   \n",
       "...                          ...            ...               ...   \n",
       "cuteSV.DEL.267736              3              2                 0   \n",
       "cuteSV.DEL.267920              6              3                 1   \n",
       "cuteSV.DEL.267964             19              7                 4   \n",
       "cuteSV.DEL.267965             19              7                 0   \n",
       "cuteSV.DEL.267966             19              7                 3   \n",
       "\n",
       "                   DisagreeCell_HP2  Existence_HP2  Benchmark  \n",
       "Name                                                           \n",
       "cuteSV.DEL.65                     1          Exist       True  \n",
       "cuteSV.INS.47                     2          Exist       True  \n",
       "cuteSV.DEL.227                    0          Exist       True  \n",
       "cuteSV.INS.124                    0          Exist       True  \n",
       "cuteSV.INS.137                    0          Exist       True  \n",
       "...                             ...            ...        ...  \n",
       "cuteSV.DEL.267736                 0          Exist       True  \n",
       "cuteSV.DEL.267920                 1          Exist       True  \n",
       "cuteSV.DEL.267964                 1          Exist       True  \n",
       "cuteSV.DEL.267965                 0          Exist       True  \n",
       "cuteSV.DEL.267966                 2          Exist       True  \n",
       "\n",
       "[9447 rows x 24 columns]"
      ]
     },
     "execution_count": 164,
     "metadata": {},
     "output_type": "execute_result"
    }
   ],
   "source": [
    "d1 = dat[(dat[\"Existence_HP1\"] == \"Exist\") & (dat[\"Existence_HP2\"] == \"Exist\")] # HOM\n",
    "d2 = dat[(dat[\"Existence_HP1\"] == \"Exist\") & (dat[\"Existence_HP2\"] == \"NotExist\")] # HET on HP1\n",
    "d3 = dat[(dat[\"Existence_HP1\"] == \"NotExist\") & (dat[\"Existence_HP2\"] == \"Exist\")] # HET on HP2\n",
    "print(len(d1), len(d2), len(d3))\n",
    "\n",
    "dat_phased = pd.concat([d1, d2, d3])\n",
    "dat_phased"
   ]
  },
  {
   "cell_type": "code",
   "execution_count": 167,
   "id": "d71f88cf",
   "metadata": {
    "ExecuteTime": {
     "end_time": "2023-05-16T09:40:41.462441Z",
     "start_time": "2023-05-16T09:40:41.452490Z"
    }
   },
   "outputs": [],
   "source": [
    "phased_svs = set(dat_phased[\"Name\"])"
   ]
  },
  {
   "cell_type": "code",
   "execution_count": 168,
   "id": "4908733d",
   "metadata": {
    "ExecuteTime": {
     "end_time": "2023-05-16T09:41:01.825649Z",
     "start_time": "2023-05-16T09:40:46.694811Z"
    }
   },
   "outputs": [],
   "source": [
    "fw = open(\"phased_sequences.fasta\", \"w+\")\n",
    "with pysam.VariantFile(\"../../1_NanoStrandseq/results/assembly/HG001_Cell300/sv/concat/cuteSV.vcf.gz\") as f:\n",
    "    sample = list(f.header.samples)[0]\n",
    "    for record in f:\n",
    "        svtype = record.info[\"SVTYPE\"]\n",
    "        ref, alt = record.ref, record.alts[0]\n",
    "        chrom = record.contig\n",
    "        start = record.start\n",
    "        stop = record.stop\n",
    "        name = record.id\n",
    "        if svtype == \"INS\":\n",
    "            seq = alt[1:]\n",
    "            start = record.start\n",
    "            end = record.stop\n",
    "        elif svtype == \"DEL\":\n",
    "            seq = seq[1:]\n",
    "            start = record.start\n",
    "            end = record.stop\n",
    "        else:\n",
    "            continue\n",
    "        if name not in phased_svs:\n",
    "            continue\n",
    "        fw.write(\">%s %s:%d-%d\\n\" % (name, chrom, start, end))\n",
    "        fw.write(\"%s\\n\" % seq)\n",
    "fw.close()"
   ]
  },
  {
   "cell_type": "code",
   "execution_count": null,
   "id": "9fd38e1e",
   "metadata": {},
   "outputs": [],
   "source": [
    "! RepeatMasker -pa 24 -species human -poly -html -gff -dir phased_sequences_rmsk phased_sequences.fasta > phased_sequences_rmsk.log"
   ]
  },
  {
   "cell_type": "code",
   "execution_count": 169,
   "id": "66fa0543",
   "metadata": {
    "ExecuteTime": {
     "end_time": "2023-05-16T09:44:00.879607Z",
     "start_time": "2023-05-16T09:44:00.800727Z"
    }
   },
   "outputs": [],
   "source": [
    "data = defaultdict(list)\n",
    "with open(\"phased_sequences_rmsk/phased_sequences.fasta.out\") as f:\n",
    "    for line in f.readlines()[3:]:\n",
    "        row = line.split()\n",
    "        if row[8] == \"+\":\n",
    "            begin, end, left = int(row[11]), int(row[12]), int(row[13][1:-1])\n",
    "        elif row[8] == \"C\":\n",
    "            left, end, begin = int(row[11][1:-1]), int(row[12]), int(row[13])\n",
    "        element_length = end + left\n",
    "        ratio = (end - begin) / element_length\n",
    "        name = row[10]\n",
    "        if name == \"Unknown\":\n",
    "            continue\n",
    "        if name.startswith(\"LINE\") or name.startswith(\"SINE\") or name.startswith(\"LTR\") or name.startswith(\"Satellite\"): #  or name.startswith(\"DNA\"):\n",
    "            data[row[4]].append(row[10])"
   ]
  },
  {
   "cell_type": "code",
   "execution_count": 170,
   "id": "b17e0373",
   "metadata": {
    "ExecuteTime": {
     "end_time": "2023-05-16T09:44:05.181382Z",
     "start_time": "2023-05-16T09:44:05.136252Z"
    }
   },
   "outputs": [],
   "source": [
    "def counting(elements):\n",
    "    line = 0\n",
    "    sine = 0\n",
    "    ltr = 0\n",
    "    tandem_repeat = 0\n",
    "    for e in elements:\n",
    "        if e.startswith(\"LINE\"):\n",
    "            line += 1\n",
    "        if e.startswith(\"SINE\"):\n",
    "            sine += 1\n",
    "        if e.startswith(\"LTR\"):\n",
    "            ltr += 1\n",
    "        if e.startswith(\"Satellite\"):\n",
    "            tandem_repeat += 1\n",
    "    return line, ltr, sine, tandem_repeat\n",
    "\n",
    "counts = np.zeros(5)\n",
    "counter = defaultdict(int)\n",
    "for name, elements in data.items():\n",
    "    if len(elements) == 0:\n",
    "        continue\n",
    "    line, ltr, sine, tandem_repeat = counting(elements)\n",
    "    ss = []\n",
    "    if line > 0:\n",
    "        ss.append(\"%d LINE\" % line)\n",
    "    if ltr > 0:\n",
    "        ss.append(\"%d LTR\" % ltr)\n",
    "    if sine > 0:\n",
    "        ss.append(\"%d SINE\" % sine)\n",
    "    if tandem_repeat > 0:\n",
    "        ss.append(\"%d Tandem repeat\" % tandem_repeat)\n",
    "    s = \" + \".join(ss)\n",
    "    if len(elements) > 1:\n",
    "        counter[s] += 1\n",
    "    if len(elements) == 1:\n",
    "        if line == 1:\n",
    "            counts[0] += 1\n",
    "        elif ltr == 1:\n",
    "            counts[1] += 1\n",
    "        elif sine == 1:\n",
    "            counts[2] += 1\n",
    "        elif tandem_repeat == 1:\n",
    "            counts[3] += 1\n",
    "        else:\n",
    "            pass\n",
    "            # counts[5] += 1\n",
    "    else:\n",
    "        counts[4] += 1"
   ]
  },
  {
   "cell_type": "code",
   "execution_count": 171,
   "id": "e2225cb9",
   "metadata": {
    "ExecuteTime": {
     "end_time": "2023-05-16T09:44:07.020379Z",
     "start_time": "2023-05-16T09:44:07.010201Z"
    }
   },
   "outputs": [
    {
     "data": {
      "text/plain": [
       "array([0.13284609, 0.07738607, 0.52493551, 0.0533104 , 0.21152193])"
      ]
     },
     "execution_count": 171,
     "metadata": {},
     "output_type": "execute_result"
    }
   ],
   "source": [
    "counts / sum(counts)"
   ]
  },
  {
   "cell_type": "code",
   "execution_count": 172,
   "id": "30b40455",
   "metadata": {
    "ExecuteTime": {
     "end_time": "2023-05-16T09:44:07.197376Z",
     "start_time": "2023-05-16T09:44:07.187895Z"
    }
   },
   "outputs": [
    {
     "data": {
      "text/plain": [
       "array([ 309.,  180., 1221.,  124.,  492.])"
      ]
     },
     "execution_count": 172,
     "metadata": {},
     "output_type": "execute_result"
    }
   ],
   "source": [
    "counts"
   ]
  },
  {
   "cell_type": "code",
   "execution_count": 173,
   "id": "95e47d04",
   "metadata": {
    "ExecuteTime": {
     "end_time": "2023-05-16T09:44:13.721469Z",
     "start_time": "2023-05-16T09:44:13.415584Z"
    }
   },
   "outputs": [
    {
     "data": {
      "image/png": "[encoded data removed]",
      "text/plain": [
       "<Figure size 288x216 with 1 Axes>"
      ]
     },
     "metadata": {},
     "output_type": "display_data"
    }
   ],
   "source": [
    "plt.figure(figsize=(4, 3))\n",
    "plt.pie(counts, autopct=\"%.1f%%\", pctdistance=0.8,\n",
    "        labels=[\"LINE\", \"LTR\", \"SINE\", \"Tandem repeat\", \"Multiple repeats\"])\n",
    "plt.tight_layout()\n",
    "plt.savefig(\"figures/phased_repeat_distribution_pie.pdf\", dpi=300)"
   ]
  },
  {
   "cell_type": "code",
   "execution_count": 174,
   "id": "34e31fb2",
   "metadata": {
    "ExecuteTime": {
     "end_time": "2023-05-16T09:44:19.357250Z",
     "start_time": "2023-05-16T09:44:18.731927Z"
    }
   },
   "outputs": [
    {
     "data": {
      "image/png": "[encoded data removed]",
      "text/plain": [
       "<Figure size 432x216 with 1 Axes>"
      ]
     },
     "metadata": {
      "needs_background": "light"
     },
     "output_type": "display_data"
    }
   ],
   "source": [
    "items = list(sorted(counter.items(), key=lambda item: item[1], reverse=True))\n",
    "items = items[:20]\n",
    "\n",
    "ys = [item[1] for item in items]\n",
    "xs = np.arange(len(ys))\n",
    "ticks = [item[0] for item in items]\n",
    "\n",
    "plt.figure(figsize=(6, 3))\n",
    "plt.bar(xs, ys, edgecolor=\"black\", width=0.8)\n",
    "plt.xticks(xs, ticks, rotation=45, ha=\"right\")\n",
    "plt.xlim(min(xs) - 0.5, max(xs) + 0.5)\n",
    "plt.ylabel(\"Count\")\n",
    "plt.tight_layout()\n",
    "plt.savefig(\"figures/phased_multiple_repeat_distribution_bar.pdf\", dpi=300)"
   ]
  },
  {
   "cell_type": "code",
   "execution_count": null,
   "id": "12d5c5b8",
   "metadata": {},
   "outputs": [],
   "source": []
  }
 ],
 "metadata": {
  "kernelspec": {
   "display_name": "Python 3",
   "language": "python",
   "name": "python3"
  },
  "language_info": {
   "codemirror_mode": {
    "name": "ipython",
    "version": 3
   },
   "file_extension": ".py",
   "mimetype": "text/x-python",
   "name": "python",
   "nbconvert_exporter": "python",
   "pygments_lexer": "ipython3",
   "version": "3.6.15"
  }
 },
 "nbformat": 4,
 "nbformat_minor": 5
}
