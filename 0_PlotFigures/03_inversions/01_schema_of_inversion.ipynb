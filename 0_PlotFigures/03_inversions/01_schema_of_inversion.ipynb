{
 "cells": [
  {
   "cell_type": "code",
   "execution_count": 2,
   "id": "2bec582c",
   "metadata": {
    "ExecuteTime": {
     "end_time": "2024-01-25T02:59:57.016501Z",
     "start_time": "2024-01-25T02:59:56.499795Z"
    }
   },
   "outputs": [],
   "source": [
    "import numpy as np\n",
    "import matplotlib.pyplot as plt"
   ]
  },
  {
   "cell_type": "code",
   "execution_count": 5,
   "id": "68dfa135",
   "metadata": {
    "ExecuteTime": {
     "end_time": "2024-01-25T03:00:39.171374Z",
     "start_time": "2024-01-25T03:00:35.580687Z"
    }
   },
   "outputs": [
    {
     "data": {
      "image/png": "[encoded data removed]",
      "text/plain": [
       "<Figure size 108x201.6 with 1 Axes>"
      ]
     },
     "metadata": {},
     "output_type": "display_data"
    },
    {
     "data": {
      "image/png": "[encoded data removed]",
      "text/plain": [
       "<Figure size 108x201.6 with 1 Axes>"
      ]
     },
     "metadata": {},
     "output_type": "display_data"
    },
    {
     "data": {
      "image/png": "[encoded data removed]",
      "text/plain": [
       "<Figure size 108x201.6 with 1 Axes>"
      ]
     },
     "metadata": {},
     "output_type": "display_data"
    },
    {
     "data": {
      "image/png": "[encoded data removed]",
      "text/plain": [
       "<Figure size 108x201.6 with 1 Axes>"
      ]
     },
     "metadata": {},
     "output_type": "display_data"
    }
   ],
   "source": [
    "# color_c = (107/255, 137/255, 138/255)\n",
    "# color_w = (248/255, 173/255, 97/255)\n",
    "\n",
    "# color_c = \"C0\"\n",
    "# color_w = \"C1\"\n",
    "\n",
    "color_c = (135/255, 169/255, 235/255)\n",
    "color_w = (248/255, 173/255, 97/255)\n",
    "\n",
    "ys = np.arange(100) + 0.5\n",
    "np.random.seed(0)\n",
    "xs1 = np.random.random(100) * 40 + 80\n",
    "xs2 = np.random.random(100) * 40 + 80\n",
    "xmax = max(xs1 + xs2)\n",
    "\n",
    "width = 1.5\n",
    "height = 2.8\n",
    "\n",
    "plt.figure(figsize=(width, height))\n",
    "xs_c = xs1.copy()\n",
    "xs_w = xs2.copy()\n",
    "for i in range(4, 7):\n",
    "    v = xs_w[i]\n",
    "    xs_c[i] += v\n",
    "    xs_w[i] -= v\n",
    "plt.barh(ys, xs_c, color=color_c, height=1)\n",
    "plt.barh(ys, -xs_w, color=color_w, height=1)\n",
    "plt.plot([0, 0], [0, 100], color=\"black\", lw=2)\n",
    "plt.scatter(-xmax * 1.05, 5 + 0.5, marker=\">\", color=\"red\", clip_on=False)\n",
    "plt.xticks([])\n",
    "plt.xlim(-xmax, xmax)\n",
    "plt.xlabel(\"WC\")\n",
    "plt.ylim(0, 100)\n",
    "plt.yticks([])\n",
    "for k, v in plt.gca().spines.items():\n",
    "    v.set_visible(False)\n",
    "plt.tight_layout()\n",
    "plt.savefig(\"figures/inversion_het_cw.pdf\", dpi=300)\n",
    "\n",
    "xs_c = xs1 + xs2\n",
    "xs_w = np.zeros(len(xs_c))\n",
    "for i in range(4, 7):\n",
    "    v = int(xs_c[i] * (np.random.random() * 0.1 + 0.45))\n",
    "    xs_w[i] += v\n",
    "    xs_c[i] -= v\n",
    "plt.figure(figsize=(width, height))\n",
    "plt.barh(ys, xs_c, color=color_c, height=1)\n",
    "plt.barh(ys, -xs_w, color=color_w, height=1)\n",
    "plt.plot([0, 0], [0, 100], color=\"black\", lw=2)\n",
    "plt.scatter(-xmax * 1.05, 5 + 0.5, marker=\">\", color=\"red\", clip_on=False)\n",
    "plt.xticks([])\n",
    "plt.xlim(-xmax, xmax)\n",
    "plt.xlabel(\"CC\")\n",
    "plt.ylim(0, 100)\n",
    "plt.yticks([])\n",
    "for k, v in plt.gca().spines.items():\n",
    "    v.set_visible(False)\n",
    "plt.tight_layout()\n",
    "plt.savefig(\"figures/inversion_het_cc.pdf\", dpi=300)\n",
    "\n",
    "plt.figure(figsize=(width, height))\n",
    "xs_c = xs1.copy()\n",
    "xs_w = xs2.copy()\n",
    "for i in range(4, 7):\n",
    "    xs_c[i], xs_w[i] = xs_w[i], xs_c[i]\n",
    "    # xs_w[i] -= v\n",
    "plt.barh(ys, xs_c, color=color_c, height=1)\n",
    "plt.barh(ys, -xs_w, color=color_w, height=1)\n",
    "plt.plot([0, 0], [0, 100], color=\"black\", lw=2)\n",
    "plt.scatter(-xmax * 1.05, 5 + 0.5, marker=\">\", color=\"red\", clip_on=False)\n",
    "plt.xticks([])\n",
    "plt.xlim(-xmax, xmax)\n",
    "plt.xlabel(\"WC\")\n",
    "plt.ylim(0, 100)\n",
    "plt.yticks([])\n",
    "for k, v in plt.gca().spines.items():\n",
    "    v.set_visible(False)\n",
    "plt.tight_layout()\n",
    "plt.savefig(\"figures/inversion_hom_cw.pdf\", dpi=300)\n",
    "\n",
    "xs_c = xs1 + xs2\n",
    "xs_w = np.zeros(len(xs_c))\n",
    "for i in range(4, 7):\n",
    "    xs_c[i], xs_w[i] = xs_w[i], xs_c[i]\n",
    "plt.figure(figsize=(width, height))\n",
    "plt.barh(ys, xs_c, color=color_c, height=1)\n",
    "plt.barh(ys, -xs_w, color=color_w, height=1)\n",
    "plt.plot([0, 0], [0, 100], color=\"black\", lw=2)\n",
    "plt.scatter(-xmax * 1.05, 5 + 0.5, marker=\">\", color=\"red\", clip_on=False)\n",
    "plt.xticks([])\n",
    "plt.xlim(-xmax, xmax)\n",
    "plt.xlabel(\"CC\")\n",
    "plt.ylim(0, 100)\n",
    "plt.yticks([])\n",
    "for k, v in plt.gca().spines.items():\n",
    "    v.set_visible(False)\n",
    "plt.tight_layout()\n",
    "plt.savefig(\"figures/inversion_hom_cc.pdf\", dpi=300)"
   ]
  }
 ],
 "metadata": {
  "kernelspec": {
   "display_name": "Python 3",
   "language": "python",
   "name": "python3"
  },
  "language_info": {
   "codemirror_mode": {
    "name": "ipython",
    "version": 3
   },
   "file_extension": ".py",
   "mimetype": "text/x-python",
   "name": "python",
   "nbconvert_exporter": "python",
   "pygments_lexer": "ipython3",
   "version": "3.6.15"
  }
 },
 "nbformat": 4,
 "nbformat_minor": 5
}
