{
 "cells": [
  {
   "cell_type": "code",
   "execution_count": 22,
   "id": "2bec582c",
   "metadata": {
    "ExecuteTime": {
     "end_time": "2024-01-30T02:14:12.879955Z",
     "start_time": "2024-01-30T02:14:11.696945Z"
    },
    "execution": {
     "iopub.execute_input": "2024-04-10T07:07:36.847902Z",
     "iopub.status.busy": "2024-04-10T07:07:36.847599Z",
     "iopub.status.idle": "2024-04-10T07:07:36.850607Z",
     "shell.execute_reply": "2024-04-10T07:07:36.850203Z",
     "shell.execute_reply.started": "2024-04-10T07:07:36.847883Z"
    }
   },
   "outputs": [],
   "source": [
    "import gzip\n",
    "import pandas as pd\n",
    "import matplotlib.pyplot as plt\n",
    "from matplotlib_venn import *\n",
    "from pyBioInfo.IO.File import GffFile, BedFile\n",
    "from pyBioInfo.Utils import ShiftLoader"
   ]
  },
  {
   "cell_type": "markdown",
   "id": "94a6bd6a",
   "metadata": {},
   "source": [
    "# Make HG001 inversion reference from cell paper\n",
    "\n",
    "Porubsky, D., W. Höps, H. Ashraf, P. Hsieh, B. Rodriguez-Martin, F. Yilmaz, J. Ebler, et al. \"Recurrent Inversion Polymorphisms in Humans Associate with Genetic Instability and Genomic Disorders.\" [In eng]. Cell 185, no. 11 (May 26 2022): 1986-2005.e26.\n"
   ]
  },
  {
   "cell_type": "code",
   "execution_count": 23,
   "id": "a89fc663",
   "metadata": {
    "ExecuteTime": {
     "end_time": "2023-10-13T04:31:27.382089Z",
     "start_time": "2023-10-13T04:31:24.424712Z"
    },
    "execution": {
     "iopub.execute_input": "2024-04-10T07:07:52.561201Z",
     "iopub.status.busy": "2024-04-10T07:07:52.560894Z",
     "iopub.status.idle": "2024-04-10T07:07:56.924270Z",
     "shell.execute_reply": "2024-04-10T07:07:56.923361Z",
     "shell.execute_reply.started": "2024-04-10T07:07:52.561182Z"
    }
   },
   "outputs": [],
   "source": [
    "dat = pd.read_excel(\"data/inversions_from_cell_paper.xlsx\", sheet_name=\"2AGRCh38_unifiedCallset\")\n",
    "f_gff = \"results/inversions_from_porubsky/inversions_cell_paper.gff\"\n",
    "with open(f_gff, \"w+\") as fw:\n",
    "    for chrom, start, end, iden in dat[[\"seqnames\", \"start\", \"end\", \"inv_id\"]].values:\n",
    "        attributes = \"ID=%s\" % iden\n",
    "        row = [chrom, \"CellPaper\", \"Inversion\", start + 1, end, \".\", \"+\", \".\", attributes]\n",
    "        line = \"\\t\".join(map(str, row))\n",
    "        fw.write(line + \"\\n\")    \n",
    "! bgzip -f {f_gff}\n",
    "! tabix -p gff -f {f_gff}.gz"
   ]
  },
  {
   "cell_type": "code",
   "execution_count": 24,
   "id": "42041fbb",
   "metadata": {
    "ExecuteTime": {
     "end_time": "2023-10-12T15:23:32.792324Z",
     "start_time": "2023-10-12T15:23:25.812208Z"
    },
    "execution": {
     "iopub.execute_input": "2024-04-10T07:08:04.017372Z",
     "iopub.status.busy": "2024-04-10T07:08:04.017056Z",
     "iopub.status.idle": "2024-04-10T07:08:05.748365Z",
     "shell.execute_reply": "2024-04-10T07:08:05.747578Z",
     "shell.execute_reply.started": "2024-04-10T07:08:04.017351Z"
    }
   },
   "outputs": [],
   "source": [
    "dat = pd.read_excel(\"data/inversions_from_cell_paper.xlsx\", sheet_name=\"2AGRCh38_unifiedCallset\")\n",
    "availables = [\"1|0\", \"1|1\", \"0|1\", \"1|0_lowconf\", \"1|1_lowconf\", \"0|1_lowconf\"]\n",
    "dat = dat[dat[\"NA12878\"].isin(availables)]\n",
    "f_gff = \"results/inversions_from_porubsky/inversions_na12878.gff\"\n",
    "with open(f_gff, \"w+\") as fw:\n",
    "    for chrom, start, end, iden, gt in dat[[\"seqnames\", \"start\", \"end\", \"inv_id\", \"NA12878\"]].values:\n",
    "        attributes = \"ID=%s;GenoType=%s\" % (iden, gt)\n",
    "        row = [chrom, \"CellPaper\", \"Inversion\", start + 1, end, \".\", \"+\", \".\", attributes]\n",
    "        line = \"\\t\".join(map(str, row))\n",
    "        fw.write(line + \"\\n\")    \n",
    "! bgzip -f {f_gff}\n",
    "! tabix -p gff -f {f_gff}.gz"
   ]
  },
  {
   "cell_type": "markdown",
   "id": "262b33c8",
   "metadata": {},
   "source": [
    "# Make inversions gff for NanoStrand-seq callsets"
   ]
  },
  {
   "cell_type": "code",
   "execution_count": 25,
   "id": "ea756948",
   "metadata": {
    "ExecuteTime": {
     "end_time": "2023-10-12T15:52:34.283883Z",
     "start_time": "2023-10-12T15:52:33.556342Z"
    },
    "execution": {
     "iopub.execute_input": "2024-04-10T07:09:01.056986Z",
     "iopub.status.busy": "2024-04-10T07:09:01.056645Z",
     "iopub.status.idle": "2024-04-10T07:09:03.142389Z",
     "shell.execute_reply": "2024-04-10T07:09:03.141661Z",
     "shell.execute_reply.started": "2024-04-10T07:09:01.056960Z"
    }
   },
   "outputs": [],
   "source": [
    "ncells = [50, 100, 150, 200, 250, 300, 350]\n",
    "for ncell in ncells:\n",
    "    f_bed = \"../../4_NanoStrandSeq_Phasing/results/HG001_Cell_%d/inversions/inversions.bed.gz\" % ncell\n",
    "    f_gff = \"results/inversions_from_directional/inversions_%d.gff\" % ncell\n",
    "    with gzip.open(f_bed, \"rt\") as f, open(f_gff, \"w+\") as fw:\n",
    "        iden = 0\n",
    "        for line in f:\n",
    "            row = line.strip(\"\\n\").split(\"\\t\")\n",
    "            chrom, start, end = row[:3]\n",
    "            start, end = int(start), int(end)\n",
    "            c, w, r = row[3].split(\";\")\n",
    "            c = int(c)\n",
    "            w = int(w)\n",
    "            confident = True\n",
    "            if c + w < 20:\n",
    "                confident = False\n",
    "            r = w / (c + w)\n",
    "            if r >= 0.9:\n",
    "                t = \"HOM\"\n",
    "            elif r > 0.6:\n",
    "                t = \"Uncertain\"\n",
    "                confident = False\n",
    "            elif r >= 0.4:\n",
    "                t = \"HET\"\n",
    "            else:\n",
    "                t = \"Uncertain\"\n",
    "                confident = False\n",
    "            attributes = \"ID=Inv.%d;Reads=%d;Crick=%d;Watson=%d;WatsonRatio=%f;Type=%s;Confident=%s\" % (iden, c + w, c, w, r, t, confident)\n",
    "            row = [chrom, \"NanoStrand-seq\", \"Inversion\", start + 1, end, \".\", \"+\", \".\", attributes]\n",
    "            line = \"\\t\".join(map(str, row))\n",
    "            fw.write(line + \"\\n\")\n",
    "            iden += 1\n",
    "    ! bgzip -f {f_gff}\n",
    "    ! tabix -p gff -f {f_gff}.gz"
   ]
  },
  {
   "cell_type": "markdown",
   "id": "00755f38",
   "metadata": {},
   "source": [
    "# Benchmark of inversion"
   ]
  },
  {
   "cell_type": "code",
   "execution_count": 26,
   "id": "22e3d95d",
   "metadata": {
    "ExecuteTime": {
     "end_time": "2024-01-30T02:14:14.913011Z",
     "start_time": "2024-01-30T02:14:14.828998Z"
    },
    "execution": {
     "iopub.execute_input": "2024-04-10T07:10:05.563178Z",
     "iopub.status.busy": "2024-04-10T07:10:05.562599Z",
     "iopub.status.idle": "2024-04-10T07:10:05.582853Z",
     "shell.execute_reply": "2024-04-10T07:10:05.582328Z",
     "shell.execute_reply.started": "2024-04-10T07:10:05.563156Z"
    }
   },
   "outputs": [
    {
     "name": "stdout",
     "output_type": "stream",
     "text": [
      "131\n",
      "339\n"
     ]
    }
   ],
   "source": [
    "f_gff1 = \"results/inversions_from_porubsky/inversions_na12878.gff.gz\"\n",
    "f_gff2 = \"results/inversions_from_directional/inversions_350.gff.gz\"\n",
    "\n",
    "with GffFile(f_gff1) as f:\n",
    "    inversions1 = [x for x in f]\n",
    "    print(len(inversions1))\n",
    "\n",
    "with GffFile(f_gff2) as f:\n",
    "    inversions2 = []\n",
    "    for x in f:\n",
    "        # if int(x.attributes[\"Reads\"]) >= 20 and float(x.attributes[\"WatsonRatio\"]) >= 0.25:\n",
    "        if x.attributes[\"Confident\"] == \"True\":\n",
    "            inversions2.append(x)\n",
    "    print(len(inversions2))"
   ]
  },
  {
   "cell_type": "code",
   "execution_count": 27,
   "id": "53294bac",
   "metadata": {
    "ExecuteTime": {
     "end_time": "2023-10-13T04:34:07.707031Z",
     "start_time": "2023-10-13T04:34:07.685383Z"
    },
    "execution": {
     "iopub.execute_input": "2024-04-10T07:10:06.864541Z",
     "iopub.status.busy": "2024-04-10T07:10:06.864234Z",
     "iopub.status.idle": "2024-04-10T07:10:06.871659Z",
     "shell.execute_reply": "2024-04-10T07:10:06.871161Z",
     "shell.execute_reply.started": "2024-04-10T07:10:06.864521Z"
    }
   },
   "outputs": [
    {
     "name": "stdout",
     "output_type": "stream",
     "text": [
      "131\t70\t61\t0.5343511450381679\n",
      "339\t131\t208\t0.3864306784660767\n"
     ]
    }
   ],
   "source": [
    "ref = inversions1\n",
    "que = inversions2\n",
    "loader = ShiftLoader(que)\n",
    "n = 0\n",
    "for inv1 in ref:\n",
    "    hit = False\n",
    "    for inv2 in loader.fetch(obj=inv1):\n",
    "        hit = True\n",
    "    if hit:\n",
    "        n += 1\n",
    "print(len(ref), n, len(ref) - n, n / len(ref), sep=\"\\t\")\n",
    "ref_count_all = len(ref)\n",
    "ref_count_hit = n\n",
    "\n",
    "ref = inversions2\n",
    "que = inversions1\n",
    "loader = ShiftLoader(que)\n",
    "n = 0\n",
    "for inv1 in ref:\n",
    "    hit = False\n",
    "    for inv2 in loader.fetch(obj=inv1):\n",
    "        hit = True\n",
    "    if hit:\n",
    "        n += 1\n",
    "print(len(ref), n, len(ref) - n, n / len(ref), sep=\"\\t\")\n",
    "que_count_all = len(ref)\n",
    "que_count_hit = n"
   ]
  },
  {
   "cell_type": "code",
   "execution_count": 28,
   "id": "a7e7b35f",
   "metadata": {
    "ExecuteTime": {
     "end_time": "2023-10-13T04:42:48.493926Z",
     "start_time": "2023-10-13T04:42:48.215143Z"
    },
    "execution": {
     "iopub.execute_input": "2024-04-10T07:10:08.208733Z",
     "iopub.status.busy": "2024-04-10T07:10:08.208170Z",
     "iopub.status.idle": "2024-04-10T07:10:09.387420Z",
     "shell.execute_reply": "2024-04-10T07:10:09.386931Z",
     "shell.execute_reply.started": "2024-04-10T07:10:08.208713Z"
    }
   },
   "outputs": [
    {
     "data": {
      "image/png": "[encoded data removed]",
      "text/plain": [
       "<Figure size 300x300 with 1 Axes>"
      ]
     },
     "metadata": {},
     "output_type": "display_data"
    }
   ],
   "source": [
    "values = [ref_count_all - ref_count_hit, que_count_all - que_count_hit, (ref_count_hit + que_count_hit)/2]\n",
    "plt.figure(figsize=(3, 3))\n",
    "ret = venn2(values, set_colors=[\"C0\", \"C3\"], set_labels=[\"NA12878\\n(Cell Paper)\", \"NanoStrand-seq\\n(350 cells)\"])\n",
    "ret.subset_labels[2].set_text(\"%s\\n\\n%s\" % (ref_count_hit, que_count_hit))\n",
    "plt.plot([0, 0.25], [-0.1, 0], lw=1, color=\"black\")\n",
    "plt.plot([-0.4, -0.25], [0, 0.1], lw=1, color=\"black\")\n",
    "plt.tight_layout()\n",
    "plt.savefig(\"figures/benchmark_of_inversion.venn2.pdf\", dpi=300)"
   ]
  }
 ],
 "metadata": {
  "kernelspec": {
   "display_name": "Python 3 (ipykernel)",
   "language": "python",
   "name": "python3"
  },
  "language_info": {
   "codemirror_mode": {
    "name": "ipython",
    "version": 3
   },
   "file_extension": ".py",
   "mimetype": "text/x-python",
   "name": "python",
   "nbconvert_exporter": "python",
   "pygments_lexer": "ipython3",
   "version": "3.10.13"
  }
 },
 "nbformat": 4,
 "nbformat_minor": 5
}
