{
 "cells": [
  {
   "cell_type": "code",
   "execution_count": 2,
   "id": "2bec582c",
   "metadata": {
    "ExecuteTime": {
     "end_time": "2024-01-30T02:14:12.879955Z",
     "start_time": "2024-01-30T02:14:11.696945Z"
    }
   },
   "outputs": [],
   "source": [
    "import os\n",
    "import gzip\n",
    "from collections import defaultdict, Counter\n",
    "import multiprocessing as mp\n",
    "import numpy as np\n",
    "import pandas as pd\n",
    "import matplotlib.pyplot as plt\n",
    "from matplotlib_venn import *\n",
    "import pysam\n",
    "from pyBioInfo.IO.File import GffFile, BedFile\n",
    "from pyBioInfo.Utils import ShiftLoader"
   ]
  },
  {
   "cell_type": "markdown",
   "id": "94a6bd6a",
   "metadata": {},
   "source": [
    "# Make HG001 inversion reference"
   ]
  },
  {
   "cell_type": "code",
   "execution_count": 99,
   "id": "a89fc663",
   "metadata": {
    "ExecuteTime": {
     "end_time": "2023-10-13T04:31:27.382089Z",
     "start_time": "2023-10-13T04:31:24.424712Z"
    }
   },
   "outputs": [],
   "source": [
    "dats = pd.read_excel(\"data/inversions_from_cell_paper.xlsx\", sheet_name=None)\n",
    "dat = dats[\"2AGRCh38_unifiedCallset\"]\n",
    "\n",
    "f_gff = \"results/inversions_cell_paper.gff\"\n",
    "with open(f_gff, \"w+\") as fw:\n",
    "    for chrom, start, end, iden in dat[[\"seqnames\", \"start\", \"end\", \"inv_id\"]].values:\n",
    "        attributes = \"ID=%s\" % iden\n",
    "        row = [chrom, \"CellPaper\", \"Inversion\", start + 1, end, \".\", \"+\", \".\", attributes]\n",
    "        line = \"\\t\".join(map(str, row))\n",
    "        fw.write(line + \"\\n\")    \n",
    "cmd = \"bgzip -f %s\" % f_gff\n",
    "assert os.system(cmd) == 0\n",
    "cmd = \"tabix -p gff -f %s.gz\" % f_gff\n",
    "assert os.system(cmd) == 0"
   ]
  },
  {
   "cell_type": "code",
   "execution_count": 55,
   "id": "42041fbb",
   "metadata": {
    "ExecuteTime": {
     "end_time": "2023-10-12T15:23:32.792324Z",
     "start_time": "2023-10-12T15:23:25.812208Z"
    }
   },
   "outputs": [],
   "source": [
    "dats = pd.read_excel(\"data/inversions_from_cell_paper.xlsx\", sheet_name=None)\n",
    "dat = dats[\"2AGRCh38_unifiedCallset\"]\n",
    "availables = [\"1|0\", \"1|1\", \"0|1\", \"1|0_lowconf\", \"1|1_lowconf\", \"0|1_lowconf\"]\n",
    "dat = dat[[x in availables for x in dat[\"NA12878\"]]]\n",
    "\n",
    "f_gff = \"results/inversions_na12878.gff\"\n",
    "with open(f_gff, \"w+\") as fw:\n",
    "    for chrom, start, end, iden, gt in dat[[\"seqnames\", \"start\", \"end\", \"inv_id\", \"NA12878\"]].values:\n",
    "        attributes = \"ID=%s;GenoType=%s\" % (iden, gt)\n",
    "        row = [chrom, \"CellPaper\", \"Inversion\", start + 1, end, \".\", \"+\", \".\", attributes]\n",
    "        line = \"\\t\".join(map(str, row))\n",
    "        fw.write(line + \"\\n\")    \n",
    "cmd = \"bgzip -f %s\" % f_gff\n",
    "assert os.system(cmd) == 0\n",
    "cmd = \"tabix -p gff -f %s.gz\" % f_gff\n",
    "assert os.system(cmd) == 0"
   ]
  },
  {
   "cell_type": "markdown",
   "id": "262b33c8",
   "metadata": {},
   "source": [
    "# Make inversions gff"
   ]
  },
  {
   "cell_type": "code",
   "execution_count": 75,
   "id": "ea756948",
   "metadata": {
    "ExecuteTime": {
     "end_time": "2023-10-12T15:52:34.283883Z",
     "start_time": "2023-10-12T15:52:33.556342Z"
    }
   },
   "outputs": [],
   "source": [
    "ncells = [50, 100, 150, 200, 250, 300, 350]\n",
    "\n",
    "for ncell in ncells:\n",
    "\n",
    "    f_bed = \"../../4_NanoStrandSeq_Phasing/results/HG001_Cell_%d/inversions/inversions.bed.gz\" % ncell\n",
    "    f_gff = \"results/inversions_%d.gff\" % ncell\n",
    "\n",
    "    with gzip.open(f_bed, \"rt\") as f, open(f_gff, \"w+\") as fw:\n",
    "        iden = 0\n",
    "        for line in f:\n",
    "            row = line.strip(\"\\n\").split(\"\\t\")\n",
    "            chrom, start, end = row[:3]\n",
    "            start, end = int(start), int(end)\n",
    "            c, w, r = row[3].split(\";\")\n",
    "            c = int(c)\n",
    "            w = int(w)\n",
    "            confident = True\n",
    "            if c + w < 20:\n",
    "                confident = False\n",
    "            r = w / (c + w)\n",
    "            if r >= 0.9:\n",
    "                t = \"HOM\"\n",
    "            elif r > 0.6:\n",
    "                t = \"Uncertain\"\n",
    "                confident = False\n",
    "            elif r >= 0.4:\n",
    "                t = \"HET\"\n",
    "            else:\n",
    "                t = \"Uncertain\"\n",
    "                confident = False\n",
    "\n",
    "            attributes = \"ID=Inv.%d;Reads=%d;Crick=%d;Watson=%d;WatsonRatio=%f;Type=%s;Confident=%s\" % (iden, c + w, c, w, r, t, confident)\n",
    "            row = [chrom, \"NanoStrand-seq\", \"Inversion\", start + 1, end, \".\", \"+\", \".\", attributes]\n",
    "            line = \"\\t\".join(map(str, row))\n",
    "            fw.write(line + \"\\n\")\n",
    "            iden += 1\n",
    "    \n",
    "    cmd = \"bgzip -f %s\" % f_gff\n",
    "    assert os.system(cmd) == 0\n",
    "    cmd = \"tabix -p gff -f %s.gz\" % f_gff\n",
    "    assert os.system(cmd) == 0"
   ]
  },
  {
   "cell_type": "markdown",
   "id": "00755f38",
   "metadata": {},
   "source": [
    "# Benchmark inversion"
   ]
  },
  {
   "cell_type": "code",
   "execution_count": 3,
   "id": "22e3d95d",
   "metadata": {
    "ExecuteTime": {
     "end_time": "2024-01-30T02:14:14.913011Z",
     "start_time": "2024-01-30T02:14:14.828998Z"
    }
   },
   "outputs": [
    {
     "name": "stdout",
     "output_type": "stream",
     "text": [
      "131\n",
      "339\n"
     ]
    }
   ],
   "source": [
    "f_gff1 = \"results/inversions_na12878.gff.gz\"\n",
    "f_gff2 = \"results/inversions_350.gff.gz\"\n",
    "\n",
    "with GffFile(f_gff1) as f:\n",
    "    inversions1 = [x for x in f]\n",
    "print(len(inversions1))\n",
    "\n",
    "with GffFile(f_gff2) as f:\n",
    "    inversions2 = []\n",
    "    for x in f:\n",
    "        # if int(x.attributes[\"Reads\"]) >= 20 and float(x.attributes[\"WatsonRatio\"]) >= 0.25:\n",
    "        if x.attributes[\"Confident\"] == \"True\":\n",
    "            inversions2.append(x)\n",
    "print(len(inversions2))"
   ]
  },
  {
   "cell_type": "code",
   "execution_count": 102,
   "id": "53294bac",
   "metadata": {
    "ExecuteTime": {
     "end_time": "2023-10-13T04:34:07.707031Z",
     "start_time": "2023-10-13T04:34:07.685383Z"
    },
    "scrolled": true
   },
   "outputs": [
    {
     "name": "stdout",
     "output_type": "stream",
     "text": [
      "131\t70\t0.5343511450381679\n",
      "339\t131\t0.3864306784660767\n"
     ]
    }
   ],
   "source": [
    "ref = inversions1\n",
    "que = inversions2\n",
    "\n",
    "loader = ShiftLoader(que)\n",
    "n = 0\n",
    "for inv1 in ref:\n",
    "    hit = False\n",
    "    for inv2 in loader.fetch(obj=inv1):\n",
    "        hit = True\n",
    "    if hit:\n",
    "        n += 1\n",
    "print(len(ref), n, n / len(ref), sep=\"\\t\")\n",
    "\n",
    "ref = inversions2\n",
    "que = inversions1\n",
    "\n",
    "loader = ShiftLoader(que)\n",
    "n = 0\n",
    "for inv1 in ref:\n",
    "    hit = False\n",
    "    for inv2 in loader.fetch(obj=inv1):\n",
    "        hit = True\n",
    "    if hit:\n",
    "        n += 1\n",
    "print(len(ref), n, n / len(ref), sep=\"\\t\")"
   ]
  },
  {
   "cell_type": "code",
   "execution_count": 133,
   "id": "a7e7b35f",
   "metadata": {
    "ExecuteTime": {
     "end_time": "2023-10-13T04:42:48.493926Z",
     "start_time": "2023-10-13T04:42:48.215143Z"
    }
   },
   "outputs": [
    {
     "data": {
      "image/png": "[encoded data removed]",
      "text/plain": [
       "<Figure size 216x216 with 1 Axes>"
      ]
     },
     "metadata": {},
     "output_type": "display_data"
    }
   ],
   "source": [
    "values = [61, 208, 100.5]\n",
    "plt.figure(figsize=(3, 3))\n",
    "ret = venn2(values, set_colors=[\"C0\", \"C3\"], set_labels=[\"NA12878\\n(Cell Paper)\", \"NanoStrand-seq\\n(350 cells)\"])\n",
    "ret.subset_labels[2].set_text(\"70\\n\\n131\")\n",
    "plt.plot([0, 0.25], [-0.1, 0], lw=1, color=\"black\")\n",
    "plt.plot([-0.4, -0.25], [0, 0.1], lw=1, color=\"black\")\n",
    "plt.tight_layout()\n",
    "plt.savefig(\"figures/benchmark_of_inversion.venn2.pdf\", dpi=300)"
   ]
  },
  {
   "cell_type": "markdown",
   "id": "4ae787c8",
   "metadata": {},
   "source": [
    "# Make inversion gff (merged)"
   ]
  },
  {
   "cell_type": "code",
   "execution_count": 3,
   "id": "f83058db",
   "metadata": {
    "ExecuteTime": {
     "end_time": "2023-11-03T08:07:26.189599Z",
     "start_time": "2023-11-03T08:07:26.183556Z"
    }
   },
   "outputs": [],
   "source": [
    "ncell = 350\n",
    "f_bed = \"../../A1_NanoStrandseqAssembly/results/HG001_Cell_%d/inversions/inversions.bed.gz\" % ncell\n",
    "f_gff = \"results/inversions_%d.merged.gff\" % ncell\n",
    "f_bed_composite = \"../../A1_NanoStrandseqAssembly/results/HG001_Cell_%s/inversions/composites/all_chroms.bed.gz\" % ncell"
   ]
  },
  {
   "cell_type": "code",
   "execution_count": 36,
   "id": "43b71eeb",
   "metadata": {
    "ExecuteTime": {
     "end_time": "2023-11-03T08:53:41.467419Z",
     "start_time": "2023-11-03T08:53:41.444902Z"
    },
    "code_folding": [
     0
    ]
   },
   "outputs": [],
   "source": [
    "def load_inversions(f_bed):\n",
    "    invs = []\n",
    "    with gzip.open(f_bed, \"rt\") as f:\n",
    "        for line in f:\n",
    "            row = line.strip(\"\\n\").split(\"\\t\")\n",
    "            chrom, start, end = row[:3]\n",
    "            start, end = int(start), int(end)\n",
    "            c, w, r = row[3].split(\";\")\n",
    "            c = int(c)\n",
    "            w = int(w)\n",
    "            r = w / (w + c)\n",
    "            invs.append([chrom, start, end, c, w, r])\n",
    "    return invs\n",
    "    \n",
    "def get_interval_reads(bed, chrom, start, end):\n",
    "    c = 0\n",
    "    w = 0\n",
    "    for line in bed.fetch(chrom, start, end):\n",
    "        row = line.strip(\"\\n\").split(\"\\t\")\n",
    "        row[1], row[2] = int(row[1]), int(row[2])\n",
    "        overlap = min(end, row[2]) - max(start, row[1])\n",
    "        if overlap > 100:\n",
    "            if row[5] == \"+\":\n",
    "                c += 1\n",
    "            else:\n",
    "                w += 1\n",
    "    return c, w"
   ]
  },
  {
   "cell_type": "code",
   "execution_count": 38,
   "id": "be026906",
   "metadata": {
    "ExecuteTime": {
     "end_time": "2023-11-01T11:35:49.205601Z",
     "start_time": "2023-11-01T11:34:28.508856Z"
    },
    "code_folding": [
     0
    ]
   },
   "outputs": [
    {
     "name": "stdout",
     "output_type": "stream",
     "text": [
      "1603\n",
      "0\n",
      "100\n",
      "200\n",
      "300\n",
      "400\n",
      "500\n",
      "600\n",
      "700\n",
      "700\n",
      "700\n",
      "800\n",
      "900\n",
      "1000\n",
      "1100\n",
      "1200\n"
     ]
    }
   ],
   "source": [
    "invs = load_inversions(f_bed)\n",
    "print(len(invs))\n",
    "\n",
    "bed = pysam.TabixFile(f_bed_composite)\n",
    "\n",
    "i = 0\n",
    "while i < len(invs) - 1:\n",
    "    inv1 = invs[i]\n",
    "    inv2 = invs[i + 1]\n",
    "    chrom1, start1, end1, c1, w1, r1 = inv1\n",
    "    chrom2, start2, end2, c2, w2, r2 = inv2\n",
    "    if i % 100 == 0:\n",
    "        print(i)\n",
    "    if chrom1 == chrom2:\n",
    "        assert start2 > end1\n",
    "        c, w = get_interval_reads(bed, chrom1, end1, start2)\n",
    "        if start2 - end1 < 10000 and c + w < 10:\n",
    "            c3, w3 = get_interval_reads(bed, chrom1, start1, end2)\n",
    "            r3 = w3 / (c3 + w3)\n",
    "            # c3, w3, r3 = 0, 0, 0\n",
    "            inv3 = [chrom1, start1, end2, c3,  w3, r3]\n",
    "            invs[i] = inv3\n",
    "            invs.pop(i + 1)\n",
    "        else:\n",
    "            i += 1\n",
    "    else:\n",
    "        i += 1\n",
    "        continue\n",
    "bed.close()"
   ]
  },
  {
   "cell_type": "code",
   "execution_count": 39,
   "id": "b872ad89",
   "metadata": {
    "ExecuteTime": {
     "end_time": "2023-11-01T11:42:24.610009Z",
     "start_time": "2023-11-01T11:42:24.597882Z"
    }
   },
   "outputs": [
    {
     "data": {
      "text/plain": [
       "1234"
      ]
     },
     "execution_count": 39,
     "metadata": {},
     "output_type": "execute_result"
    }
   ],
   "source": [
    "len(invs)"
   ]
  },
  {
   "cell_type": "code",
   "execution_count": 40,
   "id": "e5ac3392",
   "metadata": {
    "ExecuteTime": {
     "end_time": "2023-11-01T11:42:27.937281Z",
     "start_time": "2023-11-01T11:42:27.813172Z"
    }
   },
   "outputs": [],
   "source": [
    "with open(f_gff, \"w+\") as fw:\n",
    "    iden = 0\n",
    "    for inv in invs:\n",
    "        chrom, start, end, c, w, r = inv\n",
    "        confident = True\n",
    "        if c + w < 20:\n",
    "            confident = False\n",
    "        # r = w / (c + w)\n",
    "        if r >= 0.9:\n",
    "            t = \"HOM\"\n",
    "        elif r > 0.6:\n",
    "            t = \"Uncertain\"\n",
    "            confident = False\n",
    "        elif r >= 0.4:\n",
    "            t = \"HET\"\n",
    "        else:\n",
    "            t = \"Uncertain\"\n",
    "            confident = False\n",
    "\n",
    "        attributes = \"ID=Inv.%d;Reads=%d;Crick=%d;Watson=%d;WatsonRatio=%f;Type=%s;Confident=%s\" % (iden, c + w, c, w, r, t, confident)\n",
    "        row = [chrom, \"NanoStrand-seq\", \"Inversion\", start + 1, end, \".\", \"+\", \".\", attributes]\n",
    "        line = \"\\t\".join(map(str, row))\n",
    "        fw.write(line + \"\\n\")\n",
    "        iden += 1\n",
    "\n",
    "cmd = \"bgzip -f %s\" % f_gff\n",
    "assert os.system(cmd) == 0\n",
    "cmd = \"tabix -p gff -f %s.gz\" % f_gff\n",
    "assert os.system(cmd) == 0"
   ]
  },
  {
   "cell_type": "markdown",
   "id": "5fb02b60",
   "metadata": {},
   "source": [
    "## benchmark"
   ]
  },
  {
   "cell_type": "code",
   "execution_count": 74,
   "id": "18980167",
   "metadata": {
    "ExecuteTime": {
     "end_time": "2023-11-03T09:33:47.311874Z",
     "start_time": "2023-11-03T09:33:47.258879Z"
    }
   },
   "outputs": [
    {
     "name": "stdout",
     "output_type": "stream",
     "text": [
      "131\n",
      "195\n"
     ]
    }
   ],
   "source": [
    "f_gff1 = \"results/inversions_na12878.gff.gz\"\n",
    "f_gff2 = \"results/inversions_350.merged.gff.gz\"\n",
    "\n",
    "with GffFile(f_gff1) as f:\n",
    "    inversions1 = [x for x in f]\n",
    "print(len(inversions1))\n",
    "\n",
    "with GffFile(f_gff2) as f:\n",
    "    inversions2 = []\n",
    "    for x in f:\n",
    "        # if int(x.attributes[\"Reads\"]) >= 20 and float(x.attributes[\"WatsonRatio\"]) >= 0.25:\n",
    "        if x.attributes[\"Confident\"] == \"True\" and int(x.attributes[\"Reads\"]) >= 40:\n",
    "            inversions2.append(x)\n",
    "#         if x.attributes[\"Confident\"] == \"False\" and int(x.attributes[\"Reads\"]) >= 40:\n",
    "#             print(x.format())\n",
    "print(len(inversions2))"
   ]
  },
  {
   "cell_type": "code",
   "execution_count": 78,
   "id": "b01cfb68",
   "metadata": {
    "ExecuteTime": {
     "end_time": "2023-11-03T09:34:25.653238Z",
     "start_time": "2023-11-03T09:34:25.499406Z"
    }
   },
   "outputs": [
    {
     "name": "stdout",
     "output_type": "stream",
     "text": [
      "31\n"
     ]
    }
   ],
   "source": [
    "bed = pysam.TabixFile(f_bed_composite)\n",
    "span = 500\n",
    "\n",
    "tmp = []\n",
    "vs = []\n",
    "for inv in inversions2:\n",
    "    c1, w1 = get_interval_reads(bed, inv.chrom, inv.start - span, inv.start)\n",
    "    c2, w2 = get_interval_reads(bed, inv.chrom, inv.end, inv.end + span)\n",
    "    n1, n2 = c1 + w1, c2 + w2\n",
    "    density = int(inv.attributes[\"Reads\"]) * 1000 / len(inv)\n",
    "    vs.append(density)\n",
    "    if density < 8 and n1 >= 1 and n2 >= 1:\n",
    "        tmp.append(inv)\n",
    "bed.close()\n",
    "print(len(tmp))\n",
    "# inversions2 = tmp"
   ]
  },
  {
   "cell_type": "code",
   "execution_count": 62,
   "id": "bcbb6516",
   "metadata": {
    "ExecuteTime": {
     "end_time": "2023-11-03T09:18:03.968281Z",
     "start_time": "2023-11-03T09:18:03.957916Z"
    }
   },
   "outputs": [],
   "source": [
    "# import pyBigWig\n",
    "\n",
    "# def worker(f_bw, chrom, step, min_coverage, max_coverage):\n",
    "#     regions = []\n",
    "    \n",
    "#     with pyBigWig.open(f_bw) as f:\n",
    "#         length = f.chroms()[chrom]\n",
    "        \n",
    "#         step1 = step * 1000\n",
    "#         for start1 in range(0, length, step1):\n",
    "#             end1 = min(start1 + step1, length)\n",
    "#             covs = f.values(chrom, start1, end1)\n",
    "            \n",
    "#             for start2 in range(start1, end1, step):\n",
    "#                 end2 = min(start2 + step, end1)\n",
    "#                 vs = np.nan_to_num(covs[start2 - start1:end2 - start1])\n",
    "#                 mean = np.mean(vs)\n",
    "#                 if mean < min_coverage or mean > max_coverage:\n",
    "#                     if len(regions) == 0:\n",
    "#                         regions.append([chrom, start2, end2])\n",
    "#                     else:\n",
    "#                         if start2 <= regions[-1][2]:\n",
    "#                             regions[-1][2] = end2\n",
    "#                         else:\n",
    "#                             regions.append([chrom, start2, end2])\n",
    "                            \n",
    "#     return regions\n",
    "\n",
    "\n",
    "# def scan_extreme_coverage_regions(f_bw, f_bed, threads=1, min_coverage=15, max_coverage=80):\n",
    "#     array = []\n",
    "#     pool = mp.Pool(threads)\n",
    "#     with pyBigWig.open(f_bw) as f:\n",
    "#         for chrom in f.chroms():\n",
    "#             args = (f_bw, chrom, 100, min_coverage, max_coverage)\n",
    "#             array.append(pool.apply_async(worker, args))\n",
    "#     pool.close()\n",
    "#     pool.join()\n",
    "\n",
    "#     regions = []\n",
    "#     for r in array:\n",
    "#         regions.extend(r.get())\n",
    "#     regions.sort()\n",
    "    \n",
    "#     with open(f_bed, \"w+\") as fw:\n",
    "#         for r in regions:\n",
    "#             fw.write(\"\\t\".join(map(str, r)) + \"\\n\")\n",
    "            \n",
    "# f_bw = \"../../6_nss-pseudobulk-analysis/results/bw/PacBio.full.bw\"\n",
    "# f_bed = \"results/PacBio.full.coverage_lt_0_gt_80.bed\"\n",
    "# scan_extreme_coverage_regions(f_bw, f_bed, 24, 0, 80)"
   ]
  },
  {
   "cell_type": "code",
   "execution_count": 63,
   "id": "2cde105c",
   "metadata": {
    "ExecuteTime": {
     "end_time": "2023-11-03T09:18:06.595604Z",
     "start_time": "2023-11-03T09:18:06.565061Z"
    }
   },
   "outputs": [
    {
     "name": "stdout",
     "output_type": "stream",
     "text": [
      "124 124\n"
     ]
    }
   ],
   "source": [
    "# SV blacklist\n",
    "\n",
    "def load_bed(path):  \n",
    "    with BedFile(path) as f:\n",
    "        regions = [x for x in f]\n",
    "        regions.sort()\n",
    "        return regions\n",
    "\n",
    "# regions1 = load_bed(\"../2_DownsampleBenchmark/data/PacBio.full.coverage_lt_15_gt_80.bed\")\n",
    "# regions2 = load_bed(\"../2_DownsampleBenchmark/data/Ultralong.full.coverage_lt_15_gt_80.bed\")\n",
    "# regions = regions1 + regions2\n",
    "# regions.sort()\n",
    "\n",
    "regions = load_bed(\"results/PacBio.full.coverage_lt_0_gt_80.bed\")\n",
    "\n",
    "tmp = []\n",
    "loader = ShiftLoader(regions)\n",
    "for inv in inversions2:\n",
    "    hit = False\n",
    "    for r in loader.fetch(obj=inv):\n",
    "        s = max(inv.start, r.start)\n",
    "        e = min(inv.end, r.end)\n",
    "        if e - s >= 100:\n",
    "            hit = True\n",
    "    if not hit:\n",
    "        tmp.append(inv)\n",
    "print(len(inversions2), len(tmp))\n",
    "\n",
    "inversions2 = tmp"
   ]
  },
  {
   "cell_type": "code",
   "execution_count": 64,
   "id": "bca922d9",
   "metadata": {
    "ExecuteTime": {
     "end_time": "2023-11-03T09:18:08.006929Z",
     "start_time": "2023-11-03T09:18:07.976836Z"
    },
    "scrolled": true
   },
   "outputs": [
    {
     "name": "stdout",
     "output_type": "stream",
     "text": [
      "131\t56\t0.42748091603053434\t75\n",
      "124\t67\t0.5403225806451613\t57\n",
      "56 75 67 57\n"
     ]
    }
   ],
   "source": [
    "ref_no_hit = 0\n",
    "ref_hit = 0\n",
    "que_no_hit = 0\n",
    "que_hit = 0\n",
    "\n",
    "ref = inversions1\n",
    "que = inversions2\n",
    "\n",
    "loader = ShiftLoader(que)\n",
    "n = 0\n",
    "for inv1 in ref:\n",
    "    hit = False\n",
    "    for inv2 in loader.fetch(obj=inv1):\n",
    "        hit = True\n",
    "    if hit:\n",
    "        n += 1\n",
    "print(len(ref), n, n / len(ref), len(ref) - n, sep=\"\\t\")\n",
    "ref_hit = n\n",
    "ref_no_hit = len(ref) - ref_hit\n",
    "\n",
    "ref = inversions2\n",
    "que = inversions1\n",
    "\n",
    "invs_nss_only = []\n",
    "\n",
    "loader = ShiftLoader(que)\n",
    "n = 0\n",
    "for inv1 in ref:\n",
    "    hit = False\n",
    "    for inv2 in loader.fetch(obj=inv1):\n",
    "        hit = True\n",
    "    if hit:\n",
    "        n += 1\n",
    "    else:\n",
    "        invs_nss_only.append(inv1)\n",
    "print(len(ref), n, n / len(ref), len(ref) - n, sep=\"\\t\")\n",
    "que_hit = n\n",
    "que_no_hit = len(ref) - que_hit\n",
    "\n",
    "print(ref_hit, ref_no_hit, que_hit, que_no_hit)"
   ]
  },
  {
   "cell_type": "code",
   "execution_count": 65,
   "id": "d9570971",
   "metadata": {
    "ExecuteTime": {
     "end_time": "2023-11-03T09:18:09.036854Z",
     "start_time": "2023-11-03T09:18:08.864473Z"
    }
   },
   "outputs": [
    {
     "data": {
      "image/png": "[encoded data removed]",
      "text/plain": [
       "<Figure size 216x216 with 1 Axes>"
      ]
     },
     "metadata": {},
     "output_type": "display_data"
    }
   ],
   "source": [
    "values = [ref_no_hit, que_no_hit, (ref_hit + que_hit) / 2]\n",
    "plt.figure(figsize=(3, 3))\n",
    "ret = venn2(values, set_colors=[\"C0\", \"C3\"], set_labels=[\"NA12878\\n(Cell Paper)\", \"NanoStrand-seq\\n(350 cells)\"])\n",
    "ret.subset_labels[2].set_text(\"%d\\n\\n%d\" % (ref_hit, que_hit))\n",
    "plt.plot([0, 0.25], [-0.1, 0], lw=1, color=\"black\")\n",
    "plt.plot([-0.4, -0.25], [0, 0.1], lw=1, color=\"black\")\n",
    "plt.tight_layout()\n",
    "plt.show()\n",
    "# plt.savefig(\"figures/benchmark_of_inversion.venn2.pdf\", dpi=300)"
   ]
  }
 ],
 "metadata": {
  "kernelspec": {
   "display_name": "Python 3",
   "language": "python",
   "name": "python3"
  },
  "language_info": {
   "codemirror_mode": {
    "name": "ipython",
    "version": 3
   },
   "file_extension": ".py",
   "mimetype": "text/x-python",
   "name": "python",
   "nbconvert_exporter": "python",
   "pygments_lexer": "ipython3",
   "version": "3.6.15"
  }
 },
 "nbformat": 4,
 "nbformat_minor": 5
}
