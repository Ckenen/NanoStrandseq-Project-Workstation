{
 "cells": [
  {
   "cell_type": "code",
   "execution_count": 2,
   "id": "720a3868",
   "metadata": {
    "ExecuteTime": {
     "end_time": "2023-11-25T08:41:56.533249Z",
     "start_time": "2023-11-25T08:41:48.849944Z"
    }
   },
   "outputs": [],
   "source": [
    "import re\n",
    "from collections import Counter, defaultdict\n",
    "import numpy as np\n",
    "import pandas as pd\n",
    "import pysam\n",
    "from pyBioInfo.Range import GRange\n",
    "from pyBioInfo.IO.File import BedFile\n",
    "from pyBioInfo.Utils import ShiftLoader, SegmentTools\n",
    "import matplotlib.pyplot as plt\n",
    "from matplotlib_venn import venn2"
   ]
  },
  {
   "cell_type": "markdown",
   "id": "e5c77af5",
   "metadata": {
    "heading_collapsed": true
   },
   "source": [
    "# Make benchmark callset and regions for NA12878"
   ]
  },
  {
   "cell_type": "code",
   "execution_count": 52,
   "id": "2caba010",
   "metadata": {
    "ExecuteTime": {
     "end_time": "2023-11-15T05:07:39.397093Z",
     "start_time": "2023-11-15T05:07:36.554006Z"
    },
    "hidden": true
   },
   "outputs": [
    {
     "name": "stdout",
     "output_type": "stream",
     "text": [
      "161\t0|0\n",
      "74\t1|1\n",
      "25\t1|0\n",
      "22\t0|0_lowconf\n",
      "22\t0|1\n",
      "17\tnoreads\n",
      "9\t0000\n",
      "8\tidup_hom\n",
      "7\t2110\n",
      "5\t0|1_lowconf\n",
      "4\t1000\n",
      "4\t0100\n",
      "3\t1100\n",
      "3\t1|1_lowconf\n",
      "2\t1021\n",
      "2\t0001\n",
      "2\t0021\n",
      "2\t1201\n",
      "2\t1101\n",
      "2\t1|0_lowconf\n",
      "1\tidup_h2\n",
      "1\t0112\n",
      "1\t3100\n",
      "1\t0011\n",
      "1\t0010\n",
      "1\t0200\n",
      "1\t0202\n"
     ]
    }
   ],
   "source": [
    "dats = pd.read_excel(\"data/inversions_from_cell_paper.xlsx\", sheet_name=None)\n",
    "dat = dats[\"2AGRCh38_unifiedCallset\"]\n",
    "dat = dat[dat[\"seqnames\"] != \"chrY\"]\n",
    "counter = Counter(dat[\"NA12878\"])\n",
    "items = sorted(counter.items(), key=lambda item: item[1], reverse=True)\n",
    "for k, v in items:\n",
    "    print(v, k, sep=\"\\t\")"
   ]
  },
  {
   "cell_type": "code",
   "execution_count": 53,
   "id": "4387f818",
   "metadata": {
    "ExecuteTime": {
     "end_time": "2023-11-15T05:07:39.417828Z",
     "start_time": "2023-11-15T05:07:39.400349Z"
    },
    "hidden": true
   },
   "outputs": [
    {
     "name": "stdout",
     "output_type": "stream",
     "text": [
      "NA12878: 121\n",
      "Blacklist: 101\n"
     ]
    }
   ],
   "source": [
    "invs = [] # NA12878\n",
    "blacklist = [] # blacklist\n",
    "for chrom, start, end, name, gt in dat[[\"seqnames\", \"start\", \"end\", \"inv_id\", \"NA12878\"]].values:\n",
    "    inv = GRange(chrom=chrom, start=start, end=end, name=\"%s:NA12878=%s\" % (name, gt), strand=\"+\")\n",
    "    inv.gt = gt\n",
    "    if gt in [\"1|1\", \"0|1\", \"1|0\"]:\n",
    "        invs.append(inv)\n",
    "    elif gt == \"0|0\":\n",
    "        continue\n",
    "    else:\n",
    "        blacklist.append(inv)\n",
    "print(\"NA12878:\", len(invs))\n",
    "print(\"Blacklist:\", len(blacklist))"
   ]
  },
  {
   "cell_type": "code",
   "execution_count": 54,
   "id": "da7cce36",
   "metadata": {
    "ExecuteTime": {
     "end_time": "2023-11-15T05:07:39.432958Z",
     "start_time": "2023-11-15T05:07:39.421033Z"
    },
    "hidden": true
   },
   "outputs": [],
   "source": [
    "with open(\"results/cell_paper_inv_na12878.bed\", \"w+\") as f:\n",
    "    for x in invs:\n",
    "        f.write(x.format() + \"\\n\")\n",
    "with open(\"results/cell_paper_inv_na12878.blacklist.bed\", \"w+\") as fw:\n",
    "    for x in blacklist:\n",
    "        fw.write(x.format() + \"\\n\")"
   ]
  },
  {
   "cell_type": "markdown",
   "id": "e2d64d8b",
   "metadata": {
    "heading_collapsed": true
   },
   "source": [
    "# Inversion from cuteSV "
   ]
  },
  {
   "cell_type": "code",
   "execution_count": 55,
   "id": "d43661a1",
   "metadata": {
    "ExecuteTime": {
     "end_time": "2023-11-15T05:08:19.819967Z",
     "start_time": "2023-11-15T05:08:01.945962Z"
    },
    "code_folding": [
     3
    ],
    "hidden": true
   },
   "outputs": [
    {
     "name": "stdout",
     "output_type": "stream",
     "text": [
      "Loaded inversions: 2253\n",
      "Loaded duplicates: 433\n"
     ]
    }
   ],
   "source": [
    "f_vcf = \"../../4_NanoStrandseq_Assembly/results/HG001_Cell_350/prepare/all_cells.all_chroms.raw.cutesv.vcf.gz\"\n",
    "invs = []\n",
    "dups = []\n",
    "with pysam.VariantFile(f_vcf) as f:\n",
    "    for record in f:\n",
    "        if re.match(\"^chr([0-9]+|[X])$\", record.contig) is None:\n",
    "            continue\n",
    "        svtype = record.info[\"SVTYPE\"]\n",
    "        if svtype == \"INV\":            \n",
    "            if record.info[\"RE\"] < 3:\n",
    "                continue\n",
    "            af = record.info[\"AF\"][0]\n",
    "            if af is None or af < 0.2:\n",
    "                continue\n",
    "            obj = GRange(chrom=record.contig, start=record.start, end=record.stop, name=record.id)\n",
    "            obj.record = record\n",
    "            if len(obj) < 200:\n",
    "                continue\n",
    "            invs.append(obj)\n",
    "        elif svtype == \"DUP\":\n",
    "            if list(record.filter)[0] != \"PASS\":\n",
    "                continue\n",
    "            obj = GRange(chrom=record.contig, start=record.start, end=record.stop, name=record.id)\n",
    "            obj.record = record\n",
    "            if len(obj) < 200:\n",
    "                continue\n",
    "            dups.append(obj)\n",
    "invs.sort()\n",
    "dups.sort()\n",
    "\n",
    "print(\"Loaded inversions:\", len(invs))\n",
    "print(\"Loaded duplicates:\", len(dups))"
   ]
  },
  {
   "cell_type": "code",
   "execution_count": 100,
   "id": "dc037a59",
   "metadata": {
    "ExecuteTime": {
     "end_time": "2023-11-15T05:51:50.165907Z",
     "start_time": "2023-11-15T05:51:50.144079Z"
    },
    "hidden": true
   },
   "outputs": [],
   "source": [
    "with open(\"results/cuteSV_dup_na12878.pass.bed\", \"w+\") as fw:\n",
    "    for x in dups:\n",
    "        fw.write(x.format() + \"\\n\")"
   ]
  },
  {
   "cell_type": "code",
   "execution_count": 57,
   "id": "48bffbaf",
   "metadata": {
    "ExecuteTime": {
     "end_time": "2023-11-15T05:11:00.201353Z",
     "start_time": "2023-11-15T05:11:00.147721Z"
    },
    "hidden": true
   },
   "outputs": [
    {
     "name": "stdout",
     "output_type": "stream",
     "text": [
      "chr1\t143194985\t143214200\tcuteSV.INV.4834\t.\tNone\t143194985\t143194985\t255,0,0\t1\t19215,\t0,\n",
      "chr1\t143211365\t143242899\tcuteSV.INV.4861\t.\tNone\t143211365\t143211365\t255,0,0\t1\t31534,\t0,\n",
      "chr12\t34769408\t34820286\tcuteSV.INV.20406\t.\tNone\t34769408\t34769408\t255,0,0\t1\t50878,\t0,\n",
      "chr12\t34820185\t34822288\tcuteSV.INV.20409\t.\tNone\t34820185\t34820185\t255,0,0\t1\t2103,\t0,\n",
      "chr16\t36312446\t36313679\tcuteSV.INV.35184\t.\tNone\t36312446\t36312446\t255,0,0\t1\t1233,\t0,\n",
      "chr2\t90384367\t90397001\tcuteSV.INV.49158\t.\tNone\t90384367\t90384367\t255,0,0\t1\t12634,\t0,\n",
      "chr20\t1838854\t1906269\tcuteSV.INV.54748\t.\tNone\t1838854\t1838854\t255,0,0\t1\t67415,\t0,\n",
      "chr21\t10269881\t10324332\tcuteSV.INV.57418\t.\tNone\t10269881\t10269881\t255,0,0\t1\t54451,\t0,\n",
      "chr21\t10271218\t10360054\tcuteSV.INV.57419\t.\tNone\t10271218\t10271218\t255,0,0\t1\t88836,\t0,\n",
      "chr21\t10273487\t10360055\tcuteSV.INV.57420\t.\tNone\t10273487\t10273487\t255,0,0\t1\t86568,\t0,\n",
      "chr21\t43262474\t43336016\tcuteSV.INV.58538\t.\tNone\t43262474\t43262474\t255,0,0\t1\t73542,\t0,\n",
      "chr4\t49487143\t49558934\tcuteSV.INV.69475\t.\tNone\t49487143\t49487143\t255,0,0\t1\t71791,\t0,\n",
      "chr4\t49709534\t49711572\tcuteSV.INV.69512\t.\tNone\t49709534\t49709534\t255,0,0\t1\t2038,\t0,\n",
      "chr4\t92647307\t92649140\tcuteSV.INV.70873\t.\tNone\t92647307\t92647307\t255,0,0\t1\t1833,\t0,\n",
      "chr5\t49603100\t49661871\tcuteSV.INV.75938\t.\tNone\t49603100\t49603100\t255,0,0\t1\t58771,\t0,\n",
      "chr5\t49603107\t49667432\tcuteSV.INV.75941\t.\tNone\t49603107\t49603107\t255,0,0\t1\t64325,\t0,\n",
      "chr5\t49603108\t49661870\tcuteSV.INV.75942\t.\tNone\t49603108\t49603108\t255,0,0\t1\t58762,\t0,\n",
      "chr5\t49603110\t49661870\tcuteSV.INV.75944\t.\tNone\t49603110\t49603110\t255,0,0\t1\t58760,\t0,\n",
      "chr5\t49603110\t49667432\tcuteSV.INV.75945\t.\tNone\t49603110\t49603110\t255,0,0\t1\t64322,\t0,\n",
      "chr5\t49603111\t49661869\tcuteSV.INV.75946\t.\tNone\t49603111\t49603111\t255,0,0\t1\t58758,\t0,\n",
      "chr5\t49603122\t49661872\tcuteSV.INV.75950\t.\tNone\t49603122\t49603122\t255,0,0\t1\t58750,\t0,\n",
      "chr5\t49603122\t49667420\tcuteSV.INV.75951\t.\tNone\t49603122\t49603122\t255,0,0\t1\t64298,\t0,\n",
      "chr5\t49603124\t49661872\tcuteSV.INV.75952\t.\tNone\t49603124\t49603124\t255,0,0\t1\t58748,\t0,\n",
      "chr5\t49603126\t49667433\tcuteSV.INV.75953\t.\tNone\t49603126\t49603126\t255,0,0\t1\t64307,\t0,\n",
      "chr5\t49603127\t49667433\tcuteSV.INV.75955\t.\tNone\t49603127\t49603127\t255,0,0\t1\t64306,\t0,\n",
      "chr5\t49603128\t49661872\tcuteSV.INV.75956\t.\tNone\t49603128\t49603128\t255,0,0\t1\t58744,\t0,\n",
      "chr5\t49603131\t49658441\tcuteSV.INV.75958\t.\tNone\t49603131\t49603131\t255,0,0\t1\t55310,\t0,\n",
      "chr5\t49603131\t49661871\tcuteSV.INV.75959\t.\tNone\t49603131\t49603131\t255,0,0\t1\t58740,\t0,\n",
      "chr5\t49603131\t49667432\tcuteSV.INV.75960\t.\tNone\t49603131\t49603131\t255,0,0\t1\t64301,\t0,\n",
      "chr5\t49603132\t49661869\tcuteSV.INV.75963\t.\tNone\t49603132\t49603132\t255,0,0\t1\t58737,\t0,\n",
      "chr5\t49603132\t49667432\tcuteSV.INV.75964\t.\tNone\t49603132\t49603132\t255,0,0\t1\t64300,\t0,\n",
      "chr7\t100948463\t100972521\tcuteSV.INV.90085\t.\tNone\t100948463\t100948463\t255,0,0\t1\t24058,\t0,\n",
      "chr7\t100948470\t100972520\tcuteSV.INV.90087\t.\tNone\t100948470\t100948470\t255,0,0\t1\t24050,\t0,\n",
      "Inversions: 2220\n"
     ]
    }
   ],
   "source": [
    "loader = ShiftLoader(dups)\n",
    "tmp = []\n",
    "for inv in invs:\n",
    "    hit = False\n",
    "    for dup in loader.fetch(obj=inv):\n",
    "        start, end = max(inv.start, dup.start), min(inv.end, dup.end)\n",
    "        overlap = end - start\n",
    "        length = min(len(inv), len(dup))\n",
    "        r = overlap / length\n",
    "        if overlap >= 200 or r > 0.3:\n",
    "            hit = True\n",
    "    if hit:\n",
    "        print(inv.format())\n",
    "    else:\n",
    "        tmp.append(inv)\n",
    "print(\"Inversions:\", len(tmp))\n",
    "\n",
    "invs_filtered = tmp"
   ]
  },
  {
   "cell_type": "code",
   "execution_count": 99,
   "id": "a01cb621",
   "metadata": {
    "ExecuteTime": {
     "end_time": "2023-11-15T05:51:44.732117Z",
     "start_time": "2023-11-15T05:51:44.704093Z"
    },
    "hidden": true,
    "scrolled": true
   },
   "outputs": [
    {
     "name": "stdout",
     "output_type": "stream",
     "text": [
      "82\n"
     ]
    }
   ],
   "source": [
    "loader = ShiftLoader(invs_filtered)\n",
    "n = 0\n",
    "with BedFile(\"results/cell_paper_inv_na12878.bed\") as f:\n",
    "    for inv in f:\n",
    "        if len(list(loader.fetch(obj=inv))) == 0:\n",
    "            n += 1\n",
    "            # print(inv.format())\n",
    "print(n)"
   ]
  },
  {
   "cell_type": "code",
   "execution_count": 67,
   "id": "d3d06f22",
   "metadata": {
    "ExecuteTime": {
     "end_time": "2023-11-15T05:19:34.577667Z",
     "start_time": "2023-11-15T05:19:34.539254Z"
    },
    "code_folding": [
     0,
     10,
     13,
     20
    ],
    "hidden": true
   },
   "outputs": [],
   "source": [
    "def get_clips(cigars):\n",
    "    c1, c2 = 0, 0\n",
    "    if cigars[0][0] in [\"S\", \"H\"]:\n",
    "        i1, i2 = cigars[0][2]\n",
    "        c1 = i2 - i1\n",
    "    if cigars[-1][0] in [\"S\", \"H\"]:\n",
    "        i1, i2 = cigars[-1][2]\n",
    "        c2 = i2 - i1\n",
    "    return c1, c2\n",
    "\n",
    "def get_query_length(cigars):\n",
    "    return cigars[-1][2][1]\n",
    "\n",
    "def get_read_index(cigars, length, strand):\n",
    "    c1, c2 = get_clips(cigars)\n",
    "    i1, i2 = c1, length - c2\n",
    "    if strand == \"-\":\n",
    "        i1, i2 = length - i2, length - i1\n",
    "    return i1, i2\n",
    "\n",
    "def check_segments(segments):\n",
    "    n = len(segments)\n",
    "    assert n == 2 or n == 3\n",
    "    segments = list(sorted(segments, key=lambda s: s.reference_start))\n",
    "    strands = [\"+\" if s.is_forward else \"-\" for s in segments]\n",
    "    locs = [(s.reference_start, s.reference_end) for s in segments]\n",
    "    cigars_list = [SegmentTools.parse_cigar(s) for s in segments]\n",
    "    length = get_query_length(cigars_list[0])\n",
    "    indexs_list = [get_read_index(cigars, length, strand) for cigars, strand in zip(cigars_list, strands)]\n",
    "    \n",
    "    if strands[0] == strands[1]:\n",
    "        return False\n",
    "    if n ==3 and strands[1] == strands[2]:\n",
    "        return False\n",
    "    \n",
    "    if n == 2:\n",
    "        if locs[0][1] - 10 >= locs[1][0]:\n",
    "            return False\n",
    "    else:\n",
    "        if abs(locs[1][0] - locs[0][1]) >= 20 or abs(locs[2][0] - locs[1][1]) >= 20:\n",
    "            return False\n",
    "        \n",
    "    \n",
    "    if n == 2:\n",
    "        (i1, i2), (i3, i4) = indexs_list\n",
    "        if i1 > i3:\n",
    "            i1, i2, i3, i4 = i3, i4, i1, i2\n",
    "        if i1 > 99999999:\n",
    "            return False\n",
    "        if abs(i2 - i3) > 100:\n",
    "            return False\n",
    "        if length - i4 > 99999999:\n",
    "            return False\n",
    "    else:\n",
    "        (i1, i2), (i3, i4), (i5, i6) = indexs_list\n",
    "        if i1 >= i5:\n",
    "            i1, i2, i5, i6 = i5, i6, i1, i2\n",
    "        \n",
    "        if i1 > 99999999:\n",
    "            return False\n",
    "        if abs(i2 - i3) > 100:\n",
    "            return False\n",
    "        if abs(i4 - i5) > 100:\n",
    "            return False\n",
    "        if length - i6 > 99999999:\n",
    "            return False\n",
    "        \n",
    "    return True\n"
   ]
  },
  {
   "cell_type": "code",
   "execution_count": 68,
   "id": "a89a7b5b",
   "metadata": {
    "ExecuteTime": {
     "end_time": "2023-11-15T05:24:29.669205Z",
     "start_time": "2023-11-15T05:19:34.718601Z"
    },
    "hidden": true
   },
   "outputs": [
    {
     "name": "stdout",
     "output_type": "stream",
     "text": [
      "0\n",
      "100\n",
      "200\n",
      "300\n",
      "400\n",
      "500\n",
      "600\n",
      "700\n",
      "800\n",
      "900\n",
      "1000\n",
      "1100\n",
      "1200\n",
      "1300\n",
      "1400\n",
      "1500\n",
      "1600\n",
      "1700\n",
      "1800\n",
      "1900\n",
      "2000\n",
      "2100\n",
      "2200\n"
     ]
    }
   ],
   "source": [
    "f_bam = \"../../4_NanoStrandseq_Assembly/results/HG001_Cell_350/prepare/all_cells.all_chroms.raw.bam\"\n",
    "with pysam.AlignmentFile(f_bam) as f:\n",
    "    for i, inv in enumerate(invs_filtered):            \n",
    "        if i % 100 == 0:\n",
    "            print(i)\n",
    "            \n",
    "        segments = defaultdict(list)\n",
    "        for s in f.fetch(inv.chrom, inv.start - 500, inv.end + 500):\n",
    "            if s.is_secondary:\n",
    "                continue\n",
    "            segments[s.query_name].append(s)\n",
    "            \n",
    "        rnames = inv.record.info[\"RNAMES\"]\n",
    "        \n",
    "        support_reads = 0\n",
    "        support_read_groups = []\n",
    "        support_complexity = 0\n",
    "        \n",
    "        for rname in rnames:\n",
    "            ss = segments[rname]\n",
    "            if len(ss) == 0:\n",
    "                continue\n",
    "            rg = ss[0].get_tag(\"RG\")\n",
    "            if len(ss) == 1:\n",
    "                continue\n",
    "            elif len(ss) == 2:\n",
    "                if check_segments(ss):\n",
    "                    support_reads += 1\n",
    "                    support_read_groups.append(rg)\n",
    "                else:\n",
    "                    support_complexity += 1\n",
    "            elif len(ss) == 3:\n",
    "                if check_segments(ss):\n",
    "                    support_reads += 1\n",
    "                    support_read_groups.append(rg)\n",
    "                else:\n",
    "                    support_complexity += 1\n",
    "            else:\n",
    "                support_complexity += 1\n",
    "                \n",
    "        inv.support_reads = support_reads\n",
    "        inv.support_read_groups = support_read_groups\n",
    "        inv.support_complexity = support_complexity"
   ]
  },
  {
   "cell_type": "code",
   "execution_count": 101,
   "id": "c92fcc2a",
   "metadata": {
    "ExecuteTime": {
     "end_time": "2023-11-15T05:52:34.042029Z",
     "start_time": "2023-11-15T05:52:33.212945Z"
    },
    "hidden": true
   },
   "outputs": [],
   "source": [
    "rows = []\n",
    "for inv in invs_filtered:\n",
    "    row = [inv.chrom, inv.start, inv.end, inv.name, inv.support_reads, len(set(inv.support_read_groups)), inv.support_complexity]\n",
    "    rows.append(row)\n",
    "tmp = pd.DataFrame(rows)\n",
    "tmp.columns = [\"Chrom\", \"Start\", \"End\", \"Name\", \"SupportReads\", \"SupportCells\", \"AgainstReads\"]\n",
    "tmp.to_excel(\"results/cuteSV_inv_na12878.xlsx\", index=False)"
   ]
  },
  {
   "cell_type": "code",
   "execution_count": 102,
   "id": "30179c9c",
   "metadata": {
    "ExecuteTime": {
     "end_time": "2023-11-15T05:52:34.939172Z",
     "start_time": "2023-11-15T05:52:34.925213Z"
    },
    "hidden": true
   },
   "outputs": [
    {
     "name": "stdout",
     "output_type": "stream",
     "text": [
      "92\n"
     ]
    }
   ],
   "source": [
    "invs_filtered2 = []\n",
    "for inv in invs_filtered:\n",
    "    if inv.support_reads < 3:\n",
    "        continue\n",
    "    if inv.support_reads < 4 * inv.support_complexity:\n",
    "        continue\n",
    "    if len(set(inv.support_read_groups)) < 2:\n",
    "        continue\n",
    "    invs_filtered2.append(inv)\n",
    "print(len(invs_filtered2))"
   ]
  },
  {
   "cell_type": "code",
   "execution_count": 103,
   "id": "71bcd63e",
   "metadata": {
    "ExecuteTime": {
     "end_time": "2023-11-15T05:52:35.133574Z",
     "start_time": "2023-11-15T05:52:35.109749Z"
    },
    "hidden": true
   },
   "outputs": [
    {
     "name": "stdout",
     "output_type": "stream",
     "text": [
      "Clusters: 58\n"
     ]
    }
   ],
   "source": [
    "array = []\n",
    "tmp = None\n",
    "for inv in invs_filtered2:\n",
    "    if tmp is None:\n",
    "        tmp = [inv]\n",
    "    else:\n",
    "        if inv.chrom == tmp[0].chrom:\n",
    "            start = min([x.start for x in tmp])\n",
    "            end = max([x.end for x in tmp])\n",
    "            if max(start, inv.start) < min(end, inv.end):\n",
    "                tmp.append(inv)\n",
    "            else:\n",
    "                array.append(tmp)\n",
    "                tmp = [inv]\n",
    "        else:\n",
    "            array.append(tmp)\n",
    "            tmp = [inv]\n",
    "if tmp is not None:\n",
    "    array.append(tmp)\n",
    "    \n",
    "clusters = []\n",
    "for tmp in array:\n",
    "    chrom = tmp[0].chrom\n",
    "    start = min([x.start for x in tmp])\n",
    "    end = max([x.end for x in tmp])\n",
    "    obj = GRange(chrom=chrom, start=start, end=end, name=tmp[0].name)\n",
    "    obj.invs = tmp\n",
    "    clusters.append(obj)\n",
    "clusters.sort()\n",
    "print(\"Clusters:\", len(clusters))"
   ]
  },
  {
   "cell_type": "code",
   "execution_count": 104,
   "id": "3b95f2f3",
   "metadata": {
    "ExecuteTime": {
     "end_time": "2023-11-15T05:52:35.290085Z",
     "start_time": "2023-11-15T05:52:35.279612Z"
    },
    "hidden": true
   },
   "outputs": [],
   "source": [
    "with open(\"results/cuteSV_inv_na12878.final.bed\", \"w+\") as fw:\n",
    "    for obj in sorted(clusters):\n",
    "        fw.write(obj.format(\"bed\") + \"\\n\")"
   ]
  },
  {
   "cell_type": "code",
   "execution_count": 105,
   "id": "2520c813",
   "metadata": {
    "ExecuteTime": {
     "end_time": "2023-11-15T05:52:36.023710Z",
     "start_time": "2023-11-15T05:52:35.965817Z"
    },
    "hidden": true
   },
   "outputs": [],
   "source": [
    "rows = []\n",
    "for obj in sorted(clusters):\n",
    "    row = [obj.chrom, obj.start, obj.end, obj.name]\n",
    "    rows.append(row)\n",
    "tmp = pd.DataFrame(rows, columns=[\"Chrom\", \"Start\", \"End\", \"Name\"])\n",
    "tmp.to_excel(\"results/cuteSV_inv_na12878.final.xlsx\", index=False)"
   ]
  },
  {
   "cell_type": "markdown",
   "id": "2f94fc01",
   "metadata": {},
   "source": [
    "# Inversions from NanoStrand-seq"
   ]
  },
  {
   "cell_type": "code",
   "execution_count": 106,
   "id": "f0b8539a",
   "metadata": {
    "ExecuteTime": {
     "end_time": "2023-11-15T05:54:44.483623Z",
     "start_time": "2023-11-15T05:54:44.403249Z"
    }
   },
   "outputs": [
    {
     "name": "stdout",
     "output_type": "stream",
     "text": [
      "Inversions: 1603\n"
     ]
    }
   ],
   "source": [
    "with BedFile(\"../../4_NanoStrandseq_Assembly/results/HG001_Cell_350/inversions/inversions.bed.gz\") as f:\n",
    "    invs = [x for x in f]\n",
    "print(\"Inversions:\", len(invs))"
   ]
  },
  {
   "cell_type": "code",
   "execution_count": 141,
   "id": "4c03876f",
   "metadata": {
    "ExecuteTime": {
     "end_time": "2023-11-15T06:13:35.421657Z",
     "start_time": "2023-11-15T06:13:33.496184Z"
    }
   },
   "outputs": [
    {
     "name": "stdout",
     "output_type": "stream",
     "text": [
      "Inversions: 707\n",
      "Inversions: 685\n"
     ]
    }
   ],
   "source": [
    "data = []\n",
    "for inv in invs:\n",
    "    c, w, r = inv.name.split(\";\")\n",
    "    c, w, r = int(c), int(w), float(r)\n",
    "    if w + c < 20:\n",
    "        continue\n",
    "    if w < 5:\n",
    "        continue\n",
    "    if r < 0.2:\n",
    "        continue\n",
    "    r = w / (c + w)\n",
    "    d = dict()\n",
    "    d[\"Chrom\"] = inv.chrom\n",
    "    d[\"Start\"] = inv.start\n",
    "    d[\"End\"] = inv.end\n",
    "    d[\"Crick\"] = c\n",
    "    d[\"Watson\"] = w\n",
    "    d[\"Ratio\"] = w / (w + c)\n",
    "    data.append(d)\n",
    "print(\"Inversions:\", len(data))\n",
    "\n",
    "def get_c_w_counts(f, chrom, start, end):\n",
    "    c, w = 0, 0\n",
    "    for line in f.fetch(chrom, start, end):\n",
    "        row = line.strip(\"\\n\").split(\"\\t\")\n",
    "        chrom1, start1, end1 = row[0], int(row[1]), int(row[2])\n",
    "        overlap = min(end, end1) - max(start, start1)\n",
    "        length = min(end - start, end1 - start1)\n",
    "        r = overlap / length\n",
    "        if r > 0.5:\n",
    "            if row[5] == \"+\":\n",
    "                c += 1\n",
    "            else:\n",
    "                w += 1\n",
    "    return c, w\n",
    "\n",
    "f_bed = \"../../4_NanoStrandseq_Assembly/results/HG001_Cell_350/inversions/composites/all_chroms.bed.gz\"\n",
    "with pysam.TabixFile(f_bed) as f:\n",
    "    for d in data:\n",
    "        c, w = get_c_w_counts(f, d[\"Chrom\"], d[\"Start\"], d[\"End\"])\n",
    "        d[\"Crick\"] = c\n",
    "        d[\"Watson\"] = w\n",
    "        d[\"Ratio\"] = w / (w + c)\n",
    "        \n",
    "tmp = []\n",
    "for d in data:\n",
    "    if d[\"Crick\"] + d[\"Watson\"] < 20 or d[\"Watson\"] < 5 or d[\"Ratio\"] < 0.2:\n",
    "        continue\n",
    "    tmp.append(d)\n",
    "print(\"Inversions:\", len(tmp))\n",
    "data = tmp"
   ]
  },
  {
   "cell_type": "code",
   "execution_count": 149,
   "id": "ae57766e",
   "metadata": {
    "ExecuteTime": {
     "end_time": "2023-11-15T06:17:52.338807Z",
     "start_time": "2023-11-15T06:17:51.645811Z"
    },
    "scrolled": true
   },
   "outputs": [
    {
     "name": "stdout",
     "output_type": "stream",
     "text": [
      "Inversions: 348\n"
     ]
    }
   ],
   "source": [
    "with pysam.TabixFile(f_bed) as f:\n",
    "    i = 0\n",
    "    while True:\n",
    "        if i >= len(data) - 1:\n",
    "            break\n",
    "            \n",
    "        d1 = data[i]\n",
    "        d2 = data[i + 1]\n",
    "        \n",
    "        if d1[\"Chrom\"] != d2[\"Chrom\"]:\n",
    "            i += 1\n",
    "            continue\n",
    "            \n",
    "        distance = d2[\"Start\"] - d1[\"End\"]\n",
    "        assert distance > 0\n",
    "        if distance > 1000000:\n",
    "            i += 1\n",
    "            continue\n",
    "            \n",
    "        c1, w1 = d1[\"Crick\"], d1[\"Watson\"]\n",
    "        c2, w2 = d2[\"Crick\"], d2[\"Watson\"]\n",
    "        c, w = get_c_w_counts(f, d1[\"Chrom\"], d1[\"End\"], d2[\"Start\"])\n",
    "        r = 0\n",
    "        if c + w > 0:\n",
    "            r = w / (c + w)\n",
    "        if c + w < 10 or r >= 0.2:\n",
    "            c3 = c1 + c2 + c\n",
    "            w3 = w1 + w2 + w\n",
    "            r3 = w3 / (w3 + c3)\n",
    "            if r3 >= 0.2:\n",
    "                d1[\"End\"] = d2[\"End\"]\n",
    "                d1[\"Crick\"] = c3\n",
    "                d1[\"Watson\"] = w3\n",
    "                d1[\"Ratio\"] = r3\n",
    "                data.pop(i + 1)\n",
    "                continue\n",
    "\n",
    "        i += 1\n",
    "        continue\n",
    "print(\"Inversions:\", len(data))"
   ]
  },
  {
   "cell_type": "code",
   "execution_count": 150,
   "id": "56d62218",
   "metadata": {
    "ExecuteTime": {
     "end_time": "2023-11-15T06:17:53.049062Z",
     "start_time": "2023-11-15T06:17:52.896673Z"
    }
   },
   "outputs": [],
   "source": [
    "rows = []\n",
    "with open(\"results/nss_inv_na12878.merged.bed\", \"w+\") as fw:\n",
    "    for d in data:\n",
    "#         if d[\"Crick\"] + d[\"Watson\"] < 40:\n",
    "#             continue\n",
    "        name = \"%s;%s;%f\" % (d[\"Crick\"], d[\"Watson\"], d[\"Ratio\"])\n",
    "        fw.write(\"%s\\t%s\\t%s\\t%s\\n\" % (d[\"Chrom\"], d[\"Start\"], d[\"End\"], name))\n",
    "        row = [d[\"Chrom\"], d[\"Start\"], d[\"End\"], d[\"Crick\"], d[\"Watson\"], d[\"Ratio\"]]\n",
    "        rows.append(row)\n",
    "tmp = pd.DataFrame(rows)\n",
    "tmp.columns = [\"Chrom\", \"Start\", \"End\", \"Crick\", \"Watson\", \"Ratio\"]\n",
    "tmp.to_excel(\"results/nss_inv_na12878.merged.xlsx\", index=False)"
   ]
  },
  {
   "cell_type": "markdown",
   "id": "a5df3af1",
   "metadata": {},
   "source": [
    "# After manual annotate"
   ]
  },
  {
   "cell_type": "code",
   "execution_count": 12,
   "id": "e51cb7f9",
   "metadata": {
    "ExecuteTime": {
     "end_time": "2023-11-25T08:51:19.233163Z",
     "start_time": "2023-11-25T08:51:17.371982Z"
    }
   },
   "outputs": [
    {
     "name": "stdout",
     "output_type": "stream",
     "text": [
      "301\n",
      "76\n"
     ]
    }
   ],
   "source": [
    "def get_c_w_counts(f, chrom, start, end):\n",
    "    c, w = 0, 0\n",
    "    for line in f.fetch(chrom, start, end):\n",
    "        row = line.strip(\"\\n\").split(\"\\t\")\n",
    "        chrom1, start1, end1 = row[0], int(row[1]), int(row[2])\n",
    "        overlap = min(end, end1) - max(start, start1)\n",
    "        length = min(end - start, end1 - start1)\n",
    "        r = overlap / length\n",
    "        if r > 0.5:\n",
    "            if row[5] == \"+\":\n",
    "                c += 1\n",
    "            else:\n",
    "                w += 1\n",
    "    return c, w\n",
    "\n",
    "dat = pd.read_excel(\"results/nss_inv_na12878.merged.annotated.xlsx\")\n",
    "f_bed = \"../../4_NanoStrandseq_Assembly/results/HG001_Cell_350/inversions/composites/all_chroms.bed.gz\"\n",
    "with pysam.TabixFile(f_bed) as f:\n",
    "    c_list = []\n",
    "    w_list = []\n",
    "    for chrom, start, end in dat[[\"Chrom\", \"Start\", \"End\"]].values:\n",
    "        c, w = get_c_w_counts(f, chrom, start, end)\n",
    "        c_list.append(c)\n",
    "        w_list.append(w)\n",
    "dat[\"Crick\"] = c_list\n",
    "dat[\"Watson\"] = w_list\n",
    "dat[\"Ratio\"] = dat[\"Watson\"] / (dat[\"Crick\"] + dat[\"Watson\"])\n",
    "dat = dat[(dat[\"Crick\"] + dat[\"Watson\"]) >= 50]\n",
    "print(len(dat))\n",
    "d = dat[[\"PASS\" in x for x in dat[\"Remark\"]]]\n",
    "print(len(d))"
   ]
  },
  {
   "cell_type": "code",
   "execution_count": 13,
   "id": "1a3306f6",
   "metadata": {
    "ExecuteTime": {
     "end_time": "2023-11-25T08:51:19.243849Z",
     "start_time": "2023-11-25T08:51:19.235947Z"
    }
   },
   "outputs": [
    {
     "name": "stdout",
     "output_type": "stream",
     "text": [
      "76\n"
     ]
    }
   ],
   "source": [
    "invs = []\n",
    "for chrom, start, end in d[[\"Chrom\", \"Start\", \"End\"]].values:\n",
    "    obj = GRange(chrom=chrom, start=start, end=end, name=\"AnnotatedInversion\", strand=\"+\")\n",
    "    invs.append(obj)\n",
    "invs.sort()\n",
    "print(len(invs))"
   ]
  },
  {
   "cell_type": "code",
   "execution_count": 14,
   "id": "3dfebaa6",
   "metadata": {
    "ExecuteTime": {
     "end_time": "2023-11-25T08:51:20.742797Z",
     "start_time": "2023-11-25T08:51:20.693473Z"
    }
   },
   "outputs": [
    {
     "name": "stdout",
     "output_type": "stream",
     "text": [
      "cuteSV inversions: 11\n"
     ]
    }
   ],
   "source": [
    "d = pd.read_excel(\"results/cuteSV_inv_na12878.final.annotated.xlsx\")\n",
    "d = d[d[\"Remark\"] == \"PASS\"]\n",
    "invs_cutesv = []\n",
    "for chrom, start, end in d[[\"Chrom\", \"Start\", \"End\"]].values:\n",
    "    obj = GRange(chrom=chrom, start=start, end=end, name=\"cuteSV\", strand=\"+\")\n",
    "    invs_cutesv.append(obj)\n",
    "invs_cutesv.sort()\n",
    "print(\"cuteSV inversions:\", len(invs_cutesv))"
   ]
  },
  {
   "cell_type": "code",
   "execution_count": 15,
   "id": "8f5f1f7b",
   "metadata": {
    "ExecuteTime": {
     "end_time": "2023-11-25T08:51:26.604190Z",
     "start_time": "2023-11-25T08:51:26.591634Z"
    }
   },
   "outputs": [
    {
     "name": "stdout",
     "output_type": "stream",
     "text": [
      "Merged inversions: 86\n"
     ]
    }
   ],
   "source": [
    "invs_merged = invs.copy()\n",
    "loader = ShiftLoader(invs)\n",
    "for inv in invs_cutesv:\n",
    "    if len(list(loader.fetch(obj=inv))) == 0:\n",
    "        invs_merged.append(inv)\n",
    "invs_merged.sort()\n",
    "print(\"Merged inversions:\", len(invs_merged))"
   ]
  },
  {
   "cell_type": "code",
   "execution_count": 16,
   "id": "2de5ce46",
   "metadata": {
    "ExecuteTime": {
     "end_time": "2023-11-25T08:51:28.184956Z",
     "start_time": "2023-11-25T08:51:28.160516Z"
    }
   },
   "outputs": [
    {
     "name": "stdout",
     "output_type": "stream",
     "text": [
      "Reference inversions: 121\n",
      "Blacklist: 101\n"
     ]
    }
   ],
   "source": [
    "with BedFile(\"results/cell_paper_inv_na12878.bed\") as f:\n",
    "    invs_ref = []\n",
    "    for x in f:\n",
    "        x.hit = 0\n",
    "        invs_ref.append(x)\n",
    "print(\"Reference inversions:\", len(invs_ref))\n",
    "\n",
    "with BedFile(\"results/cell_paper_inv_na12878.blacklist.bed\") as f:\n",
    "    blacklist = [x for x in f]\n",
    "print(\"Blacklist:\", len(blacklist))"
   ]
  },
  {
   "cell_type": "code",
   "execution_count": 17,
   "id": "66a34442",
   "metadata": {
    "ExecuteTime": {
     "end_time": "2023-11-25T08:51:51.180670Z",
     "start_time": "2023-11-25T08:51:51.159091Z"
    }
   },
   "outputs": [
    {
     "name": "stdout",
     "output_type": "stream",
     "text": [
      "72 11\n",
      "79 42\n"
     ]
    }
   ],
   "source": [
    "loader1 = ShiftLoader(invs_ref)\n",
    "loader2 = ShiftLoader(blacklist)\n",
    "que_hit = 0\n",
    "que_no_hit = 0\n",
    "for inv in invs_merged:\n",
    "    array1 = [x for x in loader1.fetch(obj=inv)]\n",
    "    array2 = [x for x in loader2.fetch(obj=inv)]\n",
    "    inv.hit = len(array1)\n",
    "    if len(array1) > 0:\n",
    "        que_hit += 1\n",
    "        for x in array1:\n",
    "            x.hit += 1\n",
    "    else:\n",
    "        if len(array2) == 0:\n",
    "            que_no_hit += 1\n",
    "print(que_hit, que_no_hit)\n",
    "\n",
    "ref_hit = 0\n",
    "ref_no_hit = 0\n",
    "for x in invs_ref:\n",
    "    if x.hit:\n",
    "        ref_hit += 1\n",
    "    else:\n",
    "        ref_no_hit += 1\n",
    "print(ref_hit, ref_no_hit)"
   ]
  },
  {
   "cell_type": "code",
   "execution_count": 18,
   "id": "081ae2c3",
   "metadata": {
    "ExecuteTime": {
     "end_time": "2023-11-25T08:51:52.835464Z",
     "start_time": "2023-11-25T08:51:52.581424Z"
    }
   },
   "outputs": [
    {
     "data": {
      "image/png": "[encoded data removed]",
      "text/plain": [
       "<Figure size 216x216 with 1 Axes>"
      ]
     },
     "metadata": {},
     "output_type": "display_data"
    }
   ],
   "source": [
    "values = [ref_no_hit, que_no_hit, (ref_hit + que_hit) / 2]\n",
    "plt.figure(figsize=(3, 3))\n",
    "ret = venn2(values, set_colors=[\"C0\", \"C3\"], set_labels=[\"NA12878\\n(Porubsky et al.)\", \"NanoStrand-seq\\n(350 cells)\"])\n",
    "ret.subset_labels[2].set_text(\"%d\\n\\n%d\" % (ref_hit, que_hit))\n",
    "plt.plot([0.15, 0.45], [-0.05, 0], lw=1, color=\"black\")\n",
    "plt.plot([-0.4, -0.05], [0, 0.05], lw=1, color=\"black\")\n",
    "plt.tight_layout()\n",
    "# plt.show()\n",
    "plt.savefig(\"figures/benchmark_of_inversion.nss_cutesv.venn2.pdf\", dpi=300)"
   ]
  },
  {
   "cell_type": "code",
   "execution_count": 20,
   "id": "478d5781",
   "metadata": {
    "ExecuteTime": {
     "end_time": "2023-11-25T08:52:16.063069Z",
     "start_time": "2023-11-25T08:52:16.056483Z"
    }
   },
   "outputs": [
    {
     "name": "stdout",
     "output_type": "stream",
     "text": [
      "chr1\t146315906\t149317235\tAnnotatedInversion\t.\t+\t146315906\t146315906\t0,0,255\t1\t3001329,\t0,\n",
      "chr10\t46884348\t47535134\tAnnotatedInversion\t.\t+\t46884348\t46884348\t0,0,255\t1\t650786,\t0,\n",
      "chr10\t47543112\t47780339\tAnnotatedInversion\t.\t+\t47543112\t47543112\t0,0,255\t1\t237227,\t0,\n",
      "chr16\t21583279\t22476194\tAnnotatedInversion\t.\t+\t21583279\t21583279\t0,0,255\t1\t892915,\t0,\n",
      "chr17\t43299186\t43324160\tAnnotatedInversion\t.\t+\t43299186\t43299186\t0,0,255\t1\t24974,\t0,\n",
      "chr2\t130124720\t131531814\tAnnotatedInversion\t.\t+\t130124720\t130124720\t0,0,255\t1\t1407094,\t0,\n",
      "chr5\t64467762\t64478788\tAnnotatedInversion\t.\t+\t64467762\t64467762\t0,0,255\t1\t11026,\t0,\n",
      "chr6\t26734993\t26750063\tAnnotatedInversion\t.\t+\t26734993\t26734993\t0,0,255\t1\t15070,\t0,\n",
      "chr6\t26750063\t26766966\tAnnotatedInversion\t.\t+\t26750063\t26750063\t0,0,255\t1\t16903,\t0,\n"
     ]
    }
   ],
   "source": [
    "for inv in invs_merged:\n",
    "    if inv.hit > 1:\n",
    "        print(inv.format(\"BED\"))"
   ]
  },
  {
   "cell_type": "code",
   "execution_count": 10,
   "id": "d3bcded7",
   "metadata": {
    "ExecuteTime": {
     "end_time": "2023-11-25T08:42:20.135568Z",
     "start_time": "2023-11-25T08:42:19.096349Z"
    }
   },
   "outputs": [],
   "source": [
    "f_bed = \"../../4_NanoStrandseq_Assembly/results/HG001_Cell_350/inversions/composites/all_chroms.bed.gz\"\n",
    "with pysam.TabixFile(f_bed) as f:\n",
    "    for inv in invs_ref:\n",
    "        c, w = get_c_w_counts(f, inv.chrom, inv.start, inv.end)\n",
    "        inv.crick = c\n",
    "        inv.watson = w"
   ]
  },
  {
   "cell_type": "code",
   "execution_count": 11,
   "id": "0cd093ea",
   "metadata": {
    "ExecuteTime": {
     "end_time": "2023-11-25T08:42:20.457466Z",
     "start_time": "2023-11-25T08:42:20.343786Z"
    }
   },
   "outputs": [
    {
     "name": "stdout",
     "output_type": "stream",
     "text": [
      "1|0\t235\tFalse\t7\t0\t0.00\tchr8:102423403-102423638\n",
      "1|1\t266\tTrue\t0\t0\t0.00\tchr17:5982838-5983104\n",
      "1|1\t294\tTrue\t0\t0\t0.00\tchr5:29069229-29069523\n",
      "0|1\t316\tTrue\t2\t1\t0.33\tchr6:89213914-89214230\n",
      "1|1\t335\tTrue\t2\t0\t0.00\tchr6:94031360-94031695\n",
      "1|1\t555\tTrue\t0\t0\t0.00\tchr21:26001836-26002391\n",
      "1|1\t650\tFalse\t0\t0\t0.00\tchr1:43593641-43594291\n",
      "1|1\t662\tFalse\t0\t1\t1.00\tchr16:85155339-85156001\n",
      "1|1\t780\tFalse\t0\t3\t1.00\tchr3:44699775-44700555\n",
      "0|1\t1095\tTrue\t8\t3\t0.27\tchr7:40839776-40840871\n",
      "0|1\t1194\tFalse\t2\t5\t0.71\tchrX:153074418-153075612\n",
      "1|1\t1196\tFalse\t1\t0\t0.00\tchr4:145693552-145694748\n",
      "1|0\t1197\tTrue\t5\t5\t0.50\tchr1:197787659-197788856\n",
      "1|1\t1200\tFalse\t0\t11\t1.00\tchr9:113111686-113112886\n",
      "1|0\t1338\tFalse\t12\t7\t0.37\tchrX:6219005-6220343\n",
      "1|0\t1400\tFalse\t0\t7\t1.00\tchr18:12145103-12146503\n",
      "1|1\t1451\tFalse\t0\t8\t1.00\tchr12:12392068-12393519\n",
      "0|1\t1536\tFalse\t6\t5\t0.45\tchr11:738649-740185\n",
      "1|0\t1538\tFalse\t8\t3\t0.27\tchr12:71546200-71547738\n",
      "1|1\t1674\tFalse\t0\t9\t1.00\tchr6:106721331-106723005\n",
      "0|1\t1781\tTrue\t8\t7\t0.47\tchrX:14711416-14713197\n",
      "1|1\t1906\tFalse\t0\t11\t1.00\tchr8:6297862-6299768\n",
      "1|1\t2212\tTrue\t1\t6\t0.86\tchr6:26760606-26762818\n",
      "1|1\t2303\tTrue\t0\t21\t1.00\tchr16:1245200-1247503\n",
      "1|1\t2442\tFalse\t0\t9\t1.00\tchr10:91443587-91446029\n",
      "0|1\t2796\tFalse\t7\t5\t0.42\tchrX:76146153-76148949\n",
      "1|1\t2840\tFalse\t6\t3\t0.33\tchr12:80461776-80464616\n",
      "1|0\t2849\tTrue\t7\t15\t0.68\tchr6:26736772-26739621\n",
      "1|1\t2976\tFalse\t4\t2\t0.33\tchr12:80451355-80454331\n",
      "1|0\t3177\tTrue\t8\t7\t0.47\tchr2:240685789-240688966\n",
      "1|0\t3951\tFalse\t16\t9\t0.36\tchr11:55662739-55666690\n",
      "1|1\t4190\tTrue\t0\t42\t1.00\tchr5:64470928-64475118\n",
      "1|1\t4339\tTrue\t0\t38\t1.00\tchr21:40028842-40033181\n",
      "1|1\t4345\tFalse\t0\t28\t1.00\tchr2:138247429-138251774\n",
      "1|1\t4809\tFalse\t0\t16\t1.00\tchr1:26641622-26646431\n",
      "1|1\t5010\tFalse\t0\t0\t0.00\tchr12:13392624-13397634\n",
      "1|1\t5371\tFalse\t0\t16\t1.00\tchr17:26880608-26885979\n",
      "1|1\t5699\tFalse\t0\t39\t1.00\tchr16:35946683-35952382\n",
      "1|1\t6169\tTrue\t0\t55\t1.00\tchr5:64470920-64477089\n",
      "1|1\t6231\tTrue\t0\t46\t1.00\tchr3:187418165-187424396\n",
      "1|1\t7224\tTrue\t2\t46\t0.96\tchr1:148288482-148295706\n",
      "0|1\t7366\tTrue\t20\t18\t0.47\tchr14:34547864-34555230\n",
      "1|1\t7724\tTrue\t1\t54\t0.98\tchr5:179643529-179651253\n",
      "1|0\t7743\tTrue\t30\t31\t0.51\tchrX:63185600-63193343\n",
      "1|1\t8340\tTrue\t1\t46\t0.98\tchrX:52502274-52510614\n",
      "0|1\t8954\tTrue\t39\t36\t0.48\tchrX:152729753-152738707\n",
      "0|1\t9406\tTrue\t38\t35\t0.48\tchrX:101602193-101611599\n",
      "1|0\t9661\tFalse\t0\t0\t0.00\tchr7:143808752-143818413\n",
      "1|1\t9964\tTrue\t2\t63\t0.97\tchr12:86847821-86857785\n",
      "1|0\t10764\tTrue\t43\t32\t0.43\tchrX:102338170-102348934\n",
      "1|1\t10917\tFalse\t0\t48\t1.00\tchr1:248518572-248529489\n",
      "0|1\t11536\tTrue\t37\t31\t0.46\tchr4:87926011-87937547\n",
      "1|1\t11932\tTrue\t2\t85\t0.98\tchr9:123979106-123991038\n",
      "1|1\t12703\tTrue\t1\t97\t0.99\tchr7:70961198-70973901\n",
      "1|1\t12995\tFalse\t0\t17\t1.00\tchr20:28495291-28508286\n",
      "0|1\t13009\tTrue\t50\t29\t0.37\tchrX:52921572-52934581\n",
      "1|1\t13268\tTrue\t1\t57\t0.98\tchr19:38774757-38788025\n",
      "0|1\t13852\tTrue\t51\t42\t0.45\tchrX:135734732-135748584\n",
      "1|1\t14954\tTrue\t0\t104\t1.00\tchr11:49714144-49729098\n",
      "1|0\t15847\tTrue\t68\t60\t0.47\tchr16:20506046-20521893\n",
      "1|0\t16534\tTrue\t50\t39\t0.44\tchr16:75206214-75222748\n",
      "1|1\t17655\tFalse\t44\t117\t0.73\tchr7:62373327-62390982\n",
      "1|1\t17848\tFalse\t3\t35\t0.92\tchr11:4271709-4289557\n",
      "1|0\t18269\tTrue\t51\t42\t0.45\tchr1:13104252-13122521\n",
      "1|1\t18922\tFalse\t1\t0\t0.00\tchr5:46896906-46915828\n",
      "1|1\t21683\tTrue\t0\t118\t1.00\tchr11:1894042-1915725\n",
      "1|1\t22615\tTrue\t3\t112\t0.97\tchr15:23295576-23318191\n",
      "1|1\t23331\tTrue\t0\t92\t1.00\tchr18:20813184-20836515\n",
      "1|0\t24387\tTrue\t45\t94\t0.68\tchr6:26738710-26763097\n",
      "1|1\t24596\tTrue\t1\t75\t0.99\tchr2:88861564-88886160\n",
      "1|1\t33985\tFalse\t191\t262\t0.58\tchr4:49291019-49325004\n",
      "1|0\t34436\tTrue\t83\t77\t0.48\tchr7:143716562-143750998\n",
      "0|1\t35034\tTrue\t108\t115\t0.52\tchr8:2343351-2378385\n",
      "1|1\t36880\tFalse\t0\t8\t1.00\tchr5:49608476-49645356\n",
      "1|1\t39054\tTrue\t1\t173\t0.99\tchr18:20562339-20601393\n",
      "1|1\t39671\tFalse\t35\t265\t0.88\tchr9:64028785-64068456\n",
      "1|1\t41214\tTrue\t3\t258\t0.99\tchrX:149681035-149722249\n",
      "1|1\t41241\tFalse\t0\t0\t0.00\tchrX:93514-134755\n",
      "1|0\t42139\tTrue\t118\t155\t0.57\tchrX:135165183-135207322\n",
      "1|1\t46833\tFalse\t1\t49\t0.98\tchr12:34773599-34820432\n",
      "1|1\t47958\tTrue\t35\t398\t0.92\tchr7:62408486-62456444\n",
      "1|1\t48672\tTrue\t1\t182\t0.99\tchr22:21443089-21491761\n",
      "1|1\t59735\tTrue\t2\t225\t0.99\tchr17:43263148-43322883\n",
      "1|1\t59994\tTrue\t2\t350\t0.99\tchrX:103989434-104049428\n",
      "0|1\t66160\tTrue\t142\t130\t0.48\tchr10:47480263-47546423\n",
      "0|1\t72469\tTrue\t279\t266\t0.49\tchr7:62290674-62363143\n",
      "1|0\t73094\tTrue\t176\t172\t0.49\tchr1:108310642-108383736\n",
      "1|1\t74379\tTrue\t3\t621\t1.00\tchr7:54234014-54308393\n",
      "1|1\t81183\tTrue\t7\t629\t0.99\tchr12:17774389-17855572\n",
      "1|1\t89056\tTrue\t3\t224\t0.99\tchr17:43232908-43321964\n",
      "1|0\t99854\tTrue\t377\t343\t0.48\tchrX:52077120-52176974\n",
      "1|1\t100478\tTrue\t7\t682\t0.99\tchrX:153149748-153250226\n",
      "0|1\t107520\tTrue\t231\t216\t0.48\tchr10:47649265-47756785\n",
      "1|1\t138225\tFalse\t0\t103\t1.00\tchr1:124793252-124931477\n",
      "1|1\t141180\tTrue\t52\t725\t0.93\tchr7:62144125-62285305\n",
      "1|1\t146069\tTrue\t147\t710\t0.83\tchr16:14954790-15100859\n",
      "0|1\t154652\tTrue\t529\t326\t0.38\tchr15:82360482-82515134\n",
      "1|0\t163495\tTrue\t630\t593\t0.48\tchr20:25846148-26009643\n",
      "0|1\t177746\tTrue\t293\t278\t0.49\tchr15:22180495-22358241\n",
      "0|1\t180623\tTrue\t506\t525\t0.51\tchr2:91832040-92012663\n",
      "1|0\t181033\tTrue\t463\t506\t0.52\tchr2:110095177-110276210\n",
      "1|0\t224590\tTrue\t537\t562\t0.51\tchr1:144376209-144600799\n",
      "1|0\t301907\tTrue\t712\t607\t0.46\tchr1:120299058-120600965\n",
      "1|1\t371862\tTrue\t55\t1637\t0.97\tchr1:148893781-149265643\n",
      "1|1\t483313\tFalse\t0\t44\t1.00\tchr1:122020454-122503767\n",
      "0|1\t484781\tTrue\t1696\t1667\t0.50\tchr10:46983451-47468232\n",
      "1|1\t545396\tTrue\t456\t2751\t0.86\tchr20:29882887-30428283\n",
      "1|1\t567417\tTrue\t23\t3372\t0.99\tchr16:21864964-22432381\n",
      "1|1\t648847\tFalse\t2144\t5262\t0.71\tchr20:28556077-29204924\n",
      "1|1\t666132\tTrue\t119\t1801\t0.94\tchr7:60911891-61578023\n",
      "1|1\t677920\tFalse\t3340\t5662\t0.63\tchr22:11547667-12225587\n",
      "0|1\t746597\tTrue\t2254\t2130\t0.49\tchr7:5989046-6735643\n",
      "1|1\t848870\tTrue\t63\t4671\t0.99\tchr16:21583511-22432381\n",
      "1|0\t1062390\tTrue\t2929\t2919\t0.50\tchr2:130138212-131200602\n",
      "1|0\t1392322\tTrue\t3903\t3915\t0.50\tchr2:130138212-131530534\n",
      "0|1\t1535101\tTrue\t5581\t5526\t0.50\tchr15:30618103-32153204\n",
      "1|1\t2195016\tFalse\t5\t61\t0.92\tchr15:17506622-19701638\n",
      "1|1\t2346461\tFalse\t0\t16\t1.00\tchr12:34834837-37181298\n",
      "1|1\t2374763\tTrue\t216\t13275\t0.98\tchr1:146298109-148672872\n",
      "1|1\t3748996\tFalse\t0\t8\t1.00\tchrX:58621523-62370519\n",
      "1|1\t5297355\tTrue\t2235\t26250\t0.92\tchr8:7301024-12598379\n"
     ]
    }
   ],
   "source": [
    "for inv in sorted(invs_ref, key=lambda x: len(x)):\n",
    "    c, w = inv.crick, inv.watson\n",
    "    r = 0\n",
    "    if c + w > 0:\n",
    "        r = w / (c + w)\n",
    "    loc = \"%s:%d-%d\" % (inv.chrom, inv.start, inv.end)\n",
    "    print(inv.name[-3:], len(inv), inv.hit, c, w, \"%.2f\" % r, loc, sep=\"\\t\")"
   ]
  },
  {
   "cell_type": "code",
   "execution_count": 61,
   "id": "66914316",
   "metadata": {
    "ExecuteTime": {
     "end_time": "2023-11-15T14:31:33.930245Z",
     "start_time": "2023-11-15T14:31:32.920097Z"
    }
   },
   "outputs": [
    {
     "name": "stdout",
     "output_type": "stream",
     "text": [
      "chr20\t28556077\t29204924\n",
      "chr22\t11547667\t12225587\n"
     ]
    },
    {
     "data": {
      "image/png": "[encoded data removed]",
      "text/plain": [
       "<Figure size 288x288 with 1 Axes>"
      ]
     },
     "metadata": {
      "needs_background": "light"
     },
     "output_type": "display_data"
    }
   ],
   "source": [
    "plt.figure(figsize=(4, 4))\n",
    "\n",
    "xs1, ys1 = [], []\n",
    "xs2, ys2 = [], []\n",
    "\n",
    "for inv in sorted(invs_ref, key=lambda x: len(x)):\n",
    "    c, w = inv.crick, inv.watson\n",
    "    t = c + w\n",
    "    r = 0\n",
    "    if t > 0:\n",
    "        r = w / t\n",
    "    gt = inv.name[-3:]\n",
    "    #if gt != \"1|1\":\n",
    "    #    continue\n",
    "    # color = \"C0\" if gt == \"1|1\" else \"C3\"\n",
    "    if len(inv) > 100000 and t >= 1000 and (not inv.hit):\n",
    "        print(inv.chrom, inv.start, inv.end, sep=\"\\t\")\n",
    "    x = np.log10(len(inv))\n",
    "    y = 0 if t == 0 else np.log10(t)\n",
    "    if inv.hit:\n",
    "        xs1.append(x)\n",
    "        ys1.append(y)\n",
    "    else:\n",
    "        xs2.append(x)\n",
    "        ys2.append(y)\n",
    "plt.scatter(xs1, ys1, color=\"C0\", edgecolor=\"black\", label=\"Called by NanoStrand-seq (%d)\" % len(xs1))\n",
    "plt.scatter(xs2, ys2, color=\"C3\", edgecolor=\"black\", label=\"Failed (%d)\" % len(xs2))\n",
    "plt.axhline(np.log10(40), lw=1, ls=\"--\", color=\"grey\")\n",
    "plt.axvline(np.log10(6000), lw=1, ls=\"--\", color=\"grey\")\n",
    "plt.xlabel(\"Length of inversions from Porubsky et al. (log$_{10}$)\")\n",
    "plt.ylabel(\"Reads at CC composite file (log$_{10}$)\")\n",
    "plt.xlim(1.8, 7.2)\n",
    "plt.ylim(-0.2, 5.2)\n",
    "plt.legend()\n",
    "plt.tight_layout()\n",
    "plt.savefig(\"figures/ref_inv_length_reads.pdf\", dpi=300)"
   ]
  },
  {
   "cell_type": "code",
   "execution_count": null,
   "id": "674446d3",
   "metadata": {},
   "outputs": [],
   "source": []
  }
 ],
 "metadata": {
  "kernelspec": {
   "display_name": "Python 3 (ipykernel)",
   "language": "python",
   "name": "python3"
  },
  "language_info": {
   "codemirror_mode": {
    "name": "ipython",
    "version": 3
   },
   "file_extension": ".py",
   "mimetype": "text/x-python",
   "name": "python",
   "nbconvert_exporter": "python",
   "pygments_lexer": "ipython3",
   "version": "3.10.13"
  }
 },
 "nbformat": 4,
 "nbformat_minor": 5
}
