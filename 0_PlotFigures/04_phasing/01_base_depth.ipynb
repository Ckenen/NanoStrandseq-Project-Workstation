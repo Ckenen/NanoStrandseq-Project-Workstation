{
 "cells": [
  {
   "cell_type": "code",
   "execution_count": 1,
   "id": "e84b1723",
   "metadata": {
    "ExecuteTime": {
     "end_time": "2024-02-02T11:54:00.572946Z",
     "start_time": "2024-02-02T11:53:56.828784Z"
    },
    "execution": {
     "iopub.execute_input": "2024-04-10T07:32:57.396649Z",
     "iopub.status.busy": "2024-04-10T07:32:57.396301Z",
     "iopub.status.idle": "2024-04-10T07:33:12.951260Z",
     "shell.execute_reply": "2024-04-10T07:33:12.950716Z",
     "shell.execute_reply.started": "2024-04-10T07:32:57.396631Z"
    }
   },
   "outputs": [],
   "source": [
    "import os\n",
    "import random\n",
    "from collections import Counter, defaultdict\n",
    "import numpy as np\n",
    "import pandas as pd\n",
    "import matplotlib.pyplot as plt\n",
    "import pyBigWig"
   ]
  },
  {
   "cell_type": "markdown",
   "id": "4e5ba56a",
   "metadata": {},
   "source": [
    "# Base sequencing depth"
   ]
  },
  {
   "cell_type": "code",
   "execution_count": 2,
   "id": "a639ff72",
   "metadata": {
    "ExecuteTime": {
     "end_time": "2024-02-02T11:54:28.498375Z",
     "start_time": "2024-02-02T11:54:27.030727Z"
    },
    "execution": {
     "iopub.execute_input": "2024-04-10T07:33:12.952369Z",
     "iopub.status.busy": "2024-04-10T07:33:12.951992Z",
     "iopub.status.idle": "2024-04-10T07:33:14.830401Z",
     "shell.execute_reply": "2024-04-10T07:33:14.829925Z",
     "shell.execute_reply.started": "2024-04-10T07:33:12.952347Z"
    }
   },
   "outputs": [],
   "source": [
    "# Select cells with WC chr1\n",
    "\n",
    "chrom = \"chr1\"\n",
    "\n",
    "cells = [\n",
    "    \"20220708_GM12878.sc002\",\n",
    "    \"20220708_GM12878.sc006\",\n",
    "    \"20220708_GM12878.sc010\",\n",
    "    \"20220708_GM12878.sc017\",\n",
    "    \"20220708_GM12878.sc020\",\n",
    "    \"20220708_GM12878.sc022\",\n",
    "    \"20220708_GM12878.sc029\",\n",
    "    \"20220708_GM12878.sc039\",\n",
    "    \"20220708_GM12878.sc042\",\n",
    "    \"20220708_GM12878.sc047\",\n",
    "    \"20220708_GM12878.sc055\",\n",
    "    \"20220708_GM12878.sc066\",\n",
    "    \"20220708_GM12878.sc076\",\n",
    "    \"20220708_GM12878.sc079\",\n",
    "    \"20220708_GM12878.sc087\",\n",
    "]\n",
    "\n",
    "data = dict()\n",
    "for cell in cells:\n",
    "    run = cell.split(\".\")[0]\n",
    "    for strand in [\"+\", \"-\"]:\n",
    "        f_bw = \"../../1_NanoStrandSeq/results/tracks/all/%s/%s/%s.%s.bw\" % (run, cell, cell, strand)\n",
    "        counter = defaultdict(int)\n",
    "        f = pyBigWig.open(f_bw)\n",
    "        length = f.chroms()[chrom]\n",
    "        for x, y, v in f.intervals(chrom, 0, length):\n",
    "            counter[v] += (y - x)\n",
    "        f.close()\n",
    "        data[(cell, chrom, strand)] = counter"
   ]
  },
  {
   "cell_type": "code",
   "execution_count": 3,
   "id": "b87e00fd",
   "metadata": {
    "ExecuteTime": {
     "end_time": "2024-02-02T11:54:30.131295Z",
     "start_time": "2024-02-02T11:54:29.994985Z"
    },
    "execution": {
     "iopub.execute_input": "2024-04-10T07:33:42.037589Z",
     "iopub.status.busy": "2024-04-10T07:33:42.037272Z",
     "iopub.status.idle": "2024-04-10T07:33:42.044088Z",
     "shell.execute_reply": "2024-04-10T07:33:42.043629Z",
     "shell.execute_reply.started": "2024-04-10T07:33:42.037562Z"
    }
   },
   "outputs": [],
   "source": [
    "rows = []\n",
    "for cell in cells:\n",
    "    counter = defaultdict(int)\n",
    "    for k, v in data[(cell, chrom, \"+\")].items():\n",
    "        if k == 0:\n",
    "            continue\n",
    "        counter[min(k, 5)] += v\n",
    "        \n",
    "    for k, v in data[(cell, chrom, \"-\")].items():\n",
    "        if k == 0:\n",
    "            continue\n",
    "        counter[min(k, 5)] += v\n",
    "    row = [counter[i] for i in range(1, 6)]\n",
    "    rows.append(row)\n",
    "d = pd.DataFrame(rows, columns=np.arange(1, 6))\n",
    "m = d.divide(d.sum(axis=1), axis=0)\n",
    "ys = m.mean(axis=0)"
   ]
  },
  {
   "cell_type": "code",
   "execution_count": 5,
   "id": "a5ad195a",
   "metadata": {
    "ExecuteTime": {
     "end_time": "2024-02-02T11:56:29.515292Z",
     "start_time": "2024-02-02T11:56:29.183107Z"
    },
    "execution": {
     "iopub.execute_input": "2024-04-10T07:34:47.880248Z",
     "iopub.status.busy": "2024-04-10T07:34:47.879714Z",
     "iopub.status.idle": "2024-04-10T07:34:48.177725Z",
     "shell.execute_reply": "2024-04-10T07:34:48.177284Z",
     "shell.execute_reply.started": "2024-04-10T07:34:47.880225Z"
    }
   },
   "outputs": [
    {
     "data": {
      "image/png": "[encoded data removed]",
      "text/plain": [
       "<Figure size 400x300 with 1 Axes>"
      ]
     },
     "metadata": {},
     "output_type": "display_data"
    }
   ],
   "source": [
    "plt.figure(figsize=(4, 3))\n",
    "plt.pie(ys, labels=[\"1\", \"2\", \"3\", \"4\", \"≥5\"], normalize=True,\n",
    "        autopct='%1.1f%%', \n",
    "        pctdistance=0.7, \n",
    "        colors=[\"C7\", \"C0\", \"C1\", \"C2\", \"C3\"],\n",
    "        # textprops=dict(color=\"white\"),\n",
    "        wedgeprops=dict(width=0.5, edgecolor='w'))\n",
    "plt.xlabel(\"Depth of base\")\n",
    "plt.tight_layout()\n",
    "plt.savefig(\"figures/base_sequencing_depth.pie.pdf\", dpi=300)"
   ]
  },
  {
   "cell_type": "markdown",
   "id": "cc986673",
   "metadata": {},
   "source": [
    "# Reads threshold for phasing"
   ]
  },
  {
   "cell_type": "code",
   "execution_count": 6,
   "id": "c2df081c",
   "metadata": {
    "ExecuteTime": {
     "end_time": "2023-09-28T07:28:04.452547Z",
     "start_time": "2023-09-28T07:28:04.164305Z"
    },
    "execution": {
     "iopub.execute_input": "2024-04-10T07:35:49.384259Z",
     "iopub.status.busy": "2024-04-10T07:35:49.383948Z",
     "iopub.status.idle": "2024-04-10T07:35:51.877588Z",
     "shell.execute_reply": "2024-04-10T07:35:51.877110Z",
     "shell.execute_reply.started": "2024-04-10T07:35:49.384238Z"
    }
   },
   "outputs": [],
   "source": [
    "# CW\n",
    "\n",
    "chrom = \"chr1\"\n",
    "cells = [\n",
    "    \"20220708_GM12878.sc002\",\n",
    "    \"20220708_GM12878.sc006\",\n",
    "    \"20220708_GM12878.sc010\",\n",
    "    \"20220708_GM12878.sc017\",\n",
    "    \"20220708_GM12878.sc020\",\n",
    "    \"20220708_GM12878.sc022\",\n",
    "    \"20220708_GM12878.sc029\",\n",
    "    \"20220708_GM12878.sc039\",\n",
    "    \"20220708_GM12878.sc042\",\n",
    "    \"20220708_GM12878.sc047\",\n",
    "    \"20220708_GM12878.sc055\",\n",
    "    \"20220708_GM12878.sc066\",\n",
    "    \"20220708_GM12878.sc076\",\n",
    "    \"20220708_GM12878.sc079\",\n",
    "    \"20220708_GM12878.sc087\",\n",
    "]\n",
    "\n",
    "chrom = \"chr2\"\n",
    "cells = [\n",
    "    \"20220708_GM12878.sc007\",\n",
    "    \"20220708_GM12878.sc011\",\n",
    "    \"20220708_GM12878.sc012\",\n",
    "    \"20220708_GM12878.sc018\",\n",
    "    \"20220708_GM12878.sc022\",\n",
    "    \"20220708_GM12878.sc023\",\n",
    "    \"20220708_GM12878.sc024\",\n",
    "    \"20220708_GM12878.sc032\",\n",
    "    \"20220708_GM12878.sc035\",\n",
    "    \"20220708_GM12878.sc039\",\n",
    "    \"20220708_GM12878.sc042\",\n",
    "    \"20220708_GM12878.sc044\",\n",
    "    \"20220708_GM12878.sc047\",\n",
    "    \"20220708_GM12878.sc051\",\n",
    "    #\"20220708_GM12878.sc052\",\n",
    "    \"20220708_GM12878.sc061\",\n",
    "    # \"20220708_GM12878.sc084\",\n",
    "    \"20220708_GM12878.sc087\",\n",
    "    \"20220708_GM12878.sc088\",\n",
    "    \"20220708_GM12878.sc089\",\n",
    "]\n",
    "\n",
    "data = dict()\n",
    "rows = []\n",
    "for cell in cells:\n",
    "    run = cell.split(\".\")[0]\n",
    "    row = []\n",
    "    for read in range(1, 6):\n",
    "        path = \"../../1_NanoStrandSeq/results/stat_hap/%s/%s/%s/summary.%d.tsv\" % (run, cell, chrom, read)\n",
    "        d = pd.read_csv(path, sep=\"\\t\", index_col=0)\n",
    "        m = d.values\n",
    "        v1 = m[0][0] + m[1][1]\n",
    "        v2 = m[0][1] + m[1][0]\n",
    "        if v1 + v2 > 0:\n",
    "            precision = max(v1, v2) / (v1 + v2)\n",
    "        else:\n",
    "            precision = 0\n",
    "        row.append(precision)\n",
    "    rows.append(row)"
   ]
  },
  {
   "cell_type": "code",
   "execution_count": 7,
   "id": "0be7ec33",
   "metadata": {
    "ExecuteTime": {
     "end_time": "2023-09-28T07:28:05.087382Z",
     "start_time": "2023-09-28T07:28:04.497865Z"
    },
    "execution": {
     "iopub.execute_input": "2024-04-10T07:36:07.353232Z",
     "iopub.status.busy": "2024-04-10T07:36:07.352922Z",
     "iopub.status.idle": "2024-04-10T07:36:07.852432Z",
     "shell.execute_reply": "2024-04-10T07:36:07.851998Z",
     "shell.execute_reply.started": "2024-04-10T07:36:07.353211Z"
    }
   },
   "outputs": [
    {
     "name": "stdout",
     "output_type": "stream",
     "text": [
      "Mean:\n",
      "0    92.158335\n",
      "1    99.073569\n",
      "2    99.409185\n",
      "3    99.332825\n",
      "4    99.602174\n",
      "dtype: float64\n",
      "Median:\n",
      "0    92.240289\n",
      "1    99.200548\n",
      "2    99.612310\n",
      "3    99.446042\n",
      "4    99.753280\n",
      "dtype: float64\n"
     ]
    },
    {
     "data": {
      "image/png": "[encoded data removed]",
      "text/plain": [
       "<Figure size 400x300 with 1 Axes>"
      ]
     },
     "metadata": {},
     "output_type": "display_data"
    }
   ],
   "source": [
    "d = pd.DataFrame(rows) * 100\n",
    "d.index = cells\n",
    "print(\"Mean:\")\n",
    "print(d.mean(axis=0))\n",
    "print(\"Median:\")\n",
    "print(d.median(axis=0))\n",
    "vs = [100 - d[c] for c in d.columns]\n",
    "xs = np.arange(1, len(vs) + 1)\n",
    "np.random.seed(0)\n",
    "\n",
    "plt.figure(figsize=(4, 3))\n",
    "plt.title(\"Single-cell level phasing accuracy at %s\" % chrom)\n",
    "plt.boxplot(vs, positions=xs, widths=0.6, showfliers=False, showcaps=False, medianprops={\"color\": \"black\"})\n",
    "for x, ys in zip(xs, vs):\n",
    "    xs1 = np.random.random(len(ys)) * 0.6 - 0.3 + x\n",
    "    plt.scatter(xs1, ys, marker=\"o\", s=10, clip_on=False)\n",
    "plt.gca().spines[\"top\"].set_visible(False)\n",
    "plt.gca().spines[\"right\"].set_visible(False)\n",
    "plt.ylim(-0.2, 12.02)\n",
    "plt.xlim(min(xs) - 0.5, max(xs) + 0.5)\n",
    "plt.xlabel(\"Depth of hetSNP allele\")\n",
    "plt.ylabel(\"Hamming error rate (%)\")\n",
    "#plt.yticks(np.arange(88, 101, 2))\n",
    "plt.grid(axis=\"y\", ls=\"--\", color=\"grey\")\n",
    "plt.tight_layout()\n",
    "plt.savefig(\"figures/phasing_precision_of_single_cell.%s.pdf\" % chrom, dpi=300)"
   ]
  }
 ],
 "metadata": {
  "kernelspec": {
   "display_name": "Python 3 (ipykernel)",
   "language": "python",
   "name": "python3"
  },
  "language_info": {
   "codemirror_mode": {
    "name": "ipython",
    "version": 3
   },
   "file_extension": ".py",
   "mimetype": "text/x-python",
   "name": "python",
   "nbconvert_exporter": "python",
   "pygments_lexer": "ipython3",
   "version": "3.10.13"
  }
 },
 "nbformat": 4,
 "nbformat_minor": 5
}
