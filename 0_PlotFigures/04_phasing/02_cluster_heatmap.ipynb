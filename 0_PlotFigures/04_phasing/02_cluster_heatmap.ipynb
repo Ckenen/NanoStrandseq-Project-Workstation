{
 "cells": [
  {
   "cell_type": "code",
   "execution_count": 23,
   "id": "e84b1723",
   "metadata": {
    "ExecuteTime": {
     "end_time": "2023-09-22T05:33:28.737100Z",
     "start_time": "2023-09-22T05:33:28.729150Z"
    }
   },
   "outputs": [],
   "source": [
    "import json\n",
    "import numpy as np\n",
    "import pandas as pd\n",
    "import matplotlib.pyplot as plt\n",
    "import seaborn as sns"
   ]
  },
  {
   "cell_type": "code",
   "execution_count": 27,
   "id": "e396e6c3",
   "metadata": {
    "ExecuteTime": {
     "end_time": "2023-09-22T05:34:27.685526Z",
     "start_time": "2023-09-22T05:34:23.862987Z"
    }
   },
   "outputs": [
    {
     "data": {
      "image/png": "[encoded data removed]",
      "text/plain": [
       "<Figure size 396x396 with 4 Axes>"
      ]
     },
     "metadata": {
      "needs_background": "light"
     },
     "output_type": "display_data"
    }
   ],
   "source": [
    "chrom = \"chr1\"\n",
    "d = json.load(open(\"../../A1_NanoStrandseqAssembly/results/HG001_Cell_300/clusters/clustered/cells.%s.json\" % chrom))\n",
    "n1, n2 = len(d[\"Cluster1\"]), len(d[\"Cluster2\"])\n",
    "path = \"../../A1_NanoStrandseqAssembly/results/HG001_Cell_300/clusters/clustered/meta/%s.R2.clustermap.tsv\" % chrom\n",
    "dat = pd.read_csv(path, sep=\"\\t\", index_col=0)\n",
    "dat.columns = np.arange(len(dat))\n",
    "dat.index = np.arange(len(dat))\n",
    "ret = sns.clustermap(dat, figsize=(5.5, 5.5), vmin=-1, vmax=1, cmap=\"bwr\", \n",
    "                     cbar_pos=(0, 0.9, 0.05, 0.05), cbar_kws={\"label\": \"Log2FC\"})\n",
    "plt.sca(ret.ax_heatmap)\n",
    "# plt.suptitle(chrom)\n",
    "plt.xticks([])\n",
    "plt.yticks([])\n",
    "plt.text(n1 / 2, len(dat) * 1.02, \"Cluster 1 (%d)\" % n1, va=\"top\", ha=\"center\")\n",
    "plt.text(n2 / 2 + n1, len(dat) * 1.02, \"Cluster 2 (%d)\" % n2, va=\"top\", ha=\"center\")\n",
    "ret.fig.savefig(\"figures/cluster_cells.%s.pdf\" % chrom, dpi=300)"
   ]
  },
  {
   "cell_type": "code",
   "execution_count": 28,
   "id": "b77a3a9f",
   "metadata": {
    "ExecuteTime": {
     "end_time": "2023-09-22T05:34:31.349019Z",
     "start_time": "2023-09-22T05:34:27.764651Z"
    }
   },
   "outputs": [
    {
     "data": {
      "image/png": "[encoded data removed]",
      "text/plain": [
       "<Figure size 396x396 with 4 Axes>"
      ]
     },
     "metadata": {
      "needs_background": "light"
     },
     "output_type": "display_data"
    }
   ],
   "source": [
    "chrom = \"chr22\"\n",
    "d = json.load(open(\"../../A1_NanoStrandseqAssembly/results/HG001_Cell_300/clusters/clustered/cells.%s.json\" % chrom))\n",
    "n1, n2 = len(d[\"Cluster1\"]), len(d[\"Cluster2\"])\n",
    "path = \"../../A1_NanoStrandseqAssembly/results/HG001_Cell_300/clusters/clustered/meta/%s.R1.clustermap.tsv\" % chrom\n",
    "dat = pd.read_csv(path, sep=\"\\t\", index_col=0)\n",
    "dat.columns = np.arange(len(dat))\n",
    "dat.index = np.arange(len(dat))\n",
    "ret = sns.clustermap(dat, figsize=(5.5, 5.5), vmin=-1, vmax=1, cmap=\"bwr\", \n",
    "                     cbar_pos=(0, 0.9, 0.05, 0.05), cbar_kws={\"label\": \"Log2FC\"})\n",
    "plt.sca(ret.ax_heatmap)\n",
    "# plt.suptitle(chrom)\n",
    "plt.xticks([])\n",
    "plt.yticks([])\n",
    "plt.text(n1 / 2, len(dat) * 1.02, \"Cluster 1 (%d)\" % n1, va=\"top\", ha=\"center\")\n",
    "plt.text(n2 / 2 + n1, len(dat) * 1.02, \"Cluster 2 (%d)\" % n2, va=\"top\", ha=\"center\")\n",
    "ret.fig.savefig(\"figures/cluster_cells.%s.pdf\" % chrom, dpi=300)"
   ]
  },
  {
   "cell_type": "code",
   "execution_count": null,
   "id": "ce41a32b",
   "metadata": {},
   "outputs": [],
   "source": []
  }
 ],
 "metadata": {
  "kernelspec": {
   "display_name": "Python 3",
   "language": "python",
   "name": "python3"
  },
  "language_info": {
   "codemirror_mode": {
    "name": "ipython",
    "version": 3
   },
   "file_extension": ".py",
   "mimetype": "text/x-python",
   "name": "python",
   "nbconvert_exporter": "python",
   "pygments_lexer": "ipython3",
   "version": "3.6.15"
  }
 },
 "nbformat": 4,
 "nbformat_minor": 5
}
