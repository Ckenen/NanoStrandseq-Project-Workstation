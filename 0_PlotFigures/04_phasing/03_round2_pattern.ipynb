{
 "cells": [
  {
   "cell_type": "code",
   "execution_count": 1,
   "id": "e84b1723",
   "metadata": {
    "ExecuteTime": {
     "end_time": "2024-01-30T04:33:04.884454Z",
     "start_time": "2024-01-30T04:33:04.375353Z"
    }
   },
   "outputs": [],
   "source": [
    "import random\n",
    "import numpy as np\n",
    "import matplotlib.pyplot as plt"
   ]
  },
  {
   "cell_type": "code",
   "execution_count": 2,
   "id": "561960dc",
   "metadata": {
    "ExecuteTime": {
     "end_time": "2024-01-30T04:33:04.895981Z",
     "start_time": "2024-01-30T04:33:04.887470Z"
    }
   },
   "outputs": [],
   "source": [
    "def decorate(axs):\n",
    "    for ax in axs:\n",
    "        for k, v in ax.spines.items():\n",
    "            v.set_visible(False)\n",
    "        ax.plot([0, 0], [0, nbin], lw=2, color=\"black\")\n",
    "        ax.set_xticks([])\n",
    "        ax.set_yticks([])\n",
    "\n",
    "random.seed(0)\n",
    "nbin = 50\n",
    "xs = np.arange(nbin) + 0.5\n",
    "xlim = 240\n",
    "\n",
    "width = 3.6\n",
    "height = 2.5\n",
    "\n",
    "color_c = (135/255, 169/255, 235/255)\n",
    "color_w = (248/255, 173/255, 97/255)"
   ]
  },
  {
   "cell_type": "code",
   "execution_count": 3,
   "id": "553c1ce9",
   "metadata": {
    "ExecuteTime": {
     "end_time": "2024-01-30T04:33:07.115399Z",
     "start_time": "2024-01-30T04:33:04.899020Z"
    }
   },
   "outputs": [
    {
     "data": {
      "image/png": "[encoded data removed]",
      "text/plain": [
       "<Figure size 259.2x180 with 3 Axes>"
      ]
     },
     "metadata": {},
     "output_type": "display_data"
    }
   ],
   "source": [
    "# Normal\n",
    "crick = np.array([random.random() * 40 + 80 for i in range(nbin)])\n",
    "crick_p = np.array([random.random() * 20 + 30 for i in range(nbin)])\n",
    "crick_m = np.array([random.random() * 2 for i in range(nbin)])\n",
    "watson = np.array([random.random() * 40 + 80 for i in range(nbin)])\n",
    "watson_p = np.array([random.random() * 2 for i in range(nbin)])\n",
    "watson_m = np.array([random.random() * 20 + 30 for i in range(nbin)])\n",
    "fig, axs = plt.subplots(1, 3, figsize=(width, height), sharex=True, sharey=True)\n",
    "plt.sca(axs[0])\n",
    "plt.barh(xs, crick, color=color_c, height=1)\n",
    "plt.barh(xs, crick_p, color=\"blue\", height=1)\n",
    "plt.barh(xs, crick_m, left=crick_p, color=\"red\", height=1)\n",
    "plt.barh(xs, -watson, color=color_w, height=1)\n",
    "plt.barh(xs, -watson_p, color=\"blue\", height=1)\n",
    "plt.barh(xs, -watson_m, left=-watson_p, color=\"red\", height=1)\n",
    "plt.xlim(-xlim, xlim)\n",
    "plt.ylim(0, nbin)\n",
    "plt.sca(axs[1])\n",
    "plt.barh(xs, crick, color=color_c, height=1)\n",
    "plt.barh(xs, crick_p, color=\"blue\", height=1)\n",
    "plt.barh(xs, crick_m, left=crick_p, color=\"red\", height=1)\n",
    "plt.sca(axs[2])\n",
    "plt.barh(xs, -watson, color=color_w, height=1)\n",
    "plt.barh(xs, -watson_m, color=\"red\", height=1)\n",
    "plt.barh(xs, -watson_p, left=-watson_m, color=\"blue\", height=1)\n",
    "decorate(axs)\n",
    "axs[0].set_xlabel(\"Perfect WC\")\n",
    "axs[1].set_xlabel(\"HP1 reads\")\n",
    "axs[2].set_xlabel(\"HP2 reads\")\n",
    "plt.savefig(\"figures/round2_perfect_wc.pdf\", dpi=300)"
   ]
  },
  {
   "cell_type": "code",
   "execution_count": 4,
   "id": "65b54da9",
   "metadata": {
    "ExecuteTime": {
     "end_time": "2024-01-30T04:33:09.052876Z",
     "start_time": "2024-01-30T04:33:07.118425Z"
    }
   },
   "outputs": [
    {
     "data": {
      "image/png": "[encoded data removed]",
      "text/plain": [
       "<Figure size 259.2x180 with 3 Axes>"
      ]
     },
     "metadata": {},
     "output_type": "display_data"
    }
   ],
   "source": [
    "# SCE\n",
    "crick = np.array([random.random() * 40 + 80 for i in range(nbin)])\n",
    "crick_p = np.array([random.random() * 20 + 30 for i in range(nbin)])\n",
    "crick_m = np.array([random.random() * 2 for i in range(nbin)])\n",
    "watson = np.array([random.random() * 40 + 80 for i in range(nbin)])\n",
    "watson_p = np.array([random.random() * 2 for i in range(nbin)])\n",
    "watson_m = np.array([random.random() * 20 + 30 for i in range(nbin)])\n",
    "for i in range(30, 50):\n",
    "    crick[i] += watson[i]\n",
    "    crick_p[i] += watson_p[i]\n",
    "    crick_m[i] += watson_m[i]\n",
    "    watson[i] = 0\n",
    "    watson_p[i] = 0\n",
    "    watson_m[i] = 0\n",
    "fig, axs = plt.subplots(1, 3, figsize=(width, height), sharex=True, sharey=True)\n",
    "plt.sca(axs[0])\n",
    "plt.barh(xs, crick, color=color_c, height=1)\n",
    "plt.barh(xs, crick_p, color=\"blue\", height=1)\n",
    "plt.barh(xs, crick_m, left=crick_p, color=\"red\", height=1)\n",
    "plt.barh(xs, -watson, color=color_w, height=1)\n",
    "plt.barh(xs, -watson_p, color=\"blue\", height=1)\n",
    "plt.barh(xs, -watson_m, left=-watson_p, color=\"red\", height=1)\n",
    "plt.xlim(-xlim, xlim)\n",
    "plt.ylim(0, nbin)\n",
    "plt.sca(axs[1])\n",
    "plt.barh(xs[:30], crick[:30], color=color_c, height=1)\n",
    "plt.barh(xs[:30], crick_p[:30], color=\"blue\", height=1)\n",
    "plt.barh(xs[:30], crick_m[:30], left=crick_p[:30], color=\"red\", height=1)\n",
    "plt.sca(axs[2])\n",
    "plt.barh(xs, -watson, color=color_w, height=1)\n",
    "plt.barh(xs, -watson_m, color=\"red\", height=1)\n",
    "plt.barh(xs, -watson_p, left=-watson_m, color=\"blue\", height=1)\n",
    "decorate(axs)\n",
    "axs[0].set_xlabel(\"SCE WC\")\n",
    "axs[1].set_xlabel(\"HP1 reads\")\n",
    "axs[2].set_xlabel(\"HP2 reads\")\n",
    "plt.savefig(\"figures/round2_sce_wc.pdf\", dpi=300)"
   ]
  },
  {
   "cell_type": "code",
   "execution_count": 5,
   "id": "75655d54",
   "metadata": {
    "ExecuteTime": {
     "end_time": "2024-01-30T04:33:11.107390Z",
     "start_time": "2024-01-30T04:33:09.055865Z"
    }
   },
   "outputs": [
    {
     "data": {
      "image/png": "[encoded data removed]",
      "text/plain": [
       "<Figure size 259.2x180 with 3 Axes>"
      ]
     },
     "metadata": {},
     "output_type": "display_data"
    }
   ],
   "source": [
    "# Aneuploid\n",
    "crick = np.array([random.random() * 40 + 80 for i in range(nbin)])\n",
    "crick_p = np.array([random.random() * 20 + 30 for i in range(nbin)])\n",
    "crick_m = np.array([random.random() * 2 for i in range(nbin)])\n",
    "watson = np.array([random.random() * 40 + 80 for i in range(nbin)])\n",
    "watson_p = np.array([random.random() * 2 for i in range(nbin)])\n",
    "watson_m = np.array([random.random() * 20 + 30 for i in range(nbin)])\n",
    "for i in range(30, 50):\n",
    "    crick[i] += watson[i]\n",
    "    crick_p[i] += watson_p[i]\n",
    "    crick_m[i] += watson_m[i]\n",
    "fig, axs = plt.subplots(1, 3, figsize=(width, height), sharex=True, sharey=True)\n",
    "plt.sca(axs[0])\n",
    "plt.barh(xs, crick, color=color_c, height=1)\n",
    "plt.barh(xs, crick_p, color=\"blue\", height=1)\n",
    "plt.barh(xs, crick_m, left=crick_p, color=\"red\", height=1)\n",
    "plt.barh(xs, -watson, color=color_w, height=1)\n",
    "plt.barh(xs, -watson_m, color=\"red\", height=1)\n",
    "plt.barh(xs, -watson_p, left=-watson_m, color=\"blue\", height=1)\n",
    "plt.xlim(-xlim, xlim)\n",
    "plt.ylim(0, nbin)\n",
    "plt.sca(axs[1])\n",
    "plt.barh(xs[:30], crick[:30], color=color_c, height=1)\n",
    "plt.barh(xs[:30], crick_p[:30], color=\"blue\", height=1)\n",
    "plt.barh(xs[:30], crick_m[:30], left=crick_p[:30], color=\"red\", height=1)\n",
    "plt.sca(axs[2])\n",
    "plt.barh(xs, -watson, color=color_w, height=1)\n",
    "plt.barh(xs, -watson_m, color=\"red\", height=1)\n",
    "plt.barh(xs, -watson_p, left=-watson_m, color=\"blue\", height=1)\n",
    "decorate(axs)\n",
    "axs[0].set_xlabel(\"Aneuploid (got)\")\n",
    "axs[1].set_xlabel(\"HP1 reads\")\n",
    "axs[2].set_xlabel(\"HP2 reads\")\n",
    "plt.savefig(\"figures/round2_aneuploid_wc.pdf\", dpi=300)"
   ]
  },
  {
   "cell_type": "code",
   "execution_count": 6,
   "id": "8b126d67",
   "metadata": {
    "ExecuteTime": {
     "end_time": "2024-01-30T04:33:17.095410Z",
     "start_time": "2024-01-30T04:33:14.822294Z"
    }
   },
   "outputs": [
    {
     "data": {
      "image/png": "[encoded data removed]",
      "text/plain": [
       "<Figure size 259.2x180 with 3 Axes>"
      ]
     },
     "metadata": {},
     "output_type": "display_data"
    }
   ],
   "source": [
    "# Haploid\n",
    "crick = np.array([random.random() * 40 + 80 for i in range(nbin)])\n",
    "crick_p = np.array([random.random() * 20 + 30 for i in range(nbin)])\n",
    "crick_m = np.array([random.random() * 2 for i in range(nbin)])\n",
    "watson = np.array([random.random() * 2 for i in range(nbin)])\n",
    "watson_p = np.array([random.random() * 0 for i in range(nbin)])\n",
    "watson_m = np.array([random.random() * 0 for i in range(nbin)])\n",
    "fig, axs = plt.subplots(1, 3, figsize=(width, height), sharex=True, sharey=True)\n",
    "plt.sca(axs[0])\n",
    "plt.barh(xs, crick, color=color_c, height=1)\n",
    "plt.barh(xs, crick_p, color=\"blue\", height=1)\n",
    "plt.barh(xs, crick_m, left=crick_p, color=\"red\", height=1)\n",
    "plt.barh(xs, -watson, color=color_w, height=1)\n",
    "plt.barh(xs, -watson_m, color=\"red\", height=1)\n",
    "plt.barh(xs, -watson_p, left=-watson_m, color=\"blue\", height=1)\n",
    "plt.xlim(-xlim, xlim)\n",
    "plt.ylim(0, nbin)\n",
    "plt.sca(axs[1])\n",
    "plt.barh(xs, crick, color=color_c, height=1)\n",
    "plt.barh(xs, crick_p, color=\"blue\", height=1)\n",
    "plt.barh(xs, crick_m, left=crick_p, color=\"red\", height=1)\n",
    "plt.sca(axs[2])\n",
    "plt.barh(xs, -watson, color=color_w, height=1)\n",
    "plt.barh(xs, -watson_m, color=\"red\", height=1)\n",
    "plt.barh(xs, -watson_p, left=-watson_m, color=\"blue\", height=1)\n",
    "decorate(axs)\n",
    "axs[0].set_xlabel(\"Aneuploid (loss)\")\n",
    "axs[1].set_xlabel(\"HP1 reads\")\n",
    "axs[2].set_xlabel(\"HP2 reads\")\n",
    "plt.savefig(\"figures/round2_haploid_wc.pdf\", dpi=300)"
   ]
  },
  {
   "cell_type": "code",
   "execution_count": 7,
   "id": "6a35df70",
   "metadata": {
    "ExecuteTime": {
     "end_time": "2024-01-30T04:33:49.824022Z",
     "start_time": "2024-01-30T04:33:47.782430Z"
    }
   },
   "outputs": [
    {
     "data": {
      "image/png": "[encoded data removed]",
      "text/plain": [
       "<Figure size 259.2x180 with 3 Axes>"
      ]
     },
     "metadata": {},
     "output_type": "display_data"
    }
   ],
   "source": [
    "# SCE * 2\n",
    "crick = np.array([random.random() * 40 + 80 for i in range(nbin)])\n",
    "crick_p = np.array([random.random() * 20 + 30 for i in range(nbin)])\n",
    "crick_m = np.array([random.random() * 2 for i in range(nbin)])\n",
    "watson = np.array([random.random() * 40 + 80 for i in range(nbin)])\n",
    "watson_p = np.array([random.random() * 2 for i in range(nbin)])\n",
    "watson_m = np.array([random.random() * 20 + 30 for i in range(nbin)])\n",
    "for i in range(15, 30):\n",
    "    crick[i] += watson[i]\n",
    "    crick_p[i] += watson_p[i]\n",
    "    crick_m[i] += watson_m[i]\n",
    "    watson[i] = 0\n",
    "    watson_p[i] = 0\n",
    "    watson_m[i] = 0\n",
    "fig, axs = plt.subplots(1, 3, figsize=(width, height), sharex=True, sharey=True)\n",
    "plt.sca(axs[0])\n",
    "plt.barh(xs, crick, color=color_c, height=1)\n",
    "plt.barh(xs, crick_p, color=\"blue\", height=1)\n",
    "plt.barh(xs, crick_m, left=crick_p, color=\"red\", height=1)\n",
    "plt.barh(xs, -watson, color=color_w, height=1)\n",
    "plt.barh(xs, -watson_m, color=\"red\", height=1)\n",
    "plt.barh(xs, -watson_p, left=-watson_m, color=\"blue\", height=1)\n",
    "plt.xlim(-xlim, xlim)\n",
    "plt.ylim(0, nbin)\n",
    "plt.sca(axs[1])\n",
    "plt.barh(xs[:15], crick[:15], color=color_c, height=1)\n",
    "plt.barh(xs[:15], crick_p[:15], color=\"blue\", height=1)\n",
    "plt.barh(xs[:15], crick_m[:15], left=crick_p[:15], color=\"red\", height=1)\n",
    "plt.barh(xs[30:], crick[30:], color=color_w, height=1)\n",
    "plt.barh(xs[30:], crick_p[30:], color=\"blue\", height=1)\n",
    "plt.barh(xs[30:], crick_m[30:], left=crick_p[30:], color=\"red\", height=1)\n",
    "plt.sca(axs[2])\n",
    "plt.barh(xs, -watson, color=color_w, height=1)\n",
    "plt.barh(xs, -watson_m, color=\"red\", height=1)\n",
    "plt.barh(xs, -watson_p, left=-watson_m, color=\"blue\", height=1)\n",
    "decorate(axs)\n",
    "axs[0].set_xlabel(\"2SCEs\")\n",
    "axs[1].set_xlabel(\"HP1 reads\")\n",
    "axs[2].set_xlabel(\"HP2 reads\")\n",
    "plt.savefig(\"figures/round2_2sce_wc.pdf\", dpi=300)"
   ]
  },
  {
   "cell_type": "code",
   "execution_count": 8,
   "id": "4773ffd8",
   "metadata": {
    "ExecuteTime": {
     "end_time": "2024-01-30T04:33:56.915263Z",
     "start_time": "2024-01-30T04:33:54.902976Z"
    }
   },
   "outputs": [
    {
     "data": {
      "image/png": "[encoded data removed]",
      "text/plain": [
       "<Figure size 259.2x180 with 3 Axes>"
      ]
     },
     "metadata": {},
     "output_type": "display_data"
    }
   ],
   "source": [
    "# SCE * 2 (diff)\n",
    "crick = np.array([random.random() * 40 + 80 for i in range(nbin)])\n",
    "crick_p = np.array([random.random() * 20 + 30 for i in range(nbin)])\n",
    "crick_m = np.array([random.random() * 2 for i in range(nbin)])\n",
    "watson = np.array([random.random() * 40 + 80 for i in range(nbin)])\n",
    "watson_p = np.array([random.random() * 2 for i in range(nbin)])\n",
    "watson_m = np.array([random.random() * 20 + 30 for i in range(nbin)])\n",
    "for i in range(15, 30):\n",
    "    crick[i] += watson[i]\n",
    "    crick_p[i] += watson_p[i]\n",
    "    crick_m[i] += watson_m[i]\n",
    "    watson[i] = 0\n",
    "    watson_p[i] = 0\n",
    "    watson_m[i] = 0\n",
    "for i in range(30, nbin):\n",
    "    crick[i], watson[i] = watson[i], crick[i]\n",
    "    crick_p[i], watson_p[i] = watson_p[i], crick_p[i]\n",
    "    crick_m[i], watson_m[i] = watson_m[i], crick_m[i]\n",
    "fig, axs = plt.subplots(1, 3, figsize=(width, height), sharex=True, sharey=True)\n",
    "plt.sca(axs[0])\n",
    "plt.barh(xs, crick, color=color_c, height=1)\n",
    "plt.barh(xs, crick_p, color=\"blue\", height=1)\n",
    "plt.barh(xs, crick_m, left=crick_p, color=\"red\", height=1)\n",
    "plt.barh(xs, -watson, color=color_w, height=1)\n",
    "plt.barh(xs, -watson_m, color=\"red\", height=1)\n",
    "plt.barh(xs, -watson_p, left=-watson_m, color=\"blue\", height=1)\n",
    "plt.xlim(-xlim, xlim)\n",
    "plt.ylim(0, nbin)\n",
    "plt.sca(axs[1])\n",
    "plt.barh(xs[:15], crick[:15], color=color_c, height=1)\n",
    "plt.barh(xs[:15], crick_p[:15], color=\"blue\", height=1)\n",
    "plt.barh(xs[:15], crick_m[:15], left=crick_p[:15], color=\"red\", height=1)\n",
    "plt.barh(xs[30:], -watson[30:], color=color_w, height=1)\n",
    "plt.barh(xs[30:], -watson_p[30:], color=\"blue\", height=1)\n",
    "plt.barh(xs[30:], -watson_m[30:], left=-watson_p[30:], color=\"red\", height=1)\n",
    "plt.sca(axs[2])\n",
    "plt.barh(xs[:15], -watson[:15], color=color_w, height=1)\n",
    "plt.barh(xs[:15], -watson_m[:15], color=\"red\", height=1)\n",
    "plt.barh(xs[:15], -watson_p[:15], left=-watson_m[:15], color=\"blue\", height=1)\n",
    "plt.barh(xs[30:], crick[30:], color=color_c, height=1)\n",
    "plt.barh(xs[30:], crick_p[30:], color=\"blue\", height=1)\n",
    "plt.barh(xs[30:], crick_m[30:], left=crick_p[30:], color=\"red\", height=1)\n",
    "decorate(axs)\n",
    "axs[0].set_xlabel(\"2SCEs\")\n",
    "axs[1].set_xlabel(\"HP1 reads\")\n",
    "axs[2].set_xlabel(\"HP2 reads\")\n",
    "plt.savefig(\"figures/round2_2sce_diff_wc.pdf\", dpi=300)"
   ]
  },
  {
   "cell_type": "code",
   "execution_count": 38,
   "id": "d6dcc862",
   "metadata": {
    "ExecuteTime": {
     "end_time": "2023-09-22T06:25:55.405861Z",
     "start_time": "2023-09-22T06:25:55.117432Z"
    }
   },
   "outputs": [
    {
     "data": {
      "image/png": "[encoded data removed]",
      "text/plain": [
       "<Figure size 324x72 with 1 Axes>"
      ]
     },
     "metadata": {},
     "output_type": "display_data"
    }
   ],
   "source": [
    "plt.figure(figsize=(4.5, 1))\n",
    "plt.bar(0, 1, color=color_c, label=\"Crick\")\n",
    "plt.bar(1, 1, color=color_w, label=\"Watson\")\n",
    "plt.bar(2, 1, color=\"blue\", label=\"HP1\")\n",
    "plt.bar(3, 1, color=\"red\", label=\"HP2\")\n",
    "plt.ylim(5, 6)\n",
    "plt.gca().spines[\"top\"].set_visible(False)\n",
    "plt.gca().spines[\"bottom\"].set_visible(False)\n",
    "plt.gca().spines[\"left\"].set_visible(False)\n",
    "plt.gca().spines[\"right\"].set_visible(False)\n",
    "plt.xticks([])\n",
    "plt.yticks([])\n",
    "plt.legend(ncol=4)\n",
    "plt.tight_layout()\n",
    "plt.savefig(\"figures/round2_legend.pdf\", dpi=300)"
   ]
  }
 ],
 "metadata": {
  "kernelspec": {
   "display_name": "Python 3",
   "language": "python",
   "name": "python3"
  },
  "language_info": {
   "codemirror_mode": {
    "name": "ipython",
    "version": 3
   },
   "file_extension": ".py",
   "mimetype": "text/x-python",
   "name": "python",
   "nbconvert_exporter": "python",
   "pygments_lexer": "ipython3",
   "version": "3.6.15"
  }
 },
 "nbformat": 4,
 "nbformat_minor": 5
}
