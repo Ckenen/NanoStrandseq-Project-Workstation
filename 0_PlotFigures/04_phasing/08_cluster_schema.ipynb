{
 "cells": [
  {
   "cell_type": "code",
   "execution_count": 1,
   "id": "88d9175f",
   "metadata": {
    "ExecuteTime": {
     "end_time": "2023-09-27T05:24:14.248729Z",
     "start_time": "2023-09-27T05:24:13.129995Z"
    }
   },
   "outputs": [],
   "source": [
    "import numpy as np\n",
    "import matplotlib.pyplot as plt\n",
    "import seaborn as sns"
   ]
  },
  {
   "cell_type": "code",
   "execution_count": 2,
   "id": "b3e1da1c",
   "metadata": {
    "ExecuteTime": {
     "end_time": "2023-09-27T05:24:35.258862Z",
     "start_time": "2023-09-27T05:24:18.967833Z"
    },
    "scrolled": false
   },
   "outputs": [
    {
     "data": {
      "image/png": "[encoded data removed]",
      "text/plain": [
       "<Figure size 72x144 with 1 Axes>"
      ]
     },
     "metadata": {},
     "output_type": "display_data"
    },
    {
     "data": {
      "image/png": "[encoded data removed]",
      "text/plain": [
       "<Figure size 72x144 with 1 Axes>"
      ]
     },
     "metadata": {},
     "output_type": "display_data"
    },
    {
     "data": {
      "image/png": "[encoded data removed]",
      "text/plain": [
       "<Figure size 72x144 with 1 Axes>"
      ]
     },
     "metadata": {},
     "output_type": "display_data"
    },
    {
     "data": {
      "image/png": "[encoded data removed]",
      "text/plain": [
       "<Figure size 72x144 with 1 Axes>"
      ]
     },
     "metadata": {},
     "output_type": "display_data"
    },
    {
     "data": {
      "image/png": "[encoded data removed]",
      "text/plain": [
       "<Figure size 72x144 with 1 Axes>"
      ]
     },
     "metadata": {},
     "output_type": "display_data"
    },
    {
     "data": {
      "image/png": "[encoded data removed]",
      "text/plain": [
       "<Figure size 72x144 with 1 Axes>"
      ]
     },
     "metadata": {},
     "output_type": "display_data"
    },
    {
     "data": {
      "image/png": "[encoded data removed]",
      "text/plain": [
       "<Figure size 72x144 with 1 Axes>"
      ]
     },
     "metadata": {},
     "output_type": "display_data"
    },
    {
     "data": {
      "image/png": "[encoded data removed]",
      "text/plain": [
       "<Figure size 72x144 with 1 Axes>"
      ]
     },
     "metadata": {},
     "output_type": "display_data"
    },
    {
     "data": {
      "image/png": "[encoded data removed]",
      "text/plain": [
       "<Figure size 72x144 with 1 Axes>"
      ]
     },
     "metadata": {},
     "output_type": "display_data"
    },
    {
     "data": {
      "image/png": "[encoded data removed]",
      "text/plain": [
       "<Figure size 72x144 with 1 Axes>"
      ]
     },
     "metadata": {},
     "output_type": "display_data"
    }
   ],
   "source": [
    "def get_rgb(s):\n",
    "    return tuple([int(v) / 255 for v in s.split(\",\")])\n",
    "# crick, watson, paternal, maternal\n",
    "colors = [\"135,169,235\", \"248,173,97\", \"43,100,216\", \"215,55,42\"]\n",
    "colors = list(map(get_rgb, colors))\n",
    "\n",
    "np.random.seed(0)\n",
    "nbin = 100\n",
    "for i in range(10):\n",
    "    plt.figure(figsize=(1, 2))\n",
    "    xs1 = np.random.rand(nbin) * 10 + 10\n",
    "    xs2 = np.random.rand(nbin) * 10 + 10\n",
    "    xs3 = (np.random.rand(nbin) * 0.4 + 0.2) * xs1\n",
    "    xs4 = (np.random.rand(nbin) * 0.4 + 0.2) * xs2\n",
    "    ys = np.arange(nbin)\n",
    "    plt.barh(ys, xs1, height=1, color=colors[0])\n",
    "    plt.barh(ys, -xs2, height=1, color=colors[1])\n",
    "    color1, color2 = colors[2], colors[3]\n",
    "    if np.random.rand() < 0.5:\n",
    "        color1, color2 = color2, color1\n",
    "    plt.barh(ys, xs3, height=1, color=color1)\n",
    "    plt.barh(ys, -xs4, height=1, color=color2)\n",
    "    plt.plot([0, 0], [-0.5, nbin - 0.5], lw=1, color=\"black\")\n",
    "    plt.xlim(-20, 20)\n",
    "    plt.ylim(0 - 0.5, nbin - 0.5)\n",
    "    for loc in [\"top\", \"left\", \"right\", \"bottom\"]:\n",
    "        plt.gca().spines[loc].set_visible(False)\n",
    "    plt.xticks([])\n",
    "    plt.yticks([])\n",
    "    plt.tight_layout()\n",
    "    # plt.savefig(\"figures/cluster_wc_pattern_%d.pdf\" % i, dpi=300)\n",
    "    plt.show()\n"
   ]
  },
  {
   "cell_type": "code",
   "execution_count": 3,
   "id": "fdcc5e1f",
   "metadata": {
    "ExecuteTime": {
     "end_time": "2023-09-27T05:25:01.227922Z",
     "start_time": "2023-09-27T05:25:01.004776Z"
    }
   },
   "outputs": [
    {
     "data": {
      "image/png": "[encoded data removed]",
      "text/plain": [
       "<Figure size 144x144 with 1 Axes>"
      ]
     },
     "metadata": {
      "needs_background": "light"
     },
     "output_type": "display_data"
    }
   ],
   "source": [
    "count = 50\n",
    "m = np.zeros((count, count))\n",
    "for i in range(count):\n",
    "    for j in range(count):\n",
    "        if i == j:\n",
    "            m[i][j] = 1\n",
    "        elif (i < 25) is (j < 25):\n",
    "            m[i][j] = 1\n",
    "        else:\n",
    "            m[i][j] = -1\n",
    "\n",
    "pairs = [[2, 6], [47, 3], [46, 45], [1, 3]]\n",
    "for i, j in pairs:\n",
    "    m[i][j] = 0\n",
    "    m[j][i] = 0\n",
    "            \n",
    "plt.figure(figsize=(2, 2))\n",
    "sns.heatmap(m, cmap=\"bwr\", cbar=False)\n",
    "plt.yticks([])\n",
    "plt.ylabel(\"Cells\")\n",
    "plt.xticks([12, 37], [\"Cluster 1\", \"Cluster 2\"], rotation=0)\n",
    "plt.tight_layout()\n",
    "plt.show()\n",
    "# plt.savefig(\"figures/cluster_heatmap_pattern.pdf\", dpi=300)"
   ]
  }
 ],
 "metadata": {
  "kernelspec": {
   "display_name": "Python 3",
   "language": "python",
   "name": "python3"
  },
  "language_info": {
   "codemirror_mode": {
    "name": "ipython",
    "version": 3
   },
   "file_extension": ".py",
   "mimetype": "text/x-python",
   "name": "python",
   "nbconvert_exporter": "python",
   "pygments_lexer": "ipython3",
   "version": "3.6.15"
  }
 },
 "nbformat": 4,
 "nbformat_minor": 5
}
