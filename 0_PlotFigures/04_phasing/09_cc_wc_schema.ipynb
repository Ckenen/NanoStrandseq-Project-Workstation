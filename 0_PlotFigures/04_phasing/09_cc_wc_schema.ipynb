{
 "cells": [
  {
   "cell_type": "code",
   "execution_count": 1,
   "id": "484fa4a2",
   "metadata": {
    "ExecuteTime": {
     "end_time": "2023-09-28T06:21:13.816199Z",
     "start_time": "2023-09-28T06:21:13.346269Z"
    }
   },
   "outputs": [],
   "source": [
    "import numpy as np\n",
    "import matplotlib.pyplot as plt"
   ]
  },
  {
   "cell_type": "code",
   "execution_count": 2,
   "id": "a0462331",
   "metadata": {
    "ExecuteTime": {
     "end_time": "2023-09-28T06:21:15.476722Z",
     "start_time": "2023-09-28T06:21:13.819045Z"
    }
   },
   "outputs": [
    {
     "data": {
      "image/png": "[encoded data removed]",
      "text/plain": [
       "<Figure size 108x216 with 1 Axes>"
      ]
     },
     "metadata": {},
     "output_type": "display_data"
    },
    {
     "data": {
      "image/png": "[encoded data removed]",
      "text/plain": [
       "<Figure size 108x216 with 1 Axes>"
      ]
     },
     "metadata": {},
     "output_type": "display_data"
    }
   ],
   "source": [
    "ys = np.arange(100) + 0.5\n",
    "np.random.seed(0)\n",
    "xs1 = np.random.random(100) * 20 + 20\n",
    "xs2 = np.random.random(100) * 20 + 20\n",
    "xmax = max(xs1 + xs2)\n",
    "\n",
    "plt.figure(figsize=(1.5, 3))\n",
    "plt.barh(ys, xs1, color=(107/255, 137/255, 138/255), height=1)\n",
    "plt.barh(ys, -xs2, color=(248/255, 173/255, 97/255), height=1)\n",
    "plt.plot([0, 0], [0, 100], color=\"black\", lw=2)\n",
    "plt.xticks([])\n",
    "plt.xlim(-xmax, xmax)\n",
    "plt.xlabel(\"WC\")\n",
    "plt.ylim(0, 100)\n",
    "plt.yticks([])\n",
    "for k, v in plt.gca().spines.items():\n",
    "    v.set_visible(False)\n",
    "plt.tight_layout()\n",
    "plt.savefig(\"figures/wc_pattern.pdf\", dpi=300)\n",
    "\n",
    "plt.figure(figsize=(1.5, 3))\n",
    "plt.barh(ys, xs1 + xs2, color=(107/255, 137/255, 138/255), height=1)\n",
    "plt.barh(ys, 0, color=(248/255, 173/255, 97/255), height=1)\n",
    "plt.plot([0, 0], [0, 100], color=\"black\", lw=2)\n",
    "plt.xticks([])\n",
    "plt.xlim(-xmax, xmax)\n",
    "plt.xlabel(\"CC\")\n",
    "plt.ylim(0, 100)\n",
    "plt.yticks([])\n",
    "for k, v in plt.gca().spines.items():\n",
    "    v.set_visible(False)\n",
    "plt.tight_layout()\n",
    "plt.savefig(\"figures/cc_pattern.pdf\", dpi=300)"
   ]
  },
  {
   "cell_type": "code",
   "execution_count": null,
   "id": "370cccad",
   "metadata": {},
   "outputs": [],
   "source": []
  }
 ],
 "metadata": {
  "kernelspec": {
   "display_name": "Python 3",
   "language": "python",
   "name": "python3"
  },
  "language_info": {
   "codemirror_mode": {
    "name": "ipython",
    "version": 3
   },
   "file_extension": ".py",
   "mimetype": "text/x-python",
   "name": "python",
   "nbconvert_exporter": "python",
   "pygments_lexer": "ipython3",
   "version": "3.6.15"
  }
 },
 "nbformat": 4,
 "nbformat_minor": 5
}
