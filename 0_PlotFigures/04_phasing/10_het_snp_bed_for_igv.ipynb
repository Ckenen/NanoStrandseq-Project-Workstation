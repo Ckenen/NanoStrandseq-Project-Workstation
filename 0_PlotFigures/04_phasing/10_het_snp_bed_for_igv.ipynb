{
 "cells": [
  {
   "cell_type": "code",
   "execution_count": 1,
   "id": "f447b646",
   "metadata": {
    "ExecuteTime": {
     "end_time": "2024-01-30T06:18:26.723338Z",
     "start_time": "2024-01-30T06:18:26.676389Z"
    },
    "execution": {
     "iopub.execute_input": "2024-04-10T07:55:22.778954Z",
     "iopub.status.busy": "2024-04-10T07:55:22.778499Z",
     "iopub.status.idle": "2024-04-10T07:55:23.491310Z",
     "shell.execute_reply": "2024-04-10T07:55:23.490868Z",
     "shell.execute_reply.started": "2024-04-10T07:55:22.778936Z"
    }
   },
   "outputs": [],
   "source": [
    "import os\n",
    "import pysam"
   ]
  },
  {
   "cell_type": "code",
   "execution_count": 2,
   "id": "e790af75",
   "metadata": {
    "ExecuteTime": {
     "end_time": "2024-01-30T06:18:26.871436Z",
     "start_time": "2024-01-30T06:18:26.851158Z"
    },
    "execution": {
     "iopub.execute_input": "2024-04-10T07:55:24.831244Z",
     "iopub.status.busy": "2024-04-10T07:55:24.830732Z",
     "iopub.status.idle": "2024-04-10T07:55:24.835916Z",
     "shell.execute_reply": "2024-04-10T07:55:24.835512Z",
     "shell.execute_reply.started": "2024-04-10T07:55:24.831224Z"
    }
   },
   "outputs": [],
   "source": [
    "def make_het_snp_bed(f_vcf, f_bed):\n",
    "    rows = []\n",
    "    with pysam.VariantFile(f_vcf) as f:\n",
    "        sample = list(f.header.samples)[0]\n",
    "        for record in f:\n",
    "            gt = record.samples[sample][\"GT\"]\n",
    "            a1, a2 = record.alleles[gt[0]], record.alleles[gt[1]]\n",
    "            if len(a1) != 1 or len(a2) != 1 or a1 == a2:\n",
    "                continue\n",
    "            start = record.start\n",
    "            end = record.stop\n",
    "            if end - start != 1:\n",
    "                continue\n",
    "            rows.append([record.contig, start, end, \"%s|%s\" % (a1, a2)])\n",
    "    rows.sort()\n",
    "    with open(f_bed[:-3], \"w+\") as fw:\n",
    "        for row in rows:\n",
    "            fw.write(\"\\t\".join(map(str, row)) + \"\\n\")\n",
    "    cmd = \"bgzip -f %s\" % f_bed[:-3]\n",
    "    assert os.system(cmd) == 0\n",
    "    cmd= \"tabix -p bed -f %s\" % f_bed\n",
    "    assert os.system(cmd) == 0"
   ]
  },
  {
   "cell_type": "code",
   "execution_count": 9,
   "id": "3f0a8734",
   "metadata": {
    "ExecuteTime": {
     "end_time": "2023-10-16T07:17:27.290482Z",
     "start_time": "2023-10-16T07:16:29.674191Z"
    }
   },
   "outputs": [],
   "source": [
    "f_vcf = \"/lustre/grp/tfclab/chenzg/repositories/GRCh38_HG001_SNP_Indel/GRCh38_HG001_SNP_Indel.GIAB_v4.2.1_and_v3.3.2.vcf.gz\"\n",
    "f_bed = \"results/GIAB_hetSNPs.bed.gz\"\n",
    "make_het_snp_bed(f_vcf, f_bed)"
   ]
  },
  {
   "cell_type": "code",
   "execution_count": 3,
   "id": "f8493832",
   "metadata": {
    "ExecuteTime": {
     "end_time": "2024-01-30T06:19:47.501098Z",
     "start_time": "2024-01-30T06:19:04.629063Z"
    }
   },
   "outputs": [],
   "source": [
    "f_vcf = \"../../public/OneKG/NA12878.1kg.GRCh38.reheader.patmat.vcf.gz\"\n",
    "f_bed = \"results/1KG_hetSNPs.bed.gz\"\n",
    "make_het_snp_bed(f_vcf, f_bed)"
   ]
  },
  {
   "cell_type": "code",
   "execution_count": 10,
   "id": "4ba4990e",
   "metadata": {
    "ExecuteTime": {
     "end_time": "2023-10-16T07:24:44.091572Z",
     "start_time": "2023-10-16T07:23:43.272108Z"
    }
   },
   "outputs": [],
   "source": [
    "f_vcf = \"../../6_nss-pseudobulk-analysis/results/snvs/concated/nanocaller/PacBio.full.vcf.gz\"\n",
    "f_bed = \"results/PacBio_hetSNPs.bed.gz\"\n",
    "make_het_snp_bed(f_vcf, f_bed)"
   ]
  },
  {
   "cell_type": "code",
   "execution_count": 11,
   "id": "e6af5019",
   "metadata": {
    "ExecuteTime": {
     "end_time": "2023-10-16T07:26:54.377105Z",
     "start_time": "2023-10-16T07:24:44.094266Z"
    }
   },
   "outputs": [],
   "source": [
    "f_vcf = \"../../6_nss-pseudobulk-analysis/results/snvs/concated/nanocaller/Ultralong.full.vcf.gz\"\n",
    "f_bed = \"results/Ultralong_hetSNPs.bed.gz\"\n",
    "make_het_snp_bed(f_vcf, f_bed)"
   ]
  },
  {
   "cell_type": "code",
   "execution_count": 12,
   "id": "ff71f603",
   "metadata": {
    "ExecuteTime": {
     "end_time": "2023-10-16T07:27:32.404935Z",
     "start_time": "2023-10-16T07:26:54.380084Z"
    }
   },
   "outputs": [],
   "source": [
    "f_vcf = \"../../A1_NanoStrandseqAssembly/results/HG001_Cell_350/round2/snvs.vcf.gz\"\n",
    "f_bed = \"results/NSS_hetSNPs_350cells.bed.gz\"\n",
    "make_het_snp_bed(f_vcf, f_bed)"
   ]
  }
 ],
 "metadata": {
  "kernelspec": {
   "display_name": "Python 3 (ipykernel)",
   "language": "python",
   "name": "python3"
  },
  "language_info": {
   "codemirror_mode": {
    "name": "ipython",
    "version": 3
   },
   "file_extension": ".py",
   "mimetype": "text/x-python",
   "name": "python",
   "nbconvert_exporter": "python",
   "pygments_lexer": "ipython3",
   "version": "3.10.13"
  }
 },
 "nbformat": 4,
 "nbformat_minor": 5
}
