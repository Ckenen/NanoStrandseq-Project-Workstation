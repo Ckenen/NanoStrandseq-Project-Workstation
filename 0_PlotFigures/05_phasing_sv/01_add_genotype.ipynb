{
 "cells": [
  {
   "cell_type": "code",
   "execution_count": 1,
   "id": "a87d8e03-2ed5-4187-a7b7-6551eed00f9a",
   "metadata": {
    "execution": {
     "iopub.execute_input": "2024-04-10T09:14:09.299598Z",
     "iopub.status.busy": "2024-04-10T09:14:09.299347Z",
     "iopub.status.idle": "2024-04-10T09:14:22.287467Z",
     "shell.execute_reply": "2024-04-10T09:14:22.286879Z",
     "shell.execute_reply.started": "2024-04-10T09:14:09.299578Z"
    }
   },
   "outputs": [],
   "source": [
    "import pandas as pd"
   ]
  },
  {
   "cell_type": "markdown",
   "id": "9b239b12-8629-4daa-983c-c9d6a0a494aa",
   "metadata": {},
   "source": [
    "# Add genotype for SV"
   ]
  },
  {
   "cell_type": "code",
   "execution_count": 2,
   "id": "64468e50-e1e9-4930-88aa-3d71c1b368e7",
   "metadata": {
    "execution": {
     "iopub.execute_input": "2024-04-10T09:14:22.322962Z",
     "iopub.status.busy": "2024-04-10T09:14:22.322622Z",
     "iopub.status.idle": "2024-04-10T09:14:46.417431Z",
     "shell.execute_reply": "2024-04-10T09:14:46.416003Z",
     "shell.execute_reply.started": "2024-04-10T09:14:22.322943Z"
    }
   },
   "outputs": [],
   "source": [
    "def add_genotype(infile, outfile):\n",
    "    dat = pd.read_csv(infile, sep=\"\\t\")\n",
    "    if False: # loose\n",
    "        min_cell = 1\n",
    "        min_read = 2\n",
    "        foldchange = 2\n",
    "    else: # stringent\n",
    "        min_cell = 2\n",
    "        min_read = 4\n",
    "        foldchange = 3\n",
    "    for hp in [\"HP1\", \"HP2\"]:\n",
    "        values = dat[[\"AgreeRead_%s\" % hp, \"AgreeCell_%s\" % hp, \"DisagreeRead_%s\" % hp, \"DisagreeCell_%s\" % hp]].values\n",
    "        ts = []\n",
    "        for agree_read, agree_cell, disagree_read, disagree_cell in values:\n",
    "            t = \"Uncertain\" # Exist, NotExist\n",
    "            if agree_cell >= min_cell and agree_cell >= disagree_cell * foldchange \\\n",
    "                and agree_read >= min_read and agree_read >= disagree_read * foldchange:\n",
    "                t = \"Exist\"\n",
    "            if disagree_cell >= min_cell and disagree_cell >= agree_cell * foldchange \\\n",
    "                and disagree_read >= min_read and disagree_read >= agree_read * foldchange:\n",
    "                assert t != \"Exist\"\n",
    "                t = \"NotExist\"\n",
    "            ts.append(t)\n",
    "        dat[\"Existence_%s\" % hp] = ts\n",
    "    gts = []\n",
    "    for v1, v2 in dat[[\"Existence_HP1\", \"Existence_HP2\"]].values:\n",
    "        gt = \".\"\n",
    "        if v1 == \"Exist\":\n",
    "            if v2 == \"Exist\":\n",
    "                gt = \"1|1\"\n",
    "            elif v2 == \"NotExist\":\n",
    "                gt = \"1|0\"\n",
    "        elif v1 == \"NotExist\":\n",
    "            if v2 == \"Exist\":\n",
    "                gt = \"0|1\"\n",
    "        gts.append(gt)\n",
    "    dat[\"GenoType\"] = gts\n",
    "    dat.to_csv(outfile, sep=\"\\t\", index=False)\n",
    "\n",
    "ncells = [50, 75, 100, 125, 150, 200, 250, 300, 350]\n",
    "for ncell in ncells:\n",
    "    infile = \"../../4_NanoStrandSeq_Phasing/results/HG001_Cell_%d/sv/quantify_lite.tsv\" % ncell\n",
    "    outfile = \"results/quant_phased_svs.HG001_Cell_%d.tsv\" % ncell\n",
    "    add_genotype(infile, outfile)"
   ]
  }
 ],
 "metadata": {
  "kernelspec": {
   "display_name": "Python 3 (ipykernel)",
   "language": "python",
   "name": "python3"
  },
  "language_info": {
   "codemirror_mode": {
    "name": "ipython",
    "version": 3
   },
   "file_extension": ".py",
   "mimetype": "text/x-python",
   "name": "python",
   "nbconvert_exporter": "python",
   "pygments_lexer": "ipython3",
   "version": "3.10.13"
  }
 },
 "nbformat": 4,
 "nbformat_minor": 5
}
