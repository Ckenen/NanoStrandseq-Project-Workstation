{
 "cells": [
  {
   "cell_type": "code",
   "execution_count": 1,
   "id": "a514aab3",
   "metadata": {
    "ExecuteTime": {
     "end_time": "2024-01-31T02:47:38.208893Z",
     "start_time": "2024-01-31T02:47:35.867439Z"
    }
   },
   "outputs": [],
   "source": [
    "import os\n",
    "from collections import Counter, defaultdict\n",
    "from scipy.stats import ttest_ind\n",
    "import numpy as np\n",
    "import pandas as pd\n",
    "import matplotlib.pyplot as plt\n",
    "import pysam\n",
    "import pyBigWig\n",
    "from pyBioInfo.Range import GRange\n",
    "from pyBioInfo.IO.File import BedFile\n",
    "from pyBioInfo.Utils import ShiftLoader"
   ]
  },
  {
   "cell_type": "markdown",
   "id": "b723980d",
   "metadata": {},
   "source": [
    "# Added GT tag for SVs"
   ]
  },
  {
   "cell_type": "code",
   "execution_count": 2,
   "id": "8b6113e4",
   "metadata": {
    "ExecuteTime": {
     "end_time": "2023-10-31T06:05:15.621794Z",
     "start_time": "2023-10-31T06:04:28.410673Z"
    }
   },
   "outputs": [],
   "source": [
    "ncells = [50, 75, 100, 125, 150, 200, 250, 300, 350]\n",
    "\n",
    "for ncell in ncells:\n",
    "    path1 = \"../../A1_NanoStrandseqAssembly/results/HG001_Cell_%d/sv/quantify_lite.tsv\" % ncell\n",
    "    path2 = \"results/quant_phased_svs.HG001_Cell_%d.tsv\" % ncell\n",
    "    \n",
    "    dat = pd.read_csv(path1, sep=\"\\t\")\n",
    "    \n",
    "    if False: # loose\n",
    "        min_cell = 1\n",
    "        min_read = 2\n",
    "        foldchange = 2\n",
    "    else: # stringent\n",
    "        min_cell = 2\n",
    "        min_read = 4\n",
    "        foldchange = 3\n",
    "\n",
    "    for hp in [\"HP1\", \"HP2\"]:\n",
    "        values = dat[[\"AgreeRead_%s\" % hp, \"AgreeCell_%s\" % hp, \"DisagreeRead_%s\" % hp, \"DisagreeCell_%s\" % hp]].values\n",
    "        ts = []\n",
    "        for agree_read, agree_cell, disagree_read, disagree_cell in values:\n",
    "            t = \"Uncertain\" # Exist, NotExist\n",
    "            if agree_cell >= min_cell and agree_cell >= disagree_cell * foldchange \\\n",
    "                and agree_read >= min_read and agree_read >= disagree_read * foldchange:\n",
    "                t = \"Exist\"\n",
    "            if disagree_cell >= min_cell and disagree_cell >= agree_cell * foldchange \\\n",
    "                and disagree_read >= min_read and disagree_read >= agree_read * foldchange:\n",
    "                assert t != \"Exist\"\n",
    "                t = \"NotExist\"\n",
    "            ts.append(t)\n",
    "        dat[\"Existence_%s\" % hp] = ts\n",
    "        \n",
    "    gts = []\n",
    "    for v1, v2 in dat[[\"Existence_HP1\", \"Existence_HP2\"]].values:\n",
    "        gt = \".\"\n",
    "        if v1 == \"Exist\":\n",
    "            if v2 == \"Exist\":\n",
    "                gt = \"1|1\"\n",
    "            elif v2 == \"NotExist\":\n",
    "                gt = \"1|0\"\n",
    "        elif v1 == \"NotExist\":\n",
    "            if v2 == \"Exist\":\n",
    "                gt = \"0|1\"\n",
    "        gts.append(gt)\n",
    "    dat[\"GenoType\"] = gts\n",
    "    \n",
    "    dat.to_csv(path2, sep=\"\\t\", index=False)"
   ]
  },
  {
   "cell_type": "markdown",
   "id": "9d3e6840",
   "metadata": {},
   "source": [
    "# Number of phased SVs"
   ]
  },
  {
   "cell_type": "code",
   "execution_count": 3,
   "id": "7fe29c91",
   "metadata": {
    "ExecuteTime": {
     "end_time": "2024-01-31T03:49:56.687825Z",
     "start_time": "2024-01-31T03:49:55.055636Z"
    }
   },
   "outputs": [
    {
     "data": {
      "text/plain": [
       "(5184, 4667)"
      ]
     },
     "execution_count": 3,
     "metadata": {},
     "output_type": "execute_result"
    }
   ],
   "source": [
    "ncell = 350\n",
    "dat = pd.read_csv(\"results/quant_phased_svs.HG001_Cell_%d.tsv\" % ncell, sep=\"\\t\")\n",
    "dat = dat[dat[\"GenoType\"] != \".\"]\n",
    "d1 = dat[[\"DEL\" in x for x in dat[\"Name_HP1\"]]]\n",
    "d2 = dat[[\"INS\" in x for x in dat[\"Name_HP1\"]]]\n",
    "len(d1), len(d2)"
   ]
  },
  {
   "cell_type": "code",
   "execution_count": 4,
   "id": "7b3fa6d1",
   "metadata": {
    "ExecuteTime": {
     "end_time": "2024-01-31T03:50:01.996901Z",
     "start_time": "2024-01-31T03:50:01.464157Z"
    }
   },
   "outputs": [
    {
     "name": "stdout",
     "output_type": "stream",
     "text": [
      "[1862 3322 1979 2688]\n"
     ]
    },
    {
     "data": {
      "image/png": "[encoded data removed]",
      "text/plain": [
       "<Figure size 252x216 with 1 Axes>"
      ]
     },
     "metadata": {
      "needs_background": "light"
     },
     "output_type": "display_data"
    }
   ],
   "source": [
    "c1 = len(d1[d1[\"GenoType\"] == \"1|1\"])\n",
    "c2 = len(d1) - c1\n",
    "c3 = len(d2[d2[\"GenoType\"] == \"1|1\"])\n",
    "c4 = len(d2) - c3\n",
    "\n",
    "xs = np.arange(4)\n",
    "ys = np.array([c1, c2, c3, c4])\n",
    "print(ys)\n",
    "ylim = 4000\n",
    "w = 0.4\n",
    "\n",
    "plt.figure(figsize=(3.5, 3))\n",
    "plt.bar(xs, ys, width=w, edgecolor=\"black\", color=[\"C7\", \"C3\", \"C7\", \"C3\"])\n",
    "plt.text(0.5, ylim * -0.2, \"Deletion\", ha=\"center\")\n",
    "plt.text(2.5, ylim * -0.2, \"Insertion\", ha=\"center\")\n",
    "plt.plot([0 - w / 2, 1 + w / 2], [ylim * -0.13, ylim * -0.13], lw=2, color=\"black\", clip_on=False)\n",
    "plt.plot([2 - w / 2, 3 + w / 2], [ylim * -0.13, ylim * -0.13], lw=2, color=\"black\", clip_on=False)\n",
    "\n",
    "plt.xlim(-0.5, 3.5)\n",
    "plt.xticks(xs, [\"HOM\", \"HET\", \"HOM\", \"HET\"])\n",
    "plt.ylim(0, ylim)\n",
    "vs = np.arange(0, ylim + 1, 1000)\n",
    "plt.yticks(vs, [format(v, \",\") for v in vs])\n",
    "plt.ylabel(\"No. of SVs\")\n",
    "plt.tight_layout()\n",
    "plt.savefig(\"figures/number_of_phased_svs.350cells.pdf\", dpi=300)"
   ]
  },
  {
   "cell_type": "markdown",
   "id": "4ee8848e",
   "metadata": {},
   "source": [
    "# Number of phased SVs (downsample)"
   ]
  },
  {
   "cell_type": "code",
   "execution_count": 5,
   "id": "68c4f5ee",
   "metadata": {
    "ExecuteTime": {
     "end_time": "2024-01-31T03:50:13.552462Z",
     "start_time": "2024-01-31T03:50:05.880529Z"
    }
   },
   "outputs": [],
   "source": [
    "ncells = [50, 75, 100, 125, 150, 200, 250, 300, 350]\n",
    "dats = []\n",
    "\n",
    "for ncell in ncells:\n",
    "    dat = pd.read_csv(\"results/quant_phased_svs.HG001_Cell_%d.tsv\" % ncell, sep=\"\\t\")\n",
    "    dats.append(dat)"
   ]
  },
  {
   "cell_type": "code",
   "execution_count": 6,
   "id": "3f3d54f2",
   "metadata": {
    "ExecuteTime": {
     "end_time": "2024-01-31T03:50:16.623578Z",
     "start_time": "2024-01-31T03:50:13.555831Z"
    }
   },
   "outputs": [
    {
     "name": "stdout",
     "output_type": "stream",
     "text": [
      "50\t[(('DEL', 'HET'), 188), (('DEL', 'HOM'), 68), (('INS', 'HET'), 66), (('INS', 'HOM'), 46)]\n",
      "75\t[(('DEL', 'HET'), 678), (('DEL', 'HOM'), 319), (('INS', 'HET'), 299), (('INS', 'HOM'), 187)]\n",
      "100\t[(('DEL', 'HET'), 1272), (('DEL', 'HOM'), 623), (('INS', 'HET'), 601), (('INS', 'HOM'), 425)]\n",
      "125\t[(('DEL', 'HET'), 1846), (('DEL', 'HOM'), 907), (('INS', 'HET'), 999), (('INS', 'HOM'), 683)]\n",
      "150\t[(('DEL', 'HET'), 2249), (('DEL', 'HOM'), 1162), (('INS', 'HET'), 1341), (('INS', 'HOM'), 899)]\n",
      "200\t[(('DEL', 'HET'), 2740), (('DEL', 'HOM'), 1476), (('INS', 'HET'), 1863), (('INS', 'HOM'), 1308)]\n",
      "250\t[(('DEL', 'HET'), 3066), (('DEL', 'HOM'), 1694), (('INS', 'HET'), 2317), (('INS', 'HOM'), 1623)]\n",
      "300\t[(('DEL', 'HET'), 3220), (('DEL', 'HOM'), 1792), (('INS', 'HET'), 2543), (('INS', 'HOM'), 1823)]\n",
      "350\t[(('DEL', 'HET'), 3322), (('DEL', 'HOM'), 1862), (('INS', 'HET'), 2688), (('INS', 'HOM'), 1979)]\n"
     ]
    }
   ],
   "source": [
    "counters = []\n",
    "for ncell, dat in zip(ncells, dats):\n",
    "    counter = defaultdict(int)\n",
    "    for name, gt in dat[[\"Name_HP1\", \"GenoType\"]].values:\n",
    "        if gt == \".\":\n",
    "            continue\n",
    "        svtype = name.split(\".\")[1]\n",
    "        if gt == \"1|1\":\n",
    "            s = \"HOM\"\n",
    "        else:\n",
    "            s = \"HET\"\n",
    "        counter[(svtype, s)] += 1\n",
    "    counters.append(counter)\n",
    "for ncell, counter in zip(ncells, counters):\n",
    "    print(ncell, sorted(counter.items()), sep=\"\\t\")"
   ]
  },
  {
   "cell_type": "code",
   "execution_count": 7,
   "id": "0bdd3575",
   "metadata": {
    "ExecuteTime": {
     "end_time": "2024-01-31T03:50:17.246823Z",
     "start_time": "2024-01-31T03:50:16.626680Z"
    }
   },
   "outputs": [
    {
     "data": {
      "image/png": "[encoded data removed]",
      "text/plain": [
       "<Figure size 360x216 with 1 Axes>"
      ]
     },
     "metadata": {
      "needs_background": "light"
     },
     "output_type": "display_data"
    }
   ],
   "source": [
    "xs = np.arange(len(ncells))\n",
    "xs1 = xs - w / 2\n",
    "xs2 = xs + w / 2\n",
    "ys1 = [counter[(\"DEL\", \"HOM\")] for counter in counters]\n",
    "ys2 = [counter[(\"DEL\", \"HET\")] for counter in counters]\n",
    "ys3 = [counter[(\"INS\", \"HOM\")] for counter in counters]\n",
    "ys4 = [counter[(\"INS\", \"HET\")] for counter in counters]\n",
    "\n",
    "w = 0.4\n",
    "\n",
    "plt.figure(figsize=(5, 3))\n",
    "plt.bar(xs1, ys1, width=w, edgecolor=\"black\", label=\"hom_deletion\")\n",
    "plt.bar(xs1, ys2, bottom=ys1, width=w, edgecolor=\"black\", label=\"het_deletion\")\n",
    "plt.bar(xs2, ys3, width=w, edgecolor=\"black\", label=\"hom_insertion\")\n",
    "plt.bar(xs2, ys4, bottom=ys3, width=w, edgecolor=\"black\", label=\"het_insertion\")\n",
    "plt.xticks(xs, map(str, ncells))\n",
    "plt.xlabel(\"No. of cells\")\n",
    "plt.ylabel(\"No. of SVs\")\n",
    "ys = np.arange(0, 8000 + 1, 1000)\n",
    "plt.yticks(ys, [format(y, \",\") for y in ys])\n",
    "plt.legend(ncol=2, handlelength=1, frameon=False)\n",
    "plt.tight_layout()\n",
    "plt.savefig(\"figures/number_of_phased_svs.pdf\", dpi=300)"
   ]
  },
  {
   "cell_type": "markdown",
   "id": "78067194",
   "metadata": {},
   "source": [
    "# Repeat element of SVs"
   ]
  },
  {
   "cell_type": "code",
   "execution_count": 14,
   "id": "bbf949a8",
   "metadata": {
    "ExecuteTime": {
     "end_time": "2023-11-27T09:12:22.300905Z",
     "start_time": "2023-11-27T09:12:11.670592Z"
    }
   },
   "outputs": [
    {
     "name": "stdout",
     "output_type": "stream",
     "text": [
      "SV numebr (>= 100 bp): 5828\n"
     ]
    }
   ],
   "source": [
    "ncell = 350\n",
    "\n",
    "f_vcf = \"../../4_NanoStrandseq_Assembly/results/HG001_Cell_%d/sv/cutesv.filtered.vcf.gz\" % ncell\n",
    "f_tsv = \"results/quant_phased_svs.HG001_Cell_%d.tsv\" % ncell\n",
    "\n",
    "with pysam.VariantFile(f_vcf) as f:\n",
    "    records = {r.id: r for r in f}\n",
    "\n",
    "dat = pd.read_csv(f_tsv, sep=\"\\t\")\n",
    "dat = dat[(dat[\"GenoType\"] != \".\") & (dat[\"Length_HP1\"] >= 100)]\n",
    "print(\"SV numebr (>= 100 bp):\", len(dat))"
   ]
  },
  {
   "cell_type": "code",
   "execution_count": null,
   "id": "3a443779",
   "metadata": {
    "ExecuteTime": {
     "end_time": "2023-11-27T09:02:46.140758Z",
     "start_time": "2023-11-27T09:02:45.801Z"
    }
   },
   "outputs": [],
   "source": [
    "with open(\"data/deletion_insertion_sequences.fasta\", \"w+\") as fw:\n",
    "    for name in dat[\"Name_HP1\"]:\n",
    "        record = records[name]\n",
    "        svtype = record.info[\"SVTYPE\"]\n",
    "        ref, alt = record.ref, record.alts[0]\n",
    "        chrom = record.contig\n",
    "        start = record.start\n",
    "        end = record.stop\n",
    "        if svtype == \"INS\":\n",
    "            seq = alt[1:]\n",
    "        elif svtype == \"DEL\":\n",
    "            seq = ref[1:]\n",
    "        else:\n",
    "            continue\n",
    "        fw.write(\">%s %s:%d-%d\\n\" % (name, chrom, start, end))\n",
    "        fw.write(\"%s\\n\" % seq)"
   ]
  },
  {
   "cell_type": "code",
   "execution_count": 95,
   "id": "e6a1d460",
   "metadata": {
    "ExecuteTime": {
     "end_time": "2023-09-30T01:58:47.990193Z",
     "start_time": "2023-09-30T01:56:27.904495Z"
    }
   },
   "outputs": [
    {
     "name": "stdout",
     "output_type": "stream",
     "text": [
      "RepeatMasker -pa 24 -species human -poly -html -gff -dir data/deletion_insertion_sequences_rmsk data/deletion_insertion_sequences.fasta > data/deletion_insertion_sequences_rmsk.log\n"
     ]
    }
   ],
   "source": [
    "fasta = \"data/deletion_insertion_sequences.fasta\"\n",
    "outdir = \"data/deletion_insertion_sequences_rmsk\"\n",
    "log = \"data/deletion_insertion_sequences_rmsk.log\"\n",
    "cmd = \"RepeatMasker -pa 24 -species human -poly -html -gff -dir %s %s > %s\" % (outdir, fasta, log)\n",
    "print(cmd)\n",
    "assert os.system(cmd) == 0"
   ]
  },
  {
   "cell_type": "code",
   "execution_count": 15,
   "id": "1ac47fdd",
   "metadata": {
    "ExecuteTime": {
     "end_time": "2023-11-27T09:13:29.295006Z",
     "start_time": "2023-11-27T09:13:29.227200Z"
    }
   },
   "outputs": [],
   "source": [
    "out = \"data/deletion_insertion_sequences_rmsk/deletion_insertion_sequences.fasta.out\"\n",
    "data = defaultdict(list)\n",
    "with open(out) as f:\n",
    "    for line in f.readlines()[3:]:\n",
    "        row = line.split()\n",
    "        if row[8] == \"+\":\n",
    "            begin, end, left = int(row[11]), int(row[12]), int(row[13][1:-1])\n",
    "        elif row[8] == \"C\":\n",
    "            left, end, begin = int(row[11][1:-1]), int(row[12]), int(row[13])\n",
    "        element_length = end + left\n",
    "        ratio = (end - begin) / element_length\n",
    "        #if ratio < 0.9:\n",
    "            #continue\n",
    "        #if left > 10 or begin > 10:\n",
    "        #    continue\n",
    "        name = row[10]\n",
    "        if name == \"Unknown\":\n",
    "            continue\n",
    "        if name.startswith(\"LINE\") or name.startswith(\"SINE\") or name.startswith(\"LTR\") or name.startswith(\"Satellite\"): #  or name.startswith(\"DNA\"):\n",
    "            data[row[4]].append(row[10])"
   ]
  },
  {
   "cell_type": "code",
   "execution_count": 16,
   "id": "a3acd584",
   "metadata": {
    "ExecuteTime": {
     "end_time": "2023-11-27T09:13:29.733822Z",
     "start_time": "2023-11-27T09:13:29.723353Z"
    }
   },
   "outputs": [
    {
     "data": {
      "text/plain": [
       "(3628, 5828)"
      ]
     },
     "execution_count": 16,
     "metadata": {},
     "output_type": "execute_result"
    }
   ],
   "source": [
    "len(data), len(dat)"
   ]
  },
  {
   "cell_type": "code",
   "execution_count": 9,
   "id": "46d2c358",
   "metadata": {
    "ExecuteTime": {
     "end_time": "2023-11-27T09:05:44.592393Z",
     "start_time": "2023-11-27T09:05:44.540738Z"
    },
    "scrolled": true
   },
   "outputs": [],
   "source": [
    "def counting(elements):\n",
    "    line = 0\n",
    "    sine = 0\n",
    "    ltr = 0\n",
    "    tandem_repeat = 0\n",
    "    for e in elements:\n",
    "        if e.startswith(\"LINE\"):\n",
    "            line += 1\n",
    "        if e.startswith(\"SINE\"):\n",
    "            sine += 1\n",
    "        if e.startswith(\"LTR\"):\n",
    "            ltr += 1\n",
    "        if e.startswith(\"Satellite\"):\n",
    "            tandem_repeat += 1\n",
    "    return line, ltr, sine, tandem_repeat\n",
    "\n",
    "\n",
    "with_element = 0\n",
    "counts = np.zeros(5) # \n",
    "counter = defaultdict(int) #\n",
    "\n",
    "for name, elements in data.items():\n",
    "    if len(elements) == 0:\n",
    "        continue\n",
    "    \n",
    "    line, ltr, sine, tandem_repeat = counting(elements)\n",
    "    if line + ltr + sine + tandem_repeat > 0:\n",
    "        with_element += 1\n",
    "    \n",
    "    ss = []\n",
    "    if line > 0:\n",
    "        ss.append(\"%d LINE\" % line)\n",
    "    if ltr > 0:\n",
    "        ss.append(\"%d LTR\" % ltr)\n",
    "    if sine > 0:\n",
    "        ss.append(\"%d SINE\" % sine)\n",
    "    if tandem_repeat > 0:\n",
    "        ss.append(\"%d Tandem repeat\" % tandem_repeat)\n",
    "    s = \" + \".join(ss)\n",
    "    \n",
    "    if len(elements) > 1:\n",
    "        counter[s] += 1\n",
    "        \n",
    "    if len(elements) == 1:\n",
    "        if line == 1:\n",
    "            counts[0] += 1\n",
    "        elif ltr == 1:\n",
    "            counts[1] += 1\n",
    "        elif sine == 1:\n",
    "            counts[2] += 1\n",
    "        elif tandem_repeat == 1:\n",
    "            counts[3] += 1\n",
    "        else:\n",
    "            pass\n",
    "            # counts[5] += 1\n",
    "    else:\n",
    "        counts[4] += 1"
   ]
  },
  {
   "cell_type": "code",
   "execution_count": 10,
   "id": "6f3c20dc",
   "metadata": {
    "ExecuteTime": {
     "end_time": "2023-11-27T09:05:45.953601Z",
     "start_time": "2023-11-27T09:05:45.943553Z"
    }
   },
   "outputs": [
    {
     "name": "stdout",
     "output_type": "stream",
     "text": [
      "[ 359.  163. 2530.   62.  514.]\n",
      "[ 9.8952591   4.49283352 69.7353914   1.70893054 14.16758545]\n"
     ]
    }
   ],
   "source": [
    "print(counts)\n",
    "ratios = counts * 100 / sum(counts)\n",
    "print(ratios)"
   ]
  },
  {
   "cell_type": "code",
   "execution_count": 12,
   "id": "22a60fc8",
   "metadata": {
    "ExecuteTime": {
     "end_time": "2023-11-27T09:08:55.338229Z",
     "start_time": "2023-11-27T09:08:54.816323Z"
    }
   },
   "outputs": [
    {
     "data": {
      "image/png": "[encoded data removed]",
      "text/plain": [
       "<Figure size 432x216 with 2 Axes>"
      ]
     },
     "metadata": {},
     "output_type": "display_data"
    }
   ],
   "source": [
    "fig, axs = plt.subplots(1, 2, figsize=(6 ,3))\n",
    "\n",
    "plt.suptitle(\"SVs covered by repetitive elements\")\n",
    "\n",
    "plt.sca(axs[0])\n",
    "no_element = len(dat) - with_element\n",
    "labels = [\"No element\\n(%s)\" % format(no_element, \",\"), \"With elements\\n(%s)\" % format(with_element, \",\")]\n",
    "plt.pie([no_element, with_element], \n",
    "        colors=[\"C7\", \"C8\"], \n",
    "        pctdistance=0.75,\n",
    "        autopct=\"%.1f%%\",\n",
    "        wedgeprops=dict(width=0.5, edgecolor='w'), \n",
    "        labels=labels)\n",
    "\n",
    "plt.sca(axs[1])\n",
    "labels = [\"LINE\", \"LTR\", \"SINE\", \"Tandem repeat\", \"Multiple\\nrepeats\"]\n",
    "for i in range(len(labels)):\n",
    "    labels[i] = \"%s\\n(%s)\" % (labels[i], format(int(counts[i]), \",\"))\n",
    "wedges, texts, autotexts = plt.pie(\n",
    "    counts, \n",
    "    autopct=\"%.1f%%\", \n",
    "    pctdistance=0.75, \n",
    "    colors=[\"C0\", \"C1\", \"C2\", \"C3\", \"C4\"],\n",
    "    wedgeprops=dict(width=0.5, edgecolor='w'),\n",
    "    labels=labels)\n",
    "\n",
    "plt.tight_layout()\n",
    "plt.savefig(\"figures/repeat_element_cover_sv.pdf\", dpi=300)"
   ]
  },
  {
   "cell_type": "markdown",
   "id": "02472239",
   "metadata": {},
   "source": [
    "# Distance from nearest hetSNP to hetSV"
   ]
  },
  {
   "cell_type": "code",
   "execution_count": 13,
   "id": "30261a91",
   "metadata": {
    "ExecuteTime": {
     "end_time": "2023-10-31T06:19:28.762744Z",
     "start_time": "2023-10-31T06:19:28.727241Z"
    }
   },
   "outputs": [],
   "source": [
    "def load_het_snps(f_vcf):\n",
    "    snps = []\n",
    "    with pysam.VariantFile(f_vcf) as f:\n",
    "        sample = list(f.header.samples)[0]\n",
    "        for record in f:\n",
    "            gt = record.samples[sample][\"GT\"]\n",
    "            a1, a2 = record.alleles[gt[0]], record.alleles[gt[1]]          \n",
    "            if len(a1) > 1 or len(a2) > 1 or a1 == a2:\n",
    "                continue\n",
    "            if len(record.ref) > 1:\n",
    "                continue\n",
    "            name = \"%s/%s\" % (a1, a2)\n",
    "            snp = GRange(chrom=record.contig, start=record.start, end=record.stop, name=name)\n",
    "            snps.append(snp)\n",
    "    snps.sort()\n",
    "    return snps\n",
    "\n",
    "\n",
    "def get_closest_snp(sv, loader, width=20000):\n",
    "    closest_distance = None\n",
    "    closest_snp = None\n",
    "    \n",
    "    for snp in loader.fetch(chrom=sv.chrom, start=sv.start - width, end = sv.end + width):\n",
    "        if snp.end < sv.start:\n",
    "            distance = sv.start - snp.end\n",
    "        elif snp.start > sv.end:\n",
    "            distance = snp.start - sv.end\n",
    "        else:\n",
    "            continue\n",
    "            \n",
    "        if distance < 10:\n",
    "            continue\n",
    "            \n",
    "        if closest_snp is None:\n",
    "            closest_distance = distance\n",
    "            closest_snp = snp\n",
    "        elif distance <= closest_distance:\n",
    "            closest_distance = distance\n",
    "            closest_snp = snp\n",
    "        else:\n",
    "            break\n",
    "        \n",
    "    return closest_distance, closest_snp\n",
    "\n",
    "def get_closest_snp(sv, loader, width=20000):\n",
    "    array = []\n",
    "    for snp in loader.fetch(chrom=sv.chrom, start=sv.start - width, end = sv.end + width):\n",
    "        if snp.end < sv.start:\n",
    "            distance = sv.start - snp.end\n",
    "        elif snp.start > sv.end:\n",
    "            distance = snp.start - sv.end\n",
    "        else:\n",
    "            distance = 0\n",
    "        array.append([distance, snp])\n",
    "    array = list(filter(lambda item: item[0] >= 10, array))\n",
    "    array.sort()\n",
    "    if len(array) > 0:\n",
    "        return array[0][0], array[0][1]\n",
    "    else:\n",
    "        return None, None\n",
    "\n",
    "def get_distances(svs, snps):\n",
    "    distances = []\n",
    "    width = 20000\n",
    "    loader = ShiftLoader(snps)\n",
    "    for sv in svs:\n",
    "        closest_distance, closest_snp = get_closest_snp(sv, loader, width)\n",
    "        if closest_distance is None:\n",
    "            closest_distance = width\n",
    "        distances.append(closest_distance)\n",
    "    return distances"
   ]
  },
  {
   "cell_type": "code",
   "execution_count": 9,
   "id": "198a97f5",
   "metadata": {
    "ExecuteTime": {
     "end_time": "2023-10-31T06:09:53.043417Z",
     "start_time": "2023-10-31T06:09:46.310803Z"
    }
   },
   "outputs": [
    {
     "name": "stdout",
     "output_type": "stream",
     "text": [
      "6010\n",
      "6938\n"
     ]
    }
   ],
   "source": [
    "# load SVs\n",
    "\n",
    "data_svs = dict()\n",
    "\n",
    "# HG001\n",
    "\n",
    "svs = []\n",
    "dat = pd.read_csv(\"results/quant_phased_svs.HG001_Cell_350.tsv\", sep=\"\\t\")\n",
    "dat = dat[(dat[\"GenoType\"] == \"0|1\") | (dat[\"GenoType\"] == \"1|0\")]\n",
    "for chrom, start, end, name in dat[[\"Chrom_HP1\", \"Start_HP1\", \"End_HP1\", \"Name_HP1\"]].values:\n",
    "    sv = GRange(chrom=chrom, start=start, end=end, name=name)\n",
    "    svs.append(sv)\n",
    "svs.sort()\n",
    "print(len(svs))\n",
    "data_svs[\"HG001_hetSVs\"] = svs\n",
    "\n",
    "# HG002\n",
    "\n",
    "svs = []\n",
    "with pysam.VariantFile(\"../../GRCh38_HG002_NIST_SVs_Integration_v0.6/HG002_SVs_Tier1_v0.6.vcf.gz\") as f:\n",
    "    sample = list(f.header.samples)[0]\n",
    "    for record in f:\n",
    "        if list(record.filter)[0] != \"PASS\":\n",
    "            continue\n",
    "        gt = record.samples[sample][\"GT\"]\n",
    "        if gt[0] == gt[1]:\n",
    "            continue\n",
    "        chrom = \"chr%s\" % record.contig\n",
    "        sv = GRange(chrom=chrom, start=record.start, end=record.stop, name=record.id)\n",
    "        sv.record = record\n",
    "        svs.append(sv)\n",
    "svs.sort()\n",
    "print(len(svs))\n",
    "data_svs[\"HG002_hetSVs\"] = svs"
   ]
  },
  {
   "cell_type": "code",
   "execution_count": 10,
   "id": "00637eec",
   "metadata": {
    "ExecuteTime": {
     "end_time": "2023-10-31T06:15:36.475082Z",
     "start_time": "2023-10-31T06:10:18.800046Z"
    }
   },
   "outputs": [],
   "source": [
    "# load SNPs\n",
    "\n",
    "data_snps = dict()\n",
    "data_snps[\"HG001_NSS_hetSNPs\"] = load_het_snps(\"../../A1_NanoStrandseqAssembly/results/HG001_Cell_350/round2/snvs.vcf.gz\")\n",
    "data_snps[\"HG001_GIAB_hetSNPs\"] = load_het_snps(\"../../GRCh38-HG001-Variant-Calls/results/benchmark_autosomal_v4.2.1_chrx_v3.3.2.vcf.gz\")\n",
    "data_snps[\"HG001_Pacbio_hetSNPs\"] = load_het_snps(\"../../6_nss-pseudobulk-analysis/results/snvs/concated/nanocaller/PacBio.full.vcf.gz\")\n",
    "data_snps[\"HG002_GIAB_hetSNPs\"] = load_het_snps(\"../../GIAB/HG002/HG002_GRCh38_1_22_v4.2.1_benchmark_hifiasm_v11_phasetransfer.corrected.vcf.gz\")"
   ]
  },
  {
   "cell_type": "code",
   "execution_count": 14,
   "id": "439c68b8",
   "metadata": {
    "ExecuteTime": {
     "end_time": "2023-10-31T06:19:53.257623Z",
     "start_time": "2023-10-31T06:19:31.980312Z"
    },
    "code_folding": []
   },
   "outputs": [
    {
     "name": "stdout",
     "output_type": "stream",
     "text": [
      "HG001_hetSVs\tHG001_NSS_hetSNPs\n",
      "HG001_hetSVs\tHG001_GIAB_hetSNPs\n",
      "HG001_hetSVs\tHG001_Pacbio_hetSNPs\n",
      "HG002_hetSVs\tHG002_GIAB_hetSNPs\n"
     ]
    },
    {
     "data": {
      "image/png": "[encoded data removed]",
      "text/plain": [
       "<Figure size 180x216 with 1 Axes>"
      ]
     },
     "metadata": {
      "needs_background": "light"
     },
     "output_type": "display_data"
    },
    {
     "data": {
      "image/png": "[encoded data removed]",
      "text/plain": [
       "<Figure size 180x216 with 1 Axes>"
      ]
     },
     "metadata": {
      "needs_background": "light"
     },
     "output_type": "display_data"
    },
    {
     "data": {
      "image/png": "[encoded data removed]",
      "text/plain": [
       "<Figure size 180x216 with 1 Axes>"
      ]
     },
     "metadata": {
      "needs_background": "light"
     },
     "output_type": "display_data"
    },
    {
     "data": {
      "image/png": "[encoded data removed]",
      "text/plain": [
       "<Figure size 180x216 with 1 Axes>"
      ]
     },
     "metadata": {
      "needs_background": "light"
     },
     "output_type": "display_data"
    }
   ],
   "source": [
    "pairs = [\n",
    "    [\"HG001_hetSVs\", \"HG001_NSS_hetSNPs\"],\n",
    "    [\"HG001_hetSVs\", \"HG001_GIAB_hetSNPs\"],\n",
    "    [\"HG001_hetSVs\", \"HG001_Pacbio_hetSNPs\"],\n",
    "    [\"HG002_hetSVs\", \"HG002_GIAB_hetSNPs\"]\n",
    "]\n",
    "\n",
    "for k1, k2 in pairs:\n",
    "    print(k1, k2, sep=\"\\t\")\n",
    "    svs = data_svs[k1]\n",
    "    snps = data_snps[k2]\n",
    "    distances = get_distances(svs, snps)\n",
    "    counts = [\n",
    "        len(list(filter(lambda v: 0 <= v < 500, distances))),\n",
    "        len(list(filter(lambda v: 500 <= v < 1000, distances))),\n",
    "        len(list(filter(lambda v: 1000 <= v < 1500, distances))),\n",
    "        len(list(filter(lambda v: 1500 <= v < 2000, distances))),\n",
    "        len(list(filter(lambda v: 2000 <= v < 5000, distances))),\n",
    "        len(list(filter(lambda v: 5000 <= v < 10000, distances))),\n",
    "        len(list(filter(lambda v: 10000 <= v, distances))),\n",
    "    ]\n",
    "    xs = np.arange(len(counts))\n",
    "    xticks = [\"0-0.5K\", \"0.5-1K\", \"1-1.5K\", \"1.5-2K\", \"2-5K\", \"5-10K\", \"≥10K\"]\n",
    "    plt.figure(figsize=(2.5, 3))\n",
    "    plt.bar(xs, counts, color=\"dodgerblue\", edgecolor=\"black\", width=1)\n",
    "    for x, y in zip(xs, counts):\n",
    "        if x >= 0:\n",
    "            plt.text(x, y + 200, format(y, \",\"), ha=\"center\", va=\"bottom\", rotation=90)\n",
    "    if True:\n",
    "        plt.text(len(counts) - 1, 5500, k1.split(\"_\")[0], ha=\"right\")\n",
    "        s = k2.split(\"_\")[1]\n",
    "        if s == \"NSS\":\n",
    "            s = \"NanoStrand-seq\"\n",
    "        else:\n",
    "            s = \"%s_hetSNPs\" % s\n",
    "        plt.text(len(counts) - 1, 5000, s, ha=\"right\")\n",
    "    plt.xlabel(\"Distance from closest\\nhetSNP to hetSV (bp)\")\n",
    "    plt.xticks(xs, xticks, rotation=45, ha=\"center\")\n",
    "    plt.ylabel(\"No. of phased hetSVs (x10$^3$)\")\n",
    "    ys = np.arange(0, 6000 + 1, 1000)\n",
    "    plt.yticks(ys, [int(y/1000) for y in ys])\n",
    "    plt.tight_layout()\n",
    "    plt.savefig(\"figures/distance_from_snp_to_sv.%s_and_%s.pdf\" % (k1, k2), dpi=300)\n",
    "    # break"
   ]
  },
  {
   "cell_type": "code",
   "execution_count": 23,
   "id": "604a071f",
   "metadata": {
    "ExecuteTime": {
     "end_time": "2023-10-31T06:24:00.440398Z",
     "start_time": "2023-10-31T06:23:55.871674Z"
    }
   },
   "outputs": [],
   "source": [
    "pairs = [\n",
    "    [\"HG001_hetSVs\", \"HG001_NSS_hetSNPs\"],\n",
    "    [\"HG001_hetSVs\", \"HG001_GIAB_hetSNPs\"],\n",
    "    [\"HG001_hetSVs\", \"HG001_Pacbio_hetSNPs\"],\n",
    "    [\"HG002_hetSVs\", \"HG002_GIAB_hetSNPs\"]\n",
    "]\n",
    "\n",
    "svs = data_svs[\"HG001_hetSVs\"]\n",
    "snps = data_snps[\"HG001_NSS_hetSNPs\"]\n",
    "distances = get_distances(svs, snps)\n",
    "mapper = {sv.name: distance for sv, distance in zip(svs, distances)}\n",
    "dat[\"Nearest_hetSNP_Distance\"] = [mapper[name] for name in dat[\"Name_HP1\"]]"
   ]
  },
  {
   "cell_type": "code",
   "execution_count": 26,
   "id": "8beb79c2",
   "metadata": {
    "ExecuteTime": {
     "end_time": "2023-10-31T06:31:06.450523Z",
     "start_time": "2023-10-31T06:31:06.353500Z"
    }
   },
   "outputs": [],
   "source": [
    "dat.to_csv(\"results/HG001_hetSVs_HG001_NSS_hetSNPs.distances.tsv\", sep=\"\\t\", index=False)"
   ]
  },
  {
   "cell_type": "markdown",
   "id": "bd88318f",
   "metadata": {},
   "source": [
    "# Characteristic of SVs"
   ]
  },
  {
   "cell_type": "code",
   "execution_count": 4,
   "id": "afded807",
   "metadata": {
    "ExecuteTime": {
     "end_time": "2023-11-27T07:29:08.904018Z",
     "start_time": "2023-11-27T07:29:08.588535Z"
    }
   },
   "outputs": [],
   "source": [
    "dat = pd.read_csv(\"results/HG001_hetSVs_HG001_NSS_hetSNPs.distances.tsv\", sep=\"\\t\")\n",
    "svs = []\n",
    "for chrom, start, end, name, gt, distance in dat[[\"Chrom_HP1\", \"Start_HP1\", \"End_HP1\", \"Name_HP1\", \"GenoType\", \"Nearest_hetSNP_Distance\"]].values:\n",
    "    sv = GRange(chrom=chrom, start=start, end=end, name=name, strand=\"+\")\n",
    "    sv.genotype = gt\n",
    "    sv.score = distance\n",
    "    sv.het_snp_distance = distance\n",
    "    svs.append(sv)\n",
    "svs.sort()\n",
    "\n",
    "with open(\"results/HG001_phased_hetSVs.bed\", \"w+\") as fw:\n",
    "    for sv in svs:\n",
    "        fw.write(sv.format() + \"\\n\")"
   ]
  },
  {
   "cell_type": "code",
   "execution_count": 17,
   "id": "fea7b4c6",
   "metadata": {
    "ExecuteTime": {
     "end_time": "2023-11-27T07:37:36.441874Z",
     "start_time": "2023-11-27T07:37:36.415572Z"
    }
   },
   "outputs": [
    {
     "data": {
      "text/plain": [
       "[4386, 1490, 134]"
      ]
     },
     "execution_count": 17,
     "metadata": {},
     "output_type": "execute_result"
    }
   ],
   "source": [
    "labels = [\"0 - 500\", \"500 - 5,000\", \"≥ 5,000\"]\n",
    "colors = [\"C7\", \"C0\", \"C3\"]\n",
    "\n",
    "svs_list_raw = [\n",
    "        list(filter(lambda sv: 0 <= sv.het_snp_distance < 500, svs)),\n",
    "        list(filter(lambda sv: 500 <= sv.het_snp_distance < 5000, svs)),\n",
    "        list(filter(lambda sv: 5000 <= sv.het_snp_distance, svs)),\n",
    "    ]\n",
    "svs_list = svs_list_raw\n",
    "[len(x) for x in svs_list]"
   ]
  },
  {
   "cell_type": "code",
   "execution_count": 18,
   "id": "f608e490",
   "metadata": {
    "ExecuteTime": {
     "end_time": "2023-11-27T07:37:38.483016Z",
     "start_time": "2023-11-27T07:37:38.471781Z"
    }
   },
   "outputs": [
    {
     "data": {
      "text/plain": [
       "[134, 134, 134]"
      ]
     },
     "execution_count": 18,
     "metadata": {},
     "output_type": "execute_result"
    }
   ],
   "source": [
    "if True: # downsample SVs\n",
    "    import random\n",
    "    tmp = []\n",
    "    random.seed(0)\n",
    "    for x in svs_list:\n",
    "        tmp.append(random.sample(x, 134))\n",
    "    svs_list = tmp\n",
    "[len(x) for x in svs_list]"
   ]
  },
  {
   "cell_type": "code",
   "execution_count": 19,
   "id": "25e460d7",
   "metadata": {
    "ExecuteTime": {
     "end_time": "2023-11-27T07:38:30.567952Z",
     "start_time": "2023-11-27T07:38:26.196427Z"
    }
   },
   "outputs": [
    {
     "data": {
      "image/png": "[encoded data removed]",
      "text/plain": [
       "<Figure size 288x216 with 1 Axes>"
      ]
     },
     "metadata": {
      "needs_background": "light"
     },
     "output_type": "display_data"
    },
    {
     "data": {
      "image/png": "[encoded data removed]",
      "text/plain": [
       "<Figure size 216x216 with 1 Axes>"
      ]
     },
     "metadata": {
      "needs_background": "light"
     },
     "output_type": "display_data"
    },
    {
     "data": {
      "image/png": "[encoded data removed]",
      "text/plain": [
       "<Figure size 288x216 with 1 Axes>"
      ]
     },
     "metadata": {
      "needs_background": "light"
     },
     "output_type": "display_data"
    },
    {
     "data": {
      "image/png": "[encoded data removed]",
      "text/plain": [
       "<Figure size 216x216 with 1 Axes>"
      ]
     },
     "metadata": {
      "needs_background": "light"
     },
     "output_type": "display_data"
    }
   ],
   "source": [
    "params = [\n",
    "    [\"phastCons470way\", \"/home/chenzonggui/species/homo_sapiens/ucsc/hg38.phastCons470way.bw\", [0.04, 0.16]],\n",
    "    [\"phyloP470way\", \"/home/chenzonggui/species/homo_sapiens/ucsc/hg38.phyloP470way.bw\", [-0.4, 0.5]]\n",
    "]\n",
    "groups = [\"Proximal\", \"Middle\", \"Distant\"]\n",
    "\n",
    "for name, f_bw, (ylim1, ylim2) in params:\n",
    "    data = []\n",
    "    width = 10000\n",
    "    step = 200\n",
    "    \n",
    "    bw = pyBigWig.open(f_bw)\n",
    "    for svs1 in svs_list:\n",
    "        rows = []\n",
    "        for sv in svs1:\n",
    "            vs1 = np.nan_to_num(bw.values(sv.chrom, sv.start - width - 200, sv.start - 200), 0)[::-1]\n",
    "            vs2 = np.nan_to_num(bw.values(sv.chrom, sv.end + 200, sv.end + width + 200), 0)\n",
    "            rows.append(np.mean(vs1.reshape((-1, step)), axis=1))\n",
    "            rows.append(np.mean(vs2.reshape((-1, step)), axis=1))\n",
    "        data.append(np.array(rows))\n",
    "    bw.close()\n",
    "    \n",
    "    plt.figure(figsize=(4, 3))\n",
    "    for i, m in enumerate(data):\n",
    "        xs = np.arange(len(m[0])) * step + step / 2\n",
    "        ys = np.mean(m, axis=0)\n",
    "        yerr = np.std(m, axis=0)\n",
    "        plt.plot(xs, ys, color=colors[i], \n",
    "                 label=\"%s: %s (%s from %s)\" % (groups[i], \n",
    "                                                labels[i], \n",
    "                                                format(int(len(m)/2), \",\"), \n",
    "                                                format(len(svs_list_raw[i]), \",\")))\n",
    "    xs = np.arange(0, 10000 + 1, 2000)\n",
    "    ticks = [format(x, \",\") for x in xs]\n",
    "    plt.xticks(xs, ticks)\n",
    "    plt.xlim(0, width)\n",
    "    plt.xlabel(\"Distance to SV edges (nt)\")\n",
    "    plt.ylim(ylim1, ylim2)\n",
    "    plt.ylabel(\"Average conservation score\\n(%s)\" % name)\n",
    "    plt.legend(handlelength=1, frameon=False)\n",
    "    plt.tight_layout()\n",
    "    plt.savefig(\"figures/conservation_score.lines.%s.pdf\" % name, dpi=300)\n",
    "    \n",
    "    plt.figure(figsize=(3, 3))\n",
    "    array = [np.mean(m, axis=0) for m in data]\n",
    "    plt.boxplot(array, showfliers=False) # axis的值影响很大\n",
    "    plt.ylim(ylim1, ylim2)\n",
    "    h = ylim2 - ylim1\n",
    "    y1 = ylim1 + h * 0.7\n",
    "    y2 = ylim1 + h * 0.85\n",
    "    plt.plot([1 - 0.2, 2 + 0.2], [y1, y1], lw=1, color=\"black\")\n",
    "    plt.plot([2 - 0.2, 3 + 0.2], [y2, y2], lw=1, color=\"black\")\n",
    "    plt.text(1.5, y1 + h * 0.02, \"$\\it{P}$ = %.1e\" % ttest_ind(array[0], array[1])[1], ha=\"center\")\n",
    "    plt.text(2.5, y2 + h * 0.02, \"$\\it{P}$ = %.1e\" % ttest_ind(array[1], array[2])[1], ha=\"center\")\n",
    "    plt.ylabel(\"Average conservation score\\n(%s)\" % name)\n",
    "    plt.xticks([1, 2, 3], [\"Proximal\", \"Middle\", \"Distant\"])\n",
    "    plt.tight_layout()\n",
    "    plt.savefig(\"figures/conservation_score.violin.%s.pdf\" % name, dpi=300)\n",
    "\n",
    "    #break"
   ]
  },
  {
   "cell_type": "code",
   "execution_count": 23,
   "id": "b62c23e7",
   "metadata": {
    "ExecuteTime": {
     "end_time": "2023-11-27T07:41:40.797997Z",
     "start_time": "2023-11-27T07:41:40.790144Z"
    }
   },
   "outputs": [
    {
     "name": "stdout",
     "output_type": "stream",
     "text": [
      "134\n"
     ]
    }
   ],
   "source": [
    "svs = svs_list_raw[-1].copy()\n",
    "svs.sort()\n",
    "print(len(svs))"
   ]
  },
  {
   "cell_type": "code",
   "execution_count": 29,
   "id": "d38925d4",
   "metadata": {
    "ExecuteTime": {
     "end_time": "2023-11-27T07:43:35.025827Z",
     "start_time": "2023-11-27T07:43:26.261752Z"
    }
   },
   "outputs": [
    {
     "name": "stdout",
     "output_type": "stream",
     "text": [
      "244939\n"
     ]
    }
   ],
   "source": [
    "with BedFile(\"/home/chenzonggui/species/homo_sapiens/GRCh38.p13/gencode.v39.annotation.transcripts.bed.gz\") as f:\n",
    "    transcripts = [x for x in f]\n",
    "print(len(transcripts))"
   ]
  },
  {
   "cell_type": "code",
   "execution_count": 30,
   "id": "62bc79fa",
   "metadata": {
    "ExecuteTime": {
     "end_time": "2023-11-27T07:43:35.420856Z",
     "start_time": "2023-11-27T07:43:35.027839Z"
    }
   },
   "outputs": [
    {
     "name": "stdout",
     "output_type": "stream",
     "text": [
      "107497\n"
     ]
    }
   ],
   "source": [
    "transcripts = list(sorted(filter(lambda t: t.thick is not None, transcripts)))\n",
    "print(len(transcripts))"
   ]
  },
  {
   "cell_type": "code",
   "execution_count": 56,
   "id": "953f6af9",
   "metadata": {
    "ExecuteTime": {
     "end_time": "2023-11-27T08:10:11.074274Z",
     "start_time": "2023-11-27T08:10:10.820980Z"
    },
    "scrolled": false
   },
   "outputs": [
    {
     "name": "stdout",
     "output_type": "stream",
     "text": [
      "exon\tchr1:59296667-59296718\n",
      "intron\tchr1:97316516-97316517\n",
      "intron\tchr1:186327185-186327186\n",
      "intron\tchr10:119313031-119313032\n",
      "intron\tchr10:133291292-133292484\n",
      "intron\tchr11:576799-576875\n",
      "intron\tchr12:49436512-49436593\n",
      "intron\tchr14:49652156-49652314\n",
      "intron\tchr15:50340879-50340950\n",
      "intron\tchr15:66039838-66039939\n",
      "intron\tchr16:57860067-57860068\n",
      "intron\tchr17:7037068-7037443\n",
      "intron\tchr17:47557415-47557918\n",
      "intron\tchr18:75012294-75012398\n",
      "intron\tchr20:49325676-49325677\n",
      "intron\tchr3:51588356-51588357\n",
      "intron\tchr3:177225153-177225154\n",
      "intron\tchr4:81753714-81754311\n",
      "intron\tchr6:125962231-125962284\n",
      "intron\tchr6:163013382-163013535\n",
      "intron\tchr7:746388-746389\n",
      "intron\tchr9:133391177-133391229\n",
      "exon\tchrX:47233763-47233816\n",
      "intron\tchrX:53578701-53578925\n",
      "intron\tchrX:136023187-136023240\n",
      "exon\tchrX:155057022-155057451\n"
     ]
    }
   ],
   "source": [
    "loader = ShiftLoader(transcripts)\n",
    "array = []\n",
    "for sv in svs:\n",
    "    if sv.het_snp_distance < 10000:\n",
    "        continue\n",
    "    sv.gene_loc = None\n",
    "    distance = np.inf\n",
    "    for t in loader.fetch(chrom=sv.chrom, start=sv.start - 100000, end=sv.end + 100000):\n",
    "        if t.end < sv.start:\n",
    "            dis = sv.start - t.end\n",
    "        elif t.start > sv.end:\n",
    "            dis = t.start - sv.end\n",
    "        else:\n",
    "            dis = 0\n",
    "            loc = \"intron\"\n",
    "            for block in t.blocks:\n",
    "                if max(block[0], sv.start) < min(block[1], sv.end):\n",
    "                    loc = \"exon\"\n",
    "            sv.gene_loc = loc\n",
    "        if distance is None:\n",
    "            distance = dis\n",
    "        else:\n",
    "            distance = min(distance, dis)\n",
    "    if distance == 0:\n",
    "        # print(sv.format())\n",
    "        print(sv.gene_loc, \"%s:%d-%d\" % (sv.chrom, sv.start, sv.end), sep=\"\\t\")\n",
    "    array.append(distance)"
   ]
  },
  {
   "cell_type": "code",
   "execution_count": 55,
   "id": "77714259",
   "metadata": {
    "ExecuteTime": {
     "end_time": "2023-11-27T08:09:44.949682Z",
     "start_time": "2023-11-27T08:09:44.936898Z"
    }
   },
   "outputs": [
    {
     "name": "stdout",
     "output_type": "stream",
     "text": [
      "26 16 19\n"
     ]
    }
   ],
   "source": [
    "array = np.array(array)\n",
    "array = np.sort(array)\n",
    "a = sum(array == 0)\n",
    "c = sum(array > 100000)\n",
    "b = len(array) - a - c\n",
    "print(a, b, c)"
   ]
  }
 ],
 "metadata": {
  "kernelspec": {
   "display_name": "Python 3",
   "language": "python",
   "name": "python3"
  },
  "language_info": {
   "codemirror_mode": {
    "name": "ipython",
    "version": 3
   },
   "file_extension": ".py",
   "mimetype": "text/x-python",
   "name": "python",
   "nbconvert_exporter": "python",
   "pygments_lexer": "ipython3",
   "version": "3.6.15"
  }
 },
 "nbformat": 4,
 "nbformat_minor": 5
}
