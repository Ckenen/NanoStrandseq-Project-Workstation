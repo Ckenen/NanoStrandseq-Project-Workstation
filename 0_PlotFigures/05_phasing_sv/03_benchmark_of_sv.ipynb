{
 "cells": [
  {
   "cell_type": "code",
   "execution_count": 7,
   "id": "1543efb4",
   "metadata": {
    "ExecuteTime": {
     "end_time": "2024-02-01T04:56:58.189986Z",
     "start_time": "2024-02-01T04:56:57.242910Z"
    }
   },
   "outputs": [],
   "source": [
    "import re\n",
    "import pysam\n",
    "import multiprocessing as mp\n",
    "import numpy as np\n",
    "import pandas as pd\n",
    "import matplotlib.pyplot as plt\n",
    "from matplotlib_venn import *\n",
    "import pyBigWig\n",
    "from pyBioInfo.Range import GRange\n",
    "from pyBioInfo.IO.File import BedFile\n",
    "from pyBioInfo.Utils import ShiftLoader"
   ]
  },
  {
   "cell_type": "markdown",
   "id": "c315ae78",
   "metadata": {
    "heading_collapsed": true
   },
   "source": [
    "# Make SV benchmark regions"
   ]
  },
  {
   "cell_type": "code",
   "execution_count": 2,
   "id": "6f3efabd",
   "metadata": {
    "ExecuteTime": {
     "end_time": "2024-02-01T04:56:49.440674Z",
     "start_time": "2024-02-01T04:56:49.411661Z"
    },
    "hidden": true
   },
   "outputs": [],
   "source": [
    "def worker(f_bw, chrom, step, min_coverage, max_coverage):\n",
    "    regions = []\n",
    "    f = pyBigWig.open(f_bw)\n",
    "    length = f.chroms()[chrom]\n",
    "    step1 = step * 1000\n",
    "    for start1 in range(0, length, step1):\n",
    "        end1 = min(start1 + step1, length)\n",
    "        covs = f.values(chrom, start1, end1)\n",
    "        for start2 in range(start1, end1, step):\n",
    "            end2 = min(start2 + step, end1)\n",
    "            vs = np.nan_to_num(covs[start2 - start1:end2 - start1])\n",
    "            mean = np.mean(vs)\n",
    "            if mean < min_coverage or mean > max_coverage:\n",
    "                if len(regions) == 0:\n",
    "                    regions.append([chrom, start2, end2])\n",
    "                else:\n",
    "                    if start2 <= regions[-1][2]:\n",
    "                        regions[-1][2] = end2\n",
    "                    else:\n",
    "                        regions.append([chrom, start2, end2])\n",
    "    f.close()            \n",
    "    return regions\n",
    "\n",
    "\n",
    "def scan_extreme_coverage_regions(f_bw, f_bed, threads=1, min_coverage=15, max_coverage=80):\n",
    "    array = []\n",
    "    pool = mp.Pool(threads)\n",
    "    f = pyBigWig.open(f_bw)\n",
    "    for chrom in f.chroms():\n",
    "        args = (f_bw, chrom, 100, min_coverage, max_coverage)\n",
    "        array.append(pool.apply_async(worker, args))\n",
    "    f.close()\n",
    "    pool.close()\n",
    "    pool.join()\n",
    "\n",
    "    regions = []\n",
    "    for r in array:\n",
    "        regions.extend(r.get())\n",
    "    regions.sort()\n",
    "    \n",
    "    with open(f_bed, \"w+\") as fw:\n",
    "        for r in regions:\n",
    "            fw.write(\"\\t\".join(map(str, r)) + \"\\n\")"
   ]
  },
  {
   "cell_type": "code",
   "execution_count": 3,
   "id": "06cb069a",
   "metadata": {
    "ExecuteTime": {
     "end_time": "2024-02-01T04:56:49.747705Z",
     "start_time": "2024-02-01T04:56:49.718392Z"
    },
    "code_folding": [
     16
    ],
    "hidden": true
   },
   "outputs": [],
   "source": [
    "def collapse_regions(regions):\n",
    "    regions = regions.copy()\n",
    "    i = 0\n",
    "    while i < len(regions) - 1:\n",
    "        r1 = regions[i]\n",
    "        r2 = regions[i + 1]\n",
    "        if r1[0] == r2[0]:\n",
    "            if r1[2] >= r2[1]:\n",
    "                r1[2] = max(r1[2], r2[2])\n",
    "                regions.pop(i + 1)\n",
    "            else:\n",
    "                i += 1\n",
    "        else:\n",
    "            i += 1\n",
    "    return regions\n",
    "\n",
    "def scan_dense_sv_regions(f_vcf, f_bed, slop=1000):\n",
    "    svs = []\n",
    "    with pysam.VariantFile(f_vcf) as f:\n",
    "        for record in f:\n",
    "            svtype = record.info[\"SVTYPE\"]\n",
    "            if svtype != \"DEL\" and svtype != \"INS\":\n",
    "                continue\n",
    "            if list(record.filter)[0] != \"PASS\":\n",
    "                continue\n",
    "            r = GRange(chrom=record.contig, start=record.start, end=record.stop, name=record.id)\n",
    "            r.length = abs(record.info[\"SVLEN\"])\n",
    "            r.record = record\n",
    "            svs.append(r)\n",
    "    svs.sort()\n",
    "    \n",
    "    regions = []\n",
    "    loader = ShiftLoader(svs)\n",
    "    for sv in svs:\n",
    "        chrom, start, end = sv.chrom, max(0, sv.start - slop), sv.end + slop\n",
    "        hit = False\n",
    "        for sv2 in loader.fetch(chrom=chrom, start=start, end=end):\n",
    "            if sv2 is not sv:\n",
    "                hit = True\n",
    "        if hit:\n",
    "            regions.append([chrom, start, end])\n",
    "    regions.sort()\n",
    "    \n",
    "    regions = collapse_regions(regions)\n",
    "    \n",
    "    with open(f_bed, \"w+\") as fw:\n",
    "        for r in regions:\n",
    "            fw.write(\"\\t\".join(map(str, r)) + \"\\n\")"
   ]
  },
  {
   "cell_type": "code",
   "execution_count": 4,
   "id": "8373c4b9",
   "metadata": {
    "ExecuteTime": {
     "end_time": "2024-02-01T04:56:50.265232Z",
     "start_time": "2024-02-01T04:56:50.247928Z"
    },
    "hidden": true
   },
   "outputs": [],
   "source": [
    "def scan_long_sv_regions(f_vcf, f_bed, max_length=10000, slop=1000):\n",
    "    regions = []\n",
    "    \n",
    "    with pysam.VariantFile(f_vcf) as f:\n",
    "        for record in f:\n",
    "            svtype = record.info[\"SVTYPE\"]\n",
    "            if svtype != \"DEL\" and svtype != \"INS\":\n",
    "                continue\n",
    "            if list(record.filter)[0] != \"PASS\":\n",
    "                continue\n",
    "            if abs(record.info[\"SVLEN\"]) > max_length:\n",
    "                chrom = record.contig\n",
    "                start = record.start\n",
    "                end = record.stop\n",
    "                start = max(0, start - slop)\n",
    "                end = end + slop\n",
    "                \n",
    "                regions.append([chrom, start, end])\n",
    "    regions.sort()\n",
    "    \n",
    "    regions = collapse_regions(regions)\n",
    "\n",
    "    with open(f_bed, \"w+\") as fw:\n",
    "        for r in regions:\n",
    "            fw.write(\"\\t\".join(map(str, r)) + \"\\n\")"
   ]
  },
  {
   "cell_type": "markdown",
   "id": "adf4ba54",
   "metadata": {
    "hidden": true
   },
   "source": [
    "## 1. For HG001"
   ]
  },
  {
   "cell_type": "code",
   "execution_count": null,
   "id": "1f8f570d",
   "metadata": {
    "hidden": true
   },
   "outputs": [],
   "source": []
  },
  {
   "cell_type": "code",
   "execution_count": null,
   "id": "5b136bb7",
   "metadata": {
    "hidden": true
   },
   "outputs": [],
   "source": []
  },
  {
   "cell_type": "code",
   "execution_count": null,
   "id": "38a0d150",
   "metadata": {
    "hidden": true
   },
   "outputs": [],
   "source": []
  },
  {
   "cell_type": "markdown",
   "id": "a92f8fb4",
   "metadata": {
    "hidden": true
   },
   "source": [
    "## 2. For C57/DBA"
   ]
  },
  {
   "cell_type": "code",
   "execution_count": 8,
   "id": "65e1caa6",
   "metadata": {
    "ExecuteTime": {
     "end_time": "2024-02-01T05:00:37.012568Z",
     "start_time": "2024-02-01T04:57:01.270943Z"
    },
    "hidden": true
   },
   "outputs": [],
   "source": [
    "f_bw = \"../../7_DBA_ONT_bulk/results/tracks/Bulk_WGS_ONT_DBA.bw\"\n",
    "f_bed = \"results/DBA_WGS_ONT.coverage_lt_10_gt_80.bed\"\n",
    "scan_extreme_coverage_regions(f_bw, f_bed, 24, 10, 80)"
   ]
  },
  {
   "cell_type": "code",
   "execution_count": 9,
   "id": "6af0aec9",
   "metadata": {
    "ExecuteTime": {
     "end_time": "2024-02-01T05:04:14.894882Z",
     "start_time": "2024-02-01T05:00:37.016877Z"
    },
    "hidden": true
   },
   "outputs": [],
   "source": [
    "f_bw = \"../../7_DBA_ONT_bulk/results/tracks/Bulk_WGS_ONT_DBA.bw\"\n",
    "f_bed = \"results/DBA_WGS_ONT.coverage_lt_15_gt_80.bed\"\n",
    "scan_extreme_coverage_regions(f_bw, f_bed, 24, 15, 80)"
   ]
  },
  {
   "cell_type": "code",
   "execution_count": 12,
   "id": "1458595d",
   "metadata": {
    "ExecuteTime": {
     "end_time": "2024-02-01T05:06:07.252166Z",
     "start_time": "2024-02-01T05:05:55.116079Z"
    },
    "hidden": true
   },
   "outputs": [],
   "source": [
    "f_vcf = \"../../7_DBA_ONT_bulk/results/sv/cutesv/Bulk_WGS_ONT_DBA.vcf.gz\"\n",
    "f_bed = \"results/DBA_WGS_ONT.dense_sv_1kb.bed\"\n",
    "scan_dense_sv_regions(f_vcf, f_bed, 1000)"
   ]
  },
  {
   "cell_type": "code",
   "execution_count": 13,
   "id": "6b30e026",
   "metadata": {
    "ExecuteTime": {
     "end_time": "2024-02-01T05:06:16.658908Z",
     "start_time": "2024-02-01T05:06:07.254774Z"
    },
    "hidden": true
   },
   "outputs": [],
   "source": [
    "f_vcf = \"../../7_DBA_ONT_bulk/results/sv/cutesv/Bulk_WGS_ONT_DBA.vcf.gz\"\n",
    "f_bed = \"results/DBA_WGS_ONT.long_sv_10kb_slop_1kb.bed\"\n",
    "scan_long_sv_regions(f_vcf, f_bed, max_length=10000, slop=1000)"
   ]
  },
  {
   "cell_type": "code",
   "execution_count": 14,
   "id": "fd3dfc60",
   "metadata": {
    "ExecuteTime": {
     "end_time": "2024-02-01T05:06:16.774830Z",
     "start_time": "2024-02-01T05:06:16.662779Z"
    },
    "hidden": true
   },
   "outputs": [
    {
     "name": "stdout",
     "output_type": "stream",
     "text": [
      "All regions: 24382\n",
      "Collapsed regions: 15733\n"
     ]
    }
   ],
   "source": [
    "regions = []\n",
    "\n",
    "with open(\"results/DBA_WGS_ONT.coverage_lt_10_gt_80.bed\") as f:\n",
    "    for line in f:\n",
    "        chrom, start, end = line.strip(\"\\n\").split(\"\\t\")\n",
    "        start, end = int(start), int(end)\n",
    "        start, end = max(0, start - 1000), end + 1000\n",
    "        regions.append([chrom, start, end])\n",
    "        \n",
    "with open(\"results/DBA_WGS_ONT.dense_sv_1kb.bed\") as f:\n",
    "    for line in f:\n",
    "        chrom, start, end = line.strip(\"\\n\").split(\"\\t\")\n",
    "        start, end = int(start), int(end)\n",
    "        regions.append([chrom, start, end])\n",
    "        \n",
    "with open(\"results/DBA_WGS_ONT.long_sv_10kb_slop_1kb.bed\") as f:\n",
    "    for line in f:\n",
    "        chrom, start, end = line.strip(\"\\n\").split(\"\\t\")\n",
    "        start, end = int(start), int(end)\n",
    "        regions.append([chrom, start, end])\n",
    "    \n",
    "regions.sort()\n",
    "print(\"All regions:\", len(regions))\n",
    "\n",
    "regions = collapse_regions(regions)\n",
    "print(\"Collapsed regions:\", len(regions))\n",
    "\n",
    "regions.sort()"
   ]
  },
  {
   "cell_type": "code",
   "execution_count": 15,
   "id": "5f45a501",
   "metadata": {
    "ExecuteTime": {
     "end_time": "2024-02-01T05:06:23.669742Z",
     "start_time": "2024-02-01T05:06:23.590771Z"
    },
    "hidden": true
   },
   "outputs": [],
   "source": [
    "with open(\"results/DBA_WGS_ONT.benchmark_blacklist.bed\", \"w+\") as fw:\n",
    "    for r in regions:\n",
    "        fw.write(\"\\t\".join(map(str, r)) + \"\\n\")"
   ]
  },
  {
   "cell_type": "markdown",
   "id": "123537e0",
   "metadata": {
    "heading_collapsed": true
   },
   "source": [
    "# Benchmark SV"
   ]
  },
  {
   "cell_type": "code",
   "execution_count": 16,
   "id": "e4169dc3",
   "metadata": {
    "ExecuteTime": {
     "end_time": "2024-02-01T05:06:24.466284Z",
     "start_time": "2024-02-01T05:06:24.381359Z"
    },
    "hidden": true
   },
   "outputs": [
    {
     "name": "stdout",
     "output_type": "stream",
     "text": [
      "3235\n"
     ]
    }
   ],
   "source": [
    "f_blacklist = \"../../4_NanoStrandSeq_Phasing/results/Mouse_Cell_200/blackhole/blacklist.bed.gz\"\n",
    "with BedFile(f_blacklist) as f:\n",
    "    blacklist = [x for x in f]\n",
    "print(len(blacklist))"
   ]
  },
  {
   "cell_type": "code",
   "execution_count": 17,
   "id": "24afebb7",
   "metadata": {
    "ExecuteTime": {
     "end_time": "2024-02-01T05:06:26.831941Z",
     "start_time": "2024-02-01T05:06:26.502410Z"
    },
    "hidden": true
   },
   "outputs": [
    {
     "name": "stdout",
     "output_type": "stream",
     "text": [
      "15733\n"
     ]
    }
   ],
   "source": [
    "f_blacklist = \"results/DBA_WGS_ONT.benchmark_blacklist.bed\"\n",
    "with BedFile(f_blacklist) as f:\n",
    "    blacklist = [x for x in f]\n",
    "print(len(blacklist))"
   ]
  },
  {
   "cell_type": "code",
   "execution_count": 20,
   "id": "10b9c614",
   "metadata": {
    "ExecuteTime": {
     "end_time": "2024-02-01T05:07:03.908100Z",
     "start_time": "2024-02-01T05:06:59.503124Z"
    },
    "hidden": true,
    "scrolled": true
   },
   "outputs": [],
   "source": [
    "def load_svs(path):\n",
    "    dat = pd.read_csv(path, sep=\"\\t\")\n",
    "    dat = dat[[re.match(\"^chr([0-9]+|[X])$\", chrom) is not None for chrom in dat[\"Chrom\"]]]\n",
    "    dat = dat[dat[\"AgreeRead\"] >= 3]\n",
    "    dat = dat[dat[\"AgreeRead\"] > (dat[\"DisagreeRead\"] * 0.25)]\n",
    "    \n",
    "    svs = []\n",
    "    for chrom, start, end, name, length in dat[[\"Chrom\", \"Start\", \"End\", \"Name\", \"Length\"]].values:\n",
    "        obj = GRange(chrom=chrom, start=start, end=end, name=name)\n",
    "        obj.svlen = length\n",
    "        svs.append(obj)\n",
    "    svs.sort()\n",
    "    loader = ShiftLoader(blacklist)\n",
    "    svs1 = []\n",
    "    for sv in svs:\n",
    "        n = len(list(loader.fetch(obj=sv)))\n",
    "        if n == 0:\n",
    "            svs1.append(sv)\n",
    "\n",
    "    flags = [True] * len(svs1)\n",
    "    loader = ShiftLoader(svs1)\n",
    "    for i, sv in enumerate(svs1):\n",
    "        n = len(list(loader.fetch(chrom=sv.chrom, start=sv.start - 500, end=sv.end + 500)))\n",
    "        if n > 1:\n",
    "            flags[i] = False\n",
    "    svs2 = []\n",
    "    for flag, sv in zip(flags, svs1):\n",
    "        if flag:\n",
    "            svs2.append(sv)\n",
    "    return svs2\n",
    "\n",
    "def overlap_sv(svs1, svs2):\n",
    "    n = 0\n",
    "    loader = ShiftLoader(svs2)\n",
    "    for sv in svs1:\n",
    "        hit = False\n",
    "        for sv2 in loader.fetch(chrom=sv.chrom, start=sv.start - 1000, end=sv.end + 1000):\n",
    "            vmin = min(sv.svlen, sv2.svlen)\n",
    "            vmax = max(sv.svlen, sv2.svlen)\n",
    "            if vmin > vmax * 0.7:\n",
    "                hit = True\n",
    "        if hit:\n",
    "            n += 1\n",
    "    return n\n",
    "\n",
    "del_ins_svs1 = load_svs(\"../../7_DBA_ONT_bulk/results/sv/quantify/Bulk_WGS_ONT_DBA_lite.tsv\")\n",
    "del_ins_svs2 = load_svs(\"../../4_NanoStrandSeq_Phasing/results/Mouse_Cell_200/sv/quantify_merged_lite.tsv\")"
   ]
  },
  {
   "cell_type": "code",
   "execution_count": 54,
   "id": "0fa167b0",
   "metadata": {
    "ExecuteTime": {
     "end_time": "2024-01-31T02:40:14.406789Z",
     "start_time": "2024-01-31T02:40:12.796961Z"
    },
    "hidden": true
   },
   "outputs": [
    {
     "name": "stdout",
     "output_type": "stream",
     "text": [
      "Recall: 0.676871561827314\n",
      "Precision: 0.9206400867914294\n",
      "Recall: 0.6432081629590727\n",
      "Precision: 0.8884051210283522\n"
     ]
    },
    {
     "data": {
      "image/png": "[encoded data removed]",
      "text/plain": [
       "<Figure size 216x216 with 1 Axes>"
      ]
     },
     "metadata": {},
     "output_type": "display_data"
    },
    {
     "data": {
      "image/png": "[encoded data removed]",
      "text/plain": [
       "<Figure size 216x216 with 1 Axes>"
      ]
     },
     "metadata": {},
     "output_type": "display_data"
    }
   ],
   "source": [
    "s1 = \"DBA_ONT_bulk\"\n",
    "s2 = \"NanoStrand-seq\"\n",
    "for t in [\"DEL\", \"INS\"]:\n",
    "    svs1 = list(filter(lambda sv: t in sv.name, del_ins_svs1))\n",
    "    svs2 = list(filter(lambda sv: t in sv.name, del_ins_svs2))\n",
    "    n1 = len(svs1)\n",
    "    n2 = overlap_sv(svs1, svs2)\n",
    "    n3 = len(svs2)\n",
    "    n4 = overlap_sv(svs2, svs1)\n",
    "    print(\"Recall:\", n2 / n1)\n",
    "    print(\"Precision:\", n4 / n3)\n",
    "\n",
    "    plt.figure(figsize=(3, 3))\n",
    "    if t == \"DEL\":\n",
    "        plt.title(\"Deletions\")\n",
    "    else:\n",
    "        plt.title(\"Insertions\")\n",
    "    vs = [n1 - n2, n3 - n4, int((n2 + n4)/2)]\n",
    "    ret = venn2(vs, set_labels=[\"Bulk ONT\", \"NanoStrand-seq\"], set_colors=[\"C0\", \"C3\"])\n",
    "    if False:\n",
    "        ret.subset_labels[0].set_text(format(vs[0], \",\"))\n",
    "        ret.subset_labels[1].set_text(format(vs[1], \",\"))\n",
    "        ret.subset_labels[2].set_text(\"%s   \\n\\n   %s\" % (format(n2, \",\"), format(n4, \",\")))\n",
    "        plt.plot([0.25, 0.4], [-0.05, 0], color=\"black\", lw=1)\n",
    "        plt.plot([-0.35, -0.2], [0, 0.05], color=\"black\", lw=1)\n",
    "    else:\n",
    "        ret.subset_labels[0].set_text(None)\n",
    "        ret.subset_labels[1].set_text(None)\n",
    "        ret.subset_labels[2].set_text(None)\n",
    "        plt.text(-0.6, 0.2, \"%s\" % format(n1 - n2, \",\"), ha=\"right\", color=\"C0\")\n",
    "        plt.text(0, 0.2, \"%s\" % format(n2, \",\"), ha=\"center\", color=\"C0\")\n",
    "        plt.text(0.6, -0.2, \"%s\" % format(n3 - n4, \",\"), ha=\"left\", color=\"C3\")\n",
    "        plt.text(0, -0.2, \"%s\" % format(n4, \",\"), ha=\"center\", color=\"C3\")\n",
    "        plt.plot([-0.6, -0.53], [0.15, 0], color=\"black\", lw=1) \n",
    "        plt.plot([0.6, 0.53], [-0.12, 0], color=\"black\", lw=1)\n",
    "    \n",
    "    plt.tight_layout()\n",
    "    plt.savefig(\"figures/benchmark_sv_%s_%s_%s.pdf\" % (s1, s2, t), dpi=300)"
   ]
  },
  {
   "cell_type": "code",
   "execution_count": 21,
   "id": "969b0e5d",
   "metadata": {
    "ExecuteTime": {
     "end_time": "2024-02-01T05:07:06.380004Z",
     "start_time": "2024-02-01T05:07:05.190241Z"
    },
    "hidden": true
   },
   "outputs": [
    {
     "name": "stdout",
     "output_type": "stream",
     "text": [
      "Recall: 0.6744250815628232\n",
      "Precision: 0.9213660340420904\n",
      "Recall: 0.6432255392839664\n",
      "Precision: 0.8869276295296439\n"
     ]
    },
    {
     "data": {
      "image/png": "[encoded data removed]",
      "text/plain": [
       "<Figure size 216x216 with 1 Axes>"
      ]
     },
     "metadata": {},
     "output_type": "display_data"
    },
    {
     "data": {
      "image/png": "[encoded data removed]",
      "text/plain": [
       "<Figure size 216x216 with 1 Axes>"
      ]
     },
     "metadata": {},
     "output_type": "display_data"
    }
   ],
   "source": [
    "s1 = \"DBA_ONT_bulk\"\n",
    "s2 = \"NanoStrand-seq\"\n",
    "for t in [\"DEL\", \"INS\"]:\n",
    "    svs1 = list(filter(lambda sv: t in sv.name, del_ins_svs1))\n",
    "    svs2 = list(filter(lambda sv: t in sv.name, del_ins_svs2))\n",
    "    n1 = len(svs1)\n",
    "    n2 = overlap_sv(svs1, svs2)\n",
    "    n3 = len(svs2)\n",
    "    n4 = overlap_sv(svs2, svs1)\n",
    "    print(\"Recall:\", n2 / n1)\n",
    "    print(\"Precision:\", n4 / n3)\n",
    "\n",
    "    plt.figure(figsize=(3, 3))\n",
    "    if t == \"DEL\":\n",
    "        plt.title(\"Deletions\")\n",
    "    else:\n",
    "        plt.title(\"Insertions\")\n",
    "    vs = [n1 - n2, n3 - n4, int((n2 + n4)/2)]\n",
    "    ret = venn2(vs, set_labels=[\"Bulk ONT\", \"NanoStrand-seq\"], set_colors=[\"C0\", \"C3\"])\n",
    "    if False:\n",
    "        ret.subset_labels[0].set_text(format(vs[0], \",\"))\n",
    "        ret.subset_labels[1].set_text(format(vs[1], \",\"))\n",
    "        ret.subset_labels[2].set_text(\"%s   \\n\\n   %s\" % (format(n2, \",\"), format(n4, \",\")))\n",
    "        plt.plot([0.25, 0.4], [-0.05, 0], color=\"black\", lw=1)\n",
    "        plt.plot([-0.35, -0.2], [0, 0.05], color=\"black\", lw=1)\n",
    "    else:\n",
    "        ret.subset_labels[0].set_text(None)\n",
    "        ret.subset_labels[1].set_text(None)\n",
    "        ret.subset_labels[2].set_text(None)\n",
    "        plt.text(-0.6, 0.2, \"%s\" % format(n1 - n2, \",\"), ha=\"right\", color=\"C0\")\n",
    "        plt.text(0, 0.2, \"%s\" % format(n2, \",\"), ha=\"center\", color=\"C0\")\n",
    "        plt.text(0.6, -0.2, \"%s\" % format(n3 - n4, \",\"), ha=\"left\", color=\"C3\")\n",
    "        plt.text(0, -0.2, \"%s\" % format(n4, \",\"), ha=\"center\", color=\"C3\")\n",
    "        plt.plot([-0.6, -0.53], [0.15, 0], color=\"black\", lw=1) \n",
    "        plt.plot([0.6, 0.53], [-0.12, 0], color=\"black\", lw=1)\n",
    "    \n",
    "    plt.tight_layout()\n",
    "    plt.savefig(\"figures/benchmark_sv_%s_%s_%s.pdf\" % (s1, s2, t), dpi=300)"
   ]
  },
  {
   "cell_type": "markdown",
   "id": "2fa0ae37",
   "metadata": {},
   "source": [
    "# 20240205"
   ]
  },
  {
   "cell_type": "code",
   "execution_count": 64,
   "id": "ef75d711",
   "metadata": {
    "ExecuteTime": {
     "end_time": "2024-02-05T15:06:27.547211Z",
     "start_time": "2024-02-05T15:06:27.509420Z"
    }
   },
   "outputs": [],
   "source": [
    "import sys\n",
    "import json\n",
    "import pandas as pd\n",
    "from collections import Counter, defaultdict\n",
    "import pysam\n",
    "from pyBioInfo.Range import GRange\n",
    "from pyBioInfo.Utils import ShiftLoader\n",
    "\n",
    "\n",
    "def load_svs(path):\n",
    "    svs = []\n",
    "    with pysam.VariantFile(path) as f:\n",
    "        for record in f:\n",
    "            if record.contig == \"chrY\":\n",
    "                continue\n",
    "            svtype = record.info[\"SVTYPE\"]\n",
    "            if svtype != \"DEL\" and svtype != \"INS\":\n",
    "                continue\n",
    "#             if list(record.filter)[0] != \"PASS\":\n",
    "#                 continue\n",
    "            svlen = abs(record.info[\"SVLEN\"])\n",
    "            sv = GRange(chrom=record.contig, start=record.start, end=record.stop, name=record.id)\n",
    "            sv.record = record\n",
    "            sv.svtype = svtype\n",
    "            sv.svlen = svlen\n",
    "            svs.append(sv)\n",
    "    return svs\n",
    "\n",
    "\n",
    "def filter_sv_by_regions(svs, regions):\n",
    "    svs1 = []\n",
    "    loader = ShiftLoader(regions)\n",
    "    for sv in svs:\n",
    "        n = len(list(loader.fetch(obj=sv)))\n",
    "        if n == 0:\n",
    "            svs1.append(sv)\n",
    "    return svs1\n",
    "\n",
    "\n",
    "def get_recall(svs_ref, svs_que, svtype):\n",
    "    \n",
    "    svs_ref = list(filter(lambda sv: sv.svtype == svtype, svs_ref))\n",
    "    svs_que = list(filter(lambda sv: sv.svtype == svtype, svs_que))\n",
    "    \n",
    "    print(\"-\" * 80)\n",
    "    print(svtype, len(svs_ref), len(svs_que), sep=\"\\t\")\n",
    "    print(Counter([sv.gt for sv in svs_ref]))\n",
    "\n",
    "    \n",
    "    n_hit = 0\n",
    "    loader = ShiftLoader(svs_que)\n",
    "    counter = defaultdict(int)\n",
    "    for sv in svs_ref:\n",
    "        hit = False\n",
    "        for sv2 in loader.fetch(chrom=sv.chrom, start=sv.start - 1000, end=sv.end + 1000):\n",
    "            if sv.svtype == sv2.svtype and min(sv.svlen, sv2.svlen) >= max(sv.svlen, sv2.svlen) * 0.7:\n",
    "                try:\n",
    "                    sv.new_gt = sv2.nss_gt\n",
    "                except AttributeError:\n",
    "                    pass\n",
    "                hit = True\n",
    "                break\n",
    "        if hit:\n",
    "            counter[sv.gt] += 1\n",
    "            n_hit += 1\n",
    "    print(counter)\n",
    "    data = dict()\n",
    "    data[\"Reference\"] = len(svs_ref)\n",
    "    data[\"Query\"] = len(svs_que)\n",
    "    data[\"Reference_Hit\"] = n_hit\n",
    "    data[\"Reference_Recall\"] = data[\"Reference_Hit\"] / data[\"Reference\"]\n",
    "    \n",
    "    return data"
   ]
  },
  {
   "cell_type": "code",
   "execution_count": 48,
   "id": "451489aa",
   "metadata": {
    "ExecuteTime": {
     "end_time": "2024-02-05T14:58:08.398483Z",
     "start_time": "2024-02-05T14:56:30.180911Z"
    }
   },
   "outputs": [],
   "source": [
    "f_vcf1 = \"../../3_NanoStrandSeq_PseudoBulk/results/sv/filtered/PacBio.full.vcf.gz\"\n",
    "f_vcf2 = \"../../3_NanoStrandSeq_PseudoBulk/results/sv/filtered/NSS.full.vcf.gz\"\n",
    "f_quant1 = \"../../3_NanoStrandSeq_PseudoBulk/results/sv/quantify_lite/PacBio.full.tsv\"\n",
    "f_quant2 = \"../../3_NanoStrandSeq_PseudoBulk/results/sv/quantify_lite/NSS.full.tsv\"\n",
    "f_bed = \"../02_pseudobulk/data/benchmark_sv_blacklist.bed\"\n",
    "min_query_cell = 3\n",
    "\n",
    "if True:\n",
    "    f_vcf2 = \"../../4_NanoStrandSeq_Phasing/results/HG001_Cell_350/sv/cutesv.filtered.vcf.gz\"\n",
    "    f_quant2 = \"../../4_NanoStrandSeq_Phasing/results/HG001_Cell_350/sv/quantify_merged.tsv\"\n",
    "\n",
    "    \n",
    "# load SVs\n",
    "\n",
    "svs_ref = load_svs(f_vcf1)\n",
    "svs_que = load_svs(f_vcf2)\n",
    "\n",
    "# SV names\n",
    "\n",
    "max_length = 10000\n",
    "min_length = 50\n",
    "min_reads = 5\n",
    "min_freq = 0.2\n",
    "\n",
    "dat = pd.read_csv(f_quant1, sep=\"\\t\")\n",
    "dat[\"AgreeReadRatio\"] = dat[\"AgreeRead\"] / (dat[\"AgreeRead\"] + dat[\"DisagreeRead\"])\n",
    "dat = dat[dat[\"Length\"] <= max_length]\n",
    "dat = dat[dat[\"Length\"] >= min_length]\n",
    "dat = dat[dat[\"Chrom\"] != \"chrY\"]\n",
    "dat = dat[dat[\"AgreeRead\"] >= min_reads]\n",
    "dat = dat[(dat[\"AgreeRead\"] / (dat[\"AgreeRead\"] + dat[\"DisagreeRead\"])) >= min_freq]\n",
    "ratios_ref = {name: ratio for name, ratio in dat[[\"Name\", \"AgreeReadRatio\"]].values}\n",
    "dat_ref = dat\n",
    "names_ref = set(dat[\"Name\"])\n",
    "\n",
    "dat = pd.read_csv(f_quant2, sep=\"\\t\")\n",
    "dat[\"AgreeReadRatio\"] = dat[\"AgreeRead\"] / (dat[\"AgreeRead\"] + dat[\"DisagreeRead\"])\n",
    "dat = dat[dat[\"Length\"] <= max_length]\n",
    "dat = dat[dat[\"Length\"] >= min_length]\n",
    "dat = dat[dat[\"Chrom\"] != \"chrY\"]\n",
    "dat = dat[dat[\"AgreeRead\"] >= min_reads]\n",
    "if min_query_cell > 1:\n",
    "    dat = dat[dat[\"AgreeCell\"] >= min_query_cell]\n",
    "dat = dat[(dat[\"AgreeRead\"] / (dat[\"AgreeRead\"] + dat[\"DisagreeRead\"])) >= min_freq]\n",
    "ratios_que = {name: ratio for name, ratio in dat[[\"Name\", \"AgreeReadRatio\"]].values}\n",
    "dat_que = dat\n",
    "names_que = set(dat[\"Name\"])\n",
    "\n",
    "# filter sv by names\n",
    "\n",
    "svs_ref_1 = list(filter(lambda sv: sv.name in names_ref, svs_ref))\n",
    "svs_que_1 = list(filter(lambda sv: sv.name in names_que, svs_que))\n",
    "\n",
    "# blacklist regions\n",
    "\n",
    "regions = []\n",
    "with open(f_bed) as f:\n",
    "    for line in f:\n",
    "        chrom, start, end = line.strip(\"\\n\").split(\"\\t\")\n",
    "        start, end = int(start), int(end)\n",
    "        regions.append(GRange(chrom=chrom, start=start, end=end))\n",
    "regions.sort()\n",
    "\n",
    "# filter sv by regions\n",
    "\n",
    "svs_ref_2 = filter_sv_by_regions(svs_ref_1, regions)\n",
    "svs_que_2 = filter_sv_by_regions(svs_que_1, regions)\n",
    "\n",
    "# benchmark\n",
    "\n",
    "ref = svs_ref_2\n",
    "que = svs_que_2\n",
    "\n",
    "for sv in ref:\n",
    "    if ratios_ref[sv.name] >= 0.8:\n",
    "        sv.gt = \"1/1\"\n",
    "    else:\n",
    "        sv.gt = \"0/1\"\n",
    "    \n",
    "for sv in que:\n",
    "    if ratios_que[sv.name] >= 0.8:\n",
    "        sv.gt = \"1/1\"\n",
    "    else:\n",
    "        sv.gt = \"0/1\""
   ]
  },
  {
   "cell_type": "code",
   "execution_count": 61,
   "id": "e00d467c",
   "metadata": {
    "ExecuteTime": {
     "end_time": "2024-02-05T15:04:49.977770Z",
     "start_time": "2024-02-05T15:04:47.615881Z"
    }
   },
   "outputs": [],
   "source": [
    "m = pd.read_csv(\"../../0_PlotFigures/05_phasing_sv/results/quant_phased_svs.HG001_Cell_350.tsv\", sep=\"\\t\", header=0)\n",
    "nss_gt = dict()\n",
    "for name, gt in m[[\"Name_HP1\", \"GenoType\"]].values:\n",
    "    if gt != \".\":\n",
    "        nss_gt[name] = gt\n",
    "for sv in que:\n",
    "    if sv.name in nss_gt:\n",
    "        sv.nss_gt = nss_gt[sv.name]"
   ]
  },
  {
   "cell_type": "code",
   "execution_count": 66,
   "id": "2d208389",
   "metadata": {
    "ExecuteTime": {
     "end_time": "2024-02-05T15:06:51.468282Z",
     "start_time": "2024-02-05T15:06:51.221375Z"
    }
   },
   "outputs": [
    {
     "name": "stdout",
     "output_type": "stream",
     "text": [
      "--------------------------------------------------------------------------------\n",
      "DEL\t3160\t3531\n",
      "Counter({'0/1': 1846, '1/1': 1314})\n",
      "defaultdict(<class 'int'>, {'1/1': 1296, '0/1': 1611})\n",
      "--------------------------------------------------------------------------------\n",
      "DEL\t3531\t3160\n",
      "Counter({'0/1': 2154, '1/1': 1377})\n",
      "defaultdict(<class 'int'>, {'1/1': 1251, '0/1': 1701})\n",
      "--------------------------------------------------------------------------------\n",
      "INS\t5134\t5112\n",
      "Counter({'0/1': 2712, '1/1': 2422})\n",
      "defaultdict(<class 'int'>, {'0/1': 2326, '1/1': 2094})\n",
      "--------------------------------------------------------------------------------\n",
      "INS\t5112\t5134\n",
      "Counter({'0/1': 3112, '1/1': 2000})\n",
      "defaultdict(<class 'int'>, {'0/1': 2601, '1/1': 1847})\n"
     ]
    },
    {
     "data": {
      "text/plain": [
       "{'Del_Recall': 0.9199367088607595,\n",
       " 'Del_Precision': 0.8360237892948174,\n",
       " 'Del_F1': 0.8759752557771202,\n",
       " 'Del_Detail': [{'Reference': 3160,\n",
       "   'Query': 3531,\n",
       "   'Reference_Hit': 2907,\n",
       "   'Reference_Recall': 0.9199367088607595},\n",
       "  {'Reference': 3531,\n",
       "   'Query': 3160,\n",
       "   'Reference_Hit': 2952,\n",
       "   'Reference_Recall': 0.8360237892948174}],\n",
       " 'Ins_Recall': 0.8609271523178808,\n",
       " 'Ins_Precision': 0.8701095461658842,\n",
       " 'Ins_F1': 0.8654939949468944,\n",
       " 'Ins_Detail': [{'Reference': 5134,\n",
       "   'Query': 5112,\n",
       "   'Reference_Hit': 4420,\n",
       "   'Reference_Recall': 0.8609271523178808},\n",
       "  {'Reference': 5112,\n",
       "   'Query': 5134,\n",
       "   'Reference_Hit': 4448,\n",
       "   'Reference_Recall': 0.8701095461658842}]}"
      ]
     },
     "execution_count": 66,
     "metadata": {},
     "output_type": "execute_result"
    }
   ],
   "source": [
    "data = dict()\n",
    "\n",
    "# deletion\n",
    "\n",
    "d1 = get_recall(ref, que, \"DEL\")\n",
    "d2 = get_recall(que, ref, \"DEL\")\n",
    "recall = d1[\"Reference_Recall\"]\n",
    "precision = d2[\"Reference_Recall\"]\n",
    "f1 = 2 * recall * precision / (recall + precision)\n",
    "data[\"Del_Recall\"] = recall\n",
    "data[\"Del_Precision\"] = precision\n",
    "data[\"Del_F1\"] = f1\n",
    "data[\"Del_Detail\"] = [d1, d2]\n",
    "\n",
    "# precision\n",
    "\n",
    "d1 = get_recall(ref, que, \"INS\")\n",
    "d2 = get_recall(que, ref, \"INS\")\n",
    "recall = d1[\"Reference_Recall\"]\n",
    "precision = d2[\"Reference_Recall\"]\n",
    "f1 = 2 * recall * precision / (recall + precision)\n",
    "data[\"Ins_Recall\"] = recall\n",
    "data[\"Ins_Precision\"] = precision\n",
    "data[\"Ins_F1\"] = f1\n",
    "data[\"Ins_Detail\"] = [d1, d2]\n",
    "\n",
    "# output\n",
    "# with open(outfile, \"w+\") as fw:\n",
    "#     json.dump(data, fw, indent=4)\n",
    "data"
   ]
  },
  {
   "cell_type": "code",
   "execution_count": 69,
   "id": "bcf73866",
   "metadata": {
    "ExecuteTime": {
     "end_time": "2024-02-05T15:07:52.205023Z",
     "start_time": "2024-02-05T15:07:52.148941Z"
    },
    "scrolled": false
   },
   "outputs": [
    {
     "data": {
      "text/plain": [
       "defaultdict(int, {'1|0': 1623, '1|1': 2367, '0|1': 1577})"
      ]
     },
     "execution_count": 69,
     "metadata": {},
     "output_type": "execute_result"
    }
   ],
   "source": [
    "counter = defaultdict(int)\n",
    "for sv in svs_ref:\n",
    "    try:\n",
    "        counter[sv.new_gt] += 1\n",
    "    except AttributeError:\n",
    "        pass\n",
    "counter"
   ]
  }
 ],
 "metadata": {
  "kernelspec": {
   "display_name": "Python 3",
   "language": "python",
   "name": "python3"
  },
  "language_info": {
   "codemirror_mode": {
    "name": "ipython",
    "version": 3
   },
   "file_extension": ".py",
   "mimetype": "text/x-python",
   "name": "python",
   "nbconvert_exporter": "python",
   "pygments_lexer": "ipython3",
   "version": "3.6.15"
  }
 },
 "nbformat": 4,
 "nbformat_minor": 5
}
