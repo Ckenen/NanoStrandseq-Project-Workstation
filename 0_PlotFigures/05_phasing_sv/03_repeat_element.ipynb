{
 "cells": [
  {
   "cell_type": "code",
   "execution_count": 2,
   "id": "36e51845-f201-494c-b22f-7cc8893f9b7c",
   "metadata": {
    "execution": {
     "iopub.execute_input": "2024-04-10T14:05:53.934405Z",
     "iopub.status.busy": "2024-04-10T14:05:53.928211Z",
     "iopub.status.idle": "2024-04-10T14:06:16.199207Z",
     "shell.execute_reply": "2024-04-10T14:06:16.198690Z",
     "shell.execute_reply.started": "2024-04-10T14:05:53.934381Z"
    }
   },
   "outputs": [],
   "source": [
    "from collections import defaultdict\n",
    "import numpy as np\n",
    "import pandas as pd\n",
    "import matplotlib.pyplot as plt\n",
    "import pysam"
   ]
  },
  {
   "cell_type": "markdown",
   "id": "7ee5b95d-2530-4c90-b4a9-c5c7e4e64c43",
   "metadata": {},
   "source": [
    "# Repeat element of SVs"
   ]
  },
  {
   "cell_type": "code",
   "execution_count": 2,
   "id": "f26da585-b775-4ea3-b4bf-a917fd11a441",
   "metadata": {
    "execution": {
     "iopub.execute_input": "2024-04-10T09:19:23.283385Z",
     "iopub.status.busy": "2024-04-10T09:19:23.282967Z",
     "iopub.status.idle": "2024-04-10T09:19:32.478717Z",
     "shell.execute_reply": "2024-04-10T09:19:32.478133Z",
     "shell.execute_reply.started": "2024-04-10T09:19:23.283364Z"
    }
   },
   "outputs": [
    {
     "name": "stderr",
     "output_type": "stream",
     "text": [
      "[W::hts_idx_load3] The index file is older than the data file: ../../4_NanoStrandSeq_Phasing/results/HG001_Cell_350/sv/cutesv.filtered.vcf.gz.tbi\n"
     ]
    },
    {
     "name": "stdout",
     "output_type": "stream",
     "text": [
      "SV numebr (>= 100 bp): 5828\n"
     ]
    }
   ],
   "source": [
    "ncell = 350\n",
    "f_vcf = \"../../4_NanoStrandSeq_Phasing/results/HG001_Cell_%d/sv/cutesv.filtered.vcf.gz\" % ncell\n",
    "f_tsv = \"results/quant_phased_svs.HG001_Cell_%d.tsv\" % ncell\n",
    "with pysam.VariantFile(f_vcf) as f:\n",
    "    records = {r.id: r for r in f}\n",
    "dat = pd.read_csv(f_tsv, sep=\"\\t\")\n",
    "dat = dat[(dat[\"GenoType\"] != \".\") & (dat[\"Length_HP1\"] >= 100)]\n",
    "print(\"SV numebr (>= 100 bp):\", len(dat))"
   ]
  },
  {
   "cell_type": "code",
   "execution_count": 3,
   "id": "b37035f7-10d3-4ddc-8c05-56bf3ac840c1",
   "metadata": {
    "execution": {
     "iopub.execute_input": "2024-04-10T09:20:14.312526Z",
     "iopub.status.busy": "2024-04-10T09:20:14.312009Z",
     "iopub.status.idle": "2024-04-10T09:20:14.410068Z",
     "shell.execute_reply": "2024-04-10T09:20:14.409600Z",
     "shell.execute_reply.started": "2024-04-10T09:20:14.312503Z"
    }
   },
   "outputs": [],
   "source": [
    "with open(\"results/repeat_elements/deletion_insertion_sequences.fasta\", \"w+\") as fw:\n",
    "    for name in dat[\"Name_HP1\"]:\n",
    "        record = records[name]\n",
    "        svtype = record.info[\"SVTYPE\"]\n",
    "        ref, alt = record.ref, record.alts[0]\n",
    "        chrom = record.contig\n",
    "        start = record.start\n",
    "        end = record.stop\n",
    "        if svtype == \"INS\":\n",
    "            seq = alt[1:]\n",
    "        elif svtype == \"DEL\":\n",
    "            seq = ref[1:]\n",
    "        else:\n",
    "            continue\n",
    "        fw.write(\">%s %s:%d-%d\\n\" % (name, chrom, start, end))\n",
    "        fw.write(\"%s\\n\" % seq)"
   ]
  },
  {
   "cell_type": "code",
   "execution_count": 22,
   "id": "ee93ea33-69a5-4464-a16d-10a6744f032b",
   "metadata": {
    "execution": {
     "iopub.execute_input": "2024-04-10T09:43:47.138228Z",
     "iopub.status.busy": "2024-04-10T09:43:47.132792Z",
     "iopub.status.idle": "2024-04-10T09:47:58.441173Z",
     "shell.execute_reply": "2024-04-10T09:47:58.423100Z",
     "shell.execute_reply.started": "2024-04-10T09:43:47.138197Z"
    }
   },
   "outputs": [],
   "source": [
    "fasta = \"results/repeat_elements/deletion_insertion_sequences.fasta\"\n",
    "outdir = \"results/repeat_elements/deletion_insertion_sequences_rmsk\"\n",
    "log = \"results/repeat_elements/deletion_insertion_sequences_rmsk.log\"\n",
    "cmd = \"RepeatMasker -pa 24 -species human -poly -html -gff -dir %s %s > %s\" % (outdir, fasta, log)\n",
    "print(cmd)\n",
    "if not os.path.exists(outdir):\n",
    "    ! source ~/miniconda3/bin/activate repeatmasker && {cmd}"
   ]
  },
  {
   "cell_type": "code",
   "execution_count": 26,
   "id": "b9d62a52-359e-44e3-af6c-4e6ad8597fc5",
   "metadata": {
    "execution": {
     "iopub.execute_input": "2024-04-10T09:50:46.555231Z",
     "iopub.status.busy": "2024-04-10T09:50:46.554910Z",
     "iopub.status.idle": "2024-04-10T09:50:46.662885Z",
     "shell.execute_reply": "2024-04-10T09:50:46.662343Z",
     "shell.execute_reply.started": "2024-04-10T09:50:46.555210Z"
    }
   },
   "outputs": [],
   "source": [
    "out = \"results/repeat_elements/deletion_insertion_sequences_rmsk/deletion_insertion_sequences.fasta.out\"\n",
    "data = defaultdict(list)\n",
    "with open(out) as f:\n",
    "    for line in f.readlines()[3:]:\n",
    "        row = line.split()\n",
    "        if row[8] == \"+\":\n",
    "            begin, end, left = int(row[11]), int(row[12]), int(row[13][1:-1])\n",
    "        elif row[8] == \"C\":\n",
    "            left, end, begin = int(row[11][1:-1]), int(row[12]), int(row[13])\n",
    "        element_length = end + left\n",
    "        ratio = (end - begin) / element_length\n",
    "        #if ratio < 0.9:\n",
    "            #continue\n",
    "        #if left > 10 or begin > 10:\n",
    "        #    continue\n",
    "        name = row[10]\n",
    "        if name == \"Unknown\":\n",
    "            continue\n",
    "        if name.startswith(\"LINE\") or name.startswith(\"SINE\") or name.startswith(\"LTR\") or name.startswith(\"Satellite\"): #  or name.startswith(\"DNA\"):\n",
    "            data[row[4]].append(row[10])"
   ]
  },
  {
   "cell_type": "code",
   "execution_count": 27,
   "id": "440644f3-3ed3-4f28-b40c-107c913d17d6",
   "metadata": {
    "execution": {
     "iopub.execute_input": "2024-04-10T09:50:47.952034Z",
     "iopub.status.busy": "2024-04-10T09:50:47.951455Z",
     "iopub.status.idle": "2024-04-10T09:50:48.001764Z",
     "shell.execute_reply": "2024-04-10T09:50:48.001270Z",
     "shell.execute_reply.started": "2024-04-10T09:50:47.952011Z"
    }
   },
   "outputs": [
    {
     "data": {
      "text/plain": [
       "(3628, 5828)"
      ]
     },
     "execution_count": 27,
     "metadata": {},
     "output_type": "execute_result"
    }
   ],
   "source": [
    "len(data), len(dat)"
   ]
  },
  {
   "cell_type": "code",
   "execution_count": 28,
   "id": "4ed1e323-ac05-4a2c-98e4-b06fcad3a188",
   "metadata": {
    "execution": {
     "iopub.execute_input": "2024-04-10T09:51:04.569815Z",
     "iopub.status.busy": "2024-04-10T09:51:04.569476Z",
     "iopub.status.idle": "2024-04-10T09:51:04.778720Z",
     "shell.execute_reply": "2024-04-10T09:51:04.778190Z",
     "shell.execute_reply.started": "2024-04-10T09:51:04.569793Z"
    }
   },
   "outputs": [],
   "source": [
    "def counting(elements):\n",
    "    line = 0\n",
    "    sine = 0\n",
    "    ltr = 0\n",
    "    tandem_repeat = 0\n",
    "    for e in elements:\n",
    "        if e.startswith(\"LINE\"):\n",
    "            line += 1\n",
    "        if e.startswith(\"SINE\"):\n",
    "            sine += 1\n",
    "        if e.startswith(\"LTR\"):\n",
    "            ltr += 1\n",
    "        if e.startswith(\"Satellite\"):\n",
    "            tandem_repeat += 1\n",
    "    return line, ltr, sine, tandem_repeat\n",
    "\n",
    "with_element = 0\n",
    "counts = np.zeros(5) # \n",
    "counter = defaultdict(int) #\n",
    "\n",
    "for name, elements in data.items():\n",
    "    if len(elements) == 0:\n",
    "        continue\n",
    "    \n",
    "    line, ltr, sine, tandem_repeat = counting(elements)\n",
    "    if line + ltr + sine + tandem_repeat > 0:\n",
    "        with_element += 1\n",
    "    \n",
    "    ss = []\n",
    "    if line > 0:\n",
    "        ss.append(\"%d LINE\" % line)\n",
    "    if ltr > 0:\n",
    "        ss.append(\"%d LTR\" % ltr)\n",
    "    if sine > 0:\n",
    "        ss.append(\"%d SINE\" % sine)\n",
    "    if tandem_repeat > 0:\n",
    "        ss.append(\"%d Tandem repeat\" % tandem_repeat)\n",
    "    s = \" + \".join(ss)\n",
    "    \n",
    "    if len(elements) > 1:\n",
    "        counter[s] += 1\n",
    "        \n",
    "    if len(elements) == 1:\n",
    "        if line == 1:\n",
    "            counts[0] += 1\n",
    "        elif ltr == 1:\n",
    "            counts[1] += 1\n",
    "        elif sine == 1:\n",
    "            counts[2] += 1\n",
    "        elif tandem_repeat == 1:\n",
    "            counts[3] += 1\n",
    "        else:\n",
    "            pass\n",
    "            # counts[5] += 1\n",
    "    else:\n",
    "        counts[4] += 1"
   ]
  },
  {
   "cell_type": "code",
   "execution_count": 29,
   "id": "783089e9-7928-48fb-b48f-e9b9bb998f45",
   "metadata": {
    "execution": {
     "iopub.execute_input": "2024-04-10T09:51:05.579578Z",
     "iopub.status.busy": "2024-04-10T09:51:05.579272Z",
     "iopub.status.idle": "2024-04-10T09:51:05.808926Z",
     "shell.execute_reply": "2024-04-10T09:51:05.808373Z",
     "shell.execute_reply.started": "2024-04-10T09:51:05.579557Z"
    }
   },
   "outputs": [
    {
     "name": "stdout",
     "output_type": "stream",
     "text": [
      "[ 359.  163. 2530.   62.  514.]\n",
      "[ 9.8952591   4.49283352 69.7353914   1.70893054 14.16758545]\n"
     ]
    }
   ],
   "source": [
    "print(counts)\n",
    "ratios = counts * 100 / sum(counts)\n",
    "print(ratios)"
   ]
  },
  {
   "cell_type": "code",
   "execution_count": 30,
   "id": "88f39711-74e5-4fc1-a7da-4728e3aa67dc",
   "metadata": {
    "execution": {
     "iopub.execute_input": "2024-04-10T09:51:13.844613Z",
     "iopub.status.busy": "2024-04-10T09:51:13.844153Z",
     "iopub.status.idle": "2024-04-10T09:51:19.469161Z",
     "shell.execute_reply": "2024-04-10T09:51:19.468635Z",
     "shell.execute_reply.started": "2024-04-10T09:51:13.844591Z"
    }
   },
   "outputs": [
    {
     "data": {
      "image/png": "[encoded data removed]",
      "text/plain": [
       "<Figure size 600x300 with 2 Axes>"
      ]
     },
     "metadata": {},
     "output_type": "display_data"
    }
   ],
   "source": [
    "fig, axs = plt.subplots(1, 2, figsize=(6 ,3))\n",
    "\n",
    "plt.suptitle(\"SVs covered by repetitive elements\")\n",
    "\n",
    "plt.sca(axs[0])\n",
    "no_element = len(dat) - with_element\n",
    "labels = [\"No element\\n(%s)\" % format(no_element, \",\"), \"With elements\\n(%s)\" % format(with_element, \",\")]\n",
    "plt.pie([no_element, with_element], \n",
    "        colors=[\"C7\", \"C8\"], \n",
    "        pctdistance=0.75,\n",
    "        autopct=\"%.1f%%\",\n",
    "        wedgeprops=dict(width=0.5, edgecolor='w'), \n",
    "        labels=labels)\n",
    "\n",
    "plt.sca(axs[1])\n",
    "labels = [\"LINE\", \"LTR\", \"SINE\", \"Tandem repeat\", \"Multiple\\nrepeats\"]\n",
    "for i in range(len(labels)):\n",
    "    labels[i] = \"%s\\n(%s)\" % (labels[i], format(int(counts[i]), \",\"))\n",
    "wedges, texts, autotexts = plt.pie(\n",
    "    counts, \n",
    "    autopct=\"%.1f%%\", \n",
    "    pctdistance=0.75, \n",
    "    colors=[\"C0\", \"C1\", \"C2\", \"C3\", \"C4\"],\n",
    "    wedgeprops=dict(width=0.5, edgecolor='w'),\n",
    "    labels=labels)\n",
    "\n",
    "plt.tight_layout()\n",
    "plt.savefig(\"figures/repeat_element_cover_sv.pdf\", dpi=300)"
   ]
  },
  {
   "cell_type": "code",
   "execution_count": null,
   "id": "6c4b15e2-7b8a-46be-96f9-bfe5be8ea049",
   "metadata": {},
   "outputs": [],
   "source": []
  },
  {
   "cell_type": "markdown",
   "id": "38c20e9e-8de7-4cb1-98d1-2e09185bde3f",
   "metadata": {},
   "source": [
    "# SV recovered by BGISEQ500"
   ]
  },
  {
   "cell_type": "code",
   "execution_count": 21,
   "id": "66e67e31-ff8e-4667-9c1a-2c0ec0a2c443",
   "metadata": {
    "execution": {
     "iopub.execute_input": "2024-04-10T14:10:07.907792Z",
     "iopub.status.busy": "2024-04-10T14:10:07.907378Z",
     "iopub.status.idle": "2024-04-10T14:10:11.136211Z",
     "shell.execute_reply": "2024-04-10T14:10:11.013635Z",
     "shell.execute_reply.started": "2024-04-10T14:10:07.907772Z"
    }
   },
   "outputs": [],
   "source": [
    "out = \"results/repeat_elements/deletion_insertion_sequences_rmsk/deletion_insertion_sequences.fasta.out\"\n",
    "data = defaultdict(list)\n",
    "with open(out) as f:\n",
    "    for line in f.readlines()[3:]:\n",
    "        row = line.split()\n",
    "        if row[8] == \"+\":\n",
    "            begin, end, left = int(row[11]), int(row[12]), int(row[13][1:-1])\n",
    "        elif row[8] == \"C\":\n",
    "            left, end, begin = int(row[11][1:-1]), int(row[12]), int(row[13])\n",
    "        element_length = end + left\n",
    "        ratio = (end - begin) / element_length\n",
    "        #if ratio < 0.9:\n",
    "            #continue\n",
    "        #if left > 10 or begin > 10:\n",
    "        #    continue\n",
    "        name = row[10]\n",
    "        if name == \"Unknown\":\n",
    "            continue\n",
    "        if name.startswith(\"LINE\") or name.startswith(\"SINE\") or name.startswith(\"LTR\") or name.startswith(\"Satellite\"): #  or name.startswith(\"DNA\"):\n",
    "            data[row[4]].append(row[10])\n",
    "\n",
    "d = pd.read_csv(\"results/quant_phased_svs.HG001_Cell_350.tsv\", sep=\"\\t\")\n",
    "d.index = d[\"Name_HP1\"]\n",
    "d.index.name = \"Name\"\n",
    "d = d[(d[\"GenoType\"] != \".\") & (d[\"Length_HP1\"] >= 100)]\n",
    "\n",
    "vs = []\n",
    "for name in d.index:\n",
    "    vs.append(\",\".join(data[name]))\n",
    "d[\"RepeatElement\"] = vs"
   ]
  },
  {
   "cell_type": "code",
   "execution_count": 24,
   "id": "cf773262-ba2e-4570-a764-d8386847ae6a",
   "metadata": {
    "execution": {
     "iopub.execute_input": "2024-04-10T14:10:40.109441Z",
     "iopub.status.busy": "2024-04-10T14:10:40.108903Z",
     "iopub.status.idle": "2024-04-10T14:10:40.114096Z",
     "shell.execute_reply": "2024-04-10T14:10:40.113679Z",
     "shell.execute_reply.started": "2024-04-10T14:10:40.109417Z"
    }
   },
   "outputs": [],
   "source": [
    "from collections import Counter"
   ]
  }
 ],
 "metadata": {
  "kernelspec": {
   "display_name": "Python 3 (ipykernel)",
   "language": "python",
   "name": "python3"
  },
  "language_info": {
   "codemirror_mode": {
    "name": "ipython",
    "version": 3
   },
   "file_extension": ".py",
   "mimetype": "text/x-python",
   "name": "python",
   "nbconvert_exporter": "python",
   "pygments_lexer": "ipython3",
   "version": "3.10.13"
  }
 },
 "nbformat": 4,
 "nbformat_minor": 5
}
