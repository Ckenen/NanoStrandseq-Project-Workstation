{
 "cells": [
  {
   "cell_type": "code",
   "execution_count": 1,
   "id": "172f340f",
   "metadata": {
    "ExecuteTime": {
     "end_time": "2024-01-30T05:16:01.119640Z",
     "start_time": "2024-01-30T05:16:00.576457Z"
    },
    "execution": {
     "iopub.execute_input": "2024-04-10T12:48:12.350767Z",
     "iopub.status.busy": "2024-04-10T12:48:12.347031Z",
     "iopub.status.idle": "2024-04-10T12:48:29.384738Z",
     "shell.execute_reply": "2024-04-10T12:48:29.383569Z",
     "shell.execute_reply.started": "2024-04-10T12:48:12.350739Z"
    }
   },
   "outputs": [],
   "source": [
    "import pickle\n",
    "from collections import defaultdict\n",
    "import numpy as np\n",
    "import pandas as pd\n",
    "import pysam\n",
    "from pyBioInfo.Range import GRange\n",
    "from pyBioInfo.IO.File import BedFile\n",
    "from pyBioInfo.Utils import SegmentTools, ShiftLoader"
   ]
  },
  {
   "cell_type": "markdown",
   "id": "8423b327",
   "metadata": {},
   "source": [
    "# Prepare phased SVs for validation"
   ]
  },
  {
   "cell_type": "code",
   "execution_count": 3,
   "id": "cfb14b0b",
   "metadata": {
    "ExecuteTime": {
     "end_time": "2023-09-28T02:18:09.374165Z",
     "start_time": "2023-09-28T02:15:17.973919Z"
    },
    "execution": {
     "iopub.execute_input": "2024-04-10T12:49:34.063019Z",
     "iopub.status.busy": "2024-04-10T12:49:34.062371Z",
     "iopub.status.idle": "2024-04-10T12:50:30.588653Z",
     "shell.execute_reply": "2024-04-10T12:50:30.587951Z",
     "shell.execute_reply.started": "2024-04-10T12:49:34.062988Z"
    }
   },
   "outputs": [
    {
     "name": "stderr",
     "output_type": "stream",
     "text": [
      "[W::hts_idx_load3] The index file is older than the data file: ../../4_NanoStrandSeq_Phasing/results/HG001_Cell_350/round2/snvs.vcf.gz.tbi\n"
     ]
    },
    {
     "name": "stdout",
     "output_type": "stream",
     "text": [
      "2024999 2080839\n"
     ]
    }
   ],
   "source": [
    "def load_het_snps(f_vcf):\n",
    "    snps = []\n",
    "    with pysam.VariantFile(f_vcf) as f:\n",
    "        sample = list(f.header.samples)[0]\n",
    "        for record in f:\n",
    "            gt = record.samples[sample][\"GT\"]\n",
    "            ps = record.samples[sample][\"PS\"]\n",
    "            a1, a2 = record.alleles[gt[0]], record.alleles[gt[1]]\n",
    "            if len(a1) > 1 or len(a2) > 1 or a1 == a2:\n",
    "                continue\n",
    "            name1 = \"%s|%s\" % (a1, a2)\n",
    "            name2 = \"%s/%s\" % (a1, a2)\n",
    "            if ps == \"PATMAT\" or ps == \"0\":\n",
    "                name = name1\n",
    "            else:\n",
    "                name = name2\n",
    "            snp = GRange(chrom=record.chrom, start=record.start, end=record.stop, name=name)\n",
    "            snps.append(snp)\n",
    "    snps.sort()\n",
    "    return snps\n",
    "snps1 = load_het_snps(\"../../4_NanoStrandSeq_Phasing/results/HG001_Cell_350/round2/snvs.vcf.gz\")\n",
    "snps2 = load_het_snps(\"/lustre/grp/tfclab/chenzg/repositories/GRCh38_HG001_SNP_Indel/GRCh38_HG001_SNP_Indel.GIAB_v4.2.1_and_v3.3.2.vcf.gz\")\n",
    "print(len(snps1), len(snps2))"
   ]
  },
  {
   "cell_type": "code",
   "execution_count": 4,
   "id": "61941f1c",
   "metadata": {
    "ExecuteTime": {
     "end_time": "2023-09-28T03:08:42.991191Z",
     "start_time": "2023-09-28T03:08:37.827099Z"
    },
    "execution": {
     "iopub.execute_input": "2024-04-10T12:51:43.600736Z",
     "iopub.status.busy": "2024-04-10T12:51:43.600404Z",
     "iopub.status.idle": "2024-04-10T12:51:50.696088Z",
     "shell.execute_reply": "2024-04-10T12:51:50.694255Z",
     "shell.execute_reply.started": "2024-04-10T12:51:43.600717Z"
    }
   },
   "outputs": [
    {
     "name": "stdout",
     "output_type": "stream",
     "text": [
      "6010\n"
     ]
    }
   ],
   "source": [
    "def load_het_svs(f_tsv):\n",
    "    dat = pd.read_csv(f_tsv, sep=\"\\t\")\n",
    "    svs = []\n",
    "    d = dat[[\"Chrom_HP1\", \"Start_HP1\", \"End_HP1\", \"Name_HP1\", \"Length_HP1\", \"GenoType\"]]\n",
    "    for chrom, start, end, name, length, gt in d.values:\n",
    "        obj = GRange(chrom=chrom, start=start, end=end, name=name)\n",
    "        if gt == \".\" or gt == \"1|1\":\n",
    "            continue\n",
    "        obj.gt = gt\n",
    "        obj.length = length\n",
    "        svs.append(obj)\n",
    "    svs.sort()\n",
    "    return svs\n",
    "\n",
    "svs = load_het_svs(\"results/quant_phased_svs.HG001_Cell_350.tsv\")\n",
    "print(len(svs))"
   ]
  },
  {
   "cell_type": "code",
   "execution_count": 5,
   "id": "a38189f0",
   "metadata": {
    "ExecuteTime": {
     "end_time": "2023-09-28T03:10:03.032399Z",
     "start_time": "2023-09-28T03:10:03.018056Z"
    },
    "execution": {
     "iopub.execute_input": "2024-04-10T12:51:52.105685Z",
     "iopub.status.busy": "2024-04-10T12:51:52.104937Z",
     "iopub.status.idle": "2024-04-10T12:51:52.127458Z",
     "shell.execute_reply": "2024-04-10T12:51:52.126958Z",
     "shell.execute_reply.started": "2024-04-10T12:51:52.105662Z"
    }
   },
   "outputs": [],
   "source": [
    "def get_closest_snp(sv, loader, max_distance=100000):\n",
    "    closest_distance = None\n",
    "    closest_snp = None\n",
    "    for snp in loader.fetch(chrom=sv.chrom, start=sv.start - max_distance, end = sv.end + max_distance):\n",
    "        if snp.end < sv.start:\n",
    "            distance = sv.start - snp.end\n",
    "        elif snp.start > sv.end:\n",
    "            distance = snp.start - sv.end\n",
    "        else:\n",
    "            continue\n",
    "        if distance < 10:\n",
    "            continue\n",
    "        if closest_snp is None or distance < closest_distance:\n",
    "            closest_distance = distance\n",
    "            closest_snp = snp\n",
    "    return closest_distance, closest_snp"
   ]
  },
  {
   "cell_type": "code",
   "execution_count": 13,
   "id": "cdd01b62",
   "metadata": {
    "ExecuteTime": {
     "end_time": "2023-09-28T04:11:20.564585Z",
     "start_time": "2023-09-28T04:11:06.978250Z"
    },
    "execution": {
     "iopub.execute_input": "2024-04-10T12:54:18.770409Z",
     "iopub.status.busy": "2024-04-10T12:54:18.763497Z",
     "iopub.status.idle": "2024-04-10T12:54:23.805112Z",
     "shell.execute_reply": "2024-04-10T12:54:23.804647Z",
     "shell.execute_reply.started": "2024-04-10T12:54:18.770383Z"
    }
   },
   "outputs": [
    {
     "name": "stdout",
     "output_type": "stream",
     "text": [
      "61 61\n"
     ]
    }
   ],
   "source": [
    "n1 = 0\n",
    "n2 = 0\n",
    "loader1 = ShiftLoader(snps1) # NanoStrand-seq\n",
    "loader2 = ShiftLoader(snps2) # GIAB\n",
    "rows = []\n",
    "with pysam.FastaFile(\"/lustre/grp/tfclab/chenzg/species/homo_sapiens/GRCh38.p13/GRCh38.canonical.genome.fa\") as fasta:\n",
    "    for sv in svs:\n",
    "        closest_distance1, closest_snp1 = get_closest_snp(sv, loader1)\n",
    "        closest_distance2, closest_snp2 = get_closest_snp(sv, loader2)\n",
    "        if closest_distance1 is None:\n",
    "            continue\n",
    "        if closest_distance1 >= 10000:\n",
    "            n1 += 1\n",
    "        else:\n",
    "            continue\n",
    "        if closest_distance1 >= 0:\n",
    "            n2 += 1\n",
    "            chrom = sv.chrom\n",
    "            start = min(sv.start, closest_snp1.start)\n",
    "            end = max(sv.end, closest_snp1.end)\n",
    "            start1, end1 = start - 5000 - 100, start - 100\n",
    "            start2, end2 = end + 100, end + 100 + 5000\n",
    "            seq1 = fasta.fetch(chrom, start1, end1)\n",
    "            seq2 = fasta.fetch(chrom, start2, end2)\n",
    "            s = dict()\n",
    "            s[\"Chrom\"] = sv.chrom\n",
    "            s[\"RangeStart\"] = start\n",
    "            s[\"RangeEnd\"] = end\n",
    "            s[\"Location\"] = \"%s:%s-%s\" % (chrom, start, end)\n",
    "            s[\"SV_To_hetSNP\"] = closest_distance1\n",
    "            s[\"SV_Start\"] = sv.start\n",
    "            s[\"SV_End\"] = sv.end\n",
    "            s[\"SV_Length\"] = sv.length\n",
    "            s[\"SV_Name\"] = sv.name\n",
    "            s[\"SV_GT\"] = sv.gt\n",
    "            s[\"SNP_Start\"] = closest_snp1.start\n",
    "            s[\"SNP_Name\"] = closest_snp1.name\n",
    "            #s[\"GIAB_SNP_Start\"] = closest_snp2.start\n",
    "            #s[\"GIAB_SNP_Name\"] = closest_snp2.name\n",
    "            s[\"UpstreamStart\"] = start1\n",
    "            s[\"UpstreamEnd\"] = end1\n",
    "            s[\"UpstreamSequence\"] = seq1\n",
    "            s[\"DownstreamStart\"] = start2\n",
    "            s[\"DownstreamEnd\"] = end2\n",
    "            s[\"DownstreamSequence\"] = seq2\n",
    "            rows.append(s)\n",
    "print(n1, n2)"
   ]
  },
  {
   "cell_type": "code",
   "execution_count": 14,
   "id": "ad37d1f5",
   "metadata": {
    "ExecuteTime": {
     "end_time": "2023-09-28T04:14:45.324730Z",
     "start_time": "2023-09-28T04:14:45.032176Z"
    },
    "execution": {
     "iopub.execute_input": "2024-04-10T12:54:27.185375Z",
     "iopub.status.busy": "2024-04-10T12:54:27.184976Z",
     "iopub.status.idle": "2024-04-10T12:54:27.366101Z",
     "shell.execute_reply": "2024-04-10T12:54:27.365608Z",
     "shell.execute_reply.started": "2024-04-10T12:54:27.185353Z"
    },
    "scrolled": true
   },
   "outputs": [],
   "source": [
    "dat = pd.DataFrame(rows)\n",
    "dat.to_csv(\"results/candidate_sv_for_validate.csv\", index=False)"
   ]
  },
  {
   "cell_type": "markdown",
   "id": "0b134bc9",
   "metadata": {},
   "source": [
    "# Validate phased SVs by long reads"
   ]
  },
  {
   "cell_type": "code",
   "execution_count": 4,
   "id": "47ba3a94",
   "metadata": {
    "ExecuteTime": {
     "end_time": "2024-01-30T05:17:29.195477Z",
     "start_time": "2024-01-30T05:17:29.154014Z"
    },
    "code_folding": []
   },
   "outputs": [],
   "source": [
    "def get_deletion_blocks(segment):\n",
    "    start = segment.reference_start\n",
    "    blocks = [] # [start, end]\n",
    "    for flag, count in segment.cigartuples:\n",
    "        if flag == pysam.CMATCH:\n",
    "            start += count\n",
    "        elif flag == pysam.CDEL:\n",
    "            end = start + count\n",
    "            blocks.append([start, end])\n",
    "            start = end\n",
    "        elif flag == pysam.CINS:\n",
    "            continue\n",
    "        elif flag == pysam.CSOFT_CLIP or flag == pysam.CHARD_CLIP:\n",
    "            continue\n",
    "        elif flag == pysam.CEQUAL:\n",
    "            start += count\n",
    "        elif flag == pysam.CDIFF:\n",
    "            start += count\n",
    "        else:\n",
    "            assert False\n",
    "    return blocks\n",
    "\n",
    "\n",
    "def get_insertion_blocks(segment):\n",
    "    start = segment.reference_start\n",
    "    offset = 0\n",
    "    ins = [] # [start, length]\n",
    "    for flag, count in segment.cigartuples:\n",
    "        if flag == pysam.CMATCH:\n",
    "            offset += count\n",
    "        elif flag == pysam.CDEL:\n",
    "            offset += count\n",
    "        elif flag == pysam.CINS:\n",
    "            ins.append([offset + start, count])\n",
    "        elif flag == pysam.CSOFT_CLIP or flag == pysam.CHARD_CLIP:\n",
    "            continue\n",
    "        elif flag == pysam.CEQUAL:\n",
    "            offset += count\n",
    "        elif flag == pysam.CDIFF:\n",
    "            offset += count\n",
    "        else:\n",
    "            print(flag, count)\n",
    "            assert False\n",
    "    return ins\n",
    "\n",
    "\n",
    "def load_segments(f_bam, chrom, start, end, snp_start, slop=300, perfect_width=20, max_reads=200):\n",
    "    segments = []\n",
    "    perfect_start = snp_start - perfect_width\n",
    "    perfect_end = snp_start + 1 + perfect_width\n",
    "    with pysam.AlignmentFile(f_bam) as f:\n",
    "        for s in f.fetch(chrom, start, end):\n",
    "            if s.reference_start > start - slop:\n",
    "                continue\n",
    "            if s.reference_end < end + slop:\n",
    "                continue\n",
    "            if s.mapping_quality < 60:\n",
    "                continue\n",
    "            # perfect snp content\n",
    "            perfect = True\n",
    "            for e in SegmentTools.get_events(s):\n",
    "                if e[1] == \"-\": # insertion\n",
    "                    if e[0] >= perfect_start and e[0] < perfect_end:\n",
    "                        perfect = False\n",
    "                        break\n",
    "                    elif e[0] >= perfect_end:\n",
    "                        break\n",
    "                elif e[2] == \"-\": # deletion\n",
    "                    start1 = e[0]\n",
    "                    end1 = start1 + len(e[1])\n",
    "                    if max(start1, perfect_start) < min(end1, perfect_end):\n",
    "                        perfect = False\n",
    "                        break\n",
    "                    elif e[0] >= perfect_end:\n",
    "                        break\n",
    "                else: # mismatch\n",
    "                    if perfect_start <= e[0] < perfect_end and e[0] != snp_start:\n",
    "                        perfect = False\n",
    "                        break\n",
    "                    elif e[0] >= perfect_end:\n",
    "                        break\n",
    "            if not perfect:\n",
    "                continue\n",
    "            segments.append(s)\n",
    "            if len(segments) >= max_reads:\n",
    "                break\n",
    "    return segments"
   ]
  },
  {
   "cell_type": "code",
   "execution_count": 5,
   "id": "216eba19",
   "metadata": {
    "ExecuteTime": {
     "end_time": "2024-01-30T06:03:15.329199Z",
     "start_time": "2024-01-30T05:17:29.837080Z"
    },
    "code_folding": []
   },
   "outputs": [
    {
     "name": "stdout",
     "output_type": "stream",
     "text": [
      "0 cuteSV.DEL.1463\n",
      "1 cuteSV.INS.1390\n",
      "2 cuteSV.INS.1671\n",
      "3 cuteSV.DEL.1250\n",
      "4 cuteSV.INS.431\n",
      "5 cuteSV.DEL.2166\n",
      "6 cuteSV.DEL.10\n",
      "7 cuteSV.DEL.1018\n",
      "8 cuteSV.INS.870\n",
      "9 cuteSV.INS.444\n",
      "10 cuteSV.DEL.544\n",
      "11 cuteSV.INS.368\n",
      "12 cuteSV.INS.294\n",
      "13 cuteSV.DEL.1482\n",
      "14 cuteSV.DEL.1014\n",
      "15 cuteSV.DEL.1015\n",
      "16 cuteSV.DEL.725\n",
      "17 cuteSV.DEL.2258\n",
      "18 cuteSV.DEL.2259\n",
      "19 cuteSV.DEL.3095\n",
      "20 cuteSV.DEL.509\n",
      "21 cuteSV.DEL.1752\n",
      "22 cuteSV.INS.616\n",
      "23 cuteSV.DEL.3057\n",
      "24 cuteSV.DEL.1727\n",
      "25 cuteSV.DEL.2528\n",
      "26 cuteSV.DEL.1300\n"
     ]
    }
   ],
   "source": [
    "dat = pd.read_csv(\"results/candidate_sv_for_validate.csv\")\n",
    "f_bams = {\n",
    "    \"PacBio\": \"../../3_NanoStrandSeq_PseudoBulk/results/bams/PacBio.full.bam\",\n",
    "    \"Ultralong\": \"../../3_NanoStrandSeq_PseudoBulk/results/bams/Ultralong.full.bam\",\n",
    "    \"TangONT\": \"../../9_Validate_SV_by_bulk_ONT/results/GRCh38_HG001_ONT_PCR_SVs.bam\"\n",
    "}\n",
    "array = []\n",
    "for i in range(len(dat)):\n",
    "    d = dict(dat.iloc[i])\n",
    "    print(i, d[\"SV_Name\"])     \n",
    "    chrom = d[\"Chrom\"]\n",
    "    start = d[\"RangeStart\"]\n",
    "    end = d[\"RangeEnd\"]\n",
    "    sv_start = d[\"SV_Start\"]\n",
    "    sv_end = d[\"SV_End\"]\n",
    "    sv_len = d[\"SV_Length\"]\n",
    "    sv_type = d[\"SV_Name\"].split(\".\")[1]\n",
    "    snp_start = d[\"SNP_Start\"]\n",
    "    for name, f_bam in f_bams.items():\n",
    "        segments = load_segments(f_bam, chrom, start, end, snp_start, slop=300, perfect_width=20, max_reads=200)\n",
    "        fw = None\n",
    "        if True and name == \"TangONT\":\n",
    "            fw = pysam.AlignmentFile(\"results/%s.bam\" % d[\"SV_Name\"], \"wb\", pysam.AlignmentFile(f_bam))\n",
    "        counter = defaultdict(int)\n",
    "        for s in segments:\n",
    "            support = None\n",
    "            if sv_type == \"INS\":\n",
    "                pos = sv_start\n",
    "                n = 0\n",
    "                pmin, pmax = pos - sv_len, pos + sv_len\n",
    "                for x, length in get_insertion_blocks(s):\n",
    "                    if pmin < x < pmax:\n",
    "                        n += length\n",
    "                if min(sv_len, n) >= max(sv_len, n) * 0.7:\n",
    "                    support = \"INS\"\n",
    "                else:\n",
    "                    support = \"REF\"\n",
    "            elif sv_type == \"DEL\":\n",
    "                n = 0\n",
    "                for x, y in get_deletion_blocks(s):\n",
    "                    if max(x, sv_start) < min(y, sv_end):\n",
    "                        n += (y - x)\n",
    "                if min(sv_len, n) >= max(sv_len, n) * 0.7:\n",
    "                    support = \"DEL\"\n",
    "                else:\n",
    "                    support = \"REF\"\n",
    "            else:\n",
    "                assert False\n",
    "            base = SegmentTools.get_query_base(segment=s, position=snp_start)\n",
    "            counter[(base, support)] += 1\n",
    "            if fw:\n",
    "                s.set_tag(\"XV\", \"%s_%s\" % (base, support))\n",
    "                fw.write(s)\n",
    "        if fw:\n",
    "            fw.close()\n",
    "        d[name] = counter  \n",
    "    array.append(d)"
   ]
  },
  {
   "cell_type": "code",
   "execution_count": 8,
   "id": "f2ca157a",
   "metadata": {
    "ExecuteTime": {
     "end_time": "2024-01-30T06:57:00.349143Z",
     "start_time": "2024-01-30T06:57:00.336173Z"
    }
   },
   "outputs": [],
   "source": [
    "with open(\"results/validate_results.pkl\", \"wb\") as fw:\n",
    "    pickle.dump(array, fw)"
   ]
  },
  {
   "cell_type": "code",
   "execution_count": 9,
   "id": "7060482a",
   "metadata": {
    "ExecuteTime": {
     "end_time": "2024-01-30T06:57:02.441185Z",
     "start_time": "2024-01-30T06:57:02.372565Z"
    }
   },
   "outputs": [
    {
     "name": "stdout",
     "output_type": "stream",
     "text": [
      "--------------------------------------------------------------------------------\n",
      "0 cuteSV.DEL.1463 1|0 A|G\n",
      "chr1\n",
      "SV: 58300577 58300628 50\n",
      "SNP: 58323583\n",
      "Distance: 22955\n",
      "PacBio: []\n",
      "ONT-UL: []\n",
      "TargetPCR [(('G', 'REF'), 95), (('A', 'REF'), 87), (('A', 'DEL'), 15), (('G', 'DEL'), 3)]\n",
      "--------------------------------------------------------------------------------\n",
      "1 cuteSV.INS.1390 0|1 A|G\n",
      "chr1\n",
      "SV: 188863707 188863708 320\n",
      "SNP: 188889328\n",
      "Distance: 25620\n",
      "PacBio: []\n",
      "ONT-UL: [(('G', 'INS'), 1)]\n",
      "TargetPCR [(('A', 'REF'), 96), (('G', 'INS'), 70), (('G', 'REF'), 17), (('A', 'INS'), 17)]\n",
      "--------------------------------------------------------------------------------\n",
      "2 cuteSV.INS.1671 1|0 A|G\n",
      "chr1\n",
      "SV: 219475626 219475627 59\n",
      "SNP: 219465411\n",
      "Distance: 10214\n",
      "PacBio: []\n",
      "ONT-UL: [(('G', 'REF'), 3)]\n",
      "TargetPCR [(('G', 'REF'), 121), (('G', 'INS'), 79)]\n",
      "--------------------------------------------------------------------------------\n",
      "3 cuteSV.DEL.1250 0|1 A|G\n",
      "chr10\n",
      "SV: 49127172 49127232 59\n",
      "SNP: 49141670\n",
      "Distance: 14438\n",
      "PacBio: []\n",
      "ONT-UL: [(('G', 'DEL'), 1)]\n",
      "TargetPCR [(('A', 'REF'), 91), (('G', 'DEL'), 79), (('G', 'REF'), 17), (('A', 'DEL'), 13)]\n",
      "--------------------------------------------------------------------------------\n",
      "6 cuteSV.DEL.10 1|0 C|T\n",
      "chr12\n",
      "SV: 268329 275661 7331\n",
      "SNP: 287705\n",
      "Distance: 12044\n",
      "PacBio: []\n",
      "ONT-UL: []\n",
      "TargetPCR [(('C', 'DEL'), 173), (('T', 'DEL'), 13), (('T', 'REF'), 11), (('C', 'REF'), 3)]\n",
      "--------------------------------------------------------------------------------\n",
      "7 cuteSV.DEL.1018 0|1 G|A\n",
      "chr12\n",
      "SV: 49436509 49436591 81\n",
      "SNP: 49453786\n",
      "Distance: 17195\n",
      "PacBio: []\n",
      "ONT-UL: []\n",
      "TargetPCR [(('G', 'REF'), 84), (('A', 'DEL'), 75), (('A', 'REF'), 27), (('G', 'DEL'), 14)]\n",
      "--------------------------------------------------------------------------------\n",
      "9 cuteSV.INS.444 1|0 G|A\n",
      "chr14\n",
      "SV: 83887906 83887907 122\n",
      "SNP: 83877664\n",
      "Distance: 10241\n",
      "PacBio: []\n",
      "ONT-UL: [(('G', 'INS'), 2), (('A', 'REF'), 1)]\n",
      "TargetPCR [(('A', 'REF'), 90), (('G', 'INS'), 81), (('A', 'INS'), 15), (('G', 'REF'), 13), (('T', 'INS'), 1)]\n",
      "--------------------------------------------------------------------------------\n",
      "16 cuteSV.DEL.725 0|1 C|T\n",
      "chr3\n",
      "SV: 33781186 33781319 132\n",
      "SNP: 33765204\n",
      "Distance: 15981\n",
      "PacBio: []\n",
      "ONT-UL: [(('T', 'DEL'), 1)]\n",
      "TargetPCR [(('C', 'REF'), 88), (('T', 'DEL'), 81), (('C', 'DEL'), 16), (('T', 'REF'), 15)]\n",
      "--------------------------------------------------------------------------------\n",
      "21 cuteSV.DEL.1752 0|1 C|G\n",
      "chr4\n",
      "SV: 81753714 81754311 596\n",
      "SNP: 81739910\n",
      "Distance: 13803\n",
      "PacBio: []\n",
      "ONT-UL: [(('C', 'REF'), 1)]\n",
      "TargetPCR [(('G', 'DEL'), 92), (('C', 'REF'), 82), (('G', 'REF'), 16), (('C', 'DEL'), 10)]\n",
      "--------------------------------------------------------------------------------\n",
      "23 cuteSV.DEL.3057 0|1 T|A\n",
      "chr5\n",
      "SV: 152515429 152515532 102\n",
      "SNP: 152494430\n",
      "Distance: 20998\n",
      "PacBio: []\n",
      "ONT-UL: []\n",
      "TargetPCR [(('A', 'DEL'), 92), (('T', 'REF'), 70), (('T', 'DEL'), 22), (('A', 'REF'), 16)]\n",
      "--------------------------------------------------------------------------------\n",
      "24 cuteSV.DEL.1727 1|0 G|T\n",
      "chr8\n",
      "SV: 82160390 82160502 111\n",
      "SNP: 82183794\n",
      "Distance: 23292\n",
      "PacBio: []\n",
      "ONT-UL: []\n",
      "TargetPCR [(('G', 'DEL'), 86), (('T', 'REF'), 86), (('G', 'REF'), 14), (('T', 'DEL'), 14)]\n"
     ]
    }
   ],
   "source": [
    "array1 = pickle.load(open(\"results/validate_results.pkl\", \"rb\"))\n",
    "for i in range(len(array1)):\n",
    "    d = array1[i]\n",
    "    if sum(d[\"TangONT\"].values()) < 100:\n",
    "        continue\n",
    "    print(\"-\" * 80)\n",
    "    print(i, d[\"SV_Name\"], d[\"SV_GT\"], d[\"SNP_Name\"])\n",
    "    print(d[\"Chrom\"])\n",
    "    print(\"SV:\", d[\"SV_Start\"], d[\"SV_End\"], d[\"SV_Length\"])\n",
    "    print(\"SNP:\", d[\"SNP_Start\"])\n",
    "    print(\"Distance:\", d[\"SV_To_hetSNP\"])\n",
    "    print(\"PacBio:\", sorted(d[\"PacBio\"].items(), key=lambda item: item[1], reverse=True))\n",
    "    print(\"ONT-UL:\", sorted(d[\"Ultralong\"].items(), key=lambda item: item[1], reverse=True))\n",
    "    print(\"TargetPCR\", sorted(d[\"TangONT\"].items(), key=lambda item: item[1], reverse=True))"
   ]
  }
 ],
 "metadata": {
  "kernelspec": {
   "display_name": "Python 3 (ipykernel)",
   "language": "python",
   "name": "python3"
  },
  "language_info": {
   "codemirror_mode": {
    "name": "ipython",
    "version": 3
   },
   "file_extension": ".py",
   "mimetype": "text/x-python",
   "name": "python",
   "nbconvert_exporter": "python",
   "pygments_lexer": "ipython3",
   "version": "3.10.13"
  }
 },
 "nbformat": 4,
 "nbformat_minor": 5
}
