{
 "cells": [
  {
   "cell_type": "code",
   "execution_count": 7,
   "id": "d5ff03f4-8e47-425b-a776-ff76dcfbe224",
   "metadata": {
    "execution": {
     "iopub.execute_input": "2024-04-10T14:29:03.264947Z",
     "iopub.status.busy": "2024-04-10T14:29:03.263171Z",
     "iopub.status.idle": "2024-04-10T14:29:03.282334Z",
     "shell.execute_reply": "2024-04-10T14:29:03.281739Z",
     "shell.execute_reply.started": "2024-04-10T14:29:03.264923Z"
    }
   },
   "outputs": [],
   "source": [
    "import sys\n",
    "import json\n",
    "import pandas as pd\n",
    "from collections import Counter, defaultdict\n",
    "import pysam\n",
    "from pyBioInfo.Range import GRange\n",
    "from pyBioInfo.Utils import ShiftLoader"
   ]
  },
  {
   "cell_type": "code",
   "execution_count": 8,
   "id": "db21a5a5-90be-42c0-ad75-bdcf0fc76be5",
   "metadata": {
    "execution": {
     "iopub.execute_input": "2024-04-10T14:29:05.764128Z",
     "iopub.status.busy": "2024-04-10T14:29:05.763620Z",
     "iopub.status.idle": "2024-04-10T14:29:05.809670Z",
     "shell.execute_reply": "2024-04-10T14:29:05.809218Z",
     "shell.execute_reply.started": "2024-04-10T14:29:05.764106Z"
    }
   },
   "outputs": [],
   "source": [
    "def load_svs(path):\n",
    "    svs = []\n",
    "    with pysam.VariantFile(path) as f:\n",
    "        for record in f:\n",
    "            if record.contig == \"chrY\":\n",
    "                continue\n",
    "            svtype = record.info[\"SVTYPE\"]\n",
    "            if svtype != \"DEL\" and svtype != \"INS\":\n",
    "                continue\n",
    "#             if list(record.filter)[0] != \"PASS\":\n",
    "#                 continue\n",
    "            svlen = abs(record.info[\"SVLEN\"])\n",
    "            sv = GRange(chrom=record.contig, start=record.start, end=record.stop, name=record.id)\n",
    "            sv.record = record\n",
    "            sv.svtype = svtype\n",
    "            sv.svlen = svlen\n",
    "            svs.append(sv)\n",
    "    return svs\n",
    "\n",
    "def filter_sv_by_regions(svs, regions):\n",
    "    svs1 = []\n",
    "    loader = ShiftLoader(regions)\n",
    "    for sv in svs:\n",
    "        n = len(list(loader.fetch(obj=sv)))\n",
    "        if n == 0:\n",
    "            svs1.append(sv)\n",
    "    return svs1\n",
    "\n",
    "def get_recall(svs_ref, svs_que, svtype):\n",
    "    svs_ref = list(filter(lambda sv: sv.svtype == svtype, svs_ref))\n",
    "    svs_que = list(filter(lambda sv: sv.svtype == svtype, svs_que))\n",
    "    print(\"-\" * 80)\n",
    "    print(svtype, len(svs_ref), len(svs_que), sep=\"\\t\")\n",
    "    print(Counter([sv.gt for sv in svs_ref]))\n",
    "    \n",
    "    n_hit = 0\n",
    "    loader = ShiftLoader(svs_que)\n",
    "    counter = defaultdict(int)\n",
    "    for sv in svs_ref:\n",
    "        hit = False\n",
    "        for sv2 in loader.fetch(chrom=sv.chrom, start=sv.start - 1000, end=sv.end + 1000):\n",
    "            if sv.svtype == sv2.svtype and min(sv.svlen, sv2.svlen) >= max(sv.svlen, sv2.svlen) * 0.7:\n",
    "                try:\n",
    "                    sv.new_gt = sv2.nss_gt\n",
    "                except AttributeError:\n",
    "                    pass\n",
    "                hit = True\n",
    "                break\n",
    "        if hit:\n",
    "            counter[sv.gt] += 1\n",
    "            n_hit += 1\n",
    "    print(counter)\n",
    "    data = dict()\n",
    "    data[\"Reference\"] = len(svs_ref)\n",
    "    data[\"Query\"] = len(svs_que)\n",
    "    data[\"Reference_Hit\"] = n_hit\n",
    "    data[\"Reference_Recall\"] = data[\"Reference_Hit\"] / data[\"Reference\"]\n",
    "    return data"
   ]
  },
  {
   "cell_type": "code",
   "execution_count": 9,
   "id": "fc866cb5-0b56-40f9-aeb2-75afddd2cfee",
   "metadata": {
    "execution": {
     "iopub.execute_input": "2024-04-10T14:29:49.706904Z",
     "iopub.status.busy": "2024-04-10T14:29:49.706440Z",
     "iopub.status.idle": "2024-04-10T14:31:35.052524Z",
     "shell.execute_reply": "2024-04-10T14:31:35.051994Z",
     "shell.execute_reply.started": "2024-04-10T14:29:49.706883Z"
    }
   },
   "outputs": [
    {
     "name": "stderr",
     "output_type": "stream",
     "text": [
      "[W::hts_idx_load3] The index file is older than the data file: ../../4_NanoStrandSeq_Phasing/results/HG001_Cell_350/sv/cutesv.filtered.vcf.gz.tbi\n"
     ]
    },
    {
     "name": "stdout",
     "output_type": "stream",
     "text": [
      "Number of filtered SVs (ref): 19878\n",
      "Number of filtered SVs (que): 21211\n"
     ]
    }
   ],
   "source": [
    "f_vcf1 = \"../../3_NanoStrandSeq_PseudoBulk/results/sv/filtered/PacBio.full.vcf.gz\"\n",
    "f_quant1 = \"../../3_NanoStrandSeq_PseudoBulk/results/sv/quantify_lite/PacBio.full.tsv\"\n",
    "f_vcf2 = \"../../4_NanoStrandSeq_Phasing/results/HG001_Cell_350/sv/cutesv.filtered.vcf.gz\"\n",
    "f_quant2 = \"../../4_NanoStrandSeq_Phasing/results/HG001_Cell_350/sv/quantify_merged.tsv\"\n",
    "f_bed = \"../../3_NanoStrandSeq_PseudoBulk/results/sv/regions/benchmark_sv_blacklist.bed\"\n",
    "min_query_cell = 3\n",
    "\n",
    "# load SVs\n",
    "\n",
    "svs_ref = load_svs(f_vcf1)\n",
    "svs_que = load_svs(f_vcf2)\n",
    "\n",
    "# SV names\n",
    "\n",
    "max_length = 10000\n",
    "min_length = 50\n",
    "min_reads = 5\n",
    "min_freq = 0.2\n",
    "\n",
    "dat = pd.read_csv(f_quant1, sep=\"\\t\")\n",
    "dat[\"AgreeReadRatio\"] = dat[\"AgreeRead\"] / (dat[\"AgreeRead\"] + dat[\"DisagreeRead\"])\n",
    "dat = dat[dat[\"Length\"] <= max_length]\n",
    "dat = dat[dat[\"Length\"] >= min_length]\n",
    "dat = dat[dat[\"Chrom\"] != \"chrY\"]\n",
    "dat = dat[dat[\"AgreeRead\"] >= min_reads]\n",
    "dat = dat[(dat[\"AgreeRead\"] / (dat[\"AgreeRead\"] + dat[\"DisagreeRead\"])) >= min_freq]\n",
    "ratios_ref = {name: ratio for name, ratio in dat[[\"Name\", \"AgreeReadRatio\"]].values}\n",
    "dat_ref = dat\n",
    "names_ref = set(dat[\"Name\"])\n",
    "\n",
    "dat = pd.read_csv(f_quant2, sep=\"\\t\")\n",
    "dat[\"AgreeReadRatio\"] = dat[\"AgreeRead\"] / (dat[\"AgreeRead\"] + dat[\"DisagreeRead\"])\n",
    "dat = dat[dat[\"Length\"] <= max_length]\n",
    "dat = dat[dat[\"Length\"] >= min_length]\n",
    "dat = dat[dat[\"Chrom\"] != \"chrY\"]\n",
    "dat = dat[dat[\"AgreeRead\"] >= min_reads]\n",
    "if min_query_cell > 1:\n",
    "    dat = dat[dat[\"AgreeCell\"] >= min_query_cell]\n",
    "dat = dat[(dat[\"AgreeRead\"] / (dat[\"AgreeRead\"] + dat[\"DisagreeRead\"])) >= min_freq]\n",
    "ratios_que = {name: ratio for name, ratio in dat[[\"Name\", \"AgreeReadRatio\"]].values}\n",
    "dat_que = dat\n",
    "names_que = set(dat[\"Name\"])\n",
    "\n",
    "# filter sv by names\n",
    "\n",
    "svs_ref_1 = list(filter(lambda sv: sv.name in names_ref, svs_ref))\n",
    "svs_que_1 = list(filter(lambda sv: sv.name in names_que, svs_que))\n",
    "print(\"Number of filtered SVs (ref):\", len(svs_ref_1))\n",
    "print(\"Number of filtered SVs (que):\", len(svs_que_1))\n",
    "\n",
    "# blacklist regions\n",
    "\n",
    "regions = []\n",
    "with open(f_bed) as f:\n",
    "    for line in f:\n",
    "        chrom, start, end = line.strip(\"\\n\").split(\"\\t\")\n",
    "        start, end = int(start), int(end)\n",
    "        regions.append(GRange(chrom=chrom, start=start, end=end))\n",
    "regions.sort()\n",
    "\n",
    "# filter sv by regions\n",
    "\n",
    "svs_ref_2 = filter_sv_by_regions(svs_ref_1, regions)\n",
    "svs_que_2 = filter_sv_by_regions(svs_que_1, regions)\n",
    "\n",
    "# benchmark\n",
    "\n",
    "ref = svs_ref_2\n",
    "que = svs_que_2\n",
    "\n",
    "for sv in ref:\n",
    "    if ratios_ref[sv.name] >= 0.8:\n",
    "        sv.gt = \"1/1\"\n",
    "    else:\n",
    "        sv.gt = \"0/1\"\n",
    "    \n",
    "for sv in que:\n",
    "    if ratios_que[sv.name] >= 0.8:\n",
    "        sv.gt = \"1/1\"\n",
    "    else:\n",
    "        sv.gt = \"0/1\""
   ]
  },
  {
   "cell_type": "code",
   "execution_count": null,
   "id": "80785352-6e4f-446c-8272-11fc193ff6a6",
   "metadata": {},
   "outputs": [],
   "source": []
  },
  {
   "cell_type": "code",
   "execution_count": null,
   "id": "2b2ac40d-c64a-4c81-b518-196aadef7274",
   "metadata": {},
   "outputs": [],
   "source": []
  },
  {
   "cell_type": "code",
   "execution_count": 4,
   "id": "315c7ddc-21a9-4189-af52-92483f2fc9d2",
   "metadata": {
    "execution": {
     "iopub.execute_input": "2024-04-10T13:06:13.089883Z",
     "iopub.status.busy": "2024-04-10T13:06:13.089373Z",
     "iopub.status.idle": "2024-04-10T13:06:15.048623Z",
     "shell.execute_reply": "2024-04-10T13:06:15.048085Z",
     "shell.execute_reply.started": "2024-04-10T13:06:13.089862Z"
    }
   },
   "outputs": [],
   "source": [
    "m = pd.read_csv(\"results/quant_phased_svs.HG001_Cell_350.tsv\", sep=\"\\t\", header=0)\n",
    "nss_gt = dict()\n",
    "for name, gt in m[[\"Name_HP1\", \"GenoType\"]].values:\n",
    "    if gt != \".\":\n",
    "        nss_gt[name] = gt\n",
    "for sv in que:\n",
    "    if sv.name in nss_gt:\n",
    "        sv.nss_gt = nss_gt[sv.name]"
   ]
  },
  {
   "cell_type": "code",
   "execution_count": 5,
   "id": "a4e7818d-516e-4483-acc4-eeddf671e9ce",
   "metadata": {
    "execution": {
     "iopub.execute_input": "2024-04-10T13:06:34.590483Z",
     "iopub.status.busy": "2024-04-10T13:06:34.590174Z",
     "iopub.status.idle": "2024-04-10T13:06:34.706159Z",
     "shell.execute_reply": "2024-04-10T13:06:34.705715Z",
     "shell.execute_reply.started": "2024-04-10T13:06:34.590462Z"
    }
   },
   "outputs": [
    {
     "name": "stdout",
     "output_type": "stream",
     "text": [
      "--------------------------------------------------------------------------------\n",
      "DEL\t3160\t3531\n",
      "Counter({'0/1': 1846, '1/1': 1314})\n",
      "defaultdict(<class 'int'>, {'1/1': 1296, '0/1': 1611})\n",
      "--------------------------------------------------------------------------------\n",
      "DEL\t3531\t3160\n",
      "Counter({'0/1': 2154, '1/1': 1377})\n",
      "defaultdict(<class 'int'>, {'1/1': 1251, '0/1': 1701})\n",
      "--------------------------------------------------------------------------------\n",
      "INS\t5134\t5112\n",
      "Counter({'0/1': 2712, '1/1': 2422})\n",
      "defaultdict(<class 'int'>, {'0/1': 2326, '1/1': 2094})\n",
      "--------------------------------------------------------------------------------\n",
      "INS\t5112\t5134\n",
      "Counter({'0/1': 3112, '1/1': 2000})\n",
      "defaultdict(<class 'int'>, {'0/1': 2601, '1/1': 1847})\n"
     ]
    },
    {
     "data": {
      "text/plain": [
       "{'Del_Recall': 0.9199367088607595,\n",
       " 'Del_Precision': 0.8360237892948174,\n",
       " 'Del_F1': 0.8759752557771202,\n",
       " 'Del_Detail': [{'Reference': 3160,\n",
       "   'Query': 3531,\n",
       "   'Reference_Hit': 2907,\n",
       "   'Reference_Recall': 0.9199367088607595},\n",
       "  {'Reference': 3531,\n",
       "   'Query': 3160,\n",
       "   'Reference_Hit': 2952,\n",
       "   'Reference_Recall': 0.8360237892948174}],\n",
       " 'Ins_Recall': 0.8609271523178808,\n",
       " 'Ins_Precision': 0.8701095461658842,\n",
       " 'Ins_F1': 0.8654939949468944,\n",
       " 'Ins_Detail': [{'Reference': 5134,\n",
       "   'Query': 5112,\n",
       "   'Reference_Hit': 4420,\n",
       "   'Reference_Recall': 0.8609271523178808},\n",
       "  {'Reference': 5112,\n",
       "   'Query': 5134,\n",
       "   'Reference_Hit': 4448,\n",
       "   'Reference_Recall': 0.8701095461658842}]}"
      ]
     },
     "execution_count": 5,
     "metadata": {},
     "output_type": "execute_result"
    }
   ],
   "source": [
    "data = dict()\n",
    "\n",
    "# deletion\n",
    "\n",
    "d1 = get_recall(ref, que, \"DEL\")\n",
    "d2 = get_recall(que, ref, \"DEL\")\n",
    "recall = d1[\"Reference_Recall\"]\n",
    "precision = d2[\"Reference_Recall\"]\n",
    "f1 = 2 * recall * precision / (recall + precision)\n",
    "data[\"Del_Recall\"] = recall\n",
    "data[\"Del_Precision\"] = precision\n",
    "data[\"Del_F1\"] = f1\n",
    "data[\"Del_Detail\"] = [d1, d2]\n",
    "\n",
    "# precision\n",
    "\n",
    "d1 = get_recall(ref, que, \"INS\")\n",
    "d2 = get_recall(que, ref, \"INS\")\n",
    "recall = d1[\"Reference_Recall\"]\n",
    "precision = d2[\"Reference_Recall\"]\n",
    "f1 = 2 * recall * precision / (recall + precision)\n",
    "data[\"Ins_Recall\"] = recall\n",
    "data[\"Ins_Precision\"] = precision\n",
    "data[\"Ins_F1\"] = f1\n",
    "data[\"Ins_Detail\"] = [d1, d2]\n",
    "\n",
    "# output\n",
    "# with open(outfile, \"w+\") as fw:\n",
    "#     json.dump(data, fw, indent=4)\n",
    "data"
   ]
  },
  {
   "cell_type": "code",
   "execution_count": 6,
   "id": "2da41d8c-14d0-48f5-a4b1-4d8f0a450f3a",
   "metadata": {
    "execution": {
     "iopub.execute_input": "2024-04-10T13:07:09.055610Z",
     "iopub.status.busy": "2024-04-10T13:07:09.050825Z",
     "iopub.status.idle": "2024-04-10T13:07:09.117424Z",
     "shell.execute_reply": "2024-04-10T13:07:09.116972Z",
     "shell.execute_reply.started": "2024-04-10T13:07:09.055582Z"
    }
   },
   "outputs": [
    {
     "data": {
      "text/plain": [
       "defaultdict(int, {'1|0': 1623, '1|1': 2367, '0|1': 1577})"
      ]
     },
     "execution_count": 6,
     "metadata": {},
     "output_type": "execute_result"
    }
   ],
   "source": [
    "counter = defaultdict(int)\n",
    "for sv in svs_ref:\n",
    "    try:\n",
    "        counter[sv.new_gt] += 1\n",
    "    except AttributeError:\n",
    "        pass\n",
    "counter"
   ]
  }
 ],
 "metadata": {
  "kernelspec": {
   "display_name": "Python 3 (ipykernel)",
   "language": "python",
   "name": "python3"
  },
  "language_info": {
   "codemirror_mode": {
    "name": "ipython",
    "version": 3
   },
   "file_extension": ".py",
   "mimetype": "text/x-python",
   "name": "python",
   "nbconvert_exporter": "python",
   "pygments_lexer": "ipython3",
   "version": "3.10.13"
  }
 },
 "nbformat": 4,
 "nbformat_minor": 5
}
