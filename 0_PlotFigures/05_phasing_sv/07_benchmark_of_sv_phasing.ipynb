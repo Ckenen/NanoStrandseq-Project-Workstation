{
 "cells": [
  {
   "cell_type": "code",
   "execution_count": 30,
   "id": "d5ff03f4-8e47-425b-a776-ff76dcfbe224",
   "metadata": {
    "execution": {
     "iopub.execute_input": "2024-04-10T16:24:29.322381Z",
     "iopub.status.busy": "2024-04-10T16:24:29.322073Z",
     "iopub.status.idle": "2024-04-10T16:24:29.327336Z",
     "shell.execute_reply": "2024-04-10T16:24:29.326916Z",
     "shell.execute_reply.started": "2024-04-10T16:24:29.322362Z"
    }
   },
   "outputs": [],
   "source": [
    "import sys\n",
    "import os\n",
    "import gzip\n",
    "import json\n",
    "import pandas as pd\n",
    "from collections import Counter, defaultdict\n",
    "import multiprocessing as mp\n",
    "import pysam\n",
    "from pyBioInfo.Range import GRange\n",
    "from pyBioInfo.Utils import ShiftLoader"
   ]
  },
  {
   "cell_type": "code",
   "execution_count": 2,
   "id": "e83e1ad8-15f5-475e-bbb9-64f17425dbab",
   "metadata": {
    "execution": {
     "iopub.execute_input": "2024-04-10T15:39:12.546129Z",
     "iopub.status.busy": "2024-04-10T15:39:12.545091Z",
     "iopub.status.idle": "2024-04-10T15:39:24.262517Z",
     "shell.execute_reply": "2024-04-10T15:39:24.257101Z",
     "shell.execute_reply.started": "2024-04-10T15:39:12.546109Z"
    }
   },
   "outputs": [
    {
     "name": "stderr",
     "output_type": "stream",
     "text": [
      "[W::hts_idx_load3] The index file is older than the data file: ../../4_NanoStrandSeq_Phasing/results/HG001_Cell_350/sv/cutesv.filtered.vcf.gz.tbi\n"
     ]
    },
    {
     "name": "stdout",
     "output_type": "stream",
     "text": [
      "Number of SV (reference): 34137\n",
      "Number of SV (query): 419873\n"
     ]
    }
   ],
   "source": [
    "# Load SVs from VCF file\n",
    "\n",
    "def load_svs(path):\n",
    "    svs = []\n",
    "    with pysam.VariantFile(path) as f:\n",
    "        for record in f:\n",
    "            if record.contig == \"chrY\":\n",
    "                continue\n",
    "            svtype = record.info[\"SVTYPE\"]\n",
    "            if svtype != \"DEL\" and svtype != \"INS\":\n",
    "                continue\n",
    "            svlen = abs(record.info[\"SVLEN\"])\n",
    "            sv = GRange(chrom=record.contig, start=record.start, end=record.stop, name=record.id)\n",
    "            sv.record = record\n",
    "            sv.svtype = svtype\n",
    "            sv.svlen = svlen\n",
    "            svs.append(sv)\n",
    "    return svs\n",
    "    \n",
    "f_vcf1 = \"../../3_NanoStrandSeq_PseudoBulk/results/sv/filtered/PacBio.full.vcf.gz\"\n",
    "f_vcf2 = \"../../4_NanoStrandSeq_Phasing/results/HG001_Cell_350/sv/cutesv.filtered.vcf.gz\"\n",
    "svs_ref = load_svs(f_vcf1)\n",
    "svs_que = load_svs(f_vcf2)\n",
    "print(\"Number of SV (reference):\", len(svs_ref))\n",
    "print(\"Number of SV (query):\", len(svs_que))"
   ]
  },
  {
   "cell_type": "code",
   "execution_count": 4,
   "id": "4398d59a-1a9f-4d39-b7d7-a0288fb42bec",
   "metadata": {
    "execution": {
     "iopub.execute_input": "2024-04-10T15:43:15.889860Z",
     "iopub.status.busy": "2024-04-10T15:43:15.887976Z",
     "iopub.status.idle": "2024-04-10T15:44:17.509331Z",
     "shell.execute_reply": "2024-04-10T15:44:17.507692Z",
     "shell.execute_reply.started": "2024-04-10T15:43:15.889827Z"
    }
   },
   "outputs": [
    {
     "name": "stdout",
     "output_type": "stream",
     "text": [
      "Number of SV (reference): 19878\n",
      "Number of SV (query): 21211\n"
     ]
    }
   ],
   "source": [
    "# filter SV by supported reads\n",
    "\n",
    "f_quant1 = \"../../3_NanoStrandSeq_PseudoBulk/results/sv/quantify_lite/PacBio.full.tsv\"\n",
    "f_quant2 = \"../../4_NanoStrandSeq_Phasing/results/HG001_Cell_350/sv/quantify_merged.tsv\"\n",
    "\n",
    "max_length = 10000\n",
    "min_length = 50\n",
    "min_reads = 5\n",
    "min_freq = 0.2\n",
    "min_query_cell = 3\n",
    "\n",
    "dat = pd.read_csv(f_quant1, sep=\"\\t\")\n",
    "dat[\"AgreeReadRatio\"] = dat[\"AgreeRead\"] / (dat[\"AgreeRead\"] + dat[\"DisagreeRead\"])\n",
    "dat = dat[dat[\"Length\"] <= max_length]\n",
    "dat = dat[dat[\"Length\"] >= min_length]\n",
    "dat = dat[dat[\"Chrom\"] != \"chrY\"]\n",
    "dat = dat[dat[\"AgreeRead\"] >= min_reads]\n",
    "dat = dat[(dat[\"AgreeRead\"] / (dat[\"AgreeRead\"] + dat[\"DisagreeRead\"])) >= min_freq]\n",
    "ratios_ref = {name: ratio for name, ratio in dat[[\"Name\", \"AgreeReadRatio\"]].values}\n",
    "dat_ref = dat\n",
    "names_ref = set(dat[\"Name\"])\n",
    "\n",
    "dat = pd.read_csv(f_quant2, sep=\"\\t\")\n",
    "dat[\"AgreeReadRatio\"] = dat[\"AgreeRead\"] / (dat[\"AgreeRead\"] + dat[\"DisagreeRead\"])\n",
    "dat = dat[dat[\"Length\"] <= max_length]\n",
    "dat = dat[dat[\"Length\"] >= min_length]\n",
    "dat = dat[dat[\"Chrom\"] != \"chrY\"]\n",
    "dat = dat[dat[\"AgreeRead\"] >= min_reads]\n",
    "if min_query_cell > 1:\n",
    "    dat = dat[dat[\"AgreeCell\"] >= min_query_cell]\n",
    "dat = dat[(dat[\"AgreeRead\"] / (dat[\"AgreeRead\"] + dat[\"DisagreeRead\"])) >= min_freq]\n",
    "ratios_que = {name: ratio for name, ratio in dat[[\"Name\", \"AgreeReadRatio\"]].values}\n",
    "dat_que = dat\n",
    "names_que = set(dat[\"Name\"])\n",
    "\n",
    "svs_ref_1 = list(filter(lambda sv: sv.name in names_ref, svs_ref))\n",
    "svs_que_1 = list(filter(lambda sv: sv.name in names_que, svs_que))\n",
    "print(\"Number of SV (reference):\", len(svs_ref_1))\n",
    "print(\"Number of SV (query):\", len(svs_que_1))"
   ]
  },
  {
   "cell_type": "code",
   "execution_count": 8,
   "id": "33bf013a-de77-4121-9b39-276cef483dac",
   "metadata": {
    "execution": {
     "iopub.execute_input": "2024-04-10T15:45:45.062304Z",
     "iopub.status.busy": "2024-04-10T15:45:45.061966Z",
     "iopub.status.idle": "2024-04-10T15:45:45.588632Z",
     "shell.execute_reply": "2024-04-10T15:45:45.588145Z",
     "shell.execute_reply.started": "2024-04-10T15:45:45.062282Z"
    }
   },
   "outputs": [
    {
     "name": "stdout",
     "output_type": "stream",
     "text": [
      "Number of SV (reference): 8294\n",
      "Number of SV (query): 8643\n"
     ]
    }
   ],
   "source": [
    "# Filter SVs by blacklist\n",
    "\n",
    "def filter_sv_by_regions(svs, regions):\n",
    "    svs1 = []\n",
    "    loader = ShiftLoader(regions)\n",
    "    for sv in svs:\n",
    "        n = len(list(loader.fetch(obj=sv)))\n",
    "        if n == 0:\n",
    "            svs1.append(sv)\n",
    "    return svs1\n",
    "\n",
    "f_bed = \"../../3_NanoStrandSeq_PseudoBulk/results/sv/regions/benchmark_sv_blacklist.bed\"\n",
    "\n",
    "regions = []\n",
    "with open(f_bed) as f:\n",
    "    for line in f:\n",
    "        chrom, start, end = line.strip(\"\\n\").split(\"\\t\")\n",
    "        start, end = int(start), int(end)\n",
    "        regions.append(GRange(chrom=chrom, start=start, end=end))\n",
    "regions.sort()\n",
    "\n",
    "svs_ref_2 = filter_sv_by_regions(svs_ref_1, regions)\n",
    "svs_que_2 = filter_sv_by_regions(svs_que_1, regions)\n",
    "print(\"Number of SV (reference):\", len(svs_ref_2))\n",
    "print(\"Number of SV (query):\", len(svs_que_2))"
   ]
  },
  {
   "cell_type": "code",
   "execution_count": 6,
   "id": "de3bc080-ab18-448b-826a-1018caeda938",
   "metadata": {
    "execution": {
     "iopub.execute_input": "2024-04-10T15:45:00.315941Z",
     "iopub.status.busy": "2024-04-10T15:45:00.315598Z",
     "iopub.status.idle": "2024-04-10T15:45:00.332246Z",
     "shell.execute_reply": "2024-04-10T15:45:00.331768Z",
     "shell.execute_reply.started": "2024-04-10T15:45:00.315921Z"
    }
   },
   "outputs": [],
   "source": [
    "# Assign GT\n",
    "\n",
    "ref = svs_ref_2\n",
    "que = svs_que_2\n",
    "\n",
    "for sv in ref:\n",
    "    if ratios_ref[sv.name] >= 0.8:\n",
    "        sv.gt = \"1/1\"\n",
    "    else:\n",
    "        sv.gt = \"0/1\"\n",
    "    \n",
    "for sv in que:\n",
    "    if ratios_que[sv.name] >= 0.8:\n",
    "        sv.gt = \"1/1\"\n",
    "    else:\n",
    "        sv.gt = \"0/1\""
   ]
  },
  {
   "cell_type": "code",
   "execution_count": 9,
   "id": "389708ec-19fd-43ad-a76b-5c5c153940d6",
   "metadata": {
    "execution": {
     "iopub.execute_input": "2024-04-10T15:46:39.071998Z",
     "iopub.status.busy": "2024-04-10T15:46:39.071358Z",
     "iopub.status.idle": "2024-04-10T15:46:39.079560Z",
     "shell.execute_reply": "2024-04-10T15:46:39.079115Z",
     "shell.execute_reply.started": "2024-04-10T15:46:39.071973Z"
    }
   },
   "outputs": [
    {
     "name": "stdout",
     "output_type": "stream",
     "text": [
      "Counter({'0/1': 4558, '1/1': 3736})\n",
      "No. of heterozygous genomic variants: 4558\n"
     ]
    }
   ],
   "source": [
    "counter = Counter([sv.gt for sv in ref])\n",
    "print(counter)\n",
    "print(\"No. of heterozygous genomic variants:\", counter[\"0/1\"])"
   ]
  },
  {
   "cell_type": "code",
   "execution_count": 32,
   "id": "45f4d618-a4bd-4648-a45c-8aca4f5100ab",
   "metadata": {
    "execution": {
     "iopub.execute_input": "2024-04-10T16:31:26.102441Z",
     "iopub.status.busy": "2024-04-10T16:31:26.101376Z",
     "iopub.status.idle": "2024-04-10T16:31:32.078546Z",
     "shell.execute_reply": "2024-04-10T16:31:32.076368Z",
     "shell.execute_reply.started": "2024-04-10T16:31:26.102417Z"
    }
   },
   "outputs": [],
   "source": [
    "# Assign phased GT\n",
    "\n",
    "def get_read2hp(bamfile, chrom):\n",
    "    d = dict()\n",
    "    with pysam.AlignmentFile(bamfile) as f:\n",
    "        for s in f.fetch(chrom):\n",
    "            if s.has_tag(\"HP\"):\n",
    "                d[s.query_name] = int(s.get_tag(\"HP\"))\n",
    "    return d\n",
    "\n",
    "path = \"results/PacBio.read2hp.json\"\n",
    "if os.path.exists(path):\n",
    "    read2hp = json.load(open(path))\n",
    "else:\n",
    "    results = []\n",
    "    bamfile = \"../../3_NanoStrandSeq_PseudoBulk/PacBio.full.haplotag.bam\"\n",
    "    pool = mp.Pool(23)\n",
    "    with pysam.AlignmentFile(bamfile) as f:\n",
    "        for chrom in f.references:\n",
    "            r = pool.apply_async(get_read2hp, (bamfile, chrom))\n",
    "            results.append(r)\n",
    "    pool.close()\n",
    "    pool.join()\n",
    "    read2hp = dict()\n",
    "    for r in results:\n",
    "        d = r.get()\n",
    "        for k, v in d.items():\n",
    "            read2hp[k] = v\n",
    "    with open(path, \"w+\") as fw:\n",
    "        json.dump(read2hp, fw, indent=4)"
   ]
  },
  {
   "cell_type": "code",
   "execution_count": 15,
   "id": "ebb0db72-e0bb-47f5-9e30-b86a87d34c3e",
   "metadata": {
    "execution": {
     "iopub.execute_input": "2024-04-10T16:09:13.610273Z",
     "iopub.status.busy": "2024-04-10T16:09:13.609943Z",
     "iopub.status.idle": "2024-04-10T16:09:19.144509Z",
     "shell.execute_reply": "2024-04-10T16:09:19.141640Z",
     "shell.execute_reply.started": "2024-04-10T16:09:13.610251Z"
    }
   },
   "outputs": [],
   "source": [
    "m = pd.read_csv(gzip.open(\"../../3_NanoStrandSeq_PseudoBulk/results/sv/quantify/PacBio.full.tsv.gz\"), sep=\"\\t\")"
   ]
  },
  {
   "cell_type": "code",
   "execution_count": 46,
   "id": "f7444fad-36ea-4763-9112-3d94d1d5a848",
   "metadata": {
    "execution": {
     "iopub.execute_input": "2024-04-10T16:48:20.915708Z",
     "iopub.status.busy": "2024-04-10T16:48:20.915395Z",
     "iopub.status.idle": "2024-04-10T16:48:24.126939Z",
     "shell.execute_reply": "2024-04-10T16:48:24.126448Z",
     "shell.execute_reply.started": "2024-04-10T16:48:20.915689Z"
    }
   },
   "outputs": [
    {
     "data": {
      "text/html": [
       "<div>\n",
       "<style scoped>\n",
       "    .dataframe tbody tr th:only-of-type {\n",
       "        vertical-align: middle;\n",
       "    }\n",
       "\n",
       "    .dataframe tbody tr th {\n",
       "        vertical-align: top;\n",
       "    }\n",
       "\n",
       "    .dataframe thead th {\n",
       "        text-align: right;\n",
       "    }\n",
       "</style>\n",
       "<table border=\"1\" class=\"dataframe\">\n",
       "  <thead>\n",
       "    <tr style=\"text-align: right;\">\n",
       "      <th></th>\n",
       "      <th>Support_HP1</th>\n",
       "      <th>Support_HP2</th>\n",
       "      <th>Overlap_HP1</th>\n",
       "      <th>Overlap_HP2</th>\n",
       "      <th>Agree_HP1</th>\n",
       "      <th>Agree_HP2</th>\n",
       "      <th>Disagree_HP1</th>\n",
       "      <th>Disagree_HP2</th>\n",
       "      <th>Name</th>\n",
       "    </tr>\n",
       "  </thead>\n",
       "  <tbody>\n",
       "    <tr>\n",
       "      <th>0</th>\n",
       "      <td>0</td>\n",
       "      <td>0</td>\n",
       "      <td>0</td>\n",
       "      <td>0</td>\n",
       "      <td>0</td>\n",
       "      <td>0</td>\n",
       "      <td>0</td>\n",
       "      <td>0</td>\n",
       "      <td>cuteSV.INS.0</td>\n",
       "    </tr>\n",
       "    <tr>\n",
       "      <th>1</th>\n",
       "      <td>0</td>\n",
       "      <td>0</td>\n",
       "      <td>0</td>\n",
       "      <td>0</td>\n",
       "      <td>0</td>\n",
       "      <td>0</td>\n",
       "      <td>0</td>\n",
       "      <td>0</td>\n",
       "      <td>cuteSV.INS.1</td>\n",
       "    </tr>\n",
       "    <tr>\n",
       "      <th>2</th>\n",
       "      <td>0</td>\n",
       "      <td>0</td>\n",
       "      <td>0</td>\n",
       "      <td>0</td>\n",
       "      <td>0</td>\n",
       "      <td>0</td>\n",
       "      <td>0</td>\n",
       "      <td>0</td>\n",
       "      <td>cuteSV.DEL.0</td>\n",
       "    </tr>\n",
       "    <tr>\n",
       "      <th>3</th>\n",
       "      <td>0</td>\n",
       "      <td>0</td>\n",
       "      <td>0</td>\n",
       "      <td>0</td>\n",
       "      <td>0</td>\n",
       "      <td>0</td>\n",
       "      <td>0</td>\n",
       "      <td>0</td>\n",
       "      <td>cuteSV.INS.2</td>\n",
       "    </tr>\n",
       "    <tr>\n",
       "      <th>4</th>\n",
       "      <td>0</td>\n",
       "      <td>0</td>\n",
       "      <td>0</td>\n",
       "      <td>0</td>\n",
       "      <td>0</td>\n",
       "      <td>0</td>\n",
       "      <td>0</td>\n",
       "      <td>0</td>\n",
       "      <td>cuteSV.DEL.1</td>\n",
       "    </tr>\n",
       "  </tbody>\n",
       "</table>\n",
       "</div>"
      ],
      "text/plain": [
       "   Support_HP1  Support_HP2  Overlap_HP1  Overlap_HP2  Agree_HP1  Agree_HP2  \\\n",
       "0            0            0            0            0          0          0   \n",
       "1            0            0            0            0          0          0   \n",
       "2            0            0            0            0          0          0   \n",
       "3            0            0            0            0          0          0   \n",
       "4            0            0            0            0          0          0   \n",
       "\n",
       "   Disagree_HP1  Disagree_HP2          Name  \n",
       "0             0             0  cuteSV.INS.0  \n",
       "1             0             0  cuteSV.INS.1  \n",
       "2             0             0  cuteSV.DEL.0  \n",
       "3             0             0  cuteSV.INS.2  \n",
       "4             0             0  cuteSV.DEL.1  "
      ]
     },
     "execution_count": 46,
     "metadata": {},
     "output_type": "execute_result"
    }
   ],
   "source": [
    "rows = []\n",
    "for s in m[\"Detail\"]:\n",
    "    s = json.loads(s)\n",
    "    row = []\n",
    "    for k in [\"Support\", \"Overlap\", \"Agree\", \"Disagree\"]:\n",
    "        hp1, hp2 = 0, 0\n",
    "        for (read_name, read_group) in s[k]:\n",
    "            hp = read2hp.get(read_name)\n",
    "            if hp == 1:\n",
    "                hp1 += 1\n",
    "            elif hp == 2:\n",
    "                hp2 += 2\n",
    "        row.append(hp1)\n",
    "        row.append(hp2)\n",
    "    rows.append(row)\n",
    "\n",
    "m2 = pd.DataFrame(rows, columns=[\"Support_HP1\", \"Support_HP2\", \"Overlap_HP1\", \"Overlap_HP2\", \"Agree_HP1\", \"Agree_HP2\", \"Disagree_HP1\", \"Disagree_HP2\"])\n",
    "m2[\"Name\"] = m[\"Name\"]\n",
    "m2.head()"
   ]
  },
  {
   "cell_type": "code",
   "execution_count": 51,
   "id": "ae78b540-3f0c-45de-a920-38d4b0769080",
   "metadata": {
    "execution": {
     "iopub.execute_input": "2024-04-10T16:55:35.550905Z",
     "iopub.status.busy": "2024-04-10T16:55:35.543431Z",
     "iopub.status.idle": "2024-04-10T16:55:36.055290Z",
     "shell.execute_reply": "2024-04-10T16:55:36.054748Z",
     "shell.execute_reply.started": "2024-04-10T16:55:35.550883Z"
    }
   },
   "outputs": [],
   "source": [
    "d = dict()\n",
    "for name, agree_hp1, agree_hp2, disagree_hp1, disagree_hp2 in m2[[\"Name\", \"Agree_HP1\", \"Agree_HP2\", \"Disagree_HP1\", \"Disagree_HP2\"]].values:\n",
    "    if agree_hp1 >= max(1, agree_hp2 * 4) and disagree_hp2 >= max(1, disagree_hp1 * 4):\n",
    "        d[name] = \"1|0\"\n",
    "    if agree_hp2 >= max(1, agree_hp1 * 4) and disagree_hp1 >= max(1, disagree_hp2 * 4):\n",
    "        d[name] = \"0|1\"\n",
    "for sv in ref:\n",
    "    sv.gt_phased = d.get(sv.name)"
   ]
  },
  {
   "cell_type": "code",
   "execution_count": 52,
   "id": "83902b3f-3dc6-4fd5-b319-bc85e7105116",
   "metadata": {
    "execution": {
     "iopub.execute_input": "2024-04-10T16:55:40.069370Z",
     "iopub.status.busy": "2024-04-10T16:55:39.956498Z",
     "iopub.status.idle": "2024-04-10T16:55:42.540325Z",
     "shell.execute_reply": "2024-04-10T16:55:42.539736Z",
     "shell.execute_reply.started": "2024-04-10T16:55:40.064799Z"
    }
   },
   "outputs": [],
   "source": [
    "m = pd.read_csv(\"results/quant_phased_svs.HG001_Cell_350.tsv\", sep=\"\\t\", header=0)\n",
    "d = dict()\n",
    "for name, gt in m[[\"Name_HP1\", \"GenoType\"]].values:\n",
    "    if gt != \".\":\n",
    "        d[name] = gt\n",
    "for sv in que:\n",
    "    sv.gt_phased = d.get(sv.name)"
   ]
  },
  {
   "cell_type": "code",
   "execution_count": 53,
   "id": "f29a6ef6-489d-49e2-a9f3-a8d387bd5f0f",
   "metadata": {
    "execution": {
     "iopub.execute_input": "2024-04-10T16:58:38.471313Z",
     "iopub.status.busy": "2024-04-10T16:58:38.463607Z",
     "iopub.status.idle": "2024-04-10T16:58:38.672062Z",
     "shell.execute_reply": "2024-04-10T16:58:38.671523Z",
     "shell.execute_reply.started": "2024-04-10T16:58:38.471285Z"
    }
   },
   "outputs": [
    {
     "name": "stdout",
     "output_type": "stream",
     "text": [
      "--------------------------------------------------------------------------------\n",
      "DEL\t3160\t3531\n",
      "Counter({'0/1': 1846, '1/1': 1314})\n",
      "defaultdict(<class 'int'>, {'1/1': 1296, '0/1': 1611})\n",
      "--------------------------------------------------------------------------------\n",
      "DEL\t3531\t3160\n",
      "Counter({'0/1': 2154, '1/1': 1377})\n",
      "defaultdict(<class 'int'>, {'1/1': 1251, '0/1': 1701})\n",
      "--------------------------------------------------------------------------------\n",
      "INS\t5134\t5112\n",
      "Counter({'0/1': 2712, '1/1': 2422})\n",
      "defaultdict(<class 'int'>, {'0/1': 2326, '1/1': 2094})\n",
      "--------------------------------------------------------------------------------\n",
      "INS\t5112\t5134\n",
      "Counter({'0/1': 3112, '1/1': 2000})\n",
      "defaultdict(<class 'int'>, {'0/1': 2601, '1/1': 1847})\n"
     ]
    }
   ],
   "source": [
    "def get_recall(svs_ref, svs_que, svtype):\n",
    "    svs_ref = list(filter(lambda sv: sv.svtype == svtype, svs_ref))\n",
    "    svs_que = list(filter(lambda sv: sv.svtype == svtype, svs_que))\n",
    "    print(\"-\" * 80)\n",
    "    print(svtype, len(svs_ref), len(svs_que), sep=\"\\t\")\n",
    "    print(Counter([sv.gt for sv in svs_ref]))\n",
    "    \n",
    "    n_hit = 0\n",
    "    loader = ShiftLoader(svs_que)\n",
    "    counter = defaultdict(int)\n",
    "    for sv in svs_ref:\n",
    "        hit = False\n",
    "        for sv2 in loader.fetch(chrom=sv.chrom, start=sv.start - 1000, end=sv.end + 1000):\n",
    "            if sv.svtype == sv2.svtype and min(sv.svlen, sv2.svlen) >= max(sv.svlen, sv2.svlen) * 0.7:\n",
    "                sv.hit_gt_phased = sv2.gt_phased\n",
    "                hit = True\n",
    "                break\n",
    "        if hit:\n",
    "            counter[sv.gt] += 1\n",
    "            n_hit += 1\n",
    "    print(counter)\n",
    "    data = dict()\n",
    "    data[\"Reference\"] = len(svs_ref)\n",
    "    data[\"Query\"] = len(svs_que)\n",
    "    data[\"Reference_Hit\"] = n_hit\n",
    "    data[\"Reference_Recall\"] = data[\"Reference_Hit\"] / data[\"Reference\"]\n",
    "    return data\n",
    "\n",
    "\n",
    "data = dict()\n",
    "\n",
    "# deletion\n",
    "\n",
    "d1 = get_recall(ref, que, \"DEL\")\n",
    "d2 = get_recall(que, ref, \"DEL\")\n",
    "recall = d1[\"Reference_Recall\"]\n",
    "precision = d2[\"Reference_Recall\"]\n",
    "f1 = 2 * recall * precision / (recall + precision)\n",
    "data[\"Del_Recall\"] = recall\n",
    "data[\"Del_Precision\"] = precision\n",
    "data[\"Del_F1\"] = f1\n",
    "data[\"Del_Detail\"] = [d1, d2]\n",
    "\n",
    "# precision\n",
    "\n",
    "d1 = get_recall(ref, que, \"INS\")\n",
    "d2 = get_recall(que, ref, \"INS\")\n",
    "recall = d1[\"Reference_Recall\"]\n",
    "precision = d2[\"Reference_Recall\"]\n",
    "f1 = 2 * recall * precision / (recall + precision)\n",
    "data[\"Ins_Recall\"] = recall\n",
    "data[\"Ins_Precision\"] = precision\n",
    "data[\"Ins_F1\"] = f1\n",
    "data[\"Ins_Detail\"] = [d1, d2]"
   ]
  },
  {
   "cell_type": "code",
   "execution_count": 67,
   "id": "4feba148-47de-4825-9de1-f6a410ff65aa",
   "metadata": {
    "execution": {
     "iopub.execute_input": "2024-04-10T17:08:38.159731Z",
     "iopub.status.busy": "2024-04-10T17:08:38.157576Z",
     "iopub.status.idle": "2024-04-10T17:08:38.202815Z",
     "shell.execute_reply": "2024-04-10T17:08:38.202291Z",
     "shell.execute_reply.started": "2024-04-10T17:08:38.159709Z"
    }
   },
   "outputs": [
    {
     "name": "stdout",
     "output_type": "stream",
     "text": [
      "Identical: 3128\n",
      "Not identical: 10\n",
      "No. of phased genomic variants: 3138\n",
      "No. of phased genomic variants with REF: 3128 , precision: 0.9968132568514978\n"
     ]
    }
   ],
   "source": [
    "d = dict()\n",
    "for sv in ref:\n",
    "    try:\n",
    "        if sv.chrom not in d:\n",
    "            d[sv.chrom] = [0, 0] # identical, not identical\n",
    "        if sv.gt_phased and sv.hit_gt_phased:\n",
    "            if sv.gt_phased == sv.hit_gt_phased:\n",
    "                d[sv.chrom][0] += 1\n",
    "            else:\n",
    "                d[sv.chrom][1] += 1\n",
    "    except AttributeError:\n",
    "        continue\n",
    "        \n",
    "s1, s2 = 0, 0\n",
    "for k, (v1, v2) in d.items():\n",
    "    s1 += max(v1, v2)\n",
    "    s2 += min(v1, v2)\n",
    "print(\"Identical:\", s1)\n",
    "print(\"Not identical:\", s2)\n",
    "\n",
    "print(\"No. of phased genomic variants:\", s1 + s2)\n",
    "print(\"No. of phased genomic variants with REF:\", s1, \", precision:\", s1 / (s1 + s2))"
   ]
  }
 ],
 "metadata": {
  "kernelspec": {
   "display_name": "Python 3 (ipykernel)",
   "language": "python",
   "name": "python3"
  },
  "language_info": {
   "codemirror_mode": {
    "name": "ipython",
    "version": 3
   },
   "file_extension": ".py",
   "mimetype": "text/x-python",
   "name": "python",
   "nbconvert_exporter": "python",
   "pygments_lexer": "ipython3",
   "version": "3.10.13"
  }
 },
 "nbformat": 4,
 "nbformat_minor": 5
}
