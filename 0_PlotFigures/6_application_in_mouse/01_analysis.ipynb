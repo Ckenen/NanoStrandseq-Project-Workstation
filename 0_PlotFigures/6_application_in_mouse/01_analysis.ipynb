{
 "cells": [
  {
   "cell_type": "code",
   "execution_count": 1,
   "id": "16e21601",
   "metadata": {
    "ExecuteTime": {
     "end_time": "2024-02-01T03:51:47.409166Z",
     "start_time": "2024-02-01T03:51:46.560722Z"
    }
   },
   "outputs": [],
   "source": [
    "import os\n",
    "import numpy as np\n",
    "import pandas as pd\n",
    "import matplotlib.pyplot as plt\n",
    "from matplotlib_venn import *"
   ]
  },
  {
   "cell_type": "markdown",
   "id": "06003682",
   "metadata": {},
   "source": [
    "# Recall and hamming error rate"
   ]
  },
  {
   "cell_type": "code",
   "execution_count": 2,
   "id": "7cad27f1",
   "metadata": {
    "ExecuteTime": {
     "end_time": "2024-02-01T03:51:47.417347Z",
     "start_time": "2024-02-01T03:51:47.412476Z"
    }
   },
   "outputs": [],
   "source": [
    "ncells = [50, 75, 100, 125, 150, 175, 200]\n",
    "chroms = [\"chr%s\" % c for c in range(1, 23)] + [\"chrX\"]"
   ]
  },
  {
   "cell_type": "code",
   "execution_count": 3,
   "id": "d8d6a45e",
   "metadata": {
    "ExecuteTime": {
     "end_time": "2024-02-01T03:52:00.820972Z",
     "start_time": "2024-02-01T03:52:00.377052Z"
    }
   },
   "outputs": [
    {
     "data": {
      "text/html": [
       "<div>\n",
       "<style scoped>\n",
       "    .dataframe tbody tr th:only-of-type {\n",
       "        vertical-align: middle;\n",
       "    }\n",
       "\n",
       "    .dataframe tbody tr th {\n",
       "        vertical-align: top;\n",
       "    }\n",
       "\n",
       "    .dataframe thead th {\n",
       "        text-align: right;\n",
       "    }\n",
       "</style>\n",
       "<table border=\"1\" class=\"dataframe\">\n",
       "  <thead>\n",
       "    <tr style=\"text-align: right;\">\n",
       "      <th></th>\n",
       "      <th>Cells</th>\n",
       "      <th>Recall1</th>\n",
       "      <th>Precision1</th>\n",
       "      <th>Recall2</th>\n",
       "      <th>Precision2</th>\n",
       "      <th>ErrorRate1</th>\n",
       "      <th>ErrorRate2</th>\n",
       "    </tr>\n",
       "  </thead>\n",
       "  <tbody>\n",
       "    <tr>\n",
       "      <th>0</th>\n",
       "      <td>50</td>\n",
       "      <td>0.052056</td>\n",
       "      <td>0.993041</td>\n",
       "      <td>0.676359</td>\n",
       "      <td>0.968321</td>\n",
       "      <td>0.006959</td>\n",
       "      <td>0.031679</td>\n",
       "    </tr>\n",
       "    <tr>\n",
       "      <th>1</th>\n",
       "      <td>75</td>\n",
       "      <td>0.163659</td>\n",
       "      <td>0.997698</td>\n",
       "      <td>0.907023</td>\n",
       "      <td>0.978332</td>\n",
       "      <td>0.002302</td>\n",
       "      <td>0.021668</td>\n",
       "    </tr>\n",
       "    <tr>\n",
       "      <th>2</th>\n",
       "      <td>100</td>\n",
       "      <td>0.300920</td>\n",
       "      <td>0.998897</td>\n",
       "      <td>0.964765</td>\n",
       "      <td>0.996605</td>\n",
       "      <td>0.001103</td>\n",
       "      <td>0.003395</td>\n",
       "    </tr>\n",
       "    <tr>\n",
       "      <th>3</th>\n",
       "      <td>125</td>\n",
       "      <td>0.432245</td>\n",
       "      <td>0.999508</td>\n",
       "      <td>0.977527</td>\n",
       "      <td>0.997377</td>\n",
       "      <td>0.000492</td>\n",
       "      <td>0.002623</td>\n",
       "    </tr>\n",
       "    <tr>\n",
       "      <th>4</th>\n",
       "      <td>150</td>\n",
       "      <td>0.535277</td>\n",
       "      <td>0.999653</td>\n",
       "      <td>0.982355</td>\n",
       "      <td>0.996999</td>\n",
       "      <td>0.000347</td>\n",
       "      <td>0.003001</td>\n",
       "    </tr>\n",
       "    <tr>\n",
       "      <th>5</th>\n",
       "      <td>175</td>\n",
       "      <td>0.601194</td>\n",
       "      <td>0.999848</td>\n",
       "      <td>0.984681</td>\n",
       "      <td>0.997897</td>\n",
       "      <td>0.000152</td>\n",
       "      <td>0.002103</td>\n",
       "    </tr>\n",
       "    <tr>\n",
       "      <th>6</th>\n",
       "      <td>200</td>\n",
       "      <td>0.656248</td>\n",
       "      <td>0.999926</td>\n",
       "      <td>0.986218</td>\n",
       "      <td>0.997299</td>\n",
       "      <td>0.000074</td>\n",
       "      <td>0.002701</td>\n",
       "    </tr>\n",
       "  </tbody>\n",
       "</table>\n",
       "</div>"
      ],
      "text/plain": [
       "   Cells   Recall1  Precision1   Recall2  Precision2  ErrorRate1  ErrorRate2\n",
       "0     50  0.052056    0.993041  0.676359    0.968321    0.006959    0.031679\n",
       "1     75  0.163659    0.997698  0.907023    0.978332    0.002302    0.021668\n",
       "2    100  0.300920    0.998897  0.964765    0.996605    0.001103    0.003395\n",
       "3    125  0.432245    0.999508  0.977527    0.997377    0.000492    0.002623\n",
       "4    150  0.535277    0.999653  0.982355    0.996999    0.000347    0.003001\n",
       "5    175  0.601194    0.999848  0.984681    0.997897    0.000152    0.002103\n",
       "6    200  0.656248    0.999926  0.986218    0.997299    0.000074    0.002701"
      ]
     },
     "execution_count": 3,
     "metadata": {},
     "output_type": "execute_result"
    }
   ],
   "source": [
    "rows = []\n",
    "for ncell in ncells:\n",
    "    path = \"../../4_NanoStrandSeq_Phasing/results/Mouse_Cell_%d/round2/snvs_benchmark.json\" % ncell\n",
    "    d = json.load(open(path))    \n",
    "    recall1 = d[\"Het_SNP_Recall\"]\n",
    "    precision1 = d[\"Phasing_Precision\"]\n",
    "    path = \"../../4_NanoStrandSeq_Phasing/results/Mouse_Cell_%d/whatshap/phased_nss.benchmark_phasing.json\" % ncell\n",
    "    d = json.load(open(path))\n",
    "    recall2 = d[\"Phasing_Recall\"]\n",
    "    precision2 = d[\"Phasing_Precision\"]\n",
    "    rows.append([ncell, recall1, precision1, recall2, precision2])\n",
    "df = pd.DataFrame(rows, columns=[\"Cells\", \"Recall1\", \"Precision1\", \"Recall2\", \"Precision2\"])\n",
    "df[\"ErrorRate1\"] = 1 - df[\"Precision1\"]\n",
    "df[\"ErrorRate2\"] = 1 - df[\"Precision2\"]\n",
    "df.to_csv(\"results/benchmark_of_hetsnp.round2_vs_knownsnps.Mouse.tsv\", sep=\"\\t\", index=False)\n",
    "df"
   ]
  },
  {
   "cell_type": "code",
   "execution_count": 5,
   "id": "3515dcaf",
   "metadata": {
    "ExecuteTime": {
     "end_time": "2024-02-01T03:52:10.102953Z",
     "start_time": "2024-02-01T03:52:09.416690Z"
    }
   },
   "outputs": [
    {
     "data": {
      "image/png": "[encoded data removed]",
      "text/plain": [
       "<Figure size 432x216 with 2 Axes>"
      ]
     },
     "metadata": {
      "needs_background": "light"
     },
     "output_type": "display_data"
    }
   ],
   "source": [
    "xs = df[\"Cells\"]\n",
    "\n",
    "fig, axs = plt.subplots(1, 2, figsize=(6, 3), sharex=True)\n",
    "\n",
    "plt.sca(axs[0])\n",
    "ys1 = df[\"Recall1\"]\n",
    "ys2 = df[\"Recall2\"]\n",
    "plt.plot(xs, ys1, marker=\"o\", color=\"C3\", clip_on=False, label=\"NanoStrand-seq only\")\n",
    "plt.plot(xs, ys2, marker=\"o\", color=\"C0\", clip_on=False, label=\"NanoStrand-seq +\\nknown unphased hetSNPs\")\n",
    "plt.xlabel(\"No. of cells\")\n",
    "plt.ylabel(\"Recall of phased hetSNPs\")\n",
    "plt.xlim(min(xs) - 10, max(xs))\n",
    "plt.ylim(0, 1)\n",
    "plt.xticks(xs, rotation=45)\n",
    "plt.gca().spines[\"top\"].set_visible(False)\n",
    "plt.gca().spines[\"right\"].set_visible(False)\n",
    "# plt.legend()\n",
    "\n",
    "plt.sca(axs[1])\n",
    "ys1 = (1 - df[\"Precision1\"]) * 100\n",
    "ys2 = (1 - df[\"Precision2\"]) * 100\n",
    "plt.plot(xs, ys1, marker=\"o\", color=\"C3\", clip_on=False, label=\"NanoStrand-seq only\")\n",
    "plt.plot(xs, ys2, marker=\"o\", color=\"C0\", clip_on=False, label=\"NanoStrand-seq +\\nknown unphased hetSNPs\")\n",
    "plt.xlabel(\"No. of cells\")\n",
    "plt.ylabel(\"Hamming error rate (%)\")\n",
    "plt.xlim(min(xs) - 10, max(xs))\n",
    "plt.ylim(0, 5)\n",
    "plt.yticks([0, 1, 2, 3, 4, 5])\n",
    "plt.xticks(xs, rotation=45)\n",
    "plt.gca().spines[\"top\"].set_visible(False)\n",
    "plt.gca().spines[\"right\"].set_visible(False)\n",
    "plt.legend()\n",
    "\n",
    "plt.tight_layout()\n",
    "plt.savefig(\"figures/benchmark_het_snps.comb.mouse.pdf\", dpi=300)"
   ]
  },
  {
   "cell_type": "markdown",
   "id": "9446c01e",
   "metadata": {},
   "source": [
    "# Added GT tag for SVs"
   ]
  },
  {
   "cell_type": "code",
   "execution_count": 37,
   "id": "ef13f97d",
   "metadata": {
    "ExecuteTime": {
     "end_time": "2023-10-13T07:49:14.377350Z",
     "start_time": "2023-10-13T07:48:56.607386Z"
    }
   },
   "outputs": [],
   "source": [
    "ncells = [50, 100, 150, 200]\n",
    "\n",
    "for ncell in ncells:\n",
    "    path1 = \"../../A1_NanoStrandseqAssembly/results/Mouse_Cell_%d/sv/quantify_lite.tsv\" % ncell\n",
    "    path2 = \"data/quant_phased_svs.Mouse_Cell_%d.tsv\" % ncell\n",
    "    \n",
    "    dat = pd.read_csv(path1, sep=\"\\t\")\n",
    "    \n",
    "    if False: # loose\n",
    "        min_cell = 1\n",
    "        min_read = 2\n",
    "        foldchange = 2\n",
    "    else: # stringent\n",
    "        min_cell = 2\n",
    "        min_read = 4\n",
    "        foldchange = 3\n",
    "\n",
    "    for hp in [\"HP1\", \"HP2\"]:\n",
    "        values = dat[[\"AgreeRead_%s\" % hp, \"AgreeCell_%s\" % hp, \"DisagreeRead_%s\" % hp, \"DisagreeCell_%s\" % hp]].values\n",
    "        ts = []\n",
    "        for agree_read, agree_cell, disagree_read, disagree_cell in values:\n",
    "            t = \"Uncertain\" # Exist, NotExist\n",
    "            if agree_cell >= min_cell and agree_cell >= disagree_cell * foldchange \\\n",
    "                and agree_read >= min_read and agree_read >= disagree_read * foldchange:\n",
    "                t = \"Exist\"\n",
    "            if disagree_cell >= min_cell and disagree_cell >= agree_cell * foldchange \\\n",
    "                and disagree_read >= min_read and disagree_read >= agree_read * foldchange:\n",
    "                assert t != \"Exist\"\n",
    "                t = \"NotExist\"\n",
    "            ts.append(t)\n",
    "        dat[\"Existence_%s\" % hp] = ts\n",
    "        \n",
    "    gts = []\n",
    "    for v1, v2 in dat[[\"Existence_HP1\", \"Existence_HP2\"]].values:\n",
    "        gt = \".\"\n",
    "        if v1 == \"Exist\":\n",
    "            if v2 == \"Exist\":\n",
    "                gt = \"1|1\"\n",
    "            elif v2 == \"NotExist\":\n",
    "                gt = \"1|0\"\n",
    "        elif v1 == \"NotExist\":\n",
    "            if v2 == \"Exist\":\n",
    "                gt = \"0|1\"\n",
    "        gts.append(gt)\n",
    "    dat[\"GenoType\"] = gts\n",
    "    \n",
    "    dat.to_csv(path2, sep=\"\\t\", index=False)"
   ]
  }
 ],
 "metadata": {
  "kernelspec": {
   "display_name": "Python 3",
   "language": "python",
   "name": "python3"
  },
  "language_info": {
   "codemirror_mode": {
    "name": "ipython",
    "version": 3
   },
   "file_extension": ".py",
   "mimetype": "text/x-python",
   "name": "python",
   "nbconvert_exporter": "python",
   "pygments_lexer": "ipython3",
   "version": "3.6.15"
  }
 },
 "nbformat": 4,
 "nbformat_minor": 5
}
