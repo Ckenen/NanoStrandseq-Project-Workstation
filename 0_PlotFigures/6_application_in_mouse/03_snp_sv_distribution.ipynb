{
 "cells": [
  {
   "cell_type": "code",
   "execution_count": 26,
   "id": "48b26827",
   "metadata": {
    "ExecuteTime": {
     "end_time": "2023-10-13T07:53:10.131869Z",
     "start_time": "2023-10-13T07:53:10.122599Z"
    }
   },
   "outputs": [],
   "source": [
    "from collections import defaultdict, Counter\n",
    "import numpy as np\n",
    "import pandas as pd\n",
    "import pysam\n",
    "from pyBioInfo.Range import GRange\n",
    "from pyBioInfo.IO.File import BedFile\n",
    "from pyBioInfo.Utils import ShiftLoader"
   ]
  },
  {
   "cell_type": "markdown",
   "id": "2d99b7ed",
   "metadata": {
    "ExecuteTime": {
     "end_time": "2023-10-13T07:38:10.763684Z",
     "start_time": "2023-10-13T07:38:10.758398Z"
    }
   },
   "source": [
    "# Haplotype-resolved SNVs distribution"
   ]
  },
  {
   "cell_type": "code",
   "execution_count": 11,
   "id": "0c7b9864",
   "metadata": {
    "ExecuteTime": {
     "end_time": "2023-10-13T07:38:41.043020Z",
     "start_time": "2023-10-13T07:38:41.031784Z"
    }
   },
   "outputs": [],
   "source": [
    "chrom_lengths = dict()\n",
    "with open(\"/home/chenzonggui/species/mus_musculus/GRCm38.p6/GRCm38.canonical.genome.sizes\") as f:\n",
    "    for line in f:\n",
    "        chrom, length = line.strip(\"\\n\").split(\"\\t\")\n",
    "        chrom_lengths[chrom] = int(length)\n",
    "chroms = [\"chr%s\" % i for i in range(1, 20)] + [\"chrX\", \"chrY\"]"
   ]
  },
  {
   "cell_type": "code",
   "execution_count": 13,
   "id": "e06e96f4",
   "metadata": {
    "ExecuteTime": {
     "end_time": "2023-10-13T07:39:34.828498Z",
     "start_time": "2023-10-13T07:38:52.821664Z"
    }
   },
   "outputs": [],
   "source": [
    "def load_snvs(path):\n",
    "    with pysam.VariantFile(path) as f:\n",
    "        sample = list(f.header.samples)[0]\n",
    "        data1 = defaultdict(list)\n",
    "        data2 = defaultdict(list)\n",
    "        for record in f:\n",
    "            chrom = record.chrom\n",
    "            start = record.start\n",
    "            ps = record.samples[sample][\"PS\"]\n",
    "            if ps != \"PATMAT\":\n",
    "                continue               \n",
    "            gt = record.samples[sample][\"GT\"]\n",
    "            if gt[0] != 0:\n",
    "                data1[chrom].append(start)\n",
    "            if gt[1] != 0:\n",
    "                data2[chrom].append(start)\n",
    "    return data1, data2\n",
    "\n",
    "path = \"../../A1_NanoStrandseqAssembly/results/Mouse_Cell_200/round2/snvs.vcf.gz\"\n",
    "snvs1, snvs2 = load_snvs(path)"
   ]
  },
  {
   "cell_type": "code",
   "execution_count": 18,
   "id": "a399977b",
   "metadata": {
    "ExecuteTime": {
     "end_time": "2023-10-13T07:41:08.873810Z",
     "start_time": "2023-10-13T07:41:04.418223Z"
    }
   },
   "outputs": [],
   "source": [
    "width = 10000000\n",
    "for hp in [0, 1]:\n",
    "    with open(\"/home/chenzonggui/software/circos-0.69-9/mouse_snvs_distribution_hp%d.txt\" % (hp + 1), \"w+\") as fw:\n",
    "        for chrom in chroms:\n",
    "            if hp == 0:\n",
    "                snvs = snvs1[chrom]\n",
    "            else:\n",
    "                snvs = snvs2[chrom]\n",
    "            length = chrom_lengths[chrom]\n",
    "            nbin = int(length / width)\n",
    "            if length % width > 0:\n",
    "                nbin += 1\n",
    "            ys = np.zeros(nbin)\n",
    "            for start in snvs:\n",
    "                ys[int(start / width)] += 1\n",
    "            for i, c in enumerate(ys):\n",
    "                start = i * width\n",
    "                end = min((i + 1) * width, length)\n",
    "                if hp == 1:\n",
    "                    c = c * -1\n",
    "                line = \"\\t\".join(map(str, [\"mm\" + chrom[3:], start, end, c]))\n",
    "                fw.write(line + \"\\n\")"
   ]
  },
  {
   "cell_type": "markdown",
   "id": "c65c4910",
   "metadata": {},
   "source": [
    "# Haplotype-resolved SVs distribution"
   ]
  },
  {
   "cell_type": "code",
   "execution_count": 2,
   "id": "2b81744a",
   "metadata": {
    "ExecuteTime": {
     "end_time": "2023-10-13T07:35:09.657412Z",
     "start_time": "2023-10-13T07:35:09.645942Z"
    }
   },
   "outputs": [],
   "source": [
    "chrom_lengths = dict()\n",
    "with open(\"/home/chenzonggui/species/mus_musculus/GRCm38.p6/GRCm38.canonical.genome.sizes\") as f:\n",
    "    for line in f:\n",
    "        chrom, length = line.strip(\"\\n\").split(\"\\t\")\n",
    "        chrom_lengths[chrom] = int(length)\n",
    "chroms = [\"chr%s\" % i for i in range(1, 20)] + [\"chrX\", \"chrY\"]"
   ]
  },
  {
   "cell_type": "code",
   "execution_count": 4,
   "id": "8ac29752",
   "metadata": {
    "ExecuteTime": {
     "end_time": "2023-10-13T07:36:06.134091Z",
     "start_time": "2023-10-13T07:36:06.042486Z"
    }
   },
   "outputs": [
    {
     "data": {
      "text/plain": [
       "2116"
      ]
     },
     "execution_count": 4,
     "metadata": {},
     "output_type": "execute_result"
    }
   ],
   "source": [
    "path1 = \"../../A1_NanoStrandseqAssembly/results/Mouse_Cell_200/inversions/inversions.bed.gz\"\n",
    "inversions = []\n",
    "with BedFile(path1) as f:\n",
    "    for inv in f:\n",
    "        crick, watson = inv.name.split(\";\")[:2]\n",
    "        crick, watson = int(crick), int(watson)\n",
    "        t = \"Unknown\"\n",
    "        if crick + watson >= 20:\n",
    "            r = watson / (crick + watson)\n",
    "            if r >= 0.9:\n",
    "                t = \"HOM\"\n",
    "            elif 0.4 <= r < 0.6:\n",
    "                t = \"HET\"\n",
    "        inv.type = t\n",
    "        inversions.append(inv)\n",
    "len(inversions)"
   ]
  },
  {
   "cell_type": "code",
   "execution_count": 24,
   "id": "3d1307e3",
   "metadata": {
    "ExecuteTime": {
     "end_time": "2023-10-13T07:51:03.002411Z",
     "start_time": "2023-10-13T07:51:01.926588Z"
    }
   },
   "outputs": [],
   "source": [
    "dat = pd.read_csv(\"data/quant_phased_svs.Mouse_Cell_200.tsv\", sep=\"\\t\")\n",
    "dat = dat[dat[\"GenoType\"] != \".\"]"
   ]
  },
  {
   "cell_type": "code",
   "execution_count": 43,
   "id": "fa048f0f",
   "metadata": {
    "ExecuteTime": {
     "end_time": "2023-10-13T08:03:35.710164Z",
     "start_time": "2023-10-13T08:03:35.155189Z"
    }
   },
   "outputs": [
    {
     "name": "stdout",
     "output_type": "stream",
     "text": [
      "24950\n"
     ]
    }
   ],
   "source": [
    "svs = []\n",
    "for chrom, start, end, gt in dat[[\"Chrom_HP1\", \"Start_HP1\", \"End_HP1\", \"GenoType\"]].values:\n",
    "    svs.append(GRange(chrom=chrom, start=start, end=end, name=gt))\n",
    "svs.sort()\n",
    "print(len(svs))\n",
    "\n",
    "data = defaultdict(list)\n",
    "\n",
    "loader = ShiftLoader(inversions)\n",
    "for sv in svs:\n",
    "    invs1 = list(loader.fetch(obj=sv))\n",
    "    if len(invs1) == 0:\n",
    "        pass\n",
    "    elif len(invs1) == 1:\n",
    "        if invs1[0].type == \"HOM\":\n",
    "            # pass\n",
    "            sv.name = sv.name[::-1]\n",
    "        elif invs1[0].type == \"HET\":\n",
    "            continue\n",
    "        else:\n",
    "            continue\n",
    "    else:\n",
    "        continue\n",
    "    \n",
    "    if sv.name[0] == \"1\":\n",
    "        data[(sv.chrom, 0)].append([sv.start, sv.end])\n",
    "    if sv.name[2] == \"1\":\n",
    "        data[(sv.chrom, 1)].append([sv.start, sv.end])"
   ]
  },
  {
   "cell_type": "code",
   "execution_count": 44,
   "id": "f041ce14",
   "metadata": {
    "ExecuteTime": {
     "end_time": "2023-10-13T08:03:35.756311Z",
     "start_time": "2023-10-13T08:03:35.713239Z"
    }
   },
   "outputs": [],
   "source": [
    "width = 10000000\n",
    "for hp in [0, 1]:\n",
    "    with open(\"/home/chenzonggui/software/circos-0.69-9/mouse_svs_distribution_hp%d.txt\" % (hp + 1), \"w+\") as fw:\n",
    "        for chrom in chroms:\n",
    "            length = chrom_lengths[chrom]\n",
    "            nbin = int(length / width)\n",
    "            if length % width > 0:\n",
    "                nbin += 1\n",
    "            counts = np.zeros(nbin)\n",
    "            for sv in data[(chrom, hp)]:\n",
    "                counts[int(sv[0] / width)] += 1\n",
    "            for i, c in enumerate(counts):\n",
    "                start = i * width\n",
    "                end = min((i + 1) * width, length)\n",
    "                if hp == 1:\n",
    "                    c = c * -1\n",
    "                line = \"\\t\".join(map(str, [\"mm\" + chrom[3:], start, end, c]))\n",
    "                fw.write(line + \"\\n\")"
   ]
  }
 ],
 "metadata": {
  "kernelspec": {
   "display_name": "Python 3",
   "language": "python",
   "name": "python3"
  },
  "language_info": {
   "codemirror_mode": {
    "name": "ipython",
    "version": 3
   },
   "file_extension": ".py",
   "mimetype": "text/x-python",
   "name": "python",
   "nbconvert_exporter": "python",
   "pygments_lexer": "ipython3",
   "version": "3.6.15"
  }
 },
 "nbformat": 4,
 "nbformat_minor": 5
}
