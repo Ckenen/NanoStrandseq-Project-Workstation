{
 "cells": [
  {
   "cell_type": "code",
   "execution_count": 1,
   "id": "5ab2b050",
   "metadata": {
    "ExecuteTime": {
     "end_time": "2024-03-05T04:37:58.751358Z",
     "start_time": "2024-03-05T04:37:58.550347Z"
    },
    "execution": {
     "iopub.execute_input": "2024-04-09T07:32:30.852126Z",
     "iopub.status.busy": "2024-04-09T07:32:30.851620Z",
     "iopub.status.idle": "2024-04-09T07:32:42.763031Z",
     "shell.execute_reply": "2024-04-09T07:32:42.762441Z",
     "shell.execute_reply.started": "2024-04-09T07:32:30.852105Z"
    }
   },
   "outputs": [],
   "source": [
    "import os\n",
    "import numpy as np\n",
    "import pandas as pd"
   ]
  },
  {
   "cell_type": "markdown",
   "id": "688f2662-66cb-441d-bfc9-b2d144610ca2",
   "metadata": {},
   "source": [
    "# Report summary"
   ]
  },
  {
   "cell_type": "code",
   "execution_count": 2,
   "id": "5e23d70f",
   "metadata": {
    "ExecuteTime": {
     "end_time": "2024-03-05T11:05:15.888455Z",
     "start_time": "2024-03-05T11:05:15.788657Z"
    },
    "execution": {
     "iopub.execute_input": "2024-04-09T07:32:42.764449Z",
     "iopub.status.busy": "2024-04-09T07:32:42.764008Z",
     "iopub.status.idle": "2024-04-09T07:32:43.104996Z",
     "shell.execute_reply": "2024-04-09T07:32:43.104526Z",
     "shell.execute_reply.started": "2024-04-09T07:32:42.764430Z"
    }
   },
   "outputs": [],
   "source": [
    "dat = pd.read_excel(\"data/NanoStrandSeq.xlsx\")"
   ]
  },
  {
   "cell_type": "code",
   "execution_count": 3,
   "id": "d3151cd6",
   "metadata": {
    "ExecuteTime": {
     "end_time": "2024-03-05T11:05:46.067984Z",
     "start_time": "2024-03-05T11:05:15.943562Z"
    },
    "execution": {
     "iopub.execute_input": "2024-04-09T07:32:58.667959Z",
     "iopub.status.busy": "2024-04-09T07:32:58.667428Z",
     "iopub.status.idle": "2024-04-09T07:33:20.452711Z",
     "shell.execute_reply": "2024-04-09T07:33:20.452209Z",
     "shell.execute_reply.started": "2024-04-09T07:32:58.667937Z"
    }
   },
   "outputs": [],
   "source": [
    "# reads\n",
    "\n",
    "total_read_list = []\n",
    "uniq_read_list = []\n",
    "for run, cell in dat[[\"Run\", \"Cell\"]].values:\n",
    "    total_read = np.nan\n",
    "    uniq_read = np.nan\n",
    "    path = \"results/mapping/mark_duplicate/%s/%s.flagstat\" % (run, cell)\n",
    "    if os.path.exists(path):\n",
    "        for line in open(path):\n",
    "            if line[:-1].endswith(\"primary\"):\n",
    "                total_read = int(line.split()[0])\n",
    "            if line[:-1].endswith(\"primary duplicates\"):\n",
    "                uniq_read = total_read - int(line.split()[0])\n",
    "    total_read_list.append(total_read)\n",
    "    uniq_read_list.append(uniq_read)\n",
    "dat[\"TotalReads\"] = total_read_list\n",
    "dat[\"UniqReads\"] = uniq_read_list"
   ]
  },
  {
   "cell_type": "code",
   "execution_count": 4,
   "id": "0b8e6f17",
   "metadata": {
    "ExecuteTime": {
     "end_time": "2024-03-05T11:06:19.658029Z",
     "start_time": "2024-03-05T11:05:46.072349Z"
    },
    "execution": {
     "iopub.execute_input": "2024-04-09T07:33:20.473151Z",
     "iopub.status.busy": "2024-04-09T07:33:20.472790Z",
     "iopub.status.idle": "2024-04-09T07:33:44.515711Z",
     "shell.execute_reply": "2024-04-09T07:33:44.515213Z",
     "shell.execute_reply.started": "2024-04-09T07:33:20.473133Z"
    }
   },
   "outputs": [],
   "source": [
    "# Length of fragment\n",
    "\n",
    "length_median_list = []\n",
    "length_mean_list = []\n",
    "length_std_list = []\n",
    "for run, cell in dat[[\"Run\", \"Cell\"]].values:\n",
    "    length_median = np.nan\n",
    "    length_mean = np.nan\n",
    "    length_std = np.nan\n",
    "    path = \"results/stat/lengths/%s/%s_summary.tsv\" % (run, cell)\n",
    "    if os.path.exists(path):\n",
    "        d = pd.read_csv(path, sep=\"\\t\")\n",
    "        length_median = d[\"Length.Median\"].values[0]\n",
    "        length_mean = d[\"Length.Mean\"].values[0]\n",
    "        length_std = d[\"Length.Std\"].values[0]\n",
    "    length_median_list.append(length_median)\n",
    "    length_mean_list.append(length_mean)\n",
    "    length_std_list.append(length_std)\n",
    "dat[\"Length.Median\"] = length_median_list\n",
    "dat[\"Length.Mean\"] = length_mean_list\n",
    "dat[\"Length.Std\"] = length_std_list"
   ]
  },
  {
   "cell_type": "code",
   "execution_count": 5,
   "id": "1e7cde31",
   "metadata": {
    "ExecuteTime": {
     "end_time": "2024-03-05T11:07:39.787096Z",
     "start_time": "2024-03-05T11:06:19.663342Z"
    },
    "execution": {
     "iopub.execute_input": "2024-04-09T07:33:44.516681Z",
     "iopub.status.busy": "2024-04-09T07:33:44.516413Z",
     "iopub.status.idle": "2024-04-09T07:34:08.654731Z",
     "shell.execute_reply": "2024-04-09T07:34:08.654085Z",
     "shell.execute_reply.started": "2024-04-09T07:33:44.516661Z"
    }
   },
   "outputs": [],
   "source": [
    "# Background\n",
    "\n",
    "vs = []\n",
    "for run, cell in dat[[\"Run\", \"Cell\"]].values:\n",
    "    v = np.nan\n",
    "    path = \"results/stat/background/%s/%s_summary.tsv\" % (run, cell)\n",
    "    if os.path.exists(path):\n",
    "        d = pd.read_csv(path, sep=\"\\t\")\n",
    "        v = d[\"Background\"].values[0]\n",
    "    vs.append(v)\n",
    "dat[\"Background\"] = vs"
   ]
  },
  {
   "cell_type": "code",
   "execution_count": 6,
   "id": "b8aa0d46",
   "metadata": {
    "ExecuteTime": {
     "end_time": "2024-03-05T11:08:31.175518Z",
     "start_time": "2024-03-05T11:07:39.792342Z"
    },
    "execution": {
     "iopub.execute_input": "2024-04-09T07:34:08.656383Z",
     "iopub.status.busy": "2024-04-09T07:34:08.656127Z",
     "iopub.status.idle": "2024-04-09T07:34:33.216373Z",
     "shell.execute_reply": "2024-04-09T07:34:33.215653Z",
     "shell.execute_reply.started": "2024-04-09T07:34:08.656365Z"
    }
   },
   "outputs": [],
   "source": [
    "# GC content\n",
    "\n",
    "gc_median_list = []\n",
    "gc_mean_list = []\n",
    "gc_std_list = []\n",
    "for run, cell in dat[[\"Run\", \"Cell\"]].values:\n",
    "    gc_median = np.nan\n",
    "    gc_mean = np.nan\n",
    "    gc_std = np.nan\n",
    "    path = \"results/stat/gc_content/%s/%s_summary.tsv\" % (run, cell)\n",
    "    if os.path.exists(path):\n",
    "        d = pd.read_csv(path, sep=\"\\t\")\n",
    "        gc_median = d[\"GC.Median\"].values[0]\n",
    "        gc_mean = d[\"GC.Mean\"].values[0]\n",
    "        gc_std = d[\"GC.Std\"].values[0]\n",
    "    gc_median_list.append(gc_median)\n",
    "    gc_mean_list.append(gc_mean)\n",
    "    gc_std_list.append(gc_std)\n",
    "dat[\"GC.Median\"] = gc_median_list\n",
    "dat[\"GC.Mean\"] = gc_mean_list\n",
    "dat[\"GC.Std\"] = gc_std_list"
   ]
  },
  {
   "cell_type": "code",
   "execution_count": 7,
   "id": "663d78a7",
   "metadata": {
    "ExecuteTime": {
     "end_time": "2024-03-05T11:09:15.477087Z",
     "start_time": "2024-03-05T11:08:31.179803Z"
    },
    "execution": {
     "iopub.execute_input": "2024-04-09T07:34:33.217862Z",
     "iopub.status.busy": "2024-04-09T07:34:33.217392Z",
     "iopub.status.idle": "2024-04-09T07:34:57.874386Z",
     "shell.execute_reply": "2024-04-09T07:34:57.872507Z",
     "shell.execute_reply.started": "2024-04-09T07:34:33.217842Z"
    }
   },
   "outputs": [],
   "source": [
    "# Spikiness\n",
    "\n",
    "vs = []\n",
    "for run, cell in dat[[\"Run\", \"Cell\"]].values:\n",
    "    v = np.nan\n",
    "    path = \"results/stat/spikiness/%s/%s.tsv\" % (run, cell)\n",
    "    if os.path.exists(path):\n",
    "        v = pd.read_csv(path, sep=\"\\t\")[\"Spikiness\"].values[0]\n",
    "    vs.append(v)\n",
    "dat[\"Spikiness\"] = vs"
   ]
  },
  {
   "cell_type": "code",
   "execution_count": 8,
   "id": "c20c9fe4",
   "metadata": {
    "ExecuteTime": {
     "end_time": "2024-03-05T11:09:42.209187Z",
     "start_time": "2024-03-05T11:09:15.481873Z"
    },
    "execution": {
     "iopub.execute_input": "2024-04-09T07:34:57.920108Z",
     "iopub.status.busy": "2024-04-09T07:34:57.919491Z",
     "iopub.status.idle": "2024-04-09T07:35:22.151767Z",
     "shell.execute_reply": "2024-04-09T07:35:22.151138Z",
     "shell.execute_reply.started": "2024-04-09T07:34:57.920087Z"
    }
   },
   "outputs": [],
   "source": [
    "# Depth\n",
    "\n",
    "vs = []\n",
    "for run, cell in dat[[\"Run\", \"Cell\"]].values:\n",
    "    v = np.nan\n",
    "    path = \"results/stat/depth/%s/%s.tsv\" % (run, cell)\n",
    "    if os.path.exists(path):\n",
    "        df = pd.read_csv(path, sep=\"\\t\")\n",
    "        v = df[df[\"Name\"] == \"Overall\"][\"Depth\"].values[0]\n",
    "    vs.append(v)\n",
    "dat[\"GenomicDepth\"] = vs"
   ]
  },
  {
   "cell_type": "code",
   "execution_count": 9,
   "id": "852124b6",
   "metadata": {
    "ExecuteTime": {
     "end_time": "2024-03-05T11:10:18.047429Z",
     "start_time": "2024-03-05T11:09:42.212780Z"
    },
    "execution": {
     "iopub.execute_input": "2024-04-09T07:35:22.152829Z",
     "iopub.status.busy": "2024-04-09T07:35:22.152583Z",
     "iopub.status.idle": "2024-04-09T07:35:46.443270Z",
     "shell.execute_reply": "2024-04-09T07:35:46.442813Z",
     "shell.execute_reply.started": "2024-04-09T07:35:22.152810Z"
    }
   },
   "outputs": [],
   "source": [
    "# Genomic coverage\n",
    "\n",
    "vs = []\n",
    "for run, cell in dat[[\"Run\", \"Cell\"]].values:\n",
    "    v = np.nan\n",
    "    path = \"results/stat/coverage/%s/%s.tsv\" % (run, cell)\n",
    "    if os.path.exists(path):\n",
    "        df = pd.read_csv(path, sep=\"\\t\")\n",
    "        v = df[df[\"Name\"] == \"Overall\"][\"Ratio\"].values[0]\n",
    "    vs.append(v)\n",
    "dat[\"GenomicCoverage\"] = vs"
   ]
  },
  {
   "cell_type": "code",
   "execution_count": 13,
   "id": "36aef259-9335-475c-8bba-5bb5c0ee041f",
   "metadata": {
    "execution": {
     "iopub.execute_input": "2024-04-09T07:59:28.271014Z",
     "iopub.status.busy": "2024-04-09T07:59:28.270704Z",
     "iopub.status.idle": "2024-04-09T07:59:28.291549Z",
     "shell.execute_reply": "2024-04-09T07:59:28.291109Z",
     "shell.execute_reply.started": "2024-04-09T07:59:28.270991Z"
    }
   },
   "outputs": [],
   "source": [
    "dat.to_csv(\"reports/NanoStrandSeq_Summary.csv\", index=False)"
   ]
  }
 ],
 "metadata": {
  "kernelspec": {
   "display_name": "Python 3 (ipykernel)",
   "language": "python",
   "name": "python3"
  },
  "language_info": {
   "codemirror_mode": {
    "name": "ipython",
    "version": 3
   },
   "file_extension": ".py",
   "mimetype": "text/x-python",
   "name": "python",
   "nbconvert_exporter": "python",
   "pygments_lexer": "ipython3",
   "version": "3.10.13"
  },
  "vscode": {
   "interpreter": {
    "hash": "b4d5801924e0e6dbf9aef9d35bbe5a515f62cc1601c5a5c4fa30fd726f8f52f1"
   }
  }
 },
 "nbformat": 4,
 "nbformat_minor": 5
}
