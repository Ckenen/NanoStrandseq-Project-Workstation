{
 "cells": [
  {
   "cell_type": "code",
   "execution_count": 2,
   "id": "5ab2b050",
   "metadata": {
    "ExecuteTime": {
     "end_time": "2024-03-05T04:37:58.751358Z",
     "start_time": "2024-03-05T04:37:58.550347Z"
    },
    "execution": {
     "iopub.execute_input": "2024-04-09T07:36:58.223066Z",
     "iopub.status.busy": "2024-04-09T07:36:58.222686Z",
     "iopub.status.idle": "2024-04-09T07:37:10.743287Z",
     "shell.execute_reply": "2024-04-09T07:37:10.742805Z",
     "shell.execute_reply.started": "2024-04-09T07:36:58.223044Z"
    }
   },
   "outputs": [],
   "source": [
    "import os\n",
    "import numpy as np\n",
    "import pandas as pd"
   ]
  },
  {
   "cell_type": "code",
   "execution_count": 54,
   "id": "5e23d70f",
   "metadata": {
    "ExecuteTime": {
     "end_time": "2024-03-05T11:05:15.888455Z",
     "start_time": "2024-03-05T11:05:15.788657Z"
    }
   },
   "outputs": [],
   "source": [
    "dat = pd.read_excel(\"data/NanoStrandSeq.xls\")"
   ]
  },
  {
   "cell_type": "code",
   "execution_count": 55,
   "id": "d3151cd6",
   "metadata": {
    "ExecuteTime": {
     "end_time": "2024-03-05T11:05:46.067984Z",
     "start_time": "2024-03-05T11:05:15.943562Z"
    }
   },
   "outputs": [],
   "source": [
    "# reads\n",
    "\n",
    "total_read_list = []\n",
    "uniq_read_list = []\n",
    "for run, cell in dat[[\"Run\", \"Cell\"]].values:\n",
    "    total_read = np.nan\n",
    "    uniq_read = np.nan\n",
    "    path = \"results/mapping/mark_duplicate/%s/%s.flagstat\" % (run, cell)\n",
    "    if os.path.exists(path):\n",
    "        for line in open(path):\n",
    "            if line[:-1].endswith(\"primary\"):\n",
    "                total_read = int(line.split()[0])\n",
    "            if line[:-1].endswith(\"primary duplicates\"):\n",
    "                uniq_read = total_read - int(line.split()[0])\n",
    "    total_read_list.append(total_read)\n",
    "    uniq_read_list.append(uniq_read)\n",
    "dat[\"TotalReads\"] = total_read_list\n",
    "dat[\"UniqReads\"] = uniq_read_list"
   ]
  },
  {
   "cell_type": "code",
   "execution_count": 56,
   "id": "0b8e6f17",
   "metadata": {
    "ExecuteTime": {
     "end_time": "2024-03-05T11:06:19.658029Z",
     "start_time": "2024-03-05T11:05:46.072349Z"
    }
   },
   "outputs": [],
   "source": [
    "# Length of fragment\n",
    "\n",
    "length_median_list = []\n",
    "length_mean_list = []\n",
    "length_std_list = []\n",
    "for run, cell in dat[[\"Run\", \"Cell\"]].values:\n",
    "    length_median = np.nan\n",
    "    length_mean = np.nan\n",
    "    length_std = np.nan\n",
    "    path = \"results/stat/lengths/%s/%s_summary.tsv\" % (run, cell)\n",
    "    if os.path.exists(path):\n",
    "        d = pd.read_csv(path, sep=\"\\t\")\n",
    "        length_median = d[\"Length.Median\"].values[0]\n",
    "        length_mean = d[\"Length.Mean\"].values[0]\n",
    "        length_std = d[\"Length.Std\"].values[0]\n",
    "    length_median_list.append(length_median)\n",
    "    length_mean_list.append(length_mean)\n",
    "    length_std_list.append(length_std)\n",
    "dat[\"Length.Median\"] = length_median_list\n",
    "dat[\"Length.Mean\"] = length_mean_list\n",
    "dat[\"Length.Std\"] = length_std_list"
   ]
  },
  {
   "cell_type": "code",
   "execution_count": 57,
   "id": "1e7cde31",
   "metadata": {
    "ExecuteTime": {
     "end_time": "2024-03-05T11:07:39.787096Z",
     "start_time": "2024-03-05T11:06:19.663342Z"
    }
   },
   "outputs": [],
   "source": [
    "# Background\n",
    "\n",
    "vs = []\n",
    "for run, cell in dat[[\"Run\", \"Cell\"]].values:\n",
    "    v = np.nan\n",
    "    path = \"results/stat/background/%s/%s_summary.tsv\" % (run, cell)\n",
    "    if os.path.exists(path):\n",
    "        d = pd.read_csv(path, sep=\"\\t\")\n",
    "        v = d[\"Background\"].values[0]\n",
    "    vs.append(v)\n",
    "dat[\"Background\"] = vs"
   ]
  },
  {
   "cell_type": "code",
   "execution_count": 58,
   "id": "b8aa0d46",
   "metadata": {
    "ExecuteTime": {
     "end_time": "2024-03-05T11:08:31.175518Z",
     "start_time": "2024-03-05T11:07:39.792342Z"
    }
   },
   "outputs": [],
   "source": [
    "# GC content\n",
    "\n",
    "gc_median_list = []\n",
    "gc_mean_list = []\n",
    "gc_std_list = []\n",
    "for run, cell in dat[[\"Run\", \"Cell\"]].values:\n",
    "    gc_median = np.nan\n",
    "    gc_mean = np.nan\n",
    "    gc_std = np.nan\n",
    "    path = \"results/stat/gc_content/%s/%s_summary.tsv\" % (run, cell)\n",
    "    if os.path.exists(path):\n",
    "        d = pd.read_csv(path, sep=\"\\t\")\n",
    "        gc_median = d[\"GC.Median\"].values[0]\n",
    "        gc_mean = d[\"GC.Mean\"].values[0]\n",
    "        gc_std = d[\"GC.Std\"].values[0]\n",
    "    gc_median_list.append(gc_median)\n",
    "    gc_mean_list.append(gc_mean)\n",
    "    gc_std_list.append(gc_std)\n",
    "dat[\"GC.Median\"] = gc_median_list\n",
    "dat[\"GC.Mean\"] = gc_mean_list\n",
    "dat[\"GC.Std\"] = gc_std_list"
   ]
  },
  {
   "cell_type": "code",
   "execution_count": 59,
   "id": "663d78a7",
   "metadata": {
    "ExecuteTime": {
     "end_time": "2024-03-05T11:09:15.477087Z",
     "start_time": "2024-03-05T11:08:31.179803Z"
    }
   },
   "outputs": [],
   "source": [
    "# Spikiness\n",
    "\n",
    "vs = []\n",
    "for run, cell in dat[[\"Run\", \"Cell\"]].values:\n",
    "    v = np.nan\n",
    "    path = \"results/stat/spikiness/%s/%s.tsv\" % (run, cell)\n",
    "    if os.path.exists(path):\n",
    "        v = pd.read_csv(path, sep=\"\\t\")[\"Spikiness\"].values[0]\n",
    "    vs.append(v)\n",
    "dat[\"Spikiness\"] = vs"
   ]
  },
  {
   "cell_type": "code",
   "execution_count": 60,
   "id": "c20c9fe4",
   "metadata": {
    "ExecuteTime": {
     "end_time": "2024-03-05T11:09:42.209187Z",
     "start_time": "2024-03-05T11:09:15.481873Z"
    }
   },
   "outputs": [],
   "source": [
    "# Depth\n",
    "\n",
    "vs = []\n",
    "for run, cell in dat[[\"Run\", \"Cell\"]].values:\n",
    "    v = np.nan\n",
    "    path = \"results/stat/depth/%s/%s.tsv\" % (run, cell)\n",
    "    if os.path.exists(path):\n",
    "        df = pd.read_csv(path, sep=\"\\t\")\n",
    "        v = df[df[\"Name\"] == \"Overall\"][\"Depth\"].values[0]\n",
    "    vs.append(v)\n",
    "dat[\"GenomicDepth\"] = vs"
   ]
  },
  {
   "cell_type": "code",
   "execution_count": 61,
   "id": "852124b6",
   "metadata": {
    "ExecuteTime": {
     "end_time": "2024-03-05T11:10:18.047429Z",
     "start_time": "2024-03-05T11:09:42.212780Z"
    }
   },
   "outputs": [],
   "source": [
    "# Genomic coverage\n",
    "\n",
    "vs = []\n",
    "for run, cell in dat[[\"Run\", \"Cell\"]].values:\n",
    "    v = np.nan\n",
    "    path = \"results/stat/coverage/%s/%s.tsv\" % (run, cell)\n",
    "    if os.path.exists(path):\n",
    "        df = pd.read_csv(path, sep=\"\\t\")\n",
    "        v = df[df[\"Name\"] == \"Overall\"][\"Ratio\"].values[0]\n",
    "    vs.append(v)\n",
    "dat[\"GenomicCoverage\"] = vs"
   ]
  },
  {
   "cell_type": "code",
   "execution_count": 62,
   "id": "70a5bc32",
   "metadata": {
    "ExecuteTime": {
     "end_time": "2024-03-05T11:10:19.178890Z",
     "start_time": "2024-03-05T11:10:18.053304Z"
    }
   },
   "outputs": [],
   "source": [
    "dat.to_excel(\"data/NanoStrandSeq_Summary.xlsx\", index=False)"
   ]
  },
  {
   "cell_type": "markdown",
   "id": "44ef6d96",
   "metadata": {},
   "source": [
    "# Quality control of cells (Cell QC)"
   ]
  },
  {
   "cell_type": "code",
   "execution_count": 70,
   "id": "71e0fcd3-87c1-4fb4-9e83-6cb2dd0186f1",
   "metadata": {
    "execution": {
     "iopub.execute_input": "2024-04-09T08:03:25.414701Z",
     "iopub.status.busy": "2024-04-09T08:03:25.412460Z",
     "iopub.status.idle": "2024-04-09T08:03:26.730655Z",
     "shell.execute_reply": "2024-04-09T08:03:26.730199Z",
     "shell.execute_reply.started": "2024-04-09T08:03:25.414680Z"
    }
   },
   "outputs": [
    {
     "name": "stdout",
     "output_type": "stream",
     "text": [
      "Passed QC cells of HG001: 364\n",
      "Passed QC cells of B6D2F1: 206\n"
     ]
    }
   ],
   "source": [
    "for strain in [\"HG001\", \"B6D2F1\"]:\n",
    "    if strain == \"HG001\":\n",
    "        min_reads = 80000\n",
    "    else:\n",
    "        min_reads = 70000\n",
    "    max_bg = 0.05\n",
    "    d = pd.read_csv(\"reports/NanoStrandSeq_Summary_20240301.csv\")\n",
    "    d = d[(d[\"Strain\"] == strain) & (d[\"Remark\"] != \"Control\")]\n",
    "    d = d[(d[\"UniqReads\"] >= min_reads) & (d[\"Background\"] < max_bg)]\n",
    "    d.to_csv(\"reports/NanoStrandSeq_%s_QC_Pass.csv\" % strain, index=False)\n",
    "    print(\"Passed QC cells of %s:\" % strain, len(d))"
   ]
  }
 ],
 "metadata": {
  "kernelspec": {
   "display_name": "Python 3 (ipykernel)",
   "language": "python",
   "name": "python3"
  },
  "language_info": {
   "codemirror_mode": {
    "name": "ipython",
    "version": 3
   },
   "file_extension": ".py",
   "mimetype": "text/x-python",
   "name": "python",
   "nbconvert_exporter": "python",
   "pygments_lexer": "ipython3",
   "version": "3.10.13"
  },
  "vscode": {
   "interpreter": {
    "hash": "b4d5801924e0e6dbf9aef9d35bbe5a515f62cc1601c5a5c4fa30fd726f8f52f1"
   }
  }
 },
 "nbformat": 4,
 "nbformat_minor": 5
}
