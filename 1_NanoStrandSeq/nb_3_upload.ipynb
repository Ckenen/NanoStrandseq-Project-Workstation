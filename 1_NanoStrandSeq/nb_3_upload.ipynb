{
 "cells": [
  {
   "cell_type": "code",
   "execution_count": 3,
   "id": "2b5c3427",
   "metadata": {
    "ExecuteTime": {
     "end_time": "2024-01-05T11:39:44.196433Z",
     "start_time": "2024-01-05T11:39:44.192919Z"
    },
    "execution": {
     "iopub.execute_input": "2024-04-09T08:06:52.480232Z",
     "iopub.status.busy": "2024-04-09T08:06:52.479903Z",
     "iopub.status.idle": "2024-04-09T08:07:06.047765Z",
     "shell.execute_reply": "2024-04-09T08:07:06.047057Z",
     "shell.execute_reply.started": "2024-04-09T08:06:52.480212Z"
    }
   },
   "outputs": [],
   "source": [
    "import os\n",
    "import subprocess\n",
    "import glob\n",
    "import pandas as pd"
   ]
  },
  {
   "cell_type": "code",
   "execution_count": 4,
   "id": "02894be0-2993-4c55-a5b9-e3e389d44dcf",
   "metadata": {
    "execution": {
     "iopub.execute_input": "2024-04-09T08:07:06.049605Z",
     "iopub.status.busy": "2024-04-09T08:07:06.049139Z",
     "iopub.status.idle": "2024-04-09T08:07:06.172158Z",
     "shell.execute_reply": "2024-04-09T08:07:06.171403Z",
     "shell.execute_reply.started": "2024-04-09T08:07:06.049581Z"
    }
   },
   "outputs": [],
   "source": [
    "! mkdir -p upload/fastqs"
   ]
  },
  {
   "cell_type": "code",
   "execution_count": 11,
   "id": "15c89c80",
   "metadata": {
    "ExecuteTime": {
     "end_time": "2024-01-05T12:09:21.888661Z",
     "start_time": "2024-01-05T12:09:19.189459Z"
    },
    "execution": {
     "iopub.execute_input": "2024-04-09T08:13:01.021978Z",
     "iopub.status.busy": "2024-04-09T08:13:01.020447Z",
     "iopub.status.idle": "2024-04-09T08:13:47.525241Z",
     "shell.execute_reply": "2024-04-09T08:13:47.524481Z",
     "shell.execute_reply.started": "2024-04-09T08:13:01.021947Z"
    }
   },
   "outputs": [],
   "source": [
    "# Make linkers for HG001\n",
    "\n",
    "d = pd.read_csv(\"reports/NanoStrandSeq_HG001_QC_Pass.csv\")\n",
    "i = 1\n",
    "for i, (run, cell) in enumerate(d[[\"Run\", \"Cell\"]].values):\n",
    "    path1 = \"results/demux/trimmed/%s/%s/trimmed.fastq.gz\" % (run, cell)\n",
    "    assert os.path.exists(path1)\n",
    "    path2 = \"upload/fastqs/NanoStrandseq_GM12878_sc%04d.fastq.gz\" % (i + 1)\n",
    "    ! ln -f -s ../../{path1} {path2}"
   ]
  },
  {
   "cell_type": "code",
   "execution_count": 12,
   "id": "f02f1123",
   "metadata": {
    "ExecuteTime": {
     "end_time": "2024-01-05T12:09:23.380014Z",
     "start_time": "2024-01-05T12:09:21.891654Z"
    },
    "execution": {
     "iopub.execute_input": "2024-04-09T08:14:33.516752Z",
     "iopub.status.busy": "2024-04-09T08:14:33.514851Z",
     "iopub.status.idle": "2024-04-09T08:14:58.002689Z",
     "shell.execute_reply": "2024-04-09T08:14:58.001853Z",
     "shell.execute_reply.started": "2024-04-09T08:14:33.516723Z"
    }
   },
   "outputs": [],
   "source": [
    "# Make linkers for B6D2F1\n",
    "\n",
    "d = pd.read_csv(\"reports/NanoStrandSeq_C57DBA_QC_Pass.csv\")\n",
    "m, n = 1, 1\n",
    "for run, cell, cellline in d[[\"Run\", \"Cell\", \"CellLine\"]].values:\n",
    "    cellline = cellline.strip()\n",
    "    if cellline == \"MEF\":\n",
    "        i = m\n",
    "        m += 1\n",
    "    else:\n",
    "        i = n\n",
    "        n += 1\n",
    "    path1 = \"results/demux/trimmed/%s/%s/trimmed.fastq.gz\" % (run, cell)\n",
    "    assert os.path.exists(path1)\n",
    "    path2 = \"upload/fastqs/NanoStrandseq_C57_6J_DBA_2N_%s_sc%04d.fastq.gz\" % (cellline, i)\n",
    "    ! ln -f -s ../../{path1} {path2}"
   ]
  },
  {
   "cell_type": "code",
   "execution_count": 15,
   "id": "16978785",
   "metadata": {
    "ExecuteTime": {
     "end_time": "2024-01-05T12:18:48.354613Z",
     "start_time": "2024-01-05T12:18:47.823517Z"
    },
    "execution": {
     "iopub.execute_input": "2024-04-09T08:15:43.688240Z",
     "iopub.status.busy": "2024-04-09T08:15:43.687702Z",
     "iopub.status.idle": "2024-04-09T08:15:43.888783Z",
     "shell.execute_reply": "2024-04-09T08:15:43.888273Z",
     "shell.execute_reply.started": "2024-04-09T08:15:43.688219Z"
    }
   },
   "outputs": [],
   "source": [
    "# Make metadata spreedsheet\n",
    "\n",
    "rows = []\n",
    "for path in sorted(glob.glob(\"upload/fastqs/*.fastq.gz\")):\n",
    "    if \"GM12878\" in path:\n",
    "        sample_name = \"Human_GM12878\"\n",
    "        title = \"GM12878\"\n",
    "        sample = \"SAMN34371648\"\n",
    "    elif \"epithelium\" in path:\n",
    "        sample_name = \"Mouse_Epithelium\"\n",
    "        title = \"mouse epithelium\"\n",
    "        sample = \"SAMN34371647\"\n",
    "    else:\n",
    "        sample_name = \"Mouse_MEF\"\n",
    "        title = \"mouse embryonic fibroblasts\"\n",
    "        sample = \"SAMN34371646\"\n",
    "    title = \"NanoStrand-seq for %s\" % title\n",
    "    lib_id = path.split(\"/\")[-1][:-9]\n",
    "    filename = path.split(\"/\")[-1]\n",
    "    rows.append([sample, sample_name, lib_id, title, filename])\n",
    "dat = pd.DataFrame(rows)\n",
    "dat.columns = [\"biosample\", \"sample_name\", \"library_ID\", \"title\", \"filename\"]\n",
    "dat[\"LibraryStrategy\"] = \"WGS\"\n",
    "dat[\"LibrarySource\"] = \"GENOMIC SINGLE CELL\"\n",
    "dat[\"LibrarySelection\"] = \"PCR\"\n",
    "dat[\"LibraryLayout\"] = \"SINGLE\"\n",
    "dat[\"Platform\"] = \"OXFORD_NANOPORE\"\n",
    "dat[\"InstrumentModel\"] = \"PromethION\"\n",
    "dat[\"DesignDescription\"] = \"single cell template strand sequencing based on Nanopore platform\"\n",
    "dat[\"FileType\"] = \"fastq\"\n",
    "dat.to_csv(\"upload/sra_metadata.csv\", index=False)"
   ]
  }
 ],
 "metadata": {
  "kernelspec": {
   "display_name": "Python 3 (ipykernel)",
   "language": "python",
   "name": "python3"
  },
  "language_info": {
   "codemirror_mode": {
    "name": "ipython",
    "version": 3
   },
   "file_extension": ".py",
   "mimetype": "text/x-python",
   "name": "python",
   "nbconvert_exporter": "python",
   "pygments_lexer": "ipython3",
   "version": "3.10.13"
  }
 },
 "nbformat": 4,
 "nbformat_minor": 5
}
