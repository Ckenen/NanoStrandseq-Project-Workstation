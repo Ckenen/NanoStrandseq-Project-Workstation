{
 "cells": [
  {
   "cell_type": "code",
   "execution_count": 2,
   "id": "5d9a7b2b",
   "metadata": {
    "ExecuteTime": {
     "end_time": "2024-03-07T03:03:18.652711Z",
     "start_time": "2024-03-07T03:03:18.126496Z"
    },
    "execution": {
     "iopub.execute_input": "2024-04-09T08:33:39.901496Z",
     "iopub.status.busy": "2024-04-09T08:33:39.901078Z",
     "iopub.status.idle": "2024-04-09T08:33:39.904200Z",
     "shell.execute_reply": "2024-04-09T08:33:39.903760Z",
     "shell.execute_reply.started": "2024-04-09T08:33:39.901474Z"
    }
   },
   "outputs": [],
   "source": [
    "import os\n",
    "import glob\n",
    "import numpy as np\n",
    "import pandas as pd"
   ]
  },
  {
   "cell_type": "markdown",
   "id": "be5725e4",
   "metadata": {},
   "source": [
    "# Report summary"
   ]
  },
  {
   "cell_type": "code",
   "execution_count": 3,
   "id": "a3a0477a",
   "metadata": {
    "ExecuteTime": {
     "end_time": "2024-03-07T03:03:18.811223Z",
     "start_time": "2024-03-07T03:03:18.656926Z"
    },
    "execution": {
     "iopub.execute_input": "2024-04-09T08:33:40.580366Z",
     "iopub.status.busy": "2024-04-09T08:33:40.579833Z",
     "iopub.status.idle": "2024-04-09T08:33:46.235362Z",
     "shell.execute_reply": "2024-04-09T08:33:46.234832Z",
     "shell.execute_reply.started": "2024-04-09T08:33:40.580344Z"
    }
   },
   "outputs": [],
   "source": [
    "dat = pd.read_excel(\"data/StrandSeq.xlsx\")"
   ]
  },
  {
   "cell_type": "code",
   "execution_count": 4,
   "id": "4ba09c24",
   "metadata": {
    "ExecuteTime": {
     "end_time": "2024-03-07T03:03:18.875157Z",
     "start_time": "2024-03-07T03:03:18.855048Z"
    },
    "execution": {
     "iopub.execute_input": "2024-04-09T08:33:46.236555Z",
     "iopub.status.busy": "2024-04-09T08:33:46.236306Z",
     "iopub.status.idle": "2024-04-09T08:33:47.405218Z",
     "shell.execute_reply": "2024-04-09T08:33:47.404731Z",
     "shell.execute_reply.started": "2024-04-09T08:33:46.236536Z"
    }
   },
   "outputs": [],
   "source": [
    "# total reads\n",
    "\n",
    "total_reads_list = []\n",
    "for run, cell in dat[[\"Run\", \"Cell\"]].values:\n",
    "    total_reads = 0\n",
    "    path = \"results/mapping/filtered/%s/%s.flagstat\" % (run, cell)\n",
    "    if os.path.exists(path):\n",
    "        for line in open(path):\n",
    "            total_reads = int(line.split()[0])\n",
    "            break\n",
    "    total_reads_list.append(total_reads)\n",
    "dat[\"TotalReads\"] = total_reads_list"
   ]
  },
  {
   "cell_type": "code",
   "execution_count": 5,
   "id": "c0d996a7",
   "metadata": {
    "ExecuteTime": {
     "end_time": "2024-03-07T03:05:43.703831Z",
     "start_time": "2024-03-07T03:05:42.246810Z"
    },
    "execution": {
     "iopub.execute_input": "2024-04-09T08:33:47.406049Z",
     "iopub.status.busy": "2024-04-09T08:33:47.405872Z",
     "iopub.status.idle": "2024-04-09T08:34:03.600019Z",
     "shell.execute_reply": "2024-04-09T08:34:03.599452Z",
     "shell.execute_reply.started": "2024-04-09T08:33:47.406032Z"
    }
   },
   "outputs": [],
   "source": [
    "# uniq reads\n",
    "\n",
    "uniq_reads_list = []\n",
    "for run, cell in dat[[\"Run\", \"Cell\"]].values:\n",
    "    uniq_reads = 0\n",
    "    path = \"results/mapping/mark_duplicate/%s/%s.flagstat\" % (run, cell)\n",
    "    if os.path.exists(path):\n",
    "        for line in open(path):\n",
    "            if \"primary mapped\" in line:\n",
    "                uniq_reads = int(line.split()[0])\n",
    "                break\n",
    "    uniq_reads_list.append(uniq_reads)\n",
    "dat[\"UniqReads\"] = uniq_reads_list"
   ]
  },
  {
   "cell_type": "code",
   "execution_count": 6,
   "id": "c6d19fac",
   "metadata": {
    "ExecuteTime": {
     "end_time": "2024-03-07T03:18:13.827321Z",
     "start_time": "2024-03-07T03:18:12.355458Z"
    },
    "execution": {
     "iopub.execute_input": "2024-04-09T08:34:03.601379Z",
     "iopub.status.busy": "2024-04-09T08:34:03.601118Z",
     "iopub.status.idle": "2024-04-09T08:34:05.584912Z",
     "shell.execute_reply": "2024-04-09T08:34:05.584433Z",
     "shell.execute_reply.started": "2024-04-09T08:34:03.601361Z"
    }
   },
   "outputs": [],
   "source": [
    "# reads\n",
    "\n",
    "total_read_list = []\n",
    "uniq_read_list = []\n",
    "for run, cell in dat[[\"Run\", \"Cell\"]].values:\n",
    "    total_read = np.nan\n",
    "    uniq_read = np.nan\n",
    "    path = \"results/mapping/mark_duplicate/%s/%s.flagstat\" % (run, cell)\n",
    "    if os.path.exists(path):\n",
    "        for line in open(path):\n",
    "            if line[:-1].endswith(\"primary\"):\n",
    "                total_read = int(line.split()[0])\n",
    "            if line[:-1].endswith(\"primary duplicates\"):\n",
    "                uniq_read = total_read - int(line.split()[0])\n",
    "    total_read_list.append(total_read)\n",
    "    uniq_read_list.append(uniq_read)\n",
    "dat[\"TotalReads\"] = total_read_list\n",
    "dat[\"UniqReads\"] = uniq_read_list"
   ]
  },
  {
   "cell_type": "code",
   "execution_count": 7,
   "id": "ceb95440",
   "metadata": {
    "ExecuteTime": {
     "end_time": "2024-03-07T03:03:26.041249Z",
     "start_time": "2024-03-07T03:03:19.268482Z"
    },
    "execution": {
     "iopub.execute_input": "2024-04-09T08:34:05.585735Z",
     "iopub.status.busy": "2024-04-09T08:34:05.585549Z",
     "iopub.status.idle": "2024-04-09T08:34:20.333461Z",
     "shell.execute_reply": "2024-04-09T08:34:20.332283Z",
     "shell.execute_reply.started": "2024-04-09T08:34:05.585717Z"
    }
   },
   "outputs": [],
   "source": [
    "# background\n",
    "\n",
    "background_list = []\n",
    "for run, cell in dat[[\"Run\", \"Cell\"]].values:\n",
    "    background = np.nan\n",
    "    path = \"results/stat/background/%s/%s_summary.tsv\" % (run, cell)\n",
    "    if os.path.exists(path):\n",
    "        tmp = pd.read_csv(path, sep=\"\\t\")\n",
    "        background = tmp[\"Background\"].values[0]\n",
    "    background_list.append(background)\n",
    "dat[\"Background\"] = background_list"
   ]
  },
  {
   "cell_type": "code",
   "execution_count": 8,
   "id": "445248cb",
   "metadata": {
    "ExecuteTime": {
     "end_time": "2024-03-07T03:03:34.306155Z",
     "start_time": "2024-03-07T03:03:26.044016Z"
    },
    "execution": {
     "iopub.execute_input": "2024-04-09T08:34:20.335971Z",
     "iopub.status.busy": "2024-04-09T08:34:20.335486Z",
     "iopub.status.idle": "2024-04-09T08:34:36.362774Z",
     "shell.execute_reply": "2024-04-09T08:34:36.362011Z",
     "shell.execute_reply.started": "2024-04-09T08:34:20.335947Z"
    }
   },
   "outputs": [],
   "source": [
    "# GC content\n",
    "mean_list = []\n",
    "median_list = []\n",
    "for run, cell in dat[[\"Run\", \"Cell\"]].values:\n",
    "    mean = np.nan\n",
    "    median = np.nan\n",
    "    path = \"results/stat/gc_content/%s/%s_summary.tsv\" % (run, cell)\n",
    "    if os.path.exists(path):\n",
    "        df = pd.read_csv(path, sep=\"\\t\")\n",
    "        mean = df[\"GC.Mean\"].values[0]\n",
    "        median = df[\"GC.Median\"].values[0]\n",
    "    mean_list.append(mean)\n",
    "    median_list.append(median)\n",
    "dat[\"GC.Mean\"] = mean_list\n",
    "dat[\"GC.Median\"] = median_list"
   ]
  },
  {
   "cell_type": "code",
   "execution_count": 9,
   "id": "f8a0c095",
   "metadata": {
    "ExecuteTime": {
     "end_time": "2024-03-07T03:03:41.775232Z",
     "start_time": "2024-03-07T03:03:34.309674Z"
    },
    "execution": {
     "iopub.execute_input": "2024-04-09T08:34:36.364053Z",
     "iopub.status.busy": "2024-04-09T08:34:36.363751Z",
     "iopub.status.idle": "2024-04-09T08:34:50.646630Z",
     "shell.execute_reply": "2024-04-09T08:34:50.645962Z",
     "shell.execute_reply.started": "2024-04-09T08:34:36.364034Z"
    }
   },
   "outputs": [],
   "source": [
    "# spikiness\n",
    "\n",
    "values = []\n",
    "for run, cell in dat[[\"Run\", \"Cell\"]].values:\n",
    "    v = np.nan\n",
    "    path = \"results/stat/spikiness/%s/%s.tsv\" % (run, cell)\n",
    "    if os.path.exists(path):\n",
    "        df = pd.read_csv(path, sep=\"\\t\")\n",
    "        v = df[\"Spikiness\"].values[0]\n",
    "    values.append(v)\n",
    "dat[\"Spikiness\"] = values"
   ]
  },
  {
   "cell_type": "code",
   "execution_count": 10,
   "id": "0a27fd74",
   "metadata": {
    "ExecuteTime": {
     "end_time": "2024-03-07T03:03:49.111060Z",
     "start_time": "2024-03-07T03:03:41.779531Z"
    },
    "execution": {
     "iopub.execute_input": "2024-04-09T08:34:50.647807Z",
     "iopub.status.busy": "2024-04-09T08:34:50.647534Z",
     "iopub.status.idle": "2024-04-09T08:35:06.160661Z",
     "shell.execute_reply": "2024-04-09T08:35:06.159853Z",
     "shell.execute_reply.started": "2024-04-09T08:34:50.647786Z"
    }
   },
   "outputs": [],
   "source": [
    "# genomic depth\n",
    "\n",
    "values = []\n",
    "for run, cell in dat[[\"Run\", \"Cell\"]].values:\n",
    "    v = np.nan\n",
    "    path = \"results/stat/depth/%s/%s.tsv\" % (run, cell)\n",
    "    if os.path.exists(path):\n",
    "        df = pd.read_csv(path, sep=\"\\t\")\n",
    "        v = df[df[\"Name\"] == \"Overall\"][\"Depth\"].values[0]\n",
    "    values.append(v)\n",
    "dat[\"GenomicDepth\"] = values"
   ]
  },
  {
   "cell_type": "code",
   "execution_count": 11,
   "id": "c39a568b",
   "metadata": {
    "ExecuteTime": {
     "end_time": "2024-03-07T03:03:56.255811Z",
     "start_time": "2024-03-07T03:03:49.113828Z"
    },
    "execution": {
     "iopub.execute_input": "2024-04-09T08:35:06.162017Z",
     "iopub.status.busy": "2024-04-09T08:35:06.161698Z",
     "iopub.status.idle": "2024-04-09T08:35:21.855474Z",
     "shell.execute_reply": "2024-04-09T08:35:21.854769Z",
     "shell.execute_reply.started": "2024-04-09T08:35:06.161997Z"
    }
   },
   "outputs": [],
   "source": [
    "# genomic coverage\n",
    "\n",
    "values = []\n",
    "for run, cell in dat[[\"Run\", \"Cell\"]].values:\n",
    "    v = np.nan\n",
    "    path = \"results/stat/coverage/%s/%s.tsv\" % (run, cell)\n",
    "    if os.path.exists(path):\n",
    "        df = pd.read_csv(path, sep=\"\\t\")\n",
    "        v = df[df[\"Name\"] == \"Overall\"][\"Ratio\"].values[0]\n",
    "    values.append(v)\n",
    "dat[\"GenomicCoverage\"] = values"
   ]
  },
  {
   "cell_type": "code",
   "execution_count": 12,
   "id": "ebe7fcf8",
   "metadata": {
    "ExecuteTime": {
     "end_time": "2024-03-07T03:18:18.660869Z",
     "start_time": "2024-03-07T03:18:18.020642Z"
    },
    "execution": {
     "iopub.execute_input": "2024-04-09T08:35:21.857327Z",
     "iopub.status.busy": "2024-04-09T08:35:21.856976Z",
     "iopub.status.idle": "2024-04-09T08:35:22.347442Z",
     "shell.execute_reply": "2024-04-09T08:35:22.346757Z",
     "shell.execute_reply.started": "2024-04-09T08:35:21.857305Z"
    }
   },
   "outputs": [],
   "source": [
    "! mkdir -p reports\n",
    "dat.to_csv(\"reports/StrandSeq_Summary.csv\", index=False)"
   ]
  }
 ],
 "metadata": {
  "kernelspec": {
   "display_name": "Python 3 (ipykernel)",
   "language": "python",
   "name": "python3"
  },
  "language_info": {
   "codemirror_mode": {
    "name": "ipython",
    "version": 3
   },
   "file_extension": ".py",
   "mimetype": "text/x-python",
   "name": "python",
   "nbconvert_exporter": "python",
   "pygments_lexer": "ipython3",
   "version": "3.10.13"
  }
 },
 "nbformat": 4,
 "nbformat_minor": 5
}
