{
 "cells": [
  {
   "cell_type": "code",
   "execution_count": 2,
   "id": "5d9a7b2b",
   "metadata": {
    "ExecuteTime": {
     "end_time": "2024-03-07T03:03:18.652711Z",
     "start_time": "2024-03-07T03:03:18.126496Z"
    },
    "execution": {
     "iopub.execute_input": "2024-04-09T08:35:41.725255Z",
     "iopub.status.busy": "2024-04-09T08:35:41.724897Z",
     "iopub.status.idle": "2024-04-09T08:35:42.714416Z",
     "shell.execute_reply": "2024-04-09T08:35:42.713873Z",
     "shell.execute_reply.started": "2024-04-09T08:35:41.725232Z"
    }
   },
   "outputs": [],
   "source": [
    "import pandas as pd"
   ]
  },
  {
   "cell_type": "markdown",
   "id": "e10b04bf",
   "metadata": {},
   "source": [
    "# Quality control of cells"
   ]
  },
  {
   "cell_type": "code",
   "execution_count": 3,
   "id": "52543d99-23f3-4a08-a7db-803a86290077",
   "metadata": {
    "execution": {
     "iopub.execute_input": "2024-04-09T08:35:42.715747Z",
     "iopub.status.busy": "2024-04-09T08:35:42.715395Z",
     "iopub.status.idle": "2024-04-09T08:35:42.738044Z",
     "shell.execute_reply": "2024-04-09T08:35:42.737595Z",
     "shell.execute_reply.started": "2024-04-09T08:35:42.715727Z"
    }
   },
   "outputs": [
    {
     "name": "stdout",
     "output_type": "stream",
     "text": [
      "20160928_PRJEB14185_CEU: 94\n",
      "20210729_PRJNA742746_HG001: 74\n"
     ]
    }
   ],
   "source": [
    "d = pd.read_csv(\"reports/StrandSeq_Summary.csv\")\n",
    "\n",
    "tmp = d[(d[\"Run\"] == \"20160928_PRJEB14185_CEU\") & (d[\"UniqReads\"] >= 800000) & (d[\"Background\"] < 0.05)]\n",
    "print(\"20160928_PRJEB14185_CEU:\", len(tmp))\n",
    "tmp.to_csv(\"reports/StrandSeq_StrandSeq_QC_Pass.csv\", index=False)\n",
    "\n",
    "tmp = d[(d[\"Run\"] == \"20210729_PRJNA742746_HG001\") & (d[\"UniqReads\"] >= 2000000) & (d[\"Background\"] < 0.05)]\n",
    "print(\"20210729_PRJNA742746_HG001:\", len(tmp))\n",
    "tmp.to_csv(\"reports/StrandSeq_OPStrandSeq_QC_Pass.csv\", index=False)"
   ]
  }
 ],
 "metadata": {
  "kernelspec": {
   "display_name": "Python 3 (ipykernel)",
   "language": "python",
   "name": "python3"
  },
  "language_info": {
   "codemirror_mode": {
    "name": "ipython",
    "version": 3
   },
   "file_extension": ".py",
   "mimetype": "text/x-python",
   "name": "python",
   "nbconvert_exporter": "python",
   "pygments_lexer": "ipython3",
   "version": "3.10.13"
  }
 },
 "nbformat": 4,
 "nbformat_minor": 5
}
