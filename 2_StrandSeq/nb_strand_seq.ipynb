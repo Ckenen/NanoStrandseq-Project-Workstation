{
 "cells": [
  {
   "cell_type": "code",
   "execution_count": 1,
   "id": "5d9a7b2b",
   "metadata": {
    "ExecuteTime": {
     "end_time": "2024-01-26T02:20:13.574858Z",
     "start_time": "2024-01-26T02:20:13.113970Z"
    }
   },
   "outputs": [],
   "source": [
    "import os\n",
    "import glob\n",
    "import numpy as np\n",
    "import pandas as pd"
   ]
  },
  {
   "cell_type": "markdown",
   "id": "be5725e4",
   "metadata": {},
   "source": [
    "# Summary"
   ]
  },
  {
   "cell_type": "code",
   "execution_count": 2,
   "id": "a3a0477a",
   "metadata": {
    "ExecuteTime": {
     "end_time": "2024-01-26T02:20:13.721792Z",
     "start_time": "2024-01-26T02:20:13.578025Z"
    }
   },
   "outputs": [],
   "source": [
    "dat = pd.read_excel(\"data/StrandSeq.xlsx\")"
   ]
  },
  {
   "cell_type": "code",
   "execution_count": 3,
   "id": "4ba09c24",
   "metadata": {
    "ExecuteTime": {
     "end_time": "2024-01-26T02:20:14.602911Z",
     "start_time": "2024-01-26T02:20:14.190966Z"
    }
   },
   "outputs": [],
   "source": [
    "# total reads\n",
    "\n",
    "total_reads_list = []\n",
    "for run, cell in dat[[\"Run\", \"Cell\"]].values:\n",
    "    total_reads = 0\n",
    "    path = \"results/mapping/filtered/%s/%s.flagstat\" % (run, cell)\n",
    "    if os.path.exists(path):\n",
    "        for line in open(path):\n",
    "            total_reads = int(line.split()[0])\n",
    "            break\n",
    "    total_reads_list.append(total_reads)\n",
    "dat[\"TotalReads\"] = total_reads_list"
   ]
  },
  {
   "cell_type": "code",
   "execution_count": 4,
   "id": "c0d996a7",
   "metadata": {
    "ExecuteTime": {
     "end_time": "2024-01-26T02:20:15.154401Z",
     "start_time": "2024-01-26T02:20:14.734164Z"
    }
   },
   "outputs": [],
   "source": [
    "# uniq reads\n",
    "\n",
    "uniq_reads_list = []\n",
    "for run, cell in dat[[\"Run\", \"Cell\"]].values:\n",
    "    uniq_reads = 0\n",
    "    path = \"results/mapping/mark_parental/%s/%s.flagstat\" % (run, cell)\n",
    "    if os.path.exists(path):\n",
    "        for line in open(path):\n",
    "            if \"primary mapped\" in line:\n",
    "                uniq_reads = int(line.split()[0])\n",
    "                break\n",
    "    uniq_reads_list.append(uniq_reads)\n",
    "dat[\"UniqReads\"] = uniq_reads_list"
   ]
  },
  {
   "cell_type": "code",
   "execution_count": 5,
   "id": "ceb95440",
   "metadata": {
    "ExecuteTime": {
     "end_time": "2024-01-26T02:20:17.165467Z",
     "start_time": "2024-01-26T02:20:15.157644Z"
    }
   },
   "outputs": [],
   "source": [
    "# background\n",
    "\n",
    "background_list = []\n",
    "for run, cell in dat[[\"Run\", \"Cell\"]].values:\n",
    "    background = np.nan\n",
    "    path = \"results/stat/background/%s/%s_summary.tsv\" % (run, cell)\n",
    "    if os.path.exists(path):\n",
    "        tmp = pd.read_csv(path, sep=\"\\t\")\n",
    "        background = tmp[\"Background\"].values[0]\n",
    "    background_list.append(background)\n",
    "dat[\"Background\"] = background_list"
   ]
  },
  {
   "cell_type": "code",
   "execution_count": 6,
   "id": "445248cb",
   "metadata": {
    "ExecuteTime": {
     "end_time": "2024-01-26T02:20:19.329658Z",
     "start_time": "2024-01-26T02:20:17.169344Z"
    }
   },
   "outputs": [],
   "source": [
    "# GC content\n",
    "mean_list = []\n",
    "median_list = []\n",
    "for run, cell in dat[[\"Run\", \"Cell\"]].values:\n",
    "    mean = np.nan\n",
    "    median = np.nan\n",
    "    path = \"results/stat/gc_content/%s/%s_summary.tsv\" % (run, cell)\n",
    "    if os.path.exists(path):\n",
    "        df = pd.read_csv(path, sep=\"\\t\")\n",
    "        mean = df[\"GC.Mean\"].values[0]\n",
    "        median = df[\"GC.Median\"].values[0]\n",
    "    mean_list.append(mean)\n",
    "    median_list.append(median)\n",
    "dat[\"GC.Mean\"] = mean_list\n",
    "dat[\"GC.Median\"] = median_list"
   ]
  },
  {
   "cell_type": "code",
   "execution_count": 7,
   "id": "f8a0c095",
   "metadata": {
    "ExecuteTime": {
     "end_time": "2024-01-26T02:20:21.285843Z",
     "start_time": "2024-01-26T02:20:19.331676Z"
    }
   },
   "outputs": [],
   "source": [
    "# spikiness\n",
    "\n",
    "values = []\n",
    "for run, cell in dat[[\"Run\", \"Cell\"]].values:\n",
    "    v = np.nan\n",
    "    path = \"results/stat/spikiness/%s/%s.tsv\" % (run, cell)\n",
    "    if os.path.exists(path):\n",
    "        df = pd.read_csv(path, sep=\"\\t\")\n",
    "        v = df[\"Spikiness\"].values[0]\n",
    "    values.append(v)\n",
    "dat[\"Spikiness\"] = values"
   ]
  },
  {
   "cell_type": "code",
   "execution_count": 8,
   "id": "0a27fd74",
   "metadata": {
    "ExecuteTime": {
     "end_time": "2024-01-26T02:20:24.128809Z",
     "start_time": "2024-01-26T02:20:21.288681Z"
    }
   },
   "outputs": [],
   "source": [
    "# genomic depth\n",
    "\n",
    "values = []\n",
    "for run, cell in dat[[\"Run\", \"Cell\"]].values:\n",
    "    v = np.nan\n",
    "    path = \"results/stat/depth/%s/%s.tsv\" % (run, cell)\n",
    "    if os.path.exists(path):\n",
    "        df = pd.read_csv(path, sep=\"\\t\")\n",
    "        v = df[df[\"Name\"] == \"Overall\"][\"Depth\"].values[0]\n",
    "    values.append(v)\n",
    "dat[\"GenomicDepth\"] = values"
   ]
  },
  {
   "cell_type": "code",
   "execution_count": 9,
   "id": "c39a568b",
   "metadata": {
    "ExecuteTime": {
     "end_time": "2024-01-26T02:20:26.983936Z",
     "start_time": "2024-01-26T02:20:24.131507Z"
    }
   },
   "outputs": [],
   "source": [
    "# genomic coverage\n",
    "\n",
    "values = []\n",
    "for run, cell in dat[[\"Run\", \"Cell\"]].values:\n",
    "    v = np.nan\n",
    "    path = \"results/stat/coverage/%s/%s.tsv\" % (run, cell)\n",
    "    if os.path.exists(path):\n",
    "        df = pd.read_csv(path, sep=\"\\t\")\n",
    "        v = df[df[\"Name\"] == \"Overall\"][\"Ratio\"].values[0]\n",
    "    values.append(v)\n",
    "dat[\"GenomicCoverage\"] = values"
   ]
  },
  {
   "cell_type": "code",
   "execution_count": 10,
   "id": "ebe7fcf8",
   "metadata": {
    "ExecuteTime": {
     "end_time": "2024-01-26T02:20:27.748397Z",
     "start_time": "2024-01-26T02:20:26.986879Z"
    }
   },
   "outputs": [],
   "source": [
    "dat.to_excel(\"data/StrandSeq_Summary.xlsx\", index=False)"
   ]
  },
  {
   "cell_type": "markdown",
   "id": "e10b04bf",
   "metadata": {},
   "source": [
    "# Quality control"
   ]
  },
  {
   "cell_type": "code",
   "execution_count": 11,
   "id": "92db774f",
   "metadata": {
    "ExecuteTime": {
     "end_time": "2024-01-26T02:20:28.187363Z",
     "start_time": "2024-01-26T02:20:27.750375Z"
    }
   },
   "outputs": [
    {
     "name": "stdout",
     "output_type": "stream",
     "text": [
      "20160928_PRJEB14185_CEU: 94\n",
      "20210729_PRJNA742746_HG001: 74\n"
     ]
    }
   ],
   "source": [
    "d = pd.read_excel(\"data/StrandSeq_Summary.xlsx\")\n",
    "\n",
    "tmp = d[(d[\"Run\"] == \"20160928_PRJEB14185_CEU\") & (d[\"UniqReads\"] >= 800000) & (d[\"Background\"] < 0.05)]\n",
    "print(\"20160928_PRJEB14185_CEU:\", len(tmp))\n",
    "tmp.to_excel(\"data/StrandSeq_StrandSeq_QC_Pass.xlsx\")\n",
    "\n",
    "tmp = d[(d[\"Run\"] == \"20210729_PRJNA742746_HG001\") & (d[\"UniqReads\"] >= 2000000) & (d[\"Background\"] < 0.05)]\n",
    "print(\"20210729_PRJNA742746_HG001:\", len(tmp))\n",
    "tmp.to_excel(\"data/StrandSeq_OPStrandSeq_QC_Pass.xlsx\")"
   ]
  }
 ],
 "metadata": {
  "kernelspec": {
   "display_name": "Python 3",
   "language": "python",
   "name": "python3"
  },
  "language_info": {
   "codemirror_mode": {
    "name": "ipython",
    "version": 3
   },
   "file_extension": ".py",
   "mimetype": "text/x-python",
   "name": "python",
   "nbconvert_exporter": "python",
   "pygments_lexer": "ipython3",
   "version": "3.6.15"
  }
 },
 "nbformat": 4,
 "nbformat_minor": 5
}
