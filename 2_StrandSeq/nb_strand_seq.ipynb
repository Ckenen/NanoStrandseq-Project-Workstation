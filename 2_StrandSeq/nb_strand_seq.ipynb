{
 "cells": [
  {
   "cell_type": "code",
   "execution_count": 1,
   "id": "5d9a7b2b",
   "metadata": {
    "ExecuteTime": {
     "end_time": "2024-03-07T03:03:18.652711Z",
     "start_time": "2024-03-07T03:03:18.126496Z"
    }
   },
   "outputs": [],
   "source": [
    "import os\n",
    "import glob\n",
    "import numpy as np\n",
    "import pandas as pd"
   ]
  },
  {
   "cell_type": "markdown",
   "id": "be5725e4",
   "metadata": {},
   "source": [
    "# Summary"
   ]
  },
  {
   "cell_type": "code",
   "execution_count": 2,
   "id": "a3a0477a",
   "metadata": {
    "ExecuteTime": {
     "end_time": "2024-03-07T03:03:18.811223Z",
     "start_time": "2024-03-07T03:03:18.656926Z"
    }
   },
   "outputs": [],
   "source": [
    "dat = pd.read_excel(\"data/StrandSeq.xlsx\")"
   ]
  },
  {
   "cell_type": "code",
   "execution_count": 3,
   "id": "4ba09c24",
   "metadata": {
    "ExecuteTime": {
     "end_time": "2024-03-07T03:03:18.875157Z",
     "start_time": "2024-03-07T03:03:18.855048Z"
    }
   },
   "outputs": [],
   "source": [
    "# total reads\n",
    "\n",
    "total_reads_list = []\n",
    "for run, cell in dat[[\"Run\", \"Cell\"]].values:\n",
    "    total_reads = 0\n",
    "    path = \"results/mapping/filtered/%s/%s.flagstat\" % (run, cell)\n",
    "    if os.path.exists(path):\n",
    "        for line in open(path):\n",
    "            total_reads = int(line.split()[0])\n",
    "            break\n",
    "    total_reads_list.append(total_reads)\n",
    "dat[\"TotalReads\"] = total_reads_list"
   ]
  },
  {
   "cell_type": "code",
   "execution_count": 13,
   "id": "c0d996a7",
   "metadata": {
    "ExecuteTime": {
     "end_time": "2024-03-07T03:05:43.703831Z",
     "start_time": "2024-03-07T03:05:42.246810Z"
    }
   },
   "outputs": [],
   "source": [
    "# uniq reads\n",
    "\n",
    "uniq_reads_list = []\n",
    "for run, cell in dat[[\"Run\", \"Cell\"]].values:\n",
    "    uniq_reads = 0\n",
    "    path = \"results/mapping/mark_duplicate/%s/%s.flagstat\" % (run, cell)\n",
    "    if os.path.exists(path):\n",
    "        for line in open(path):\n",
    "            if \"primary mapped\" in line:\n",
    "                uniq_reads = int(line.split()[0])\n",
    "                break\n",
    "    uniq_reads_list.append(uniq_reads)\n",
    "dat[\"UniqReads\"] = uniq_reads_list"
   ]
  },
  {
   "cell_type": "code",
   "execution_count": 34,
   "id": "c6d19fac",
   "metadata": {
    "ExecuteTime": {
     "end_time": "2024-03-07T03:18:13.827321Z",
     "start_time": "2024-03-07T03:18:12.355458Z"
    }
   },
   "outputs": [],
   "source": [
    "# reads\n",
    "\n",
    "total_read_list = []\n",
    "uniq_read_list = []\n",
    "for run, cell in dat[[\"Run\", \"Cell\"]].values:\n",
    "    total_read = np.nan\n",
    "    uniq_read = np.nan\n",
    "    path = \"results/mapping/mark_duplicate/%s/%s.flagstat\" % (run, cell)\n",
    "    if os.path.exists(path):\n",
    "        for line in open(path):\n",
    "            if line[:-1].endswith(\"primary\"):\n",
    "                total_read = int(line.split()[0])\n",
    "            if line[:-1].endswith(\"primary duplicates\"):\n",
    "                uniq_read = total_read - int(line.split()[0])\n",
    "    total_read_list.append(total_read)\n",
    "    uniq_read_list.append(uniq_read)\n",
    "dat[\"TotalReads\"] = total_read_list\n",
    "dat[\"UniqReads\"] = uniq_read_list"
   ]
  },
  {
   "cell_type": "code",
   "execution_count": 5,
   "id": "ceb95440",
   "metadata": {
    "ExecuteTime": {
     "end_time": "2024-03-07T03:03:26.041249Z",
     "start_time": "2024-03-07T03:03:19.268482Z"
    }
   },
   "outputs": [],
   "source": [
    "# background\n",
    "\n",
    "background_list = []\n",
    "for run, cell in dat[[\"Run\", \"Cell\"]].values:\n",
    "    background = np.nan\n",
    "    path = \"results/stat/background/%s/%s_summary.tsv\" % (run, cell)\n",
    "    if os.path.exists(path):\n",
    "        tmp = pd.read_csv(path, sep=\"\\t\")\n",
    "        background = tmp[\"Background\"].values[0]\n",
    "    background_list.append(background)\n",
    "dat[\"Background\"] = background_list"
   ]
  },
  {
   "cell_type": "code",
   "execution_count": 6,
   "id": "445248cb",
   "metadata": {
    "ExecuteTime": {
     "end_time": "2024-03-07T03:03:34.306155Z",
     "start_time": "2024-03-07T03:03:26.044016Z"
    }
   },
   "outputs": [],
   "source": [
    "# GC content\n",
    "mean_list = []\n",
    "median_list = []\n",
    "for run, cell in dat[[\"Run\", \"Cell\"]].values:\n",
    "    mean = np.nan\n",
    "    median = np.nan\n",
    "    path = \"results/stat/gc_content/%s/%s_summary.tsv\" % (run, cell)\n",
    "    if os.path.exists(path):\n",
    "        df = pd.read_csv(path, sep=\"\\t\")\n",
    "        mean = df[\"GC.Mean\"].values[0]\n",
    "        median = df[\"GC.Median\"].values[0]\n",
    "    mean_list.append(mean)\n",
    "    median_list.append(median)\n",
    "dat[\"GC.Mean\"] = mean_list\n",
    "dat[\"GC.Median\"] = median_list"
   ]
  },
  {
   "cell_type": "code",
   "execution_count": 7,
   "id": "f8a0c095",
   "metadata": {
    "ExecuteTime": {
     "end_time": "2024-03-07T03:03:41.775232Z",
     "start_time": "2024-03-07T03:03:34.309674Z"
    }
   },
   "outputs": [],
   "source": [
    "# spikiness\n",
    "\n",
    "values = []\n",
    "for run, cell in dat[[\"Run\", \"Cell\"]].values:\n",
    "    v = np.nan\n",
    "    path = \"results/stat/spikiness/%s/%s.tsv\" % (run, cell)\n",
    "    if os.path.exists(path):\n",
    "        df = pd.read_csv(path, sep=\"\\t\")\n",
    "        v = df[\"Spikiness\"].values[0]\n",
    "    values.append(v)\n",
    "dat[\"Spikiness\"] = values"
   ]
  },
  {
   "cell_type": "code",
   "execution_count": 8,
   "id": "0a27fd74",
   "metadata": {
    "ExecuteTime": {
     "end_time": "2024-03-07T03:03:49.111060Z",
     "start_time": "2024-03-07T03:03:41.779531Z"
    }
   },
   "outputs": [],
   "source": [
    "# genomic depth\n",
    "\n",
    "values = []\n",
    "for run, cell in dat[[\"Run\", \"Cell\"]].values:\n",
    "    v = np.nan\n",
    "    path = \"results/stat/depth/%s/%s.tsv\" % (run, cell)\n",
    "    if os.path.exists(path):\n",
    "        df = pd.read_csv(path, sep=\"\\t\")\n",
    "        v = df[df[\"Name\"] == \"Overall\"][\"Depth\"].values[0]\n",
    "    values.append(v)\n",
    "dat[\"GenomicDepth\"] = values"
   ]
  },
  {
   "cell_type": "code",
   "execution_count": 9,
   "id": "c39a568b",
   "metadata": {
    "ExecuteTime": {
     "end_time": "2024-03-07T03:03:56.255811Z",
     "start_time": "2024-03-07T03:03:49.113828Z"
    }
   },
   "outputs": [],
   "source": [
    "# genomic coverage\n",
    "\n",
    "values = []\n",
    "for run, cell in dat[[\"Run\", \"Cell\"]].values:\n",
    "    v = np.nan\n",
    "    path = \"results/stat/coverage/%s/%s.tsv\" % (run, cell)\n",
    "    if os.path.exists(path):\n",
    "        df = pd.read_csv(path, sep=\"\\t\")\n",
    "        v = df[df[\"Name\"] == \"Overall\"][\"Ratio\"].values[0]\n",
    "    values.append(v)\n",
    "dat[\"GenomicCoverage\"] = values"
   ]
  },
  {
   "cell_type": "code",
   "execution_count": 35,
   "id": "ebe7fcf8",
   "metadata": {
    "ExecuteTime": {
     "end_time": "2024-03-07T03:18:18.660869Z",
     "start_time": "2024-03-07T03:18:18.020642Z"
    }
   },
   "outputs": [],
   "source": [
    "dat.to_excel(\"data/StrandSeq_Summary.xlsx\", index=False)"
   ]
  },
  {
   "cell_type": "markdown",
   "id": "e10b04bf",
   "metadata": {},
   "source": [
    "# Quality control"
   ]
  },
  {
   "cell_type": "code",
   "execution_count": 45,
   "id": "92db774f",
   "metadata": {
    "ExecuteTime": {
     "end_time": "2024-03-07T03:20:26.012697Z",
     "start_time": "2024-03-07T03:20:25.528519Z"
    }
   },
   "outputs": [
    {
     "name": "stdout",
     "output_type": "stream",
     "text": [
      "20160928_PRJEB14185_CEU: 94\n",
      "20210729_PRJNA742746_HG001: 74\n"
     ]
    }
   ],
   "source": [
    "d = pd.read_excel(\"data/StrandSeq_Summary.xlsx\")\n",
    "\n",
    "tmp = d[(d[\"Run\"] == \"20160928_PRJEB14185_CEU\") & (d[\"UniqReads\"] >= 800000) & (d[\"Background\"] < 0.05)]\n",
    "print(\"20160928_PRJEB14185_CEU:\", len(tmp))\n",
    "tmp.to_excel(\"data/StrandSeq_StrandSeq_QC_Pass.xlsx\", index=False)\n",
    "\n",
    "tmp = d[(d[\"Run\"] == \"20210729_PRJNA742746_HG001\") & (d[\"UniqReads\"] >= 2000000) & (d[\"Background\"] < 0.05)]\n",
    "print(\"20210729_PRJNA742746_HG001:\", len(tmp))\n",
    "tmp.to_excel(\"data/StrandSeq_OPStrandSeq_QC_Pass.xlsx\", index=False)"
   ]
  }
 ],
 "metadata": {
  "kernelspec": {
   "display_name": "Python 3",
   "language": "python",
   "name": "python3"
  },
  "language_info": {
   "codemirror_mode": {
    "name": "ipython",
    "version": 3
   },
   "file_extension": ".py",
   "mimetype": "text/x-python",
   "name": "python",
   "nbconvert_exporter": "python",
   "pygments_lexer": "ipython3",
   "version": "3.6.15"
  }
 },
 "nbformat": 4,
 "nbformat_minor": 5
}
