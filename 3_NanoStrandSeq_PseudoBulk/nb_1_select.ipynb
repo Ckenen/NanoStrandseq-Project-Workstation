{
 "cells": [
  {
   "cell_type": "code",
   "execution_count": 1,
   "id": "1d6f352c",
   "metadata": {
    "ExecuteTime": {
     "end_time": "2023-09-25T07:39:10.860858Z",
     "start_time": "2023-09-25T07:39:10.412394Z"
    },
    "execution": {
     "iopub.execute_input": "2024-04-09T12:00:29.552350Z",
     "iopub.status.busy": "2024-04-09T12:00:29.552186Z",
     "iopub.status.idle": "2024-04-09T12:00:40.500821Z",
     "shell.execute_reply": "2024-04-09T12:00:40.500318Z",
     "shell.execute_reply.started": "2024-04-09T12:00:29.552333Z"
    }
   },
   "outputs": [],
   "source": [
    "import numpy as np\n",
    "import pandas as pd\n",
    "import random"
   ]
  },
  {
   "cell_type": "markdown",
   "id": "c979b3b8",
   "metadata": {},
   "source": [
    "# Select cells"
   ]
  },
  {
   "cell_type": "code",
   "execution_count": 2,
   "id": "d2210be5-2386-4ec6-a7d9-72da38355631",
   "metadata": {
    "execution": {
     "iopub.execute_input": "2024-04-09T12:00:40.512403Z",
     "iopub.status.busy": "2024-04-09T12:00:40.512251Z",
     "iopub.status.idle": "2024-04-09T12:00:40.685504Z",
     "shell.execute_reply": "2024-04-09T12:00:40.685111Z",
     "shell.execute_reply.started": "2024-04-09T12:00:40.512387Z"
    }
   },
   "outputs": [
    {
     "name": "stdout",
     "output_type": "stream",
     "text": [
      "Cells: 364\n",
      "Total depth: 102.03171810077393\n"
     ]
    }
   ],
   "source": [
    "dat = pd.read_csv(\"../1_NanoStrandSeq/reports/NanoStrandSeq_HG001_QC_Pass.csv\")\n",
    "depths = {cell: depth for cell, depth in dat[[\"Cell\", \"GenomicDepth\"]].values}\n",
    "print(\"Cells:\", len(dat))\n",
    "print(\"Total depth:\", dat[\"GenomicDepth\"].sum())"
   ]
  },
  {
   "cell_type": "code",
   "execution_count": 3,
   "id": "51323653-65ae-448f-8d1f-8ac33c31bea7",
   "metadata": {
    "execution": {
     "iopub.execute_input": "2024-04-09T12:00:40.689616Z",
     "iopub.status.busy": "2024-04-09T12:00:40.689141Z",
     "iopub.status.idle": "2024-04-09T12:00:44.190606Z",
     "shell.execute_reply": "2024-04-09T12:00:44.190085Z",
     "shell.execute_reply.started": "2024-04-09T12:00:40.689597Z"
    }
   },
   "outputs": [
    {
     "name": "stdout",
     "output_type": "stream",
     "text": [
      "36400\n"
     ]
    }
   ],
   "source": [
    "data = []\n",
    "random.seed(0)\n",
    "cells = list(dat[\"Cell\"])\n",
    "for ncell in range(1, len(cells) + 1):\n",
    "    for r in range(100):\n",
    "        cells1 = list(sorted(random.sample(cells, ncell)))\n",
    "        depth = sum([depths[cell] for cell in cells1])\n",
    "        data.append([ncell, cells1, depth])\n",
    "print(len(data))"
   ]
  },
  {
   "cell_type": "code",
   "execution_count": 20,
   "id": "b9ae0541-76f5-4497-8e8f-0e4255eb2f39",
   "metadata": {
    "execution": {
     "iopub.execute_input": "2024-04-09T11:57:36.774735Z",
     "iopub.status.busy": "2024-04-09T11:57:36.772405Z",
     "iopub.status.idle": "2024-04-09T11:57:37.616037Z",
     "shell.execute_reply": "2024-04-09T11:57:37.615480Z",
     "shell.execute_reply.started": "2024-04-09T11:57:36.774713Z"
    }
   },
   "outputs": [],
   "source": [
    "with open(\"data/select_nanostrandseq_cells.tsv\", \"w+\") as fw:\n",
    "    fw.write(\"Name\\tNumber\\tDepth\\tCells\\n\")\n",
    "    for cov in range(1, 101):\n",
    "        tmp = list(sorted(data, key=lambda item: abs(item[2] - cov)))\n",
    "        for r in range(5):\n",
    "            ncell, cells1, depth = tmp[r]\n",
    "            name = \"cov%d-r%d\" % (cov, r + 1)\n",
    "            line = \"\\t\".join(map(str, [name, ncell, depth, \",\".join(cells1)]))\n",
    "            fw.write(line + \"\\n\")"
   ]
  }
 ],
 "metadata": {
  "kernelspec": {
   "display_name": "Python 3 (ipykernel)",
   "language": "python",
   "name": "python3"
  },
  "language_info": {
   "codemirror_mode": {
    "name": "ipython",
    "version": 3
   },
   "file_extension": ".py",
   "mimetype": "text/x-python",
   "name": "python",
   "nbconvert_exporter": "python",
   "pygments_lexer": "ipython3",
   "version": "3.10.13"
  }
 },
 "nbformat": 4,
 "nbformat_minor": 5
}
