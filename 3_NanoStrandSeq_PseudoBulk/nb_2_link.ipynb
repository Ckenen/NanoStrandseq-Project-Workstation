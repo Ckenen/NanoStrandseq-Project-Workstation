{
 "cells": [
  {
   "cell_type": "code",
   "execution_count": 1,
   "id": "1d6f352c",
   "metadata": {
    "ExecuteTime": {
     "end_time": "2023-09-25T07:39:10.860858Z",
     "start_time": "2023-09-25T07:39:10.412394Z"
    },
    "execution": {
     "iopub.execute_input": "2024-04-09T12:16:51.853586Z",
     "iopub.status.busy": "2024-04-09T12:16:51.853307Z",
     "iopub.status.idle": "2024-04-09T12:17:04.727958Z",
     "shell.execute_reply": "2024-04-09T12:17:04.726558Z",
     "shell.execute_reply.started": "2024-04-09T12:16:51.853559Z"
    }
   },
   "outputs": [],
   "source": [
    "import pandas as pd"
   ]
  },
  {
   "cell_type": "markdown",
   "id": "c979b3b8",
   "metadata": {},
   "source": [
    "# Make linkers"
   ]
  },
  {
   "cell_type": "code",
   "execution_count": 2,
   "id": "d2210be5-2386-4ec6-a7d9-72da38355631",
   "metadata": {
    "execution": {
     "iopub.execute_input": "2024-04-09T12:17:04.779494Z",
     "iopub.status.busy": "2024-04-09T12:17:04.778709Z",
     "iopub.status.idle": "2024-04-09T12:18:30.878743Z",
     "shell.execute_reply": "2024-04-09T12:18:30.778730Z",
     "shell.execute_reply.started": "2024-04-09T12:17:04.779469Z"
    },
    "scrolled": true
   },
   "outputs": [],
   "source": [
    "dat = pd.read_csv(\"../1_NanoStrandSeq/reports/NanoStrandSeq_HG001_QC_Pass.csv\")\n",
    "\n",
    "for run, cell in dat[[\"Run\", \"Cell\"]].values:\n",
    "    path1 = \"../1_NanoStrandSeq/results/mapping/final/%s/%s.bam\" % (run, cell)\n",
    "    path2 = \"data/nss_bams/%s.bam\" % cell\n",
    "    ! ln -s -f ../../{path1} {path2}\n",
    "    ! ln -s -f ../../{path1}.bai {path2}.bai"
   ]
  },
  {
   "cell_type": "code",
   "execution_count": null,
   "id": "80407e11-a97d-43ea-94d0-15fd8f307922",
   "metadata": {},
   "outputs": [],
   "source": []
  }
 ],
 "metadata": {
  "kernelspec": {
   "display_name": "Python 3 (ipykernel)",
   "language": "python",
   "name": "python3"
  },
  "language_info": {
   "codemirror_mode": {
    "name": "ipython",
    "version": 3
   },
   "file_extension": ".py",
   "mimetype": "text/x-python",
   "name": "python",
   "nbconvert_exporter": "python",
   "pygments_lexer": "ipython3",
   "version": "3.10.13"
  }
 },
 "nbformat": 4,
 "nbformat_minor": 5
}
