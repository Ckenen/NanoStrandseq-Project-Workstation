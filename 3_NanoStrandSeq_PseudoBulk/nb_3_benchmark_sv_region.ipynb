{
 "cells": [
  {
   "cell_type": "code",
   "execution_count": 1,
   "id": "e9acee78-0a39-4393-a0b8-1d4e5e32efeb",
   "metadata": {
    "execution": {
     "iopub.execute_input": "2024-04-09T17:22:20.265667Z",
     "iopub.status.busy": "2024-04-09T17:22:20.265282Z",
     "iopub.status.idle": "2024-04-09T17:22:34.355484Z",
     "shell.execute_reply": "2024-04-09T17:22:34.354954Z",
     "shell.execute_reply.started": "2024-04-09T17:22:20.265643Z"
    }
   },
   "outputs": [],
   "source": [
    "import os\n",
    "import glob\n",
    "import gzip\n",
    "from collections import defaultdict\n",
    "import multiprocessing as mp\n",
    "import numpy as np\n",
    "import pandas as pd\n",
    "import pysam\n",
    "import pyBigWig\n",
    "from pyBioInfo.Range import GRange\n",
    "from pyBioInfo.IO.File import BedFile\n",
    "from pyBioInfo.Utils import ShiftLoader"
   ]
  },
  {
   "cell_type": "markdown",
   "id": "f24fe1ff-0986-484f-a342-5bbefb44c2cf",
   "metadata": {},
   "source": [
    "# Scan extreme coverage regions"
   ]
  },
  {
   "cell_type": "code",
   "execution_count": 2,
   "id": "ccf9c87c-9765-42ab-b3da-865f79b3144a",
   "metadata": {
    "execution": {
     "iopub.execute_input": "2024-04-09T17:22:38.458644Z",
     "iopub.status.busy": "2024-04-09T17:22:38.458270Z",
     "iopub.status.idle": "2024-04-09T17:22:38.465272Z",
     "shell.execute_reply": "2024-04-09T17:22:38.464849Z",
     "shell.execute_reply.started": "2024-04-09T17:22:38.458621Z"
    }
   },
   "outputs": [],
   "source": [
    "def worker(f_bw, chrom, step, min_coverage, max_coverage):\n",
    "    regions = []\n",
    "    with pyBigWig.open(f_bw) as f:\n",
    "        length = f.chroms()[chrom]\n",
    "        step1 = step * 1000\n",
    "        for start1 in range(0, length, step1):\n",
    "            end1 = min(start1 + step1, length)\n",
    "            covs = f.values(chrom, start1, end1)\n",
    "            for start2 in range(start1, end1, step):\n",
    "                end2 = min(start2 + step, end1)\n",
    "                vs = np.nan_to_num(covs[start2 - start1:end2 - start1])\n",
    "                mean = np.mean(vs)\n",
    "                if mean < min_coverage or mean > max_coverage:\n",
    "                    if len(regions) == 0:\n",
    "                        regions.append([chrom, start2, end2])\n",
    "                    else:\n",
    "                        if start2 <= regions[-1][2]:\n",
    "                            regions[-1][2] = end2\n",
    "                        else:\n",
    "                            regions.append([chrom, start2, end2])    \n",
    "    return regions\n",
    "\n",
    "def scan_extreme_coverage_regions(f_bw, f_bed, threads=1, min_coverage=15, max_coverage=80):\n",
    "    array = []\n",
    "    pool = mp.Pool(threads)\n",
    "    with pyBigWig.open(f_bw) as f:\n",
    "        for chrom in f.chroms():\n",
    "            args = (f_bw, chrom, 100, min_coverage, max_coverage)\n",
    "            array.append(pool.apply_async(worker, args))\n",
    "    pool.close()\n",
    "    pool.join()\n",
    "\n",
    "    regions = []\n",
    "    for r in array:\n",
    "        regions.extend(r.get())\n",
    "    regions.sort()\n",
    "    \n",
    "    with open(f_bed, \"w+\") as fw:\n",
    "        for r in regions:\n",
    "            fw.write(\"\\t\".join(map(str, r)) + \"\\n\")"
   ]
  },
  {
   "cell_type": "code",
   "execution_count": 3,
   "id": "dbb58fe6-bbda-4fc7-b8c3-5f66b73adc7e",
   "metadata": {
    "execution": {
     "iopub.execute_input": "2024-04-09T17:23:48.605972Z",
     "iopub.status.busy": "2024-04-09T17:23:48.605460Z",
     "iopub.status.idle": "2024-04-09T17:24:59.206686Z",
     "shell.execute_reply": "2024-04-09T17:24:59.206181Z",
     "shell.execute_reply.started": "2024-04-09T17:23:48.605950Z"
    }
   },
   "outputs": [],
   "source": [
    "f_bw = \"results/bw/PacBio.full.bw\"\n",
    "f_bed = \"results/sv/regions/PacBio.full.coverage_lt_10_gt_80.bed\"\n",
    "scan_extreme_coverage_regions(f_bw, f_bed, 24, 10, 80)"
   ]
  },
  {
   "cell_type": "code",
   "execution_count": 4,
   "id": "be03ebf5-3ff3-429f-baa6-d6abc98071aa",
   "metadata": {
    "execution": {
     "iopub.execute_input": "2024-04-09T17:24:59.207926Z",
     "iopub.status.busy": "2024-04-09T17:24:59.207677Z",
     "iopub.status.idle": "2024-04-09T17:26:09.057661Z",
     "shell.execute_reply": "2024-04-09T17:26:09.057160Z",
     "shell.execute_reply.started": "2024-04-09T17:24:59.207907Z"
    }
   },
   "outputs": [],
   "source": [
    "f_bw = \"results/bw/PacBio.full.bw\"\n",
    "f_bed = \"results/sv/regions/PacBio.full.coverage_lt_15_gt_80.bed\"\n",
    "scan_extreme_coverage_regions(f_bw, f_bed, 24, 15, 80)"
   ]
  },
  {
   "cell_type": "code",
   "execution_count": 5,
   "id": "ab4c3814-dd3a-46de-93a6-40b6d9bc66e3",
   "metadata": {
    "execution": {
     "iopub.execute_input": "2024-04-09T17:26:09.058518Z",
     "iopub.status.busy": "2024-04-09T17:26:09.058332Z",
     "iopub.status.idle": "2024-04-09T17:27:18.897016Z",
     "shell.execute_reply": "2024-04-09T17:27:18.896527Z",
     "shell.execute_reply.started": "2024-04-09T17:26:09.058498Z"
    }
   },
   "outputs": [],
   "source": [
    "f_bw = \"results/bw/Ultralong.full.bw\"\n",
    "f_bed = \"results/sv/regions/Ultralong.full.coverage_lt_10_gt_80.bed\"\n",
    "scan_extreme_coverage_regions(f_bw, f_bed, 24, 10, 80)"
   ]
  },
  {
   "cell_type": "code",
   "execution_count": 6,
   "id": "d7236aaa-de38-42c1-a966-0ce5e8661a0d",
   "metadata": {
    "execution": {
     "iopub.execute_input": "2024-04-09T17:27:18.898589Z",
     "iopub.status.busy": "2024-04-09T17:27:18.898198Z",
     "iopub.status.idle": "2024-04-09T17:28:28.867241Z",
     "shell.execute_reply": "2024-04-09T17:28:28.866637Z",
     "shell.execute_reply.started": "2024-04-09T17:27:18.898569Z"
    }
   },
   "outputs": [],
   "source": [
    "f_bw = \"results/bw/Ultralong.full.bw\"\n",
    "f_bed = \"results/sv/regions/Ultralong.full.coverage_lt_15_gt_80.bed\"\n",
    "scan_extreme_coverage_regions(f_bw, f_bed, 24, 15, 80)"
   ]
  },
  {
   "cell_type": "markdown",
   "id": "c49454a1-87c9-404a-bfd3-30a104d0838c",
   "metadata": {},
   "source": [
    "# Scan dense SV regions"
   ]
  },
  {
   "cell_type": "code",
   "execution_count": 8,
   "id": "9893bac0-401f-4776-a505-62d63d3e719b",
   "metadata": {
    "execution": {
     "iopub.execute_input": "2024-04-09T17:28:28.871570Z",
     "iopub.status.busy": "2024-04-09T17:28:28.871284Z",
     "iopub.status.idle": "2024-04-09T17:28:28.921364Z",
     "shell.execute_reply": "2024-04-09T17:28:28.920947Z",
     "shell.execute_reply.started": "2024-04-09T17:28:28.871553Z"
    }
   },
   "outputs": [],
   "source": [
    "def collapse_regions(regions):\n",
    "    regions = regions.copy()\n",
    "    i = 0\n",
    "    while i < len(regions) - 1:\n",
    "        r1 = regions[i]\n",
    "        r2 = regions[i + 1]\n",
    "        if r1[0] == r2[0]:\n",
    "            if r1[2] >= r2[1]:\n",
    "                r1[2] = max(r1[2], r2[2])\n",
    "                regions.pop(i + 1)\n",
    "            else:\n",
    "                i += 1\n",
    "        else:\n",
    "            i += 1\n",
    "    return regions\n",
    "\n",
    "def scan_dense_sv_regions(f_vcf, f_bed, slop=1000):\n",
    "    svs = []\n",
    "    with pysam.VariantFile(f_vcf) as f:\n",
    "        for record in f:\n",
    "            svtype = record.info[\"SVTYPE\"]\n",
    "            if svtype != \"DEL\" and svtype != \"INS\":\n",
    "                continue\n",
    "            if list(record.filter)[0] != \"PASS\":\n",
    "                continue\n",
    "            r = GRange(chrom=record.contig, start=record.start, end=record.stop, name=record.id)\n",
    "            r.length = abs(record.info[\"SVLEN\"])\n",
    "            r.record = record\n",
    "            svs.append(r)\n",
    "    svs.sort()\n",
    "    regions = []\n",
    "    loader = ShiftLoader(svs)\n",
    "    for sv in svs:\n",
    "        chrom, start, end = sv.chrom, max(0, sv.start - slop), sv.end + slop\n",
    "        hit = False\n",
    "        for sv2 in loader.fetch(chrom=chrom, start=start, end=end):\n",
    "            if sv2 is not sv:\n",
    "                hit = True\n",
    "        if hit:\n",
    "            regions.append([chrom, start, end])\n",
    "    regions.sort()\n",
    "    regions = collapse_regions(regions)\n",
    "    with open(f_bed, \"w+\") as fw:\n",
    "        for r in regions:\n",
    "            fw.write(\"\\t\".join(map(str, r)) + \"\\n\")"
   ]
  },
  {
   "cell_type": "code",
   "execution_count": 9,
   "id": "424f3806-1475-4cf2-8bc0-663914d14f5b",
   "metadata": {
    "execution": {
     "iopub.execute_input": "2024-04-09T17:28:36.862940Z",
     "iopub.status.busy": "2024-04-09T17:28:36.862632Z",
     "iopub.status.idle": "2024-04-09T17:28:38.751068Z",
     "shell.execute_reply": "2024-04-09T17:28:38.750598Z",
     "shell.execute_reply.started": "2024-04-09T17:28:36.862919Z"
    }
   },
   "outputs": [],
   "source": [
    "f_vcf = \"results/sv/cutesv/PacBio.full.vcf.gz\"\n",
    "f_bed = \"results/sv/regions/PacBio.full.dense_sv_1kb.bed\"\n",
    "scan_dense_sv_regions(f_vcf, f_bed, 1000)"
   ]
  },
  {
   "cell_type": "code",
   "execution_count": 10,
   "id": "66f62a68-0027-4acb-a7f5-711b59473b9d",
   "metadata": {
    "execution": {
     "iopub.execute_input": "2024-04-09T17:28:38.889692Z",
     "iopub.status.busy": "2024-04-09T17:28:38.889389Z",
     "iopub.status.idle": "2024-04-09T17:28:52.506123Z",
     "shell.execute_reply": "2024-04-09T17:28:52.505602Z",
     "shell.execute_reply.started": "2024-04-09T17:28:38.889671Z"
    }
   },
   "outputs": [],
   "source": [
    "f_vcf = \"results/sv/cutesv/Ultralong.full.vcf.gz\"\n",
    "f_bed = \"results/sv/regions/Ultralong.full.dense_sv_1kb.bed\"\n",
    "scan_dense_sv_regions(f_vcf, f_bed, 1000)"
   ]
  },
  {
   "cell_type": "markdown",
   "id": "e4786985-fd6e-4963-a9b6-20fa0437836e",
   "metadata": {},
   "source": [
    "# Scan too long SV regions"
   ]
  },
  {
   "cell_type": "code",
   "execution_count": 11,
   "id": "5fef5fd6-5e5a-4de4-ae45-1159b5d8b152",
   "metadata": {
    "execution": {
     "iopub.execute_input": "2024-04-09T17:28:52.507310Z",
     "iopub.status.busy": "2024-04-09T17:28:52.507070Z",
     "iopub.status.idle": "2024-04-09T17:28:52.512671Z",
     "shell.execute_reply": "2024-04-09T17:28:52.512288Z",
     "shell.execute_reply.started": "2024-04-09T17:28:52.507292Z"
    }
   },
   "outputs": [],
   "source": [
    "def collapse_regions(regions):\n",
    "    regions = regions.copy()\n",
    "    i = 0\n",
    "    while i < len(regions) - 1:\n",
    "        r1 = regions[i]\n",
    "        r2 = regions[i + 1]\n",
    "        if r1[0] == r2[0]:\n",
    "            if r1[2] >= r2[1]:\n",
    "                r1[2] = max(r1[2], r2[2])\n",
    "                regions.pop(i + 1)\n",
    "            else:\n",
    "                i += 1\n",
    "        else:\n",
    "            i += 1\n",
    "    return regions\n",
    "\n",
    "def scan_long_sv_regions(f_vcf, f_bed, max_length=10000, slop=1000):\n",
    "    regions = []\n",
    "    with pysam.VariantFile(f_vcf) as f:\n",
    "        for record in f:\n",
    "            svtype = record.info[\"SVTYPE\"]\n",
    "            if svtype != \"DEL\" and svtype != \"INS\":\n",
    "                continue\n",
    "            if list(record.filter)[0] != \"PASS\":\n",
    "                continue\n",
    "            if abs(record.info[\"SVLEN\"]) > max_length:\n",
    "                chrom = record.contig\n",
    "                start = record.start\n",
    "                end = record.stop\n",
    "                start = max(0, start - slop)\n",
    "                end = end + slop\n",
    "                \n",
    "                regions.append([chrom, start, end])\n",
    "    regions.sort()\n",
    "    regions = collapse_regions(regions)\n",
    "    with open(f_bed, \"w+\") as fw:\n",
    "        for r in regions:\n",
    "            fw.write(\"\\t\".join(map(str, r)) + \"\\n\")"
   ]
  },
  {
   "cell_type": "code",
   "execution_count": 12,
   "id": "39e3ab2d-af3a-42db-a662-c99c101604d1",
   "metadata": {
    "execution": {
     "iopub.execute_input": "2024-04-09T17:28:53.300734Z",
     "iopub.status.busy": "2024-04-09T17:28:53.300464Z",
     "iopub.status.idle": "2024-04-09T17:28:54.483393Z",
     "shell.execute_reply": "2024-04-09T17:28:54.482914Z",
     "shell.execute_reply.started": "2024-04-09T17:28:53.300715Z"
    }
   },
   "outputs": [],
   "source": [
    "f_vcf = \"results/sv/cutesv/PacBio.full.vcf.gz\"\n",
    "f_bed = \"results/sv/regions/PacBio.full.long_sv_10kb_slop_1kb.bed\"\n",
    "scan_long_sv_regions(f_vcf, f_bed, max_length=10000, slop=1000)"
   ]
  },
  {
   "cell_type": "code",
   "execution_count": 13,
   "id": "813679b9-0a10-40ad-8a7f-351e0bffb5c2",
   "metadata": {
    "execution": {
     "iopub.execute_input": "2024-04-09T17:28:55.201926Z",
     "iopub.status.busy": "2024-04-09T17:28:55.201628Z",
     "iopub.status.idle": "2024-04-09T17:29:08.194678Z",
     "shell.execute_reply": "2024-04-09T17:29:08.193949Z",
     "shell.execute_reply.started": "2024-04-09T17:28:55.201906Z"
    }
   },
   "outputs": [],
   "source": [
    "f_vcf = \"results/sv/cutesv/Ultralong.full.vcf.gz\"\n",
    "f_bed = \"results/sv/regions/Ultralong.full.long_sv_10kb_slop_1kb.bed\"\n",
    "scan_long_sv_regions(f_vcf, f_bed, max_length=10000, slop=1000)"
   ]
  },
  {
   "cell_type": "markdown",
   "id": "e5459b83-97c5-47e2-b041-1118e5d90339",
   "metadata": {},
   "source": [
    "# Merge blacklist regions"
   ]
  },
  {
   "cell_type": "code",
   "execution_count": 14,
   "id": "09b52676-1a4f-4be0-a618-c9127eb8d1c7",
   "metadata": {
    "execution": {
     "iopub.execute_input": "2024-04-09T17:29:10.700631Z",
     "iopub.status.busy": "2024-04-09T17:29:10.700142Z",
     "iopub.status.idle": "2024-04-09T17:29:15.464066Z",
     "shell.execute_reply": "2024-04-09T17:29:15.463483Z",
     "shell.execute_reply.started": "2024-04-09T17:29:10.700609Z"
    }
   },
   "outputs": [
    {
     "name": "stdout",
     "output_type": "stream",
     "text": [
      "All regions: 94182\n",
      "Collapsed regions: 78245\n"
     ]
    }
   ],
   "source": [
    "def collapse_regions(regions):\n",
    "    regions = regions.copy()\n",
    "    i = 0\n",
    "    while i < len(regions) - 1:\n",
    "        r1 = regions[i]\n",
    "        r2 = regions[i + 1]\n",
    "        if r1[0] == r2[0]:\n",
    "            if r1[2] >= r2[1]:\n",
    "                r1[2] = max(r1[2], r2[2])\n",
    "                regions.pop(i + 1)\n",
    "            else:\n",
    "                i += 1\n",
    "        else:\n",
    "            i += 1\n",
    "    return regions\n",
    "\n",
    "regions = []\n",
    "\n",
    "with open(\"results/sv/regions/PacBio.full.coverage_lt_10_gt_80.bed\") as f:\n",
    "    for line in f:\n",
    "        chrom, start, end = line.strip(\"\\n\").split(\"\\t\")\n",
    "        start, end = int(start), int(end)\n",
    "        start, end = max(0, start - 1000), end + 1000\n",
    "        regions.append([chrom, start, end])\n",
    "\n",
    "with open(\"results/sv/regions/Ultralong.full.coverage_lt_10_gt_80.bed\") as f:\n",
    "    for line in f:\n",
    "        chrom, start, end = line.strip(\"\\n\").split(\"\\t\")\n",
    "        start, end = int(start), int(end)\n",
    "        start, end = max(0, start - 1000), end + 1000\n",
    "        regions.append([chrom, start, end])\n",
    "        \n",
    "with open(\"results/sv/regions/PacBio.full.dense_sv_1kb.bed\") as f:\n",
    "    for line in f:\n",
    "        chrom, start, end = line.strip(\"\\n\").split(\"\\t\")\n",
    "        start, end = int(start), int(end)\n",
    "        regions.append([chrom, start, end])\n",
    "        \n",
    "with open(\"results/sv/regions/Ultralong.full.dense_sv_1kb.bed\") as f:\n",
    "    for line in f:\n",
    "        chrom, start, end = line.strip(\"\\n\").split(\"\\t\")\n",
    "        start, end = int(start), int(end)\n",
    "        regions.append([chrom, start, end])\n",
    "        \n",
    "with open(\"results/sv/regions/PacBio.full.long_sv_10kb_slop_1kb.bed\") as f:\n",
    "    for line in f:\n",
    "        chrom, start, end = line.strip(\"\\n\").split(\"\\t\")\n",
    "        start, end = int(start), int(end)\n",
    "        regions.append([chrom, start, end])\n",
    "        \n",
    "with open(\"results/sv/regions/Ultralong.full.long_sv_10kb_slop_1kb.bed\") as f:\n",
    "    for line in f:\n",
    "        chrom, start, end = line.strip(\"\\n\").split(\"\\t\")\n",
    "        start, end = int(start), int(end)\n",
    "        regions.append([chrom, start, end])\n",
    "\n",
    "with gzip.open(\"/lustre/grp/tfclab/chenzg/repositories/genome-stratifications/v3.1-genome-stratifications-GRCh38/OtherDifficult/GRCh38_allOtherDifficultregions.bed.gz\", \"rt\") as f:\n",
    "    for line in f:\n",
    "        if line.startswith(\"#\"):\n",
    "            continue\n",
    "        chrom, start, end = line.strip(\"\\n\").split(\"\\t\")\n",
    "        start, end = int(start), int(end)\n",
    "        if end - start >= 200:\n",
    "            regions.append([chrom, start, end])\n",
    "\n",
    "with gzip.open(\"/lustre/grp/tfclab/chenzg/repositories/genome-stratifications/v3.1-genome-stratifications-GRCh38/LowComplexity/GRCh38_AllTandemRepeatsandHomopolymers_slop5.bed.gz\", \"rt\") as f:\n",
    "    for line in f:\n",
    "        if line.startswith(\"#\"):\n",
    "            continue\n",
    "        chrom, start, end = line.strip(\"\\n\").split(\"\\t\")\n",
    "        start, end = int(start), int(end)\n",
    "        if end - start >= 200:\n",
    "            regions.append([chrom, start, end])\n",
    "        \n",
    "regions.sort()\n",
    "print(\"All regions:\", len(regions))\n",
    "\n",
    "regions = collapse_regions(regions)\n",
    "print(\"Collapsed regions:\", len(regions))\n",
    "\n",
    "regions.sort()"
   ]
  },
  {
   "cell_type": "code",
   "execution_count": 15,
   "id": "9fed0d94-200a-4f5b-951f-770b1a0effb0",
   "metadata": {
    "execution": {
     "iopub.execute_input": "2024-04-09T17:29:25.453343Z",
     "iopub.status.busy": "2024-04-09T17:29:25.453040Z",
     "iopub.status.idle": "2024-04-09T17:29:25.525640Z",
     "shell.execute_reply": "2024-04-09T17:29:25.525181Z",
     "shell.execute_reply.started": "2024-04-09T17:29:25.453322Z"
    }
   },
   "outputs": [],
   "source": [
    "with open(\"results/sv/regions/benchmark_sv_blacklist.bed\", \"w+\") as fw:\n",
    "    for r in regions:\n",
    "        fw.write(\"\\t\".join(map(str, r)) + \"\\n\")"
   ]
  },
  {
   "cell_type": "code",
   "execution_count": 16,
   "id": "b3804902-4d28-4225-af58-771d518228a8",
   "metadata": {
    "execution": {
     "iopub.execute_input": "2024-04-09T17:29:31.202277Z",
     "iopub.status.busy": "2024-04-09T17:29:31.201981Z",
     "iopub.status.idle": "2024-04-09T17:29:31.563155Z",
     "shell.execute_reply": "2024-04-09T17:29:31.562629Z",
     "shell.execute_reply.started": "2024-04-09T17:29:31.202258Z"
    }
   },
   "outputs": [
    {
     "name": "stdout",
     "output_type": "stream",
     "text": [
      "c65553bcf55a33a8a83634fd3e63f582  results/sv/regions/benchmark_sv_blacklist.bed\n"
     ]
    }
   ],
   "source": [
    "! md5sum results/sv/regions/benchmark_sv_blacklist.bed"
   ]
  },
  {
   "cell_type": "code",
   "execution_count": null,
   "id": "600fc5be-63de-4986-8c31-e7c1cccb1a5c",
   "metadata": {},
   "outputs": [],
   "source": []
  }
 ],
 "metadata": {
  "kernelspec": {
   "display_name": "Python 3 (ipykernel)",
   "language": "python",
   "name": "python3"
  },
  "language_info": {
   "codemirror_mode": {
    "name": "ipython",
    "version": 3
   },
   "file_extension": ".py",
   "mimetype": "text/x-python",
   "name": "python",
   "nbconvert_exporter": "python",
   "pygments_lexer": "ipython3",
   "version": "3.10.13"
  }
 },
 "nbformat": 4,
 "nbformat_minor": 5
}
