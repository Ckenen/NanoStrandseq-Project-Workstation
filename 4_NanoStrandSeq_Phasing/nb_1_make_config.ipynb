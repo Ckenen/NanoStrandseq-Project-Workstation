{
 "cells": [
  {
   "cell_type": "code",
   "execution_count": 12,
   "id": "2b17fc0f",
   "metadata": {
    "ExecuteTime": {
     "end_time": "2024-01-26T06:00:49.847310Z",
     "start_time": "2024-01-26T06:00:49.362313Z"
    },
    "execution": {
     "iopub.execute_input": "2024-04-09T17:56:05.958226Z",
     "iopub.status.busy": "2024-04-09T17:56:05.957925Z",
     "iopub.status.idle": "2024-04-09T17:56:05.960576Z",
     "shell.execute_reply": "2024-04-09T17:56:05.960189Z",
     "shell.execute_reply.started": "2024-04-09T17:56:05.958206Z"
    }
   },
   "outputs": [],
   "source": [
    "import random\n",
    "import json\n",
    "import pandas as pd"
   ]
  },
  {
   "cell_type": "markdown",
   "id": "156b1c89",
   "metadata": {},
   "source": [
    "# Make config.json"
   ]
  },
  {
   "cell_type": "code",
   "execution_count": 7,
   "id": "7963e331-b850-4f1a-87b6-ada3ff7fbbe8",
   "metadata": {
    "execution": {
     "iopub.execute_input": "2024-04-09T17:51:52.942859Z",
     "iopub.status.busy": "2024-04-09T17:51:52.942527Z",
     "iopub.status.idle": "2024-04-09T17:51:53.182304Z",
     "shell.execute_reply": "2024-04-09T17:51:53.181872Z",
     "shell.execute_reply.started": "2024-04-09T17:51:52.942836Z"
    }
   },
   "outputs": [
    {
     "name": "stdout",
     "output_type": "stream",
     "text": [
      "Selected cells: 350\n",
      "Selected cells: 200\n"
     ]
    }
   ],
   "source": [
    "d = pd.read_csv(\"../1_NanoStrandSeq/reports/NanoStrandSeq_HG001_QC_Pass.csv\")\n",
    "d = d.sort_values(by=\"Background\")\n",
    "d = d.head(350)\n",
    "d.to_csv(\"data/Selected_Cells.HG001.csv\", index=False)\n",
    "print(\"Selected cells:\", len(d))\n",
    "\n",
    "d = pd.read_csv(\"../1_NanoStrandSeq/reports/NanoStrandSeq_B6D2F1_QC_Pass.csv\")\n",
    "d = d.sort_values(by=\"Background\")\n",
    "d = d.head(200)\n",
    "d.to_csv(\"data/Selected_Cells.B6D2F1.csv\", index=False)\n",
    "print(\"Selected cells:\", len(d))"
   ]
  },
  {
   "cell_type": "code",
   "execution_count": 8,
   "id": "6b287ff1",
   "metadata": {
    "ExecuteTime": {
     "end_time": "2024-01-26T06:17:26.404909Z",
     "start_time": "2024-01-26T06:17:26.398705Z"
    },
    "execution": {
     "iopub.execute_input": "2024-04-09T17:54:31.223535Z",
     "iopub.status.busy": "2024-04-09T17:54:31.219820Z",
     "iopub.status.idle": "2024-04-09T17:54:31.870181Z",
     "shell.execute_reply": "2024-04-09T17:54:31.869725Z",
     "shell.execute_reply.started": "2024-04-09T17:54:31.223511Z"
    }
   },
   "outputs": [],
   "source": [
    "df = pd.read_csv(\"data/Selected_Cells.HG001.csv\")\n",
    "cells = list(sorted(df[\"Cell\"]))\n",
    "chroms = [\"chr%d\" % c for c in range(1, 23)] + [\"chrX\"]\n",
    "for n in [50, 75, 100, 125, 150, 200, 250, 300, 350]:\n",
    "    random.seed(0)\n",
    "    name = \"HG001_Cell_%d\" % n\n",
    "    d = {\"Name\": name, \"Species\": \"Human\", \"Strain\": \"HG001\", \"Cells\": random.sample(cells, n), \"Chroms\": chroms}\n",
    "    json.dump(d, open(\"data/%s.json\" % name, \"w+\"), indent=4)\n",
    "    \n",
    "df = pd.read_csv(\"data/Selected_Cells.B6D2F1.csv\")\n",
    "cells = list(sorted(df[\"Cell\"]))\n",
    "chroms = [\"chr%d\" % c for c in range(1, 20)] + [\"chrX\"]\n",
    "for n in [50, 75, 100, 125, 150, 175, 200]:\n",
    "    random.seed(0)\n",
    "    name = \"Mouse_Cell_%d\" % n\n",
    "    d = {\"Name\": name, \"Species\": \"Mouse\", \"Strain\": \"B6D2F1\", \"Cells\": random.sample(cells, n), \"Chroms\": chroms}\n",
    "    json.dump(d, open(\"data/%s.json\" % name, \"w+\"), indent=4)"
   ]
  }
 ],
 "metadata": {
  "kernelspec": {
   "display_name": "Python 3 (ipykernel)",
   "language": "python",
   "name": "python3"
  },
  "language_info": {
   "codemirror_mode": {
    "name": "ipython",
    "version": 3
   },
   "file_extension": ".py",
   "mimetype": "text/x-python",
   "name": "python",
   "nbconvert_exporter": "python",
   "pygments_lexer": "ipython3",
   "version": "3.10.13"
  }
 },
 "nbformat": 4,
 "nbformat_minor": 5
}
