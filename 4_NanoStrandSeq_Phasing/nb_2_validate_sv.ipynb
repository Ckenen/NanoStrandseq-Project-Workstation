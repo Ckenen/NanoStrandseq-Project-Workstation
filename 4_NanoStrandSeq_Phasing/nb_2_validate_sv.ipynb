{
 "cells": [
  {
   "cell_type": "code",
   "execution_count": 4,
   "id": "2b17fc0f",
   "metadata": {
    "ExecuteTime": {
     "end_time": "2023-09-15T03:04:51.984405Z",
     "start_time": "2023-09-15T03:04:51.971596Z"
    }
   },
   "outputs": [],
   "source": [
    "import os, glob, json, re, multiprocessing, gzip\n",
    "import random\n",
    "from collections import defaultdict, Counter\n",
    "import numpy as np\n",
    "import pandas as pd\n",
    "import matplotlib.pyplot as plt\n",
    "import seaborn, pysam\n",
    "from PyPDF2 import PdfFileMerger\n",
    "from pyBioInfo.Range import GRange\n",
    "from pyBioInfo.IO.File import BedFile, SegmentTools, Alignment, GffFile, FastaFile\n",
    "from pyBioInfo.Utils import ShiftLoader\n",
    "from sstools.utils import BaseMatrix2\n",
    "from matplotlib_venn import *\n",
    "# infos = pd.read_excel(\"../1_NanoStrandseq/NanoStrandseq_summary.xlsx\")"
   ]
  },
  {
   "cell_type": "markdown",
   "id": "a149cb11",
   "metadata": {},
   "source": [
    "# SV cases for testing"
   ]
  },
  {
   "cell_type": "code",
   "execution_count": 8,
   "id": "f24d9a73",
   "metadata": {
    "ExecuteTime": {
     "end_time": "2022-10-17T03:11:09.936353Z",
     "start_time": "2022-10-17T03:11:08.623275Z"
    },
    "scrolled": true
   },
   "outputs": [],
   "source": [
    "svs = []\n",
    "for path in glob.glob(\"results/assembly/round1/*.vcf\"):\n",
    "    with open(path) as f:\n",
    "        for line in f:\n",
    "            if line.startswith(\"#\"):\n",
    "                continue\n",
    "            row = line.strip(\"\\n\").split(\"\\t\")\n",
    "            chrom = row[0]\n",
    "            pos = int(row[1])\n",
    "            ref, alt = row[3], row[4]\n",
    "            if len(ref) > len(alt):\n",
    "                start = pos\n",
    "                end = pos + len(ref) - 1\n",
    "                name = \"DEL.%d\" % (len(ref) - len(alt))\n",
    "            else:\n",
    "                start = pos\n",
    "                end = pos + 1\n",
    "                name = \"INS.%d\" % (len(alt) - len(ref))\n",
    "            obj = GRange(chrom=chrom, start=start, end=end, name=name, strand=\"+\")\n",
    "            svs.append(obj)"
   ]
  },
  {
   "cell_type": "code",
   "execution_count": 9,
   "id": "768dd330",
   "metadata": {
    "ExecuteTime": {
     "end_time": "2022-10-17T04:02:48.627867Z",
     "start_time": "2022-10-17T04:02:47.879831Z"
    }
   },
   "outputs": [],
   "source": [
    "with open(\"results/assembly/cuteSV.bed\", \"w+\") as fw:\n",
    "    for sv in svs:\n",
    "        fw.write(sv.format(\"BED\") + \"\\n\")"
   ]
  },
  {
   "cell_type": "code",
   "execution_count": 10,
   "id": "b57a669d",
   "metadata": {
    "ExecuteTime": {
     "end_time": "2022-10-17T04:02:52.264809Z",
     "start_time": "2022-10-17T04:02:52.249523Z"
    }
   },
   "outputs": [],
   "source": [
    "data = defaultdict(list)\n",
    "for sv in svs:\n",
    "    data[sv.chrom].append(sv)"
   ]
  },
  {
   "cell_type": "code",
   "execution_count": 11,
   "id": "a163c8ba",
   "metadata": {
    "ExecuteTime": {
     "end_time": "2022-10-17T04:14:37.567418Z",
     "start_time": "2022-10-17T04:02:52.474127Z"
    },
    "code_folding": [
     0
    ]
   },
   "outputs": [
    {
     "name": "stdout",
     "output_type": "stream",
     "text": [
      "chr1\n"
     ]
    },
    {
     "name": "stderr",
     "output_type": "stream",
     "text": [
      "/home/chenzonggui/miniconda3/lib/python3.6/site-packages/ipykernel_launcher.py:72: RuntimeWarning: invalid value encountered in true_divide\n",
      "/home/chenzonggui/miniconda3/lib/python3.6/site-packages/ipykernel_launcher.py:73: RuntimeWarning: invalid value encountered in true_divide\n"
     ]
    },
    {
     "name": "stdout",
     "output_type": "stream",
     "text": [
      "chr10\n",
      "chr11\n",
      "chr12\n",
      "chr13\n",
      "chr14\n",
      "chr15\n",
      "chr16\n",
      "chr17\n",
      "chr18\n",
      "chr19\n",
      "chr2\n",
      "chr20\n",
      "chr21\n",
      "chr22\n",
      "chr3\n",
      "chr4\n",
      "chr5\n",
      "chr6\n",
      "chr7\n",
      "chr8\n",
      "chr9\n",
      "chrX\n"
     ]
    }
   ],
   "source": [
    "def calculate(sv, f):\n",
    "    alignments = []\n",
    "    for segment in f.fetch(sv.chrom, sv.start, sv.end):\n",
    "        cigars = SegmentTools.parse_cigar(segment)\n",
    "        obj = Alignment(segment)\n",
    "        deletions = []\n",
    "        insertions = []\n",
    "        for cigar in cigars:\n",
    "            if cigar[0] == \"D\":\n",
    "                deletions.append(cigar[3])\n",
    "            elif cigar[0] == \"I\":\n",
    "                x, y = cigar[2]\n",
    "                insertions.append([cigar[3][0], y - x])\n",
    "        obj.deletions = deletions\n",
    "        obj.insertions = insertions\n",
    "        alignments.append(obj)\n",
    "    N_overlap = len(alignments)\n",
    "    N_agree = 0\n",
    "    N_disagree = 0\n",
    "    is_deletion = sv.name.startswith(\"DEL\")\n",
    "    if is_deletion:\n",
    "        for obj in alignments:\n",
    "            s = max(obj.start, sv.start)\n",
    "            e = min(obj.end, sv.end)\n",
    "            if e - s < 30:\n",
    "                continue\n",
    "            if obj.start < sv.start and obj.end > sv.end:\n",
    "                d = 0\n",
    "                for x, y in obj.deletions:\n",
    "                    if max(x, sv.start) < min(y, sv.end):\n",
    "                        d += y - x\n",
    "                if d > len(sv) * 0.5 and d < len(sv) * 1.5:\n",
    "                    N_agree += 1\n",
    "                else:\n",
    "                    N_disagree += 1\n",
    "            else:\n",
    "                N_disagree += 1  \n",
    "    else:\n",
    "        start1, end1 = sv.start - 30, sv.end + 30\n",
    "        num1 = int(sv.name.split(\".\")[1])\n",
    "        for obj in alignments:\n",
    "            d1 = sv.start - obj.start\n",
    "            d2 = obj.end - sv.end\n",
    "            # assert d1 > 0 and d2 > 0\n",
    "            if min(d1, d2) < 50:\n",
    "                continue\n",
    "            s = 0\n",
    "            for pos, num in obj.insertions:\n",
    "                if start1 < pos < end1:\n",
    "                    s += num\n",
    "            if s > num1 * 0.5 and s < num1 * 1.5:\n",
    "                N_agree += 1\n",
    "            else:\n",
    "                N_disagree += 1\n",
    "    return N_overlap, N_agree, N_disagree\n",
    "\n",
    "selected = []\n",
    "for chrom, svs1 in sorted(data.items()):\n",
    "    print(chrom)\n",
    "    \n",
    "    path1 = \"results/assembly/round1/%s.hp1.sorted.bam\" % chrom\n",
    "    path2 = \"results/assembly/round1/%s.hp2.sorted.bam\" % chrom\n",
    "    \n",
    "    f1 = pysam.AlignmentFile(path1)\n",
    "    f2 = pysam.AlignmentFile(path2)\n",
    "    \n",
    "    for sv in svs1:\n",
    "        vs1 = calculate(sv, f1)\n",
    "        vs2 = calculate(sv, f2)\n",
    "        t1 = vs1[1] + vs1[2]\n",
    "        t2 = vs2[1] + vs2[2]\n",
    "        p1 = np.divide(vs1[1], t1)\n",
    "        p2 = np.divide(vs2[1], t2)\n",
    "        if t1 > 10 and t2 > 10:\n",
    "            if (p1 > 0.8 and p2 < 0.2) or (p1 < 0.2 and p2 > 0.8):\n",
    "                sv.p1 = p1\n",
    "                sv.p2 = p2\n",
    "                selected.append(sv)\n",
    "    f1.close()\n",
    "    f2.close()\n",
    "    # break"
   ]
  },
  {
   "cell_type": "code",
   "execution_count": 12,
   "id": "4f26bb68",
   "metadata": {
    "ExecuteTime": {
     "end_time": "2022-10-17T04:14:37.642229Z",
     "start_time": "2022-10-17T04:14:37.605491Z"
    }
   },
   "outputs": [
    {
     "data": {
      "text/plain": [
       "1652"
      ]
     },
     "execution_count": 12,
     "metadata": {},
     "output_type": "execute_result"
    }
   ],
   "source": [
    "len(selected)"
   ]
  },
  {
   "cell_type": "code",
   "execution_count": 15,
   "id": "4ff90d76",
   "metadata": {
    "ExecuteTime": {
     "end_time": "2022-10-17T04:16:11.107568Z",
     "start_time": "2022-10-17T04:15:27.339071Z"
    }
   },
   "outputs": [],
   "source": [
    "with BedFile(\"results/assembly/round1/all.hets.bed.gz\") as f:\n",
    "    hets = [x for x in f]"
   ]
  },
  {
   "cell_type": "code",
   "execution_count": 16,
   "id": "7ac982f0",
   "metadata": {
    "ExecuteTime": {
     "end_time": "2022-10-17T04:16:15.547217Z",
     "start_time": "2022-10-17T04:16:11.112445Z"
    }
   },
   "outputs": [],
   "source": [
    "loader = ShiftLoader(hets)\n",
    "for obj in sorted(selected):\n",
    "    items = []\n",
    "    for het in loader.fetch(chrom=obj.chrom, start=max(0, obj.start - 500), end=obj.end + 500):\n",
    "        items.append(het)\n",
    "    obj.hets = items"
   ]
  },
  {
   "cell_type": "code",
   "execution_count": 17,
   "id": "79a296f3",
   "metadata": {
    "ExecuteTime": {
     "end_time": "2022-10-17T04:16:15.557232Z",
     "start_time": "2022-10-17T04:16:15.551175Z"
    },
    "scrolled": true
   },
   "outputs": [],
   "source": [
    "counter = Counter([len(obj.hets) for obj in selected])"
   ]
  },
  {
   "cell_type": "code",
   "execution_count": 18,
   "id": "40c8974b",
   "metadata": {
    "ExecuteTime": {
     "end_time": "2022-10-17T04:16:20.023832Z",
     "start_time": "2022-10-17T04:16:20.016921Z"
    }
   },
   "outputs": [
    {
     "name": "stdout",
     "output_type": "stream",
     "text": [
      "GRange: 41744475-41744797 [strand: +, block count: 1]\n",
      "GRange: 47260818-47260889 [strand: +, block count: 1]\n",
      "GRange: 47400075-47400157 [strand: +, block count: 1]\n",
      "GRange: 19062800-19062801 [strand: +, block count: 1]\n",
      "GRange: 28380049-28380050 [strand: +, block count: 1]\n",
      "GRange: 35249171-35250145 [strand: +, block count: 1]\n",
      "GRange: 43562651-43562728 [strand: +, block count: 1]\n",
      "GRange: 48497566-48497798 [strand: +, block count: 1]\n",
      "GRange: 50075125-50075188 [strand: +, block count: 1]\n"
     ]
    }
   ],
   "source": [
    "for obj in selected:\n",
    "    if not obj.chrom == \"chr22\":\n",
    "        continue\n",
    "    if len(obj.hets) == 1:\n",
    "        print(obj)"
   ]
  },
  {
   "cell_type": "code",
   "execution_count": 19,
   "id": "9c072e34",
   "metadata": {
    "ExecuteTime": {
     "end_time": "2022-10-17T04:16:20.986141Z",
     "start_time": "2022-10-17T04:16:20.980419Z"
    }
   },
   "outputs": [
    {
     "data": {
      "text/plain": [
       "1193"
      ]
     },
     "execution_count": 19,
     "metadata": {},
     "output_type": "execute_result"
    }
   ],
   "source": [
    "len(selected) - counter[0]"
   ]
  },
  {
   "cell_type": "code",
   "execution_count": 20,
   "id": "e19e8859",
   "metadata": {
    "ExecuteTime": {
     "end_time": "2022-10-17T04:16:52.794190Z",
     "start_time": "2022-10-17T04:16:52.738756Z"
    }
   },
   "outputs": [],
   "source": [
    "with open(\"results/assembly/SVs_with_hetSNVs_in_500bp.bed\", \"w+\") as fw:\n",
    "    for obj in sorted(selected):\n",
    "        if len(obj.hets) > 0:\n",
    "            fw.write(obj.format(\"BED\") + \"\\n\")"
   ]
  },
  {
   "cell_type": "code",
   "execution_count": 21,
   "id": "3b99fa7d",
   "metadata": {
    "ExecuteTime": {
     "end_time": "2022-10-17T04:21:56.617173Z",
     "start_time": "2022-10-17T04:17:11.985926Z"
    }
   },
   "outputs": [],
   "source": [
    "with GffFile(\"/home/chenzonggui/species/homo_sapiens/RepeatMasker/hg38.fa.out.sorted.gff.gz\") as f:\n",
    "    records = [x for x in f]"
   ]
  },
  {
   "cell_type": "code",
   "execution_count": 24,
   "id": "51746e05",
   "metadata": {
    "ExecuteTime": {
     "end_time": "2022-10-17T04:57:53.932925Z",
     "start_time": "2022-10-17T04:57:39.201771Z"
    }
   },
   "outputs": [],
   "source": [
    "records.sort()"
   ]
  },
  {
   "cell_type": "code",
   "execution_count": 25,
   "id": "f0f1a188",
   "metadata": {
    "ExecuteTime": {
     "end_time": "2022-10-17T04:57:53.942404Z",
     "start_time": "2022-10-17T04:57:53.935991Z"
    }
   },
   "outputs": [
    {
     "data": {
      "text/plain": [
       "OrderedDict([('ID', '1_Simple_repeat_(TAACCC)n'),\n",
       "             ('Name', '1_Simple_repeat_(TAACCC)n'),\n",
       "             ('PercDiv', '1.3'),\n",
       "             ('PercDel', '0.6'),\n",
       "             ('PercIns', '1.7'),\n",
       "             ('QueryLeft', '248945954'),\n",
       "             ('RepeatBegin', '1'),\n",
       "             ('RepeatEnd', '463'),\n",
       "             ('RepeatLeft', '0')])"
      ]
     },
     "execution_count": 25,
     "metadata": {},
     "output_type": "execute_result"
    }
   ],
   "source": [
    "records[0].attributes"
   ]
  },
  {
   "cell_type": "code",
   "execution_count": 26,
   "id": "0af752b9",
   "metadata": {
    "ExecuteTime": {
     "end_time": "2022-10-17T05:01:06.890757Z",
     "start_time": "2022-10-17T05:00:52.617893Z"
    }
   },
   "outputs": [],
   "source": [
    "loader = ShiftLoader(records)\n",
    "for obj in sorted(selected):\n",
    "    array = []\n",
    "    for item in loader.fetch(obj=obj):\n",
    "        array.append(item)\n",
    "    obj.repeats = array"
   ]
  },
  {
   "cell_type": "code",
   "execution_count": 56,
   "id": "37e606bf",
   "metadata": {
    "ExecuteTime": {
     "end_time": "2022-10-17T07:14:34.232087Z",
     "start_time": "2022-10-17T07:14:34.057766Z"
    }
   },
   "outputs": [],
   "source": [
    "fasta = FastaFile(\"/home/chenzonggui/species/homo_sapiens/GRCh38.p13/GRCh38.canonical.genome.fa\")\n",
    "fw = open(\"results/assembly/SVs_with_hetSNVs_in_500bp.tsv\", \"w+\")\n",
    "fw.write(\"Chrom\\tStart\\tEnd\\tType\\tLength\\tProximalHetSNV\\tSNVDistance\\tRepeatMasker\\tUpStart\\tUpEnd\\tUpSequence\\tDownStart\\tDownEnd\\tDownSequence\\n\")\n",
    "for obj in sorted(selected):\n",
    "    if len(obj.hets) == 0:\n",
    "        continue\n",
    "        \n",
    "    s = []\n",
    "    for record in obj.repeats:\n",
    "        s1 = record.attributes[\"Name\"]\n",
    "        i1 = s1.find(\"_\")\n",
    "        assert i1 != -1\n",
    "        s.append(s1[i1+1:])\n",
    "    s = \",\".join(s)\n",
    "        \n",
    "    array = []\n",
    "    for het in obj.hets:\n",
    "        if het.start < obj.start:\n",
    "            distance = obj.start - het.start\n",
    "        elif het.start > obj.end:\n",
    "            distance = het.start - obj.end\n",
    "        array.append([distance, het.start])\n",
    "    array.sort()\n",
    "    if len(array) == 0:\n",
    "        continue\n",
    "    distance, position = array[0]\n",
    "    start = min(obj.start, position)\n",
    "    end = max(obj.end, position)\n",
    "    \n",
    "    start1, end1 = start - 1000, start - 100\n",
    "    start2, end2 = end + 100, end + 1000\n",
    "    seq1 = fasta.fetch(chrom=obj.chrom, start=start1, end=end1)\n",
    "    seq2 = fasta.fetch(chrom=obj.chrom, start=start2, end=end2)\n",
    "    \n",
    "    line = \"\\t\".join(map(str, [obj.chrom, obj.start, obj.end, \n",
    "                               obj.name.split(\".\")[0], int(obj.name.split(\".\")[1]), \n",
    "                               position, distance, \n",
    "                               s,\n",
    "                               start1, end1, seq1, \n",
    "                               start2, end2, seq2]))\n",
    "    fw.write(line + \"\\n\")\n",
    "    \n",
    "fasta.close()"
   ]
  }
 ],
 "metadata": {
  "kernelspec": {
   "display_name": "Python 3 (ipykernel)",
   "language": "python",
   "name": "python3"
  },
  "language_info": {
   "codemirror_mode": {
    "name": "ipython",
    "version": 3
   },
   "file_extension": ".py",
   "mimetype": "text/x-python",
   "name": "python",
   "nbconvert_exporter": "python",
   "pygments_lexer": "ipython3",
   "version": "3.10.13"
  }
 },
 "nbformat": 4,
 "nbformat_minor": 5
}
